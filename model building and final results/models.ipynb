{
 "cells": [
  {
   "cell_type": "markdown",
   "metadata": {
    "id": "0g-_Rb69EfgY"
   },
   "source": [
    "# Models and Evaluation"
   ]
  },
  {
   "cell_type": "code",
   "execution_count": 1,
   "metadata": {
    "id": "Sfevo59uEUyE"
   },
   "outputs": [
    {
     "name": "stderr",
     "output_type": "stream",
     "text": [
      "/home/shree/anaconda3/lib/python3.8/site-packages/sklearn/ensemble/weight_boosting.py:29: DeprecationWarning: numpy.core.umath_tests is an internal NumPy module and should not be imported. It will be removed in a future NumPy release.\n",
      "  from numpy.core.umath_tests import inner1d\n",
      "/home/shree/anaconda3/lib/python3.8/site-packages/sklearn/ensemble/gradient_boosting.py:34: DeprecationWarning: `np.bool` is a deprecated alias for the builtin `bool`. To silence this warning, use `bool` by itself. Doing this will not modify any behavior and is safe. If you specifically wanted the numpy scalar type, use `np.bool_` here.\n",
      "Deprecated in NumPy 1.20; for more details and guidance: https://numpy.org/devdocs/release/1.20.0-notes.html#deprecations\n",
      "  from ._gradient_boosting import predict_stages\n",
      "/home/shree/anaconda3/lib/python3.8/site-packages/sklearn/ensemble/gradient_boosting.py:34: DeprecationWarning: `np.bool` is a deprecated alias for the builtin `bool`. To silence this warning, use `bool` by itself. Doing this will not modify any behavior and is safe. If you specifically wanted the numpy scalar type, use `np.bool_` here.\n",
      "Deprecated in NumPy 1.20; for more details and guidance: https://numpy.org/devdocs/release/1.20.0-notes.html#deprecations\n",
      "  from ._gradient_boosting import predict_stages\n",
      "/home/shree/anaconda3/lib/python3.8/site-packages/sklearn/linear_model/least_angle.py:35: DeprecationWarning: `np.float` is a deprecated alias for the builtin `float`. To silence this warning, use `float` by itself. Doing this will not modify any behavior and is safe. If you specifically wanted the numpy scalar type, use `np.float64` here.\n",
      "Deprecated in NumPy 1.20; for more details and guidance: https://numpy.org/devdocs/release/1.20.0-notes.html#deprecations\n",
      "  eps=np.finfo(np.float).eps,\n",
      "/home/shree/anaconda3/lib/python3.8/site-packages/sklearn/linear_model/least_angle.py:597: DeprecationWarning: `np.float` is a deprecated alias for the builtin `float`. To silence this warning, use `float` by itself. Doing this will not modify any behavior and is safe. If you specifically wanted the numpy scalar type, use `np.float64` here.\n",
      "Deprecated in NumPy 1.20; for more details and guidance: https://numpy.org/devdocs/release/1.20.0-notes.html#deprecations\n",
      "  eps=np.finfo(np.float).eps, copy_X=True, fit_path=True,\n",
      "/home/shree/anaconda3/lib/python3.8/site-packages/sklearn/linear_model/least_angle.py:836: DeprecationWarning: `np.float` is a deprecated alias for the builtin `float`. To silence this warning, use `float` by itself. Doing this will not modify any behavior and is safe. If you specifically wanted the numpy scalar type, use `np.float64` here.\n",
      "Deprecated in NumPy 1.20; for more details and guidance: https://numpy.org/devdocs/release/1.20.0-notes.html#deprecations\n",
      "  eps=np.finfo(np.float).eps, copy_X=True, fit_path=True,\n",
      "/home/shree/anaconda3/lib/python3.8/site-packages/sklearn/linear_model/least_angle.py:862: DeprecationWarning: `np.float` is a deprecated alias for the builtin `float`. To silence this warning, use `float` by itself. Doing this will not modify any behavior and is safe. If you specifically wanted the numpy scalar type, use `np.float64` here.\n",
      "Deprecated in NumPy 1.20; for more details and guidance: https://numpy.org/devdocs/release/1.20.0-notes.html#deprecations\n",
      "  eps=np.finfo(np.float).eps, positive=False):\n",
      "/home/shree/anaconda3/lib/python3.8/site-packages/sklearn/linear_model/least_angle.py:1074: DeprecationWarning: `np.float` is a deprecated alias for the builtin `float`. To silence this warning, use `float` by itself. Doing this will not modify any behavior and is safe. If you specifically wanted the numpy scalar type, use `np.float64` here.\n",
      "Deprecated in NumPy 1.20; for more details and guidance: https://numpy.org/devdocs/release/1.20.0-notes.html#deprecations\n",
      "  max_n_alphas=1000, n_jobs=1, eps=np.finfo(np.float).eps,\n",
      "/home/shree/anaconda3/lib/python3.8/site-packages/sklearn/linear_model/least_angle.py:1306: DeprecationWarning: `np.float` is a deprecated alias for the builtin `float`. To silence this warning, use `float` by itself. Doing this will not modify any behavior and is safe. If you specifically wanted the numpy scalar type, use `np.float64` here.\n",
      "Deprecated in NumPy 1.20; for more details and guidance: https://numpy.org/devdocs/release/1.20.0-notes.html#deprecations\n",
      "  max_n_alphas=1000, n_jobs=1, eps=np.finfo(np.float).eps,\n",
      "/home/shree/anaconda3/lib/python3.8/site-packages/sklearn/linear_model/least_angle.py:1442: DeprecationWarning: `np.float` is a deprecated alias for the builtin `float`. To silence this warning, use `float` by itself. Doing this will not modify any behavior and is safe. If you specifically wanted the numpy scalar type, use `np.float64` here.\n",
      "Deprecated in NumPy 1.20; for more details and guidance: https://numpy.org/devdocs/release/1.20.0-notes.html#deprecations\n",
      "  eps=np.finfo(np.float).eps, copy_X=True, positive=False):\n",
      "/home/shree/anaconda3/lib/python3.8/site-packages/sklearn/linear_model/randomized_l1.py:152: DeprecationWarning: `np.float` is a deprecated alias for the builtin `float`. To silence this warning, use `float` by itself. Doing this will not modify any behavior and is safe. If you specifically wanted the numpy scalar type, use `np.float64` here.\n",
      "Deprecated in NumPy 1.20; for more details and guidance: https://numpy.org/devdocs/release/1.20.0-notes.html#deprecations\n",
      "  precompute=False, eps=np.finfo(np.float).eps,\n",
      "/home/shree/anaconda3/lib/python3.8/site-packages/sklearn/linear_model/randomized_l1.py:318: DeprecationWarning: `np.float` is a deprecated alias for the builtin `float`. To silence this warning, use `float` by itself. Doing this will not modify any behavior and is safe. If you specifically wanted the numpy scalar type, use `np.float64` here.\n",
      "Deprecated in NumPy 1.20; for more details and guidance: https://numpy.org/devdocs/release/1.20.0-notes.html#deprecations\n",
      "  eps=np.finfo(np.float).eps, random_state=None,\n",
      "/home/shree/anaconda3/lib/python3.8/site-packages/sklearn/linear_model/randomized_l1.py:575: DeprecationWarning: `np.float` is a deprecated alias for the builtin `float`. To silence this warning, use `float` by itself. Doing this will not modify any behavior and is safe. If you specifically wanted the numpy scalar type, use `np.float64` here.\n",
      "Deprecated in NumPy 1.20; for more details and guidance: https://numpy.org/devdocs/release/1.20.0-notes.html#deprecations\n",
      "  eps=4 * np.finfo(np.float).eps, n_jobs=1,\n"
     ]
    }
   ],
   "source": [
    "import numpy as np \n",
    "import pandas as pd \n",
    "\n",
    "import matplotlib.pyplot as plt\n",
    "import seaborn as sns\n",
    "\n",
    "from scipy.stats import randint\n",
    "from sklearn.preprocessing import binarize\n",
    "from sklearn.model_selection import train_test_split\n",
    "\n",
    "from sklearn.ensemble import RandomForestClassifier, ExtraTreesClassifier\n",
    "from sklearn.linear_model import LogisticRegression\n",
    "from sklearn.tree import DecisionTreeClassifier\n",
    "from sklearn.model_selection import RandomizedSearchCV\n",
    "\n",
    "from sklearn.svm import SVC\n",
    "from sklearn.linear_model import SGDClassifier\n",
    "from sklearn.ensemble import BaggingClassifier, AdaBoostClassifier\n",
    "from sklearn.neighbors import KNeighborsClassifier\n",
    "from sklearn.model_selection import GridSearchCV\n",
    " \n",
    "from sklearn import metrics\n",
    "from sklearn.metrics import accuracy_score, mean_squared_error, precision_recall_curve, classification_report\n",
    "from sklearn.model_selection import cross_val_score\n",
    "\n",
    "\n",
    "from sklearn.pipeline import make_pipeline\n",
    "from sklearn.preprocessing import *\n",
    "\n",
    "import warnings\n",
    "warnings.filterwarnings(\"ignore\")"
   ]
  },
  {
   "cell_type": "code",
   "execution_count": 2,
   "metadata": {
    "id": "30KtUphxErPN"
   },
   "outputs": [],
   "source": [
    "df=pd.read_csv('../datasets/final.csv')"
   ]
  },
  {
   "cell_type": "code",
   "execution_count": 3,
   "metadata": {
    "colab": {
     "base_uri": "https://localhost:8080/",
     "height": 974
    },
    "id": "mpIhRsW7Esy9",
    "outputId": "6381d15e-9d28-46b9-ec3c-85571b29468d",
    "scrolled": false
   },
   "outputs": [
    {
     "data": {
      "text/html": [
       "<div>\n",
       "<style scoped>\n",
       "    .dataframe tbody tr th:only-of-type {\n",
       "        vertical-align: middle;\n",
       "    }\n",
       "\n",
       "    .dataframe tbody tr th {\n",
       "        vertical-align: top;\n",
       "    }\n",
       "\n",
       "    .dataframe thead th {\n",
       "        text-align: right;\n",
       "    }\n",
       "</style>\n",
       "<table border=\"1\" class=\"dataframe\">\n",
       "  <thead>\n",
       "    <tr style=\"text-align: right;\">\n",
       "      <th></th>\n",
       "      <th>Unnamed: 0</th>\n",
       "      <th>Timestamp</th>\n",
       "      <th>Are you self-employed?</th>\n",
       "      <th>How many employees does your company or organization have?</th>\n",
       "      <th>Is your employer primarily a tech company/organization?</th>\n",
       "      <th>Is your primary role within your company related to tech/IT?</th>\n",
       "      <th>Does your employer provide mental health benefits as part of healthcare coverage?</th>\n",
       "      <th>Do you know the options for mental health care available under your employer-provided health coverage?</th>\n",
       "      <th>Has your employer ever formally discussed mental health (for example, as part of a wellness campaign or other official communication)?</th>\n",
       "      <th>Does your employer offer resources to learn more about mental health disorders and options for seeking help?</th>\n",
       "      <th>...</th>\n",
       "      <th>Are you openly identified at work as a person with a mental health issue?</th>\n",
       "      <th>If they knew you suffered from a mental health disorder, how do you think that your team members/co-workers would react?</th>\n",
       "      <th>Have you observed or experienced an unsupportive or badly handled response to a mental health issue in your current or previous workplace?</th>\n",
       "      <th>Have you observed or experienced a supportive or well handled response to a mental health issue in your current or previous workplace?</th>\n",
       "      <th>Overall, how well do you think the tech industry supports employees with mental health issues?</th>\n",
       "      <th>What is your age?</th>\n",
       "      <th>What is your gender?</th>\n",
       "      <th>What country do you live in?</th>\n",
       "      <th>What is your race?</th>\n",
       "      <th>What country do you work in?</th>\n",
       "    </tr>\n",
       "  </thead>\n",
       "  <tbody>\n",
       "    <tr>\n",
       "      <th>0</th>\n",
       "      <td>0</td>\n",
       "      <td>1</td>\n",
       "      <td>0</td>\n",
       "      <td>4</td>\n",
       "      <td>1</td>\n",
       "      <td>1</td>\n",
       "      <td>0</td>\n",
       "      <td>1</td>\n",
       "      <td>0</td>\n",
       "      <td>2</td>\n",
       "      <td>...</td>\n",
       "      <td>0.0</td>\n",
       "      <td>10.0</td>\n",
       "      <td>2</td>\n",
       "      <td>2</td>\n",
       "      <td>1.0</td>\n",
       "      <td>27.0</td>\n",
       "      <td>0</td>\n",
       "      <td>50</td>\n",
       "      <td>3</td>\n",
       "      <td>52</td>\n",
       "    </tr>\n",
       "    <tr>\n",
       "      <th>1</th>\n",
       "      <td>1</td>\n",
       "      <td>1</td>\n",
       "      <td>0</td>\n",
       "      <td>4</td>\n",
       "      <td>1</td>\n",
       "      <td>1</td>\n",
       "      <td>1</td>\n",
       "      <td>1</td>\n",
       "      <td>0</td>\n",
       "      <td>0</td>\n",
       "      <td>...</td>\n",
       "      <td>0.0</td>\n",
       "      <td>6.0</td>\n",
       "      <td>3</td>\n",
       "      <td>0</td>\n",
       "      <td>2.0</td>\n",
       "      <td>31.0</td>\n",
       "      <td>3</td>\n",
       "      <td>50</td>\n",
       "      <td>3</td>\n",
       "      <td>52</td>\n",
       "    </tr>\n",
       "    <tr>\n",
       "      <th>2</th>\n",
       "      <td>2</td>\n",
       "      <td>1</td>\n",
       "      <td>0</td>\n",
       "      <td>2</td>\n",
       "      <td>1</td>\n",
       "      <td>1</td>\n",
       "      <td>2</td>\n",
       "      <td>0</td>\n",
       "      <td>2</td>\n",
       "      <td>0</td>\n",
       "      <td>...</td>\n",
       "      <td>1.0</td>\n",
       "      <td>5.0</td>\n",
       "      <td>2</td>\n",
       "      <td>2</td>\n",
       "      <td>1.0</td>\n",
       "      <td>36.0</td>\n",
       "      <td>3</td>\n",
       "      <td>51</td>\n",
       "      <td>3</td>\n",
       "      <td>53</td>\n",
       "    </tr>\n",
       "    <tr>\n",
       "      <th>3</th>\n",
       "      <td>3</td>\n",
       "      <td>1</td>\n",
       "      <td>0</td>\n",
       "      <td>4</td>\n",
       "      <td>1</td>\n",
       "      <td>0</td>\n",
       "      <td>1</td>\n",
       "      <td>0</td>\n",
       "      <td>0</td>\n",
       "      <td>2</td>\n",
       "      <td>...</td>\n",
       "      <td>0.0</td>\n",
       "      <td>4.0</td>\n",
       "      <td>3</td>\n",
       "      <td>3</td>\n",
       "      <td>2.0</td>\n",
       "      <td>30.0</td>\n",
       "      <td>3</td>\n",
       "      <td>51</td>\n",
       "      <td>3</td>\n",
       "      <td>53</td>\n",
       "    </tr>\n",
       "    <tr>\n",
       "      <th>4</th>\n",
       "      <td>4</td>\n",
       "      <td>1</td>\n",
       "      <td>0</td>\n",
       "      <td>2</td>\n",
       "      <td>1</td>\n",
       "      <td>1</td>\n",
       "      <td>1</td>\n",
       "      <td>1</td>\n",
       "      <td>0</td>\n",
       "      <td>0</td>\n",
       "      <td>...</td>\n",
       "      <td>1.0</td>\n",
       "      <td>5.0</td>\n",
       "      <td>1</td>\n",
       "      <td>3</td>\n",
       "      <td>2.0</td>\n",
       "      <td>36.0</td>\n",
       "      <td>0</td>\n",
       "      <td>51</td>\n",
       "      <td>2</td>\n",
       "      <td>53</td>\n",
       "    </tr>\n",
       "  </tbody>\n",
       "</table>\n",
       "<p>5 rows × 55 columns</p>\n",
       "</div>"
      ],
      "text/plain": [
       "   Unnamed: 0  Timestamp  Are you self-employed?  \\\n",
       "0           0          1                       0   \n",
       "1           1          1                       0   \n",
       "2           2          1                       0   \n",
       "3           3          1                       0   \n",
       "4           4          1                       0   \n",
       "\n",
       "   How many employees does your company or organization have?  \\\n",
       "0                                                  4            \n",
       "1                                                  4            \n",
       "2                                                  2            \n",
       "3                                                  4            \n",
       "4                                                  2            \n",
       "\n",
       "   Is your employer primarily a tech company/organization?  \\\n",
       "0                                                  1         \n",
       "1                                                  1         \n",
       "2                                                  1         \n",
       "3                                                  1         \n",
       "4                                                  1         \n",
       "\n",
       "   Is your primary role within your company related to tech/IT?  \\\n",
       "0                                                  1              \n",
       "1                                                  1              \n",
       "2                                                  1              \n",
       "3                                                  0              \n",
       "4                                                  1              \n",
       "\n",
       "   Does your employer provide mental health benefits as part of healthcare coverage?  \\\n",
       "0                                                  0                                   \n",
       "1                                                  1                                   \n",
       "2                                                  2                                   \n",
       "3                                                  1                                   \n",
       "4                                                  1                                   \n",
       "\n",
       "   Do you know the options for mental health care available under your employer-provided health coverage?  \\\n",
       "0                                                  1                                                        \n",
       "1                                                  1                                                        \n",
       "2                                                  0                                                        \n",
       "3                                                  0                                                        \n",
       "4                                                  1                                                        \n",
       "\n",
       "   Has your employer ever formally discussed mental health (for example, as part of a wellness campaign or other official communication)?  \\\n",
       "0                                                  0                                                                                        \n",
       "1                                                  0                                                                                        \n",
       "2                                                  2                                                                                        \n",
       "3                                                  0                                                                                        \n",
       "4                                                  0                                                                                        \n",
       "\n",
       "   Does your employer offer resources to learn more about mental health disorders and options for seeking help?  \\\n",
       "0                                                  2                                                              \n",
       "1                                                  0                                                              \n",
       "2                                                  0                                                              \n",
       "3                                                  2                                                              \n",
       "4                                                  0                                                              \n",
       "\n",
       "   ...  \\\n",
       "0  ...   \n",
       "1  ...   \n",
       "2  ...   \n",
       "3  ...   \n",
       "4  ...   \n",
       "\n",
       "   Are you openly identified at work as a person with a mental health issue?  \\\n",
       "0                                                0.0                           \n",
       "1                                                0.0                           \n",
       "2                                                1.0                           \n",
       "3                                                0.0                           \n",
       "4                                                1.0                           \n",
       "\n",
       "   If they knew you suffered from a mental health disorder, how do you think that your team members/co-workers would react?  \\\n",
       "0                                               10.0                                                                          \n",
       "1                                                6.0                                                                          \n",
       "2                                                5.0                                                                          \n",
       "3                                                4.0                                                                          \n",
       "4                                                5.0                                                                          \n",
       "\n",
       "   Have you observed or experienced an unsupportive or badly handled response to a mental health issue in your current or previous workplace?  \\\n",
       "0                                                  2                                                                                            \n",
       "1                                                  3                                                                                            \n",
       "2                                                  2                                                                                            \n",
       "3                                                  3                                                                                            \n",
       "4                                                  1                                                                                            \n",
       "\n",
       "   Have you observed or experienced a supportive or well handled response to a mental health issue in your current or previous workplace?  \\\n",
       "0                                                  2                                                                                        \n",
       "1                                                  0                                                                                        \n",
       "2                                                  2                                                                                        \n",
       "3                                                  3                                                                                        \n",
       "4                                                  3                                                                                        \n",
       "\n",
       "   Overall, how well do you think the tech industry supports employees with mental health issues?  \\\n",
       "0                                                1.0                                                \n",
       "1                                                2.0                                                \n",
       "2                                                1.0                                                \n",
       "3                                                2.0                                                \n",
       "4                                                2.0                                                \n",
       "\n",
       "   What is your age?  What is your gender?  What country do you live in?  \\\n",
       "0               27.0                     0                            50   \n",
       "1               31.0                     3                            50   \n",
       "2               36.0                     3                            51   \n",
       "3               30.0                     3                            51   \n",
       "4               36.0                     0                            51   \n",
       "\n",
       "   What is your race?  What country do you work in?  \n",
       "0                   3                            52  \n",
       "1                   3                            52  \n",
       "2                   3                            53  \n",
       "3                   3                            53  \n",
       "4                   2                            53  \n",
       "\n",
       "[5 rows x 55 columns]"
      ]
     },
     "execution_count": 3,
     "metadata": {},
     "output_type": "execute_result"
    }
   ],
   "source": [
    "df.head()"
   ]
  },
  {
   "cell_type": "code",
   "execution_count": 4,
   "metadata": {},
   "outputs": [],
   "source": [
    "#Scaling this column to between 0 and 1\n",
    "df['How many employees does your company or organization have?'] =(df['How many employees does your company or organization have?'] - min(df['How many employees does your company or organization have?'])) / (max(df['How many employees does your company or organization have?']) - min(df['How many employees does your company or organization have?']))"
   ]
  },
  {
   "cell_type": "markdown",
   "metadata": {
    "id": "cnwGs6h1QoIr"
   },
   "source": [
    "## Features and dependent variables"
   ]
  },
  {
   "cell_type": "code",
   "execution_count": 5,
   "metadata": {
    "colab": {
     "base_uri": "https://localhost:8080/"
    },
    "id": "Y8QdMYJIEs0m",
    "outputId": "59fe7b5f-6ee5-41ad-9e1e-4d709dec7f28"
   },
   "outputs": [
    {
     "name": "stdout",
     "output_type": "stream",
     "text": [
      "y1 : 2    405\n",
      "1    320\n",
      "0    194\n",
      "Name: Would you feel comfortable discussing a mental health issue with your coworkers?, dtype: int64\n",
      "y2 : 1    363\n",
      "2    310\n",
      "0    246\n",
      "Name: Would you feel comfortable discussing a mental health issue with your direct supervisor(s)?, dtype: int64\n"
     ]
    }
   ],
   "source": [
    "X = df.drop(columns=['Would you feel comfortable discussing a mental health issue with your coworkers?','Would you feel comfortable discussing a mental health issue with your direct supervisor(s)?'], axis =1)\n",
    "X = df.drop(columns=['Unnamed: 0'])#,'How many employees does your company or organization have?'],axis=1)#,'Is your employer primarily a tech company/organization?','Is your primary role within your company related to tech/IT?' ])\n",
    "Y1=df['Would you feel comfortable discussing a mental health issue with your coworkers?']\n",
    "Y2=df['Would you feel comfortable discussing a mental health issue with your direct supervisor(s)?']\n",
    "print('y1 :',Y1.value_counts())\n",
    "print('y2 :',Y2.value_counts())"
   ]
  },
  {
   "cell_type": "markdown",
   "metadata": {
    "id": "Q2u_P3zEHY7H"
   },
   "source": [
    "## Splitting the data into training and test set"
   ]
  },
  {
   "cell_type": "code",
   "execution_count": 6,
   "metadata": {
    "id": "15d2abhAEs3_"
   },
   "outputs": [],
   "source": [
    "from sklearn.model_selection import train_test_split\n",
    "X_train, X_test, y1_train, y1_test = train_test_split(X, Y1, test_size = 0.2, random_state = 25)\n",
    "X_train, X_test, y2_train, y2_test = train_test_split(X, Y2, test_size = 0.2, random_state = 25)"
   ]
  },
  {
   "cell_type": "markdown",
   "metadata": {
    "id": "1WszvoKHH8XE"
   },
   "source": [
    "## Implementing Machine Learning Models\n"
   ]
  },
  {
   "cell_type": "markdown",
   "metadata": {
    "id": "vAznv-oEIAHE"
   },
   "source": [
    "### 1.Logistic Regression\n"
   ]
  },
  {
   "cell_type": "code",
   "execution_count": 7,
   "metadata": {
    "colab": {
     "base_uri": "https://localhost:8080/"
    },
    "id": "9Cy9cuZvIbAQ",
    "outputId": "e61f58f6-a64e-4df0-a8b8-97bcc224e901"
   },
   "outputs": [
    {
     "name": "stdout",
     "output_type": "stream",
     "text": [
      "Score for y1: 0.9293478260869565\n",
      "Cross validation score for logistic regression to classify y1: [0.94623656 0.90322581 0.95698925 0.96774194 1.         0.98901099\n",
      " 0.98901099 0.98901099 0.97802198 0.89010989]\n",
      "Score for y2: 0.9782608695652174\n",
      "Cross validation score for logistic regression to classify y2: [0.96774194 0.98924731 0.98924731 0.98913043 0.94565217 0.98913043\n",
      " 0.98901099 0.98901099 0.95604396 0.94505495]\n"
     ]
    }
   ],
   "source": [
    "pipe1 = make_pipeline(StandardScaler(), LogisticRegression())\n",
    "pipe1.fit(X_train, y1_train)  \n",
    "print('Score for y1:',pipe1.score(X_test, y1_test))\n",
    "print('Cross validation score for logistic regression to classify y1:',cross_val_score(pipe1, X, Y1, cv=10))\n",
    "pipe1.fit(X_train, y2_train) \n",
    "print('Score for y2:',pipe1.score(X_test, y2_test))\n",
    "print('Cross validation score for logistic regression to classify y2:',cross_val_score(pipe1, X, Y2, cv=10))"
   ]
  },
  {
   "cell_type": "markdown",
   "metadata": {
    "id": "8-AH3CP1SutY"
   },
   "source": [
    "### 2.SVM"
   ]
  },
  {
   "cell_type": "code",
   "execution_count": 8,
   "metadata": {
    "colab": {
     "base_uri": "https://localhost:8080/"
    },
    "id": "JXrzigGcSyG7",
    "outputId": "c40f65a8-8c7b-4778-da35-8d24fa47842f"
   },
   "outputs": [
    {
     "name": "stdout",
     "output_type": "stream",
     "text": [
      "Score for y1: 1.0\n",
      "Cross validation score for SVM to classify y1: [1. 1. 1. 1. 1. 1. 1. 1. 1. 1.]\n",
      "Score for y2: 1.0\n",
      "Cross validation score for SVM to classify y2: [1. 1. 1. 1. 1. 1. 1. 1. 1. 1.]\n"
     ]
    }
   ],
   "source": [
    "pipe2 = make_pipeline(StandardScaler(), SVC(kernel = 'linear'))\n",
    "pipe2.fit(X_train, y1_train)  \n",
    "print('Score for y1:',pipe2.score(X_test, y1_test))\n",
    "print('Cross validation score for SVM to classify y1:',cross_val_score(pipe2, X, Y1, cv=10))\n",
    "pipe2.fit(X_train, y2_train) \n",
    "print('Score for y2:',pipe2.score(X_test, y2_test))\n",
    "print('Cross validation score for SVM to classify y2:',cross_val_score(pipe2, X, Y2, cv=10))\n"
   ]
  },
  {
   "cell_type": "markdown",
   "metadata": {
    "id": "3JJTj4x-IHY4"
   },
   "source": [
    "### 3.K Nearest Neighbors classifier"
   ]
  },
  {
   "cell_type": "code",
   "execution_count": 9,
   "metadata": {
    "colab": {
     "base_uri": "https://localhost:8080/"
    },
    "id": "VdraBhHHIbp6",
    "outputId": "cf135043-9940-4adf-82ef-6b99d466fffb"
   },
   "outputs": [
    {
     "name": "stdout",
     "output_type": "stream",
     "text": [
      "Score for y1: 0.6956521739130435\n",
      "Cross validation score for KNN to classify y1: [0.64516129 0.68817204 0.76344086 0.66666667 0.76086957 0.67032967\n",
      " 0.76923077 0.71428571 0.73626374 0.59340659]\n",
      "Score for y2: 0.6684782608695652\n",
      "Cross validation score for KNN to classify y2: [0.62365591 0.60215054 0.67741935 0.67391304 0.61956522 0.65217391\n",
      " 0.69230769 0.63736264 0.67032967 0.61538462]\n"
     ]
    }
   ],
   "source": [
    "pipe3 = make_pipeline(StandardScaler(),KNeighborsClassifier(n_neighbors=3))\n",
    "pipe3.fit(X_train, y1_train)  \n",
    "print('Score for y1:',pipe3.score(X_test, y1_test))\n",
    "print('Cross validation score for KNN to classify y1:',cross_val_score(pipe3, X, Y1, cv=10))\n",
    "pipe3.fit(X_train, y2_train) \n",
    "print('Score for y2:',pipe3.score(X_test, y2_test))\n",
    "print('Cross validation score for KNN to classify y2:',cross_val_score(pipe3, X, Y2, cv=10))"
   ]
  },
  {
   "cell_type": "markdown",
   "metadata": {
    "id": "y4Ecj18aIHaX"
   },
   "source": [
    "### 4.Decision Tree\n"
   ]
  },
  {
   "cell_type": "code",
   "execution_count": 10,
   "metadata": {
    "colab": {
     "base_uri": "https://localhost:8080/"
    },
    "id": "Wcir23fdIcfS",
    "outputId": "89f9f2cb-cae2-4ab7-8bef-527ed99f665d"
   },
   "outputs": [
    {
     "name": "stdout",
     "output_type": "stream",
     "text": [
      "Score for y1: 1.0\n",
      "Cross validation score for Decision Tree to classify y1: [1. 1. 1. 1. 1. 1. 1. 1. 1. 1.]\n",
      "Score for y2: 1.0\n",
      "Cross validation score for Decision Tree to classify y2: [1. 1. 1. 1. 1. 1. 1. 1. 1. 1.]\n"
     ]
    }
   ],
   "source": [
    "pipe4 = make_pipeline(StandardScaler(),DecisionTreeClassifier(random_state=10))\n",
    "pipe4.fit(X_train, y1_train)  \n",
    "print('Score for y1:',pipe4.score(X_test, y1_test))\n",
    "print('Cross validation score for Decision Tree to classify y1:',cross_val_score(pipe4, X, Y1, cv=10))\n",
    "pipe4.fit(X_train, y2_train) \n",
    "print('Score for y2:',pipe4.score(X_test, y2_test))\n",
    "print('Cross validation score for Decision Tree to classify y2:',cross_val_score(pipe4, X, Y2, cv=10))"
   ]
  },
  {
   "cell_type": "markdown",
   "metadata": {
    "id": "mjkrHCK4IHdv"
   },
   "source": [
    "### 5.Random Forest Classifier"
   ]
  },
  {
   "cell_type": "code",
   "execution_count": 11,
   "metadata": {
    "colab": {
     "base_uri": "https://localhost:8080/"
    },
    "id": "9EC0rK5MIdTZ",
    "outputId": "54b37978-dc7e-469c-945c-a049ca0d869f"
   },
   "outputs": [
    {
     "name": "stdout",
     "output_type": "stream",
     "text": [
      "Score for y1: 0.9728260869565217\n",
      "Cross validation score for Random Forest classifier to classify y1: [0.93548387 0.89247312 0.94623656 0.97849462 0.91304348 0.97802198\n",
      " 0.97802198 0.98901099 0.97802198 0.89010989]\n",
      "Score for y2: 0.967391304347826\n",
      "Cross validation score for Random Forest  Classifier to classify y2: [0.97849462 0.97849462 0.95698925 0.93478261 0.9673913  0.94565217\n",
      " 1.         0.93406593 0.94505495 0.95604396]\n"
     ]
    }
   ],
   "source": [
    "pipe5 = make_pipeline(StandardScaler(),RandomForestClassifier(max_depth=6,random_state=10))\n",
    "pipe5.fit(X_train, y1_train)  \n",
    "print('Score for y1:',pipe5.score(X_test, y1_test))\n",
    "print('Cross validation score for Random Forest classifier to classify y1:',cross_val_score(pipe5, X, Y1, cv=10))\n",
    "pipe5.fit(X_train, y2_train) \n",
    "print('Score for y2:',pipe5.score(X_test, y2_test))\n",
    "print('Cross validation score for Random Forest  Classifier to classify y2:',cross_val_score(pipe5, X, Y2, cv=10))"
   ]
  },
  {
   "cell_type": "markdown",
   "metadata": {
    "id": "Qa4zprI5IHfR"
   },
   "source": [
    "### 6.GridSearch"
   ]
  },
  {
   "cell_type": "code",
   "execution_count": 12,
   "metadata": {
    "colab": {
     "base_uri": "https://localhost:8080/"
    },
    "id": "HCss7TLeIec8",
    "outputId": "847333da-94e9-4470-a997-8504973661c2"
   },
   "outputs": [
    {
     "name": "stdout",
     "output_type": "stream",
     "text": [
      "Score for y1: 1.0\n",
      "Cross validation score for Grid Search to classify y1: [1. 1. 1. 1. 1. 1. 1. 1. 1. 1.]\n",
      "Score for y2: 1.0\n",
      "Cross validation score for Grid Search to classify y2: [1. 1. 1. 1. 1. 1. 1. 1. 1. 1.]\n"
     ]
    }
   ],
   "source": [
    "parameters = {'kernel':('linear', 'rbf'), 'C':[1, 10]}\n",
    "svc = SVC()\n",
    "pipe6 = make_pipeline(StandardScaler(),GridSearchCV(svc, parameters))\n",
    "pipe6.fit(X_train, y1_train)  \n",
    "print('Score for y1:',pipe6.score(X_test, y1_test))\n",
    "print('Cross validation score for Grid Search to classify y1:',cross_val_score(pipe6, X, Y1, cv=10))\n",
    "pipe6.fit(X_train, y2_train) \n",
    "print('Score for y2:',pipe6.score(X_test, y2_test))\n",
    "print('Cross validation score for Grid Search to classify y2:',cross_val_score(pipe6, X, Y2, cv=10))"
   ]
  },
  {
   "cell_type": "markdown",
   "metadata": {
    "id": "rg164LG7wW4d"
   },
   "source": [
    "### 7.BaggingClassifier"
   ]
  },
  {
   "cell_type": "code",
   "execution_count": 13,
   "metadata": {
    "colab": {
     "base_uri": "https://localhost:8080/"
    },
    "id": "fn3BDQfbIEw5",
    "outputId": "f9691107-9edb-4280-e79c-2eaea4365cf8"
   },
   "outputs": [
    {
     "data": {
      "text/plain": [
       "'from sklearn.model_selection import train_test_split\\nX_train, X_test, y1_train, y1_test = train_test_split(X, Y1, test_size = 0.2, random_state = 25)\\nX_train, X_test, y2_train, y2_test = train_test_split(X, Y2, test_size = 0.2, random_state = 25)\\nclf = BaggingClassifier(base_estimator=SVC(),n_estimators=10, random_state=0).fit(X_train, y1_train)\\nclf.score(X_test,y1_test)\\n'"
      ]
     },
     "execution_count": 13,
     "metadata": {},
     "output_type": "execute_result"
    }
   ],
   "source": [
    "'''from sklearn.model_selection import train_test_split\n",
    "X_train, X_test, y1_train, y1_test = train_test_split(X, Y1, test_size = 0.2, random_state = 25)\n",
    "X_train, X_test, y2_train, y2_test = train_test_split(X, Y2, test_size = 0.2, random_state = 25)\n",
    "clf = BaggingClassifier(base_estimator=SVC(),n_estimators=10, random_state=0).fit(X_train, y1_train)\n",
    "clf.score(X_test,y1_test)\n",
    "'''"
   ]
  },
  {
   "cell_type": "code",
   "execution_count": 14,
   "metadata": {
    "colab": {
     "base_uri": "https://localhost:8080/"
    },
    "id": "C05cQGjUvWt9",
    "outputId": "4ad22d57-9eb8-4ef1-ff85-0de27dfc157e"
   },
   "outputs": [
    {
     "name": "stdout",
     "output_type": "stream",
     "text": [
      "Score for y1: 0.9510869565217391\n",
      "Cross validation score for Bagging Classifier to classify y1: [0.94623656 0.94623656 0.97849462 1.         1.         0.98901099\n",
      " 0.98901099 1.         1.         0.95604396]\n",
      "Score for y2: 0.967391304347826\n",
      "Cross validation score for Bagging Classifier to classify y2: [0.97849462 0.98924731 0.97849462 0.97826087 0.9673913  1.\n",
      " 0.97802198 0.97802198 0.96703297 0.95604396]\n"
     ]
    }
   ],
   "source": [
    "pipe7 = make_pipeline(StandardScaler(),BaggingClassifier(base_estimator=SVC(),n_estimators=4))\n",
    "pipe7.fit(X_train, y1_train)  \n",
    "print('Score for y1:',pipe7.score(X_test, y1_test))\n",
    "print('Cross validation score for Bagging Classifier to classify y1:',cross_val_score(pipe7, X, Y1, cv=10))\n",
    "pipe7.fit(X_train, y2_train) \n",
    "print('Score for y2:',pipe7.score(X_test, y2_test))\n",
    "print('Cross validation score for Bagging Classifier to classify y2:',cross_val_score(pipe7, X, Y2, cv=10))"
   ]
  },
  {
   "cell_type": "markdown",
   "metadata": {
    "id": "eWBVTeAdys0s"
   },
   "source": [
    "### 8.AdaBoostClassifier"
   ]
  },
  {
   "cell_type": "code",
   "execution_count": 15,
   "metadata": {
    "colab": {
     "base_uri": "https://localhost:8080/"
    },
    "id": "THkhl9mC1FjR",
    "outputId": "c5c34a11-0b6c-4dd8-ee86-41ce88abb81e"
   },
   "outputs": [
    {
     "data": {
      "text/plain": [
       "1.0"
      ]
     },
     "execution_count": 15,
     "metadata": {},
     "output_type": "execute_result"
    }
   ],
   "source": [
    "clf = AdaBoostClassifier(n_estimators=100, random_state=0)\n",
    "clf.fit(X_train, y1_train)\n",
    "clf.score(X_test,y1_test)"
   ]
  },
  {
   "cell_type": "code",
   "execution_count": 16,
   "metadata": {
    "colab": {
     "base_uri": "https://localhost:8080/"
    },
    "id": "dBMwD1Rlv311",
    "outputId": "a2ce27a9-5b48-46c6-dd05-94346b811d8e"
   },
   "outputs": [
    {
     "name": "stdout",
     "output_type": "stream",
     "text": [
      "Score for y1: 1.0\n",
      "Cross validation score for AdaBoost classifier to classify y1: [1. 1. 1. 1. 1. 1. 1. 1. 1. 1.]\n",
      "Score for y2: 1.0\n",
      "Cross validation score for AdaBoost classifier to classify y2: [1. 1. 1. 1. 1. 1. 1. 1. 1. 1.]\n"
     ]
    }
   ],
   "source": [
    "pipe8 = make_pipeline(StandardScaler(),AdaBoostClassifier(n_estimators=150, random_state=0))\n",
    "pipe8.fit(X_train, y1_train)  \n",
    "print('Score for y1:',pipe8.score(X_test, y1_test))\n",
    "print('Cross validation score for AdaBoost classifier to classify y1:',cross_val_score(pipe8, X, Y1, cv=10))\n",
    "pipe8.fit(X_train, y2_train) \n",
    "print('Score for y2:',pipe8.score(X_test, y2_test))\n",
    "print('Cross validation score for AdaBoost classifier to classify y2:',cross_val_score(pipe8, X, Y2, cv=10))"
   ]
  }
 ],
 "metadata": {
  "colab": {
   "collapsed_sections": [],
   "name": "models.ipynb",
   "provenance": []
  },
  "kernelspec": {
   "display_name": "Python 3",
   "language": "python",
   "name": "python3"
  },
  "language_info": {
   "codemirror_mode": {
    "name": "ipython",
    "version": 3
   },
   "file_extension": ".py",
   "mimetype": "text/x-python",
   "name": "python",
   "nbconvert_exporter": "python",
   "pygments_lexer": "ipython3",
   "version": "3.8.3"
  }
 },
 "nbformat": 4,
 "nbformat_minor": 1
}
