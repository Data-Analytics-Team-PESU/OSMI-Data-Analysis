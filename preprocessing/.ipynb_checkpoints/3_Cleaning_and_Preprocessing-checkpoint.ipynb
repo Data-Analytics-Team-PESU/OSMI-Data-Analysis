{
 "cells": [
  {
   "cell_type": "markdown",
   "metadata": {
    "id": "mzBxt6gDa76a"
   },
   "source": [
    "\n",
    "# OSMI Survey Dataset"
   ]
  },
  {
   "cell_type": "markdown",
   "metadata": {
    "id": "0jMUZlI-6rj2"
   },
   "source": [
    "## 01 Basic Overview of the Dataset"
   ]
  },
  {
   "cell_type": "code",
   "execution_count": 1,
   "metadata": {
    "id": "dcdCjj6yWZFT"
   },
   "outputs": [],
   "source": [
    "# Importing necessary libraries\n",
    "import numpy as np\n",
    "import pandas as pd\n",
    "import matplotlib.pyplot as plt\n",
    "from matplotlib.pyplot import pie\n",
    "import seaborn as sns\n",
    "import plotly.express as px"
   ]
  },
  {
   "cell_type": "code",
   "execution_count": 2,
   "metadata": {
    "colab": {
     "base_uri": "https://localhost:8080/",
     "height": 834
    },
    "id": "uGgd8VUqXE2s",
    "outputId": "543d7e76-41cb-4c5a-be80-84d68d9d17df"
   },
   "outputs": [
    {
     "ename": "FileNotFoundError",
     "evalue": "[Errno 2] File final.csv does not exist: 'final.csv'",
     "output_type": "error",
     "traceback": [
      "\u001b[0;31m---------------------------------------------------------------------------\u001b[0m",
      "\u001b[0;31mFileNotFoundError\u001b[0m                         Traceback (most recent call last)",
      "\u001b[0;32m<ipython-input-2-fd008d447a41>\u001b[0m in \u001b[0;36m<module>\u001b[0;34m\u001b[0m\n\u001b[1;32m      1\u001b[0m \u001b[0;31m# Loading the dataset and overview\u001b[0m\u001b[0;34m\u001b[0m\u001b[0;34m\u001b[0m\u001b[0;34m\u001b[0m\u001b[0m\n\u001b[1;32m      2\u001b[0m \u001b[0;31m#datasets/2014_survey.csv\u001b[0m\u001b[0;34m\u001b[0m\u001b[0;34m\u001b[0m\u001b[0;34m\u001b[0m\u001b[0m\n\u001b[0;32m----> 3\u001b[0;31m \u001b[0mdf\u001b[0m \u001b[0;34m=\u001b[0m \u001b[0mpd\u001b[0m\u001b[0;34m.\u001b[0m\u001b[0mread_csv\u001b[0m\u001b[0;34m(\u001b[0m\u001b[0;34m\"final.csv\"\u001b[0m\u001b[0;34m)\u001b[0m\u001b[0;34m\u001b[0m\u001b[0;34m\u001b[0m\u001b[0m\n\u001b[0m\u001b[1;32m      4\u001b[0m \u001b[0mdf\u001b[0m\u001b[0;34m.\u001b[0m\u001b[0mhead\u001b[0m\u001b[0;34m(\u001b[0m\u001b[0;34m)\u001b[0m\u001b[0;34m\u001b[0m\u001b[0;34m\u001b[0m\u001b[0m\n",
      "\u001b[0;32m~/anaconda3/lib/python3.8/site-packages/pandas/io/parsers.py\u001b[0m in \u001b[0;36mparser_f\u001b[0;34m(filepath_or_buffer, sep, delimiter, header, names, index_col, usecols, squeeze, prefix, mangle_dupe_cols, dtype, engine, converters, true_values, false_values, skipinitialspace, skiprows, skipfooter, nrows, na_values, keep_default_na, na_filter, verbose, skip_blank_lines, parse_dates, infer_datetime_format, keep_date_col, date_parser, dayfirst, cache_dates, iterator, chunksize, compression, thousands, decimal, lineterminator, quotechar, quoting, doublequote, escapechar, comment, encoding, dialect, error_bad_lines, warn_bad_lines, delim_whitespace, low_memory, memory_map, float_precision)\u001b[0m\n\u001b[1;32m    674\u001b[0m         )\n\u001b[1;32m    675\u001b[0m \u001b[0;34m\u001b[0m\u001b[0m\n\u001b[0;32m--> 676\u001b[0;31m         \u001b[0;32mreturn\u001b[0m \u001b[0m_read\u001b[0m\u001b[0;34m(\u001b[0m\u001b[0mfilepath_or_buffer\u001b[0m\u001b[0;34m,\u001b[0m \u001b[0mkwds\u001b[0m\u001b[0;34m)\u001b[0m\u001b[0;34m\u001b[0m\u001b[0;34m\u001b[0m\u001b[0m\n\u001b[0m\u001b[1;32m    677\u001b[0m \u001b[0;34m\u001b[0m\u001b[0m\n\u001b[1;32m    678\u001b[0m     \u001b[0mparser_f\u001b[0m\u001b[0;34m.\u001b[0m\u001b[0m__name__\u001b[0m \u001b[0;34m=\u001b[0m \u001b[0mname\u001b[0m\u001b[0;34m\u001b[0m\u001b[0;34m\u001b[0m\u001b[0m\n",
      "\u001b[0;32m~/anaconda3/lib/python3.8/site-packages/pandas/io/parsers.py\u001b[0m in \u001b[0;36m_read\u001b[0;34m(filepath_or_buffer, kwds)\u001b[0m\n\u001b[1;32m    446\u001b[0m \u001b[0;34m\u001b[0m\u001b[0m\n\u001b[1;32m    447\u001b[0m     \u001b[0;31m# Create the parser.\u001b[0m\u001b[0;34m\u001b[0m\u001b[0;34m\u001b[0m\u001b[0;34m\u001b[0m\u001b[0m\n\u001b[0;32m--> 448\u001b[0;31m     \u001b[0mparser\u001b[0m \u001b[0;34m=\u001b[0m \u001b[0mTextFileReader\u001b[0m\u001b[0;34m(\u001b[0m\u001b[0mfp_or_buf\u001b[0m\u001b[0;34m,\u001b[0m \u001b[0;34m**\u001b[0m\u001b[0mkwds\u001b[0m\u001b[0;34m)\u001b[0m\u001b[0;34m\u001b[0m\u001b[0;34m\u001b[0m\u001b[0m\n\u001b[0m\u001b[1;32m    449\u001b[0m \u001b[0;34m\u001b[0m\u001b[0m\n\u001b[1;32m    450\u001b[0m     \u001b[0;32mif\u001b[0m \u001b[0mchunksize\u001b[0m \u001b[0;32mor\u001b[0m \u001b[0miterator\u001b[0m\u001b[0;34m:\u001b[0m\u001b[0;34m\u001b[0m\u001b[0;34m\u001b[0m\u001b[0m\n",
      "\u001b[0;32m~/anaconda3/lib/python3.8/site-packages/pandas/io/parsers.py\u001b[0m in \u001b[0;36m__init__\u001b[0;34m(self, f, engine, **kwds)\u001b[0m\n\u001b[1;32m    878\u001b[0m             \u001b[0mself\u001b[0m\u001b[0;34m.\u001b[0m\u001b[0moptions\u001b[0m\u001b[0;34m[\u001b[0m\u001b[0;34m\"has_index_names\"\u001b[0m\u001b[0;34m]\u001b[0m \u001b[0;34m=\u001b[0m \u001b[0mkwds\u001b[0m\u001b[0;34m[\u001b[0m\u001b[0;34m\"has_index_names\"\u001b[0m\u001b[0;34m]\u001b[0m\u001b[0;34m\u001b[0m\u001b[0;34m\u001b[0m\u001b[0m\n\u001b[1;32m    879\u001b[0m \u001b[0;34m\u001b[0m\u001b[0m\n\u001b[0;32m--> 880\u001b[0;31m         \u001b[0mself\u001b[0m\u001b[0;34m.\u001b[0m\u001b[0m_make_engine\u001b[0m\u001b[0;34m(\u001b[0m\u001b[0mself\u001b[0m\u001b[0;34m.\u001b[0m\u001b[0mengine\u001b[0m\u001b[0;34m)\u001b[0m\u001b[0;34m\u001b[0m\u001b[0;34m\u001b[0m\u001b[0m\n\u001b[0m\u001b[1;32m    881\u001b[0m \u001b[0;34m\u001b[0m\u001b[0m\n\u001b[1;32m    882\u001b[0m     \u001b[0;32mdef\u001b[0m \u001b[0mclose\u001b[0m\u001b[0;34m(\u001b[0m\u001b[0mself\u001b[0m\u001b[0;34m)\u001b[0m\u001b[0;34m:\u001b[0m\u001b[0;34m\u001b[0m\u001b[0;34m\u001b[0m\u001b[0m\n",
      "\u001b[0;32m~/anaconda3/lib/python3.8/site-packages/pandas/io/parsers.py\u001b[0m in \u001b[0;36m_make_engine\u001b[0;34m(self, engine)\u001b[0m\n\u001b[1;32m   1112\u001b[0m     \u001b[0;32mdef\u001b[0m \u001b[0m_make_engine\u001b[0m\u001b[0;34m(\u001b[0m\u001b[0mself\u001b[0m\u001b[0;34m,\u001b[0m \u001b[0mengine\u001b[0m\u001b[0;34m=\u001b[0m\u001b[0;34m\"c\"\u001b[0m\u001b[0;34m)\u001b[0m\u001b[0;34m:\u001b[0m\u001b[0;34m\u001b[0m\u001b[0;34m\u001b[0m\u001b[0m\n\u001b[1;32m   1113\u001b[0m         \u001b[0;32mif\u001b[0m \u001b[0mengine\u001b[0m \u001b[0;34m==\u001b[0m \u001b[0;34m\"c\"\u001b[0m\u001b[0;34m:\u001b[0m\u001b[0;34m\u001b[0m\u001b[0;34m\u001b[0m\u001b[0m\n\u001b[0;32m-> 1114\u001b[0;31m             \u001b[0mself\u001b[0m\u001b[0;34m.\u001b[0m\u001b[0m_engine\u001b[0m \u001b[0;34m=\u001b[0m \u001b[0mCParserWrapper\u001b[0m\u001b[0;34m(\u001b[0m\u001b[0mself\u001b[0m\u001b[0;34m.\u001b[0m\u001b[0mf\u001b[0m\u001b[0;34m,\u001b[0m \u001b[0;34m**\u001b[0m\u001b[0mself\u001b[0m\u001b[0;34m.\u001b[0m\u001b[0moptions\u001b[0m\u001b[0;34m)\u001b[0m\u001b[0;34m\u001b[0m\u001b[0;34m\u001b[0m\u001b[0m\n\u001b[0m\u001b[1;32m   1115\u001b[0m         \u001b[0;32melse\u001b[0m\u001b[0;34m:\u001b[0m\u001b[0;34m\u001b[0m\u001b[0;34m\u001b[0m\u001b[0m\n\u001b[1;32m   1116\u001b[0m             \u001b[0;32mif\u001b[0m \u001b[0mengine\u001b[0m \u001b[0;34m==\u001b[0m \u001b[0;34m\"python\"\u001b[0m\u001b[0;34m:\u001b[0m\u001b[0;34m\u001b[0m\u001b[0;34m\u001b[0m\u001b[0m\n",
      "\u001b[0;32m~/anaconda3/lib/python3.8/site-packages/pandas/io/parsers.py\u001b[0m in \u001b[0;36m__init__\u001b[0;34m(self, src, **kwds)\u001b[0m\n\u001b[1;32m   1889\u001b[0m         \u001b[0mkwds\u001b[0m\u001b[0;34m[\u001b[0m\u001b[0;34m\"usecols\"\u001b[0m\u001b[0;34m]\u001b[0m \u001b[0;34m=\u001b[0m \u001b[0mself\u001b[0m\u001b[0;34m.\u001b[0m\u001b[0musecols\u001b[0m\u001b[0;34m\u001b[0m\u001b[0;34m\u001b[0m\u001b[0m\n\u001b[1;32m   1890\u001b[0m \u001b[0;34m\u001b[0m\u001b[0m\n\u001b[0;32m-> 1891\u001b[0;31m         \u001b[0mself\u001b[0m\u001b[0;34m.\u001b[0m\u001b[0m_reader\u001b[0m \u001b[0;34m=\u001b[0m \u001b[0mparsers\u001b[0m\u001b[0;34m.\u001b[0m\u001b[0mTextReader\u001b[0m\u001b[0;34m(\u001b[0m\u001b[0msrc\u001b[0m\u001b[0;34m,\u001b[0m \u001b[0;34m**\u001b[0m\u001b[0mkwds\u001b[0m\u001b[0;34m)\u001b[0m\u001b[0;34m\u001b[0m\u001b[0;34m\u001b[0m\u001b[0m\n\u001b[0m\u001b[1;32m   1892\u001b[0m         \u001b[0mself\u001b[0m\u001b[0;34m.\u001b[0m\u001b[0munnamed_cols\u001b[0m \u001b[0;34m=\u001b[0m \u001b[0mself\u001b[0m\u001b[0;34m.\u001b[0m\u001b[0m_reader\u001b[0m\u001b[0;34m.\u001b[0m\u001b[0munnamed_cols\u001b[0m\u001b[0;34m\u001b[0m\u001b[0;34m\u001b[0m\u001b[0m\n\u001b[1;32m   1893\u001b[0m \u001b[0;34m\u001b[0m\u001b[0m\n",
      "\u001b[0;32mpandas/_libs/parsers.pyx\u001b[0m in \u001b[0;36mpandas._libs.parsers.TextReader.__cinit__\u001b[0;34m()\u001b[0m\n",
      "\u001b[0;32mpandas/_libs/parsers.pyx\u001b[0m in \u001b[0;36mpandas._libs.parsers.TextReader._setup_parser_source\u001b[0;34m()\u001b[0m\n",
      "\u001b[0;31mFileNotFoundError\u001b[0m: [Errno 2] File final.csv does not exist: 'final.csv'"
     ]
    }
   ],
   "source": [
    "# Loading the dataset and overview\n",
    "#datasets/2014_survey.csv\n",
    "df = pd.read_csv(\"final.csv\")\n",
    "df.head()"
   ]
  },
  {
   "cell_type": "code",
   "execution_count": null,
   "metadata": {
    "colab": {
     "base_uri": "https://localhost:8080/"
    },
    "id": "ogqzj-grXhlk",
    "outputId": "e0ccf165-fcf2-4d23-ea3c-b48ef4c4b862"
   },
   "outputs": [],
   "source": [
    "# Attribute names\n",
    "df.columns"
   ]
  },
  {
   "cell_type": "markdown",
   "metadata": {
    "id": "2VVgwFQwUVh7"
   },
   "source": [
    "**Understanding the attributes**\n",
    "\n"
   ]
  },
  {
   "cell_type": "code",
   "execution_count": null,
   "metadata": {
    "colab": {
     "base_uri": "https://localhost:8080/",
     "height": 491
    },
    "id": "h4wLwd0VUaXC",
    "outputId": "e0b8cc47-376c-4f74-a49a-09910ee47ffa"
   },
   "outputs": [],
   "source": [
    "# Basic properties of the dataset\n",
    "print(\"Shape:\", df.shape)\n",
    "df.describe()"
   ]
  },
  {
   "cell_type": "code",
   "execution_count": null,
   "metadata": {
    "colab": {
     "base_uri": "https://localhost:8080/"
    },
    "id": "0JaMpS3mXE9-",
    "outputId": "82bea112-1c11-480a-c81b-9d2f776d1962"
   },
   "outputs": [],
   "source": [
    "# View the properties of the attributes \n",
    "df.info()"
   ]
  },
  {
   "cell_type": "code",
   "execution_count": null,
   "metadata": {
    "colab": {
     "base_uri": "https://localhost:8080/"
    },
    "id": "oAQ7iAwCxGDa",
    "outputId": "8d98b494-4ba5-43b7-e87e-e479d8ade73b",
    "scrolled": true
   },
   "outputs": [],
   "source": [
    "# Print all the columns with null values\n",
    "print(\"Columns with null values:\")\n",
    "for col, i in zip(df.columns, df.isnull().sum()):\n",
    "    if i != 0:\n",
    "        print(col, ':', i)"
   ]
  },
  {
   "cell_type": "markdown",
   "metadata": {
    "id": "0bzi3J8o6rj-"
   },
   "source": [
    "## 02 Overview Analysis\n",
    "From a high vantage point of the dataset, we determine that it consists of 1705 records and 73 attributes. \n"
   ]
  },
  {
   "cell_type": "markdown",
   "metadata": {
    "id": "uZ2NKceJ6rj-"
   },
   "source": [
    "## 03 Data Preprocessing\n",
    "\n",
    "### 1. Dealing with missing values for certain attributes"
   ]
  },
  {
   "cell_type": "markdown",
   "metadata": {
    "id": "arWDABA96rj-"
   },
   "source": [
    "### 2. Dealing with the `Age` attribute"
   ]
  },
  {
   "cell_type": "code",
   "execution_count": null,
   "metadata": {
    "colab": {
     "base_uri": "https://localhost:8080/",
     "height": 363
    },
    "id": "w2DKzeAB6rj_",
    "outputId": "0363d016-8717-4355-92df-3f5fe72808a6"
   },
   "outputs": [],
   "source": [
    "# Plot a histogram for the values of ages before preprocessing\n",
    "plt.rcParams[\"figure.figsize\"] = (10, 5)\n",
    "age = sns.countplot(data=df, x='What is your age?')\n",
    "age.set_title('Analyzing the attribute Age before preprocessing')\n",
    "age.set_xticklabels(age.get_xticklabels(), rotation=40, ha=\"right\")\n",
    "plt.xticks(rotation=45)\n",
    "plt.show()"
   ]
  },
  {
   "cell_type": "code",
   "execution_count": null,
   "metadata": {
    "colab": {
     "base_uri": "https://localhost:8080/"
    },
    "id": "wElth5596rj_",
    "outputId": "b0d6e080-ef02-4689-ee07-f7d6f4eec36a"
   },
   "outputs": [],
   "source": [
    "# Get the unique values of ages\n",
    "df['What is your age?'].unique()"
   ]
  },
  {
   "cell_type": "markdown",
   "metadata": {
    "id": "1FssRJsF6rj_"
   },
   "source": [
    "As we can analyze from the graph and unique values, there exist nan . Values below 18 and above 80 make very little sense, so we'll replace the corresponding values with the median of the age column."
   ]
  },
  {
   "cell_type": "code",
   "execution_count": null,
   "metadata": {
    "colab": {
     "base_uri": "https://localhost:8080/",
     "height": 53
    },
    "id": "bC1tELhj6rkA",
    "outputId": "36c2e08b-5fba-4015-fa21-2e7749770503"
   },
   "outputs": [],
   "source": [
    "'''# How many dubious values of ages of each type do we have?\n",
    "print(\"Responses with ages less than 18:\")\n",
    "print(df[df['What is your age?'] < 18].What is your age?)\n",
    "print(\"\\nResponses with ages more than 80:\")\n",
    "print(df[df['What is your age?'] > 80].What is your age?)\n",
    "print(\"\\nNull responses:\", df['What is your age?'].isnull().sum())'''"
   ]
  },
  {
   "cell_type": "code",
   "execution_count": null,
   "metadata": {
    "colab": {
     "base_uri": "https://localhost:8080/"
    },
    "id": "OI195G5k6rkA",
    "outputId": "07fc3ee4-983b-4cb6-c213-9a38528e2144",
    "scrolled": true
   },
   "outputs": [],
   "source": [
    "# Replace values of ages less than 18 and more than 80 with the median\n",
    "\n",
    "# Calculate previous median\n",
    "median_without_dubious = df.loc[ (df['What is your age?'] > 18) | (df['What is your age?'] < 80), 'What is your age?'].median()\n",
    "\n",
    "# Replace dubious values with median\n",
    "df.loc[ (df['What is your age?'] < 18) | (df['What is your age?'] > 80), 'What is your age?'] = median_without_dubious\n",
    "\n",
    "# Describe the attribute to analyze min and max\n",
    "df['What is your age?'].describe()"
   ]
  },
  {
   "cell_type": "markdown",
   "metadata": {
    "id": "PM3sNmeL6rkA"
   },
   "source": [
    "The minimum and maximum ages are 18 and 71 with the mean at around 35. We seemed to have completed cleaning up Age."
   ]
  },
  {
   "cell_type": "code",
   "execution_count": null,
   "metadata": {
    "colab": {
     "base_uri": "https://localhost:8080/",
     "height": 363
    },
    "id": "HKqV3xvw6rkB",
    "outputId": "24efc95e-0091-4214-d511-ad8bea951e57"
   },
   "outputs": [],
   "source": [
    "# Plot a histogram for the values of ages after preprocessing\n",
    "plt.rcParams[\"figure.figsize\"] = (10, 5)\n",
    "age = sns.countplot(data=df, x='What is your age?')\n",
    "age.set_title('Analyzing the attribute Age after preprocessing')\n",
    "age.set_xticklabels(age.get_xticklabels(), rotation=40, ha=\"right\")\n",
    "plt.xticks(rotation=45)\n",
    "plt.show()"
   ]
  },
  {
   "cell_type": "markdown",
   "metadata": {
    "id": "c-DHeKqS6rkB"
   },
   "source": [
    "**Analysis**\n",
    "\n",
    "The graph for the continuous Age attribute is a **positively skewed histogram**. Many people fall into the age 30 and 33 bins."
   ]
  },
  {
   "cell_type": "code",
   "execution_count": null,
   "metadata": {
    "colab": {
     "base_uri": "https://localhost:8080/"
    },
    "id": "m5ZpENsz6rkB",
    "outputId": "1ebcdabe-c920-4652-d28a-bbfaa6d4e652"
   },
   "outputs": [],
   "source": [
    "# Get the unique values of ages\n",
    "print(\"Unique values:\\n\", df['What is your age?'].unique())"
   ]
  },
  {
   "cell_type": "code",
   "execution_count": null,
   "metadata": {
    "colab": {
     "base_uri": "https://localhost:8080/"
    },
    "id": "c3jKOyICFdWS",
    "outputId": "9899dc06-4819-45cc-dc63-95d1055acc62"
   },
   "outputs": [],
   "source": [
    "df['What is your age?'].isna().sum()"
   ]
  },
  {
   "cell_type": "markdown",
   "metadata": {
    "id": "zhy5puiEL8wk"
   },
   "source": [
    "##Filling the rows of age attribute which is empyty by its median"
   ]
  },
  {
   "cell_type": "code",
   "execution_count": null,
   "metadata": {
    "id": "GFnviRSFFyz3"
   },
   "outputs": [],
   "source": [
    "median = np.median(df['What is your age?'][df['What is your age?'].isna()==False])\n",
    "df['What is your age?'].fillna(median,inplace=True)"
   ]
  },
  {
   "cell_type": "markdown",
   "metadata": {
    "id": "sYGZbWvF6rkC"
   },
   "source": [
    "### 3. Dealing with the `Gender` attribute"
   ]
  },
  {
   "cell_type": "code",
   "execution_count": null,
   "metadata": {
    "colab": {
     "base_uri": "https://localhost:8080/"
    },
    "id": "CsH0sFb66rkC",
    "outputId": "819ca0bf-ae10-48b2-c0bc-416afcbe2c26"
   },
   "outputs": [],
   "source": [
    "# Are there any null values?\n",
    "df['What is your gender?'].isnull().sum()"
   ]
  },
  {
   "cell_type": "markdown",
   "metadata": {
    "id": "HM3CE1e96rkC"
   },
   "source": [
    "We observe that there are 23 null values"
   ]
  },
  {
   "cell_type": "code",
   "execution_count": null,
   "metadata": {
    "colab": {
     "base_uri": "https://localhost:8080/"
    },
    "id": "yL3mPUsAwhcg",
    "outputId": "8af51d4d-851b-4815-b977-da887ec6ff45"
   },
   "outputs": [],
   "source": [
    "# What are the unique values in the Gender column?\n",
    "df['What is your gender?'].unique()"
   ]
  },
  {
   "cell_type": "markdown",
   "metadata": {
    "id": "cqhsqFA06rkC"
   },
   "source": [
    "In the survey, this question was open-ended, and so the responses are strings that we need to classify into bins. We do so with three bins:\n",
    "- Male\n",
    "- Female\n",
    "- Other\n",
    "\n",
    "`rr` and `43` certainly do not belong here. We remove the records with those attribute values."
   ]
  },
  {
   "cell_type": "code",
   "execution_count": null,
   "metadata": {
    "id": "dC-m_jKv6rkC"
   },
   "outputs": [],
   "source": [
    "# Remove the records with those attribute values\n",
    "df = df[~df['What is your gender?'].isin(['rr', '43'])]"
   ]
  },
  {
   "cell_type": "code",
   "execution_count": null,
   "metadata": {
    "colab": {
     "base_uri": "https://localhost:8080/"
    },
    "id": "dDWL6sf5iu5E",
    "outputId": "81562d5e-e806-4dae-e3d8-2bfc153cecbf"
   },
   "outputs": [],
   "source": [
    "# Replace the strings with the values of bins we require\n",
    "# Group all related strings into bins\n",
    "\n",
    "# Group into Male bin\n",
    "\n",
    "\n",
    "# Group into Female bin\n",
    "df[\"What is your gender?\"] = df[\"What is your gender?\"].str.lower()\n",
    "df['What is your gender?'].replace(['f','female ', 'femalw', 'femail', 'female (cis)', 'female (cis) ','cis female ',\n",
    "                            'my sex is female.', 'female (cisgender)', 'woman-identified', 'cis-female', \n",
    "                            'cis female', 'f, cisgender', 'female-ish', 'trans woman', 'i identify as female',\n",
    "                            '*shrug emoji* (f)', 'cis woman', 'cisgendered woman', 'trans female', 'woman',\n",
    "                            'cisgender female','female, she/her','female-identified','femmina','femile'], 'female', inplace=True)\n",
    "\n",
    "# Group into Other bin\n",
    "df[\"What is your gender?\"].replace(['m', 'man', 'cis-male', 'mail', 'male/androgynous ','cis hetero male', \n",
    "                            'male (cis)','male (hey this is the tech industry you\\'re talking about)',\n",
    "                            'god king of the valajar', 'cis male', 'male ', 'male, cis', 'cis male ',\n",
    "                            'male-ish','dude','ostensibly male','male, born with xy chromosoms','malel', \n",
    "                            'trans man','cisgender male', 'swm',\"let's keep it simple and say 'male'\",'identify as male','masculino','mostly male','cishet male','i have a penis','masculine'], \"male\", inplace=True)\n",
    "\n",
    "df[\"What is your gender?\"].replace(['gender non-binary/other','nonbinary','non-binary','non binary','uhhhhhhhhh fem genderqueer?',\n",
    "                            'agender/genderfluid','sometimes','contextual','genderqueer demigirl','genderqueer/non-binary',\n",
    "                            '\\\\-','transfeminine','agender','male (or female, or both)','female/gender non-binary.', \n",
    "                            'genderqueer','demiguy','she/her/they/them','other','nonbinary/femme','genderfluid', 'none',\n",
    "                           'transgender', 'nb', 'gender non-conforming woman','trans non-binary/genderfluid','questioning','i am a wookie','non-binary and gender fluid','rr','43','agender trans woman'], \n",
    "                           \"other\", inplace=True)\n",
    "\n",
    "df['What is your gender?'].describe()"
   ]
  },
  {
   "cell_type": "code",
   "execution_count": null,
   "metadata": {
    "id": "hSloDnofFNoq"
   },
   "outputs": [],
   "source": [
    "df['What is your gender?'].fillna(value=\"male\", inplace=True)"
   ]
  },
  {
   "cell_type": "markdown",
   "metadata": {
    "id": "cPBwTTZZC5eP"
   },
   "source": [
    "We will fill all Nan with male since majority of people who filled the questionnaire are male"
   ]
  },
  {
   "cell_type": "code",
   "execution_count": null,
   "metadata": {
    "colab": {
     "base_uri": "https://localhost:8080/"
    },
    "id": "Ou6W7SJ4QxUN",
    "outputId": "8a938cef-1f38-403d-fc61-5ae10a714b01"
   },
   "outputs": [],
   "source": [
    "# Viewing the counts of each type\n",
    "df['What is your gender?'].value_counts()"
   ]
  },
  {
   "cell_type": "code",
   "execution_count": null,
   "metadata": {
    "colab": {
     "base_uri": "https://localhost:8080/",
     "height": 362
    },
    "id": "_oCz0oB2jUed",
    "outputId": "a0f7f6f0-73ab-4de7-8170-ae2cfec3661a",
    "scrolled": true
   },
   "outputs": [],
   "source": [
    "# Visualizing the proportion of genders\n",
    "fig, ax = plt.subplots()\n",
    "labels = ['Male', \n",
    "         'Female',\n",
    "         'Other']\n",
    "male_perc = (df['What is your gender?'] == 'male').sum() / df['What is your gender?'].count()\n",
    "female_perc = (df['What is your gender?'] == 'female').sum() / df['What is your gender?'].count()\n",
    "other_perc = (df['What is your gender?'] == 'other').sum() / df['What is your gender?'].count()\n",
    "\n",
    "percentages = [male_perc, female_perc, other_perc]\n",
    "\n",
    "ax.pie(percentages, labels=labels,  \n",
    "       autopct='%1.0f%%', \n",
    "       shadow=False, startangle=0,   \n",
    "       pctdistance=1.2,labeldistance=1.4)\n",
    "ax.axis('equal')\n",
    "ax.set_title(\"Gender values after Preprocessing\")\n",
    "ax.legend(frameon=False, bbox_to_anchor=(1.5,0.8))"
   ]
  },
  {
   "cell_type": "markdown",
   "metadata": {
    "id": "TnlvzKIM6rkE"
   },
   "source": [
    "As the plot suggests, male responders far outnumber the female and other responders. This is a point to keep in mind as we work on our models in the future."
   ]
  },
  {
   "cell_type": "markdown",
   "metadata": {
    "id": "utCbIVK9m01B"
   },
   "source": [
    "### 4. Dealing with the `comments` attribute"
   ]
  },
  {
   "cell_type": "markdown",
   "metadata": {
    "id": "rK-jk8HWVe3J"
   },
   "source": [
    "Viewing comments after droping rows with missing values"
   ]
  },
  {
   "cell_type": "code",
   "execution_count": null,
   "metadata": {
    "colab": {
     "base_uri": "https://localhost:8080/"
    },
    "id": "NFyp5fA8y25E",
    "outputId": "8dc261b9-1e44-4476-ed5c-8707e285dcc4"
   },
   "outputs": [],
   "source": [
    "for count, i in enumerate(df['comments'].dropna()):\n",
    "    if count < 30:\n",
    "        print(i[:80])"
   ]
  },
  {
   "cell_type": "markdown",
   "metadata": {
    "id": "3ONpfxqiBMlZ"
   },
   "source": [
    "##5 .Dealing with `race attribute`"
   ]
  },
  {
   "cell_type": "code",
   "execution_count": null,
   "metadata": {
    "colab": {
     "base_uri": "https://localhost:8080/"
    },
    "id": "A0h_KterKgm_",
    "outputId": "1bc6a3a3-8ac8-47b1-c2be-e2dc9facefd9"
   },
   "outputs": [],
   "source": [
    "# cleaning race column\n",
    "\n",
    "\n",
    "# cleaning up racial responses\n",
    "hispanics = [\"Hispanic\",\"Hispanic or Latino\",\"Latina\",\"Latino\",\"Latinx\",\"mexican american \"]\n",
    "no_answer = [\"Did not answer\",\"I prefer not to answer\",\n",
    "             \"I am of the race of Adam, the first human.\"]\n",
    "mixed = [\"Mixed\",\"More than one of the above\",\"Hispanic, White\",\"Mestizo\"]\n",
    "jewish = [\"Jewish\",\"Ashkenazi\"]\n",
    "caucasian = [\"Caucasian\",\"White\",\"European American\",\n",
    "             \"My race is white, but my ethnicity is Latin American\"]\n",
    "caribbean = [\"Caribbean\",\"Indo-Caribbean\",\"West Indian\"]\n",
    "asian = [\"Asian\",\"South Asian\"]\n",
    "aa = [\"Afrcian American\",\"Black or African American\"]\n",
    "\n",
    "race_list = [hispanics,no_answer,mixed,jewish,caucasian,caribbean,asian,aa]\n",
    "\n",
    "for race in race_list:\n",
    "    for num,info in enumerate(race):\n",
    "        if num > 0:\n",
    "            df[\"What is your race?\"][df[\"What is your race?\"]==info] = race[0]\n",
    "df['What is your race?'].isna().sum()\n",
    "\n",
    "    "
   ]
  },
  {
   "cell_type": "code",
   "execution_count": null,
   "metadata": {
    "colab": {
     "base_uri": "https://localhost:8080/"
    },
    "id": "byapUPQCH0kJ",
    "outputId": "b43e9162-0bcd-4994-850f-a7fccb8441f1"
   },
   "outputs": [],
   "source": [
    "print(df['What is your race?'].value_counts())\n",
    "df['What is your race?'].fillna(value=\"Caucasian\", inplace=True)"
   ]
  },
  {
   "cell_type": "markdown",
   "metadata": {
    "id": "GFKgwDcFNOBN"
   },
   "source": [
    "##Dealing with missing values of rating column"
   ]
  },
  {
   "cell_type": "code",
   "execution_count": null,
   "metadata": {
    "id": "0iFy7_TqMcWj"
   },
   "outputs": [],
   "source": [
    "median = np.median(df['Overall, how well do you think the tech industry supports employees with mental health issues?'][df['Overall, how well do you think the tech industry supports employees with mental health issues?'].isna()==False])\n",
    "df['Overall, how well do you think the tech industry supports employees with mental health issues?'].fillna(median,inplace=True)"
   ]
  },
  {
   "cell_type": "markdown",
   "metadata": {
    "id": "H7TzFxp9N4fj"
   },
   "source": [
    "##Dealing with employee column"
   ]
  },
  {
   "cell_type": "code",
   "execution_count": null,
   "metadata": {
    "colab": {
     "base_uri": "https://localhost:8080/"
    },
    "id": "9_oGliUqNeNr",
    "outputId": "ac574436-401b-47ab-f7dd-4266d36e56ae"
   },
   "outputs": [],
   "source": [
    "print(df['How many employees does your company or organization have?'].value_counts())\n",
    "df['How many employees does your company or organization have?'].isna().sum()"
   ]
  },
  {
   "cell_type": "code",
   "execution_count": null,
   "metadata": {
    "id": "EcD-4l2iQuhi"
   },
   "outputs": [],
   "source": [
    "df['How many employees does your company or organization have?'].fillna(0,inplace=True)"
   ]
  },
  {
   "cell_type": "markdown",
   "metadata": {
    "id": "MqTUPuOO8jAB"
   },
   "source": [
    "We replace all the nan values by 0"
   ]
  },
  {
   "cell_type": "code",
   "execution_count": null,
   "metadata": {
    "id": "_EncfsXN8J-Y"
   },
   "outputs": [],
   "source": [
    "df.drop(columns=['comments'], inplace = True)"
   ]
  },
  {
   "cell_type": "markdown",
   "metadata": {
    "id": "lgwVgjxX8uhD"
   },
   "source": [
    "About 70% of the `comments` column is empty hence we drop the comments section too"
   ]
  },
  {
   "cell_type": "code",
   "execution_count": null,
   "metadata": {
    "colab": {
     "base_uri": "https://localhost:8080/"
    },
    "id": "BDAUfkix8J__",
    "outputId": "c167f77e-4d9b-4893-9af3-4a414244db36"
   },
   "outputs": [],
   "source": [
    "df.columns"
   ]
  },
  {
   "cell_type": "markdown",
   "metadata": {
    "id": "w9pVkCyWR3Gk"
   },
   "source": [
    "##Dealing with missing values"
   ]
  },
  {
   "cell_type": "code",
   "execution_count": null,
   "metadata": {
    "colab": {
     "base_uri": "https://localhost:8080/"
    },
    "id": "w0E4ol3Q-C_5",
    "outputId": "08248416-9c80-4c57-8447-bf5a71a99e87"
   },
   "outputs": [],
   "source": [
    "df.isnull().sum()"
   ]
  },
  {
   "cell_type": "markdown",
   "metadata": {
    "id": "3JXOZ1XKRWqS"
   },
   "source": [
    "Viewing the number the null values in each of the column matrix attribute"
   ]
  },
  {
   "cell_type": "code",
   "execution_count": null,
   "metadata": {
    "colab": {
     "base_uri": "https://localhost:8080/"
    },
    "id": "PhbBdvnVRXu7",
    "outputId": "e64d1925-0d5b-4008-f301-0f0a8d7491f7"
   },
   "outputs": [],
   "source": [
    "df.shape"
   ]
  },
  {
   "cell_type": "markdown",
   "metadata": {
    "id": "YPCf1aZ3Rptu"
   },
   "source": [
    "We observe that a lot of columns  have null values and we  drop columns with over 50% NaN values"
   ]
  },
  {
   "cell_type": "code",
   "execution_count": null,
   "metadata": {
    "id": "6LIzr4_iRcBf"
   },
   "outputs": [],
   "source": [
    "delete_list = df.isna().sum()[df.isna().sum() > 587]\n",
    "for num in range(len(delete_list)):\n",
    "    df.drop(columns = delete_list.index[num],inplace=True)"
   ]
  },
  {
   "cell_type": "markdown",
   "metadata": {
    "id": "Hq7huTN3RyJi"
   },
   "source": [
    "We observe that about 17 columns had more than 50% null values hence they were dropped"
   ]
  },
  {
   "cell_type": "code",
   "execution_count": null,
   "metadata": {
    "colab": {
     "base_uri": "https://localhost:8080/"
    },
    "id": "8bsrtIqaRcLO",
    "outputId": "ddb594ff-ac8c-4e0d-ccad-dcb94973f7ff"
   },
   "outputs": [],
   "source": [
    "df.shape"
   ]
  },
  {
   "cell_type": "code",
   "execution_count": null,
   "metadata": {
    "id": "m256X9kmSQUu"
   },
   "outputs": [],
   "source": []
  }
 ],
 "metadata": {
  "colab": {
   "collapsed_sections": [],
   "name": "Mental_health_In_Tech - finalSurvey.ipynb.txt",
   "provenance": []
  },
  "kernelspec": {
   "display_name": "Python 3",
   "language": "python",
   "name": "python3"
  },
  "language_info": {
   "codemirror_mode": {
    "name": "ipython",
    "version": 3
   },
   "file_extension": ".py",
   "mimetype": "text/x-python",
   "name": "python",
   "nbconvert_exporter": "python",
   "pygments_lexer": "ipython3",
   "version": "3.8.3"
  }
 },
 "nbformat": 4,
 "nbformat_minor": 1
}
