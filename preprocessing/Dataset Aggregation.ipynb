{
 "cells": [
  {
   "cell_type": "markdown",
   "metadata": {},
   "source": [
    "# Aggregating Datasets for the Years 2017-2020"
   ]
  },
  {
   "cell_type": "code",
   "execution_count": 1,
   "metadata": {},
   "outputs": [],
   "source": [
    "# Import necessary modules\n",
    "import pandas as pd\n",
    "import random as rd\n",
    "import numpy as np"
   ]
  },
  {
   "cell_type": "markdown",
   "metadata": {},
   "source": [
    "## Aggregating the Final Individual Datasets"
   ]
  },
  {
   "cell_type": "code",
   "execution_count": 2,
   "metadata": {},
   "outputs": [],
   "source": [
    "#Rseading the datasets\n",
    "df1=pd.read_csv('../datasets/final_2017.csv')\n",
    "df2=pd.read_csv('../datasets/final_2018.csv')\n",
    "df3=pd.read_csv('../datasets/final_2019.csv')\n",
    "df4=pd.read_csv('../datasets/final_2020.csv')"
   ]
  },
  {
   "cell_type": "code",
   "execution_count": 3,
   "metadata": {},
   "outputs": [
    {
     "data": {
      "text/html": [
       "<div>\n",
       "<style scoped>\n",
       "    .dataframe tbody tr th:only-of-type {\n",
       "        vertical-align: middle;\n",
       "    }\n",
       "\n",
       "    .dataframe tbody tr th {\n",
       "        vertical-align: top;\n",
       "    }\n",
       "\n",
       "    .dataframe thead th {\n",
       "        text-align: right;\n",
       "    }\n",
       "</style>\n",
       "<table border=\"1\" class=\"dataframe\">\n",
       "  <thead>\n",
       "    <tr style=\"text-align: right;\">\n",
       "      <th></th>\n",
       "      <th>Unnamed: 0</th>\n",
       "      <th>Are you self-employed?</th>\n",
       "      <th>How many employees does your company or organization have?</th>\n",
       "      <th>Is your employer primarily a tech company/organization?</th>\n",
       "      <th>Is your primary role within your company related to tech/IT?</th>\n",
       "      <th>Does your employer provide mental health benefits as part of healthcare coverage?</th>\n",
       "      <th>Do you know the options for mental health care available under your employer-provided health coverage?</th>\n",
       "      <th>Has your employer ever formally discussed mental health (for example, as part of a wellness campaign or other official communication)?</th>\n",
       "      <th>Does your employer offer resources to learn more about mental health disorders and options for seeking help?</th>\n",
       "      <th>Is your anonymity protected if you choose to take advantage of mental health or substance abuse treatment resources provided by your employer?</th>\n",
       "      <th>...</th>\n",
       "      <th>What is your gender?</th>\n",
       "      <th>What country do you live in?</th>\n",
       "      <th>What US state or territory do you live in?</th>\n",
       "      <th>What is your race?</th>\n",
       "      <th>What country do you work in?</th>\n",
       "      <th>What US state or territory do you work in?</th>\n",
       "      <th>What disorder(s) have you been diagnosed with?</th>\n",
       "      <th>If possibly, what disorder(s) do you believe you have?</th>\n",
       "      <th>If so, what disorder(s) were you diagnosed with?</th>\n",
       "      <th>comments</th>\n",
       "    </tr>\n",
       "  </thead>\n",
       "  <tbody>\n",
       "    <tr>\n",
       "      <th>0</th>\n",
       "      <td>0</td>\n",
       "      <td>0</td>\n",
       "      <td>100-500</td>\n",
       "      <td>1.0</td>\n",
       "      <td>1.0</td>\n",
       "      <td>No</td>\n",
       "      <td>Yes</td>\n",
       "      <td>No</td>\n",
       "      <td>I don't know</td>\n",
       "      <td>I don't know</td>\n",
       "      <td>...</td>\n",
       "      <td>Female</td>\n",
       "      <td>United Kingdom</td>\n",
       "      <td>NaN</td>\n",
       "      <td>NaN</td>\n",
       "      <td>United Kingdom</td>\n",
       "      <td>NaN</td>\n",
       "      <td>NaN</td>\n",
       "      <td>Anxiety Disorder (Generalized, Social, Phobia,...</td>\n",
       "      <td>NaN</td>\n",
       "      <td>Spoke about my anxiety they were very supporti...</td>\n",
       "    </tr>\n",
       "    <tr>\n",
       "      <th>1</th>\n",
       "      <td>1</td>\n",
       "      <td>0</td>\n",
       "      <td>100-500</td>\n",
       "      <td>1.0</td>\n",
       "      <td>1.0</td>\n",
       "      <td>Yes</td>\n",
       "      <td>Yes</td>\n",
       "      <td>No</td>\n",
       "      <td>No</td>\n",
       "      <td>I don't know</td>\n",
       "      <td>...</td>\n",
       "      <td>male</td>\n",
       "      <td>United Kingdom</td>\n",
       "      <td>NaN</td>\n",
       "      <td>NaN</td>\n",
       "      <td>United Kingdom</td>\n",
       "      <td>NaN</td>\n",
       "      <td>NaN</td>\n",
       "      <td>Mood Disorder (Depression, Bipolar Disorder, etc)</td>\n",
       "      <td>NaN</td>\n",
       "      <td>the coworker was comprehensive, empathetic and...</td>\n",
       "    </tr>\n",
       "    <tr>\n",
       "      <th>2</th>\n",
       "      <td>2</td>\n",
       "      <td>0</td>\n",
       "      <td>6-25</td>\n",
       "      <td>1.0</td>\n",
       "      <td>1.0</td>\n",
       "      <td>I don't know</td>\n",
       "      <td>No</td>\n",
       "      <td>I don't know</td>\n",
       "      <td>No</td>\n",
       "      <td>Yes</td>\n",
       "      <td>...</td>\n",
       "      <td>male</td>\n",
       "      <td>United States of America</td>\n",
       "      <td>Missouri</td>\n",
       "      <td>White</td>\n",
       "      <td>United States of America</td>\n",
       "      <td>Missouri</td>\n",
       "      <td>NaN</td>\n",
       "      <td>NaN</td>\n",
       "      <td>Anxiety Disorder (Generalized, Social, Phobia,...</td>\n",
       "      <td>The conversation went well, he too suffers men...</td>\n",
       "    </tr>\n",
       "    <tr>\n",
       "      <th>3</th>\n",
       "      <td>3</td>\n",
       "      <td>0</td>\n",
       "      <td>More than 1000</td>\n",
       "      <td>1.0</td>\n",
       "      <td>1.0</td>\n",
       "      <td>Yes</td>\n",
       "      <td>Yes</td>\n",
       "      <td>I don't know</td>\n",
       "      <td>I don't know</td>\n",
       "      <td>Yes</td>\n",
       "      <td>...</td>\n",
       "      <td>Male</td>\n",
       "      <td>United States of America</td>\n",
       "      <td>Washington</td>\n",
       "      <td>White</td>\n",
       "      <td>United States of America</td>\n",
       "      <td>Washington</td>\n",
       "      <td>NaN</td>\n",
       "      <td>NaN</td>\n",
       "      <td>Attention Deficit Hyperactivity Disorder</td>\n",
       "      <td>Direct Manager and HR know because of medicati...</td>\n",
       "    </tr>\n",
       "    <tr>\n",
       "      <th>4</th>\n",
       "      <td>4</td>\n",
       "      <td>1</td>\n",
       "      <td>NaN</td>\n",
       "      <td>NaN</td>\n",
       "      <td>NaN</td>\n",
       "      <td>NaN</td>\n",
       "      <td>NaN</td>\n",
       "      <td>NaN</td>\n",
       "      <td>NaN</td>\n",
       "      <td>NaN</td>\n",
       "      <td>...</td>\n",
       "      <td>female</td>\n",
       "      <td>United States of America</td>\n",
       "      <td>Illinois</td>\n",
       "      <td>More than one of the above</td>\n",
       "      <td>United States of America</td>\n",
       "      <td>Illinois</td>\n",
       "      <td>NaN</td>\n",
       "      <td>NaN</td>\n",
       "      <td>NaN</td>\n",
       "      <td>I'm in mental heatlh so I talk about it often....</td>\n",
       "    </tr>\n",
       "  </tbody>\n",
       "</table>\n",
       "<p>5 rows × 71 columns</p>\n",
       "</div>"
      ],
      "text/plain": [
       "   Unnamed: 0  Are you self-employed?  \\\n",
       "0           0                       0   \n",
       "1           1                       0   \n",
       "2           2                       0   \n",
       "3           3                       0   \n",
       "4           4                       1   \n",
       "\n",
       "  How many employees does your company or organization have?  \\\n",
       "0                                            100-500           \n",
       "1                                            100-500           \n",
       "2                                               6-25           \n",
       "3                                     More than 1000           \n",
       "4                                                NaN           \n",
       "\n",
       "   Is your employer primarily a tech company/organization?  \\\n",
       "0                                                1.0         \n",
       "1                                                1.0         \n",
       "2                                                1.0         \n",
       "3                                                1.0         \n",
       "4                                                NaN         \n",
       "\n",
       "   Is your primary role within your company related to tech/IT?  \\\n",
       "0                                                1.0              \n",
       "1                                                1.0              \n",
       "2                                                1.0              \n",
       "3                                                1.0              \n",
       "4                                                NaN              \n",
       "\n",
       "  Does your employer provide mental health benefits as part of healthcare coverage?  \\\n",
       "0                                                 No                                  \n",
       "1                                                Yes                                  \n",
       "2                                       I don't know                                  \n",
       "3                                                Yes                                  \n",
       "4                                                NaN                                  \n",
       "\n",
       "  Do you know the options for mental health care available under your employer-provided health coverage?  \\\n",
       "0                                                Yes                                                       \n",
       "1                                                Yes                                                       \n",
       "2                                                 No                                                       \n",
       "3                                                Yes                                                       \n",
       "4                                                NaN                                                       \n",
       "\n",
       "  Has your employer ever formally discussed mental health (for example, as part of a wellness campaign or other official communication)?  \\\n",
       "0                                                 No                                                                                       \n",
       "1                                                 No                                                                                       \n",
       "2                                       I don't know                                                                                       \n",
       "3                                       I don't know                                                                                       \n",
       "4                                                NaN                                                                                       \n",
       "\n",
       "  Does your employer offer resources to learn more about mental health disorders and options for seeking help?  \\\n",
       "0                                       I don't know                                                             \n",
       "1                                                 No                                                             \n",
       "2                                                 No                                                             \n",
       "3                                       I don't know                                                             \n",
       "4                                                NaN                                                             \n",
       "\n",
       "  Is your anonymity protected if you choose to take advantage of mental health or substance abuse treatment resources provided by your employer?  \\\n",
       "0                                       I don't know                                                                                               \n",
       "1                                       I don't know                                                                                               \n",
       "2                                                Yes                                                                                               \n",
       "3                                                Yes                                                                                               \n",
       "4                                                NaN                                                                                               \n",
       "\n",
       "   ... What is your gender? What country do you live in?  \\\n",
       "0  ...               Female               United Kingdom   \n",
       "1  ...                 male               United Kingdom   \n",
       "2  ...                 male     United States of America   \n",
       "3  ...                 Male     United States of America   \n",
       "4  ...               female     United States of America   \n",
       "\n",
       "  What US state or territory do you live in?          What is your race?  \\\n",
       "0                                        NaN                         NaN   \n",
       "1                                        NaN                         NaN   \n",
       "2                                   Missouri                       White   \n",
       "3                                 Washington                       White   \n",
       "4                                   Illinois  More than one of the above   \n",
       "\n",
       "  What country do you work in?  What US state or territory do you work in?  \\\n",
       "0               United Kingdom                                         NaN   \n",
       "1               United Kingdom                                         NaN   \n",
       "2     United States of America                                    Missouri   \n",
       "3     United States of America                                  Washington   \n",
       "4     United States of America                                    Illinois   \n",
       "\n",
       "   What disorder(s) have you been diagnosed with?  \\\n",
       "0                                             NaN   \n",
       "1                                             NaN   \n",
       "2                                             NaN   \n",
       "3                                             NaN   \n",
       "4                                             NaN   \n",
       "\n",
       "   If possibly, what disorder(s) do you believe you have?  \\\n",
       "0  Anxiety Disorder (Generalized, Social, Phobia,...        \n",
       "1  Mood Disorder (Depression, Bipolar Disorder, etc)        \n",
       "2                                                NaN        \n",
       "3                                                NaN        \n",
       "4                                                NaN        \n",
       "\n",
       "    If so, what disorder(s) were you diagnosed with?  \\\n",
       "0                                                NaN   \n",
       "1                                                NaN   \n",
       "2  Anxiety Disorder (Generalized, Social, Phobia,...   \n",
       "3           Attention Deficit Hyperactivity Disorder   \n",
       "4                                                NaN   \n",
       "\n",
       "                                            comments  \n",
       "0  Spoke about my anxiety they were very supporti...  \n",
       "1  the coworker was comprehensive, empathetic and...  \n",
       "2  The conversation went well, he too suffers men...  \n",
       "3  Direct Manager and HR know because of medicati...  \n",
       "4  I'm in mental heatlh so I talk about it often....  \n",
       "\n",
       "[5 rows x 71 columns]"
      ]
     },
     "execution_count": 3,
     "metadata": {},
     "output_type": "execute_result"
    }
   ],
   "source": [
    "df1.head()"
   ]
  },
  {
   "cell_type": "code",
   "execution_count": 10,
   "metadata": {},
   "outputs": [
    {
     "name": "stdout",
     "output_type": "stream",
     "text": [
      "(756, 72) (417, 72) (352, 72) (180, 72)\n"
     ]
    }
   ],
   "source": [
    "print(df1.shape,df2.shape,df3.shape, df4.shape)"
   ]
  },
  {
   "cell_type": "code",
   "execution_count": 5,
   "metadata": {},
   "outputs": [],
   "source": [
    "#Adding timestamp to the dataframes since we want to include time in our analysis\n",
    "df1.insert(loc=0, column='Timestamp', value='2017')\n",
    "df2.insert(loc=0, column='Timestamp', value='2018')\n",
    "df3.insert(loc=0, column='Timestamp', value='2019')\n",
    "df4.insert(loc=0, column='Timestamp', value='2020')"
   ]
  },
  {
   "cell_type": "code",
   "execution_count": 8,
   "metadata": {},
   "outputs": [],
   "source": [
    "#Combining the datasets\n",
    "df=df1.append(df2,ignore_index=True)\n",
    "df=df.append(df3,ignore_index=True)\n",
    "df=df.append(df4,ignore_index=True)"
   ]
  },
  {
   "cell_type": "code",
   "execution_count": 9,
   "metadata": {},
   "outputs": [
    {
     "data": {
      "text/plain": [
       "(1705, 72)"
      ]
     },
     "execution_count": 9,
     "metadata": {},
     "output_type": "execute_result"
    }
   ],
   "source": [
    "df.shape"
   ]
  },
  {
   "cell_type": "code",
   "execution_count": 11,
   "metadata": {},
   "outputs": [],
   "source": [
    "df = df.loc[:,~df.columns.duplicated()]"
   ]
  },
  {
   "cell_type": "code",
   "execution_count": 12,
   "metadata": {},
   "outputs": [
    {
     "data": {
      "text/plain": [
       "(1705, 72)"
      ]
     },
     "execution_count": 12,
     "metadata": {},
     "output_type": "execute_result"
    }
   ],
   "source": [
    "df.shape"
   ]
  },
  {
   "cell_type": "markdown",
   "metadata": {},
   "source": [
    "## Cleaning the Merged Dataset"
   ]
  },
  {
   "cell_type": "markdown",
   "metadata": {},
   "source": [
    "### Dealing with Null Values"
   ]
  },
  {
   "cell_type": "code",
   "execution_count": 19,
   "metadata": {},
   "outputs": [
    {
     "data": {
      "text/plain": [
       "NaN count\n",
       "0       12\n",
       "2        8\n",
       "19       1\n",
       "23       1\n",
       "242     14\n",
       "244     12\n",
       "246      1\n",
       "249      1\n",
       "250      1\n",
       "253      1\n",
       "354      1\n",
       "363      1\n",
       "394      1\n",
       "617      1\n",
       "628      1\n",
       "653      1\n",
       "992      1\n",
       "1013     1\n",
       "1363     1\n",
       "1463     6\n",
       "1500     1\n",
       "1522     1\n",
       "1598     1\n",
       "1630     1\n",
       "1705     1\n",
       "Name: NaN count, dtype: int64"
      ]
     },
     "execution_count": 19,
     "metadata": {},
     "output_type": "execute_result"
    }
   ],
   "source": [
    "nan_table = pd.DataFrame(df.isna().sum(),columns = [\"NaN count\"])\n",
    "nan_table[\"NaN count\"].groupby(nan_table[\"NaN count\"]).count()"
   ]
  },
  {
   "cell_type": "code",
   "execution_count": null,
   "metadata": {},
   "outputs": [],
   "source": [
    "# fill in some NaN for some columns that have over 50% NaN value to keep those columns\n",
    "for num in [49,-6]:\n",
    "    df.iloc[:,num].fillna(\"Did not answer\",inplace=True)\n",
    "'''\n",
    "# drop columns with over 50% NaN values\n",
    "delete_list = df.isna().sum()[df.isna().sum() > 587]\n",
    "\n",
    "for num in range(len(delete_list)):\n",
    "    df.drop(columns = delete_list.index[num],inplace=True)\n",
    "'''\n",
    "\n",
    "# drop columns with over 25% NaN values that are deemed not essential\n",
    "df.drop(columns=df.columns[-12],inplace=True)\n",
    "\n",
    "# fillna for describing things to improve\n",
    "df.iloc[:,-12].fillna(\"Did not answer\",inplace=True)"
   ]
  },
  {
   "cell_type": "markdown",
   "metadata": {},
   "source": [
    "## Creating the Final CSV File"
   ]
  },
  {
   "cell_type": "code",
   "execution_count": 13,
   "metadata": {},
   "outputs": [],
   "source": [
    "df.to_csv('../datasets/final.csv')"
   ]
  },
  {
   "cell_type": "markdown",
   "metadata": {},
   "source": [
    "1) Live in and work in have to be combined \n",
    "2) coworkers\n",
    "3)"
   ]
  }
 ],
 "metadata": {
  "kernelspec": {
   "display_name": "Python 3",
   "language": "python",
   "name": "python3"
  },
  "language_info": {
   "codemirror_mode": {
    "name": "ipython",
    "version": 3
   },
   "file_extension": ".py",
   "mimetype": "text/x-python",
   "name": "python",
   "nbconvert_exporter": "python",
   "pygments_lexer": "ipython3",
   "version": "3.8.3"
  }
 },
 "nbformat": 4,
 "nbformat_minor": 4
}
