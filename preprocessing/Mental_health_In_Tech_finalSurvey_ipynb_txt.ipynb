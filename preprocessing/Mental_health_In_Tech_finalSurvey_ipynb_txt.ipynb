{
  "nbformat": 4,
  "nbformat_minor": 0,
  "metadata": {
    "colab": {
      "name": "Mental_health_In_Tech - finalSurvey.ipynb.txt",
      "provenance": [],
      "collapsed_sections": []
    },
    "kernelspec": {
      "display_name": "Python 3 (ipykernel)",
      "language": "python",
      "name": "python3"
    },
    "language_info": {
      "codemirror_mode": {
        "name": "ipython",
        "version": 3
      },
      "file_extension": ".py",
      "mimetype": "text/x-python",
      "name": "python",
      "nbconvert_exporter": "python",
      "pygments_lexer": "ipython3",
      "version": "3.8.10"
    }
  },
  "cells": [
    {
      "cell_type": "markdown",
      "metadata": {
        "id": "mzBxt6gDa76a"
      },
      "source": [
        "\n",
        "# OSMI Survey Dataset"
      ]
    },
    {
      "cell_type": "markdown",
      "metadata": {
        "id": "0jMUZlI-6rj2"
      },
      "source": [
        "## 01 Basic Overview of the Dataset"
      ]
    },
    {
      "cell_type": "code",
      "metadata": {
        "id": "dcdCjj6yWZFT"
      },
      "source": [
        "# Importing necessary libraries\n",
        "import numpy as np\n",
        "import pandas as pd\n",
        "import matplotlib.pyplot as plt\n",
        "from matplotlib.pyplot import pie\n",
        "import seaborn as sns\n",
        "import plotly.express as px"
      ],
      "execution_count": 2,
      "outputs": []
    },
    {
      "cell_type": "code",
      "metadata": {
        "id": "uGgd8VUqXE2s",
        "colab": {
          "base_uri": "https://localhost:8080/",
          "height": 834
        },
        "outputId": "543d7e76-41cb-4c5a-be80-84d68d9d17df"
      },
      "source": [
        "# Loading the dataset and overview\n",
        "#datasets/2014_survey.csv\n",
        "df = pd.read_csv(\"final.csv\")\n",
        "df.head()"
      ],
      "execution_count": 33,
      "outputs": [
        {
          "output_type": "execute_result",
          "data": {
            "text/html": [
              "<div>\n",
              "<style scoped>\n",
              "    .dataframe tbody tr th:only-of-type {\n",
              "        vertical-align: middle;\n",
              "    }\n",
              "\n",
              "    .dataframe tbody tr th {\n",
              "        vertical-align: top;\n",
              "    }\n",
              "\n",
              "    .dataframe thead th {\n",
              "        text-align: right;\n",
              "    }\n",
              "</style>\n",
              "<table border=\"1\" class=\"dataframe\">\n",
              "  <thead>\n",
              "    <tr style=\"text-align: right;\">\n",
              "      <th></th>\n",
              "      <th>Unnamed: 0</th>\n",
              "      <th>Timestamp</th>\n",
              "      <th>Unnamed: 0.1</th>\n",
              "      <th>Are you self-employed?</th>\n",
              "      <th>How many employees does your company or organization have?</th>\n",
              "      <th>Is your employer primarily a tech company/organization?</th>\n",
              "      <th>Is your primary role within your company related to tech/IT?</th>\n",
              "      <th>Does your employer provide mental health benefits as part of healthcare coverage?</th>\n",
              "      <th>Do you know the options for mental health care available under your employer-provided health coverage?</th>\n",
              "      <th>Has your employer ever formally discussed mental health (for example, as part of a wellness campaign or other official communication)?</th>\n",
              "      <th>Does your employer offer resources to learn more about mental health disorders and options for seeking help?</th>\n",
              "      <th>Is your anonymity protected if you choose to take advantage of mental health or substance abuse treatment resources provided by your employer?</th>\n",
              "      <th>If a mental health issue prompted you to request a medical leave from work, how easy or difficult would it be to ask for that leave?</th>\n",
              "      <th>Would you feel more comfortable talking to your coworkers about your physical health or your mental health?</th>\n",
              "      <th>Would you feel comfortable discussing a mental health issue with your direct supervisor(s)?</th>\n",
              "      <th>Have you ever discussed your mental health with your employer?</th>\n",
              "      <th>Would you feel comfortable discussing a mental health issue with your coworkers?</th>\n",
              "      <th>Have you ever discussed your mental health with coworkers?</th>\n",
              "      <th>Have you ever had a coworker discuss their or another coworker's mental health with you?</th>\n",
              "      <th>Overall, how much importance does your employer place on physical health?</th>\n",
              "      <th>Overall, how much importance does your employer place on mental health?</th>\n",
              "      <th>Do you have medical coverage (private insurance or state-provided) that includes treatment of mental health disorders?</th>\n",
              "      <th>Do you know local or online resources to seek help for a mental health issue?</th>\n",
              "      <th>If you have been diagnosed or treated for a mental health disorder, do you ever reveal this to clients or business contacts?</th>\n",
              "      <th>If you have revealed a mental health disorder to a client or business contact, how has this affected you or the relationship?</th>\n",
              "      <th>If you have been diagnosed or treated for a mental health disorder, do you ever reveal this to coworkers or employees?</th>\n",
              "      <th>If you have revealed a mental health disorder to a coworker or employee, how has this impacted you or the relationship?</th>\n",
              "      <th>Do you believe your productivity is ever affected by a mental health issue?</th>\n",
              "      <th>If yes, what percentage of your work time (time performing primary or secondary job functions) is affected by a mental health issue?</th>\n",
              "      <th>Do you have previous employers?</th>\n",
              "      <th>Was your employer primarily a tech company/organization?</th>\n",
              "      <th>Have your previous employers provided mental health benefits?</th>\n",
              "      <th>Were you aware of the options for mental health care provided by your previous employers?</th>\n",
              "      <th>Did your previous employers ever formally discuss mental health (as part of a wellness campaign or other official communication)?</th>\n",
              "      <th>Did your previous employers provide resources to learn more about mental health disorders and how to seek help?</th>\n",
              "      <th>Was your anonymity protected if you chose to take advantage of mental health or substance abuse treatment resources with previous employers?</th>\n",
              "      <th>Would you have felt more comfortable talking to your previous employer about your physical health or your mental health?</th>\n",
              "      <th>Would you have been willing to discuss your mental health with your direct supervisor(s)?</th>\n",
              "      <th>Did you ever discuss your mental health with your previous employer?</th>\n",
              "      <th>Would you have been willing to discuss your mental health with your coworkers at previous employers?</th>\n",
              "      <th>Did you ever discuss your mental health with a previous coworker(s)?</th>\n",
              "      <th>Did you ever have a previous coworker discuss their or another coworker's mental health with you?</th>\n",
              "      <th>Overall, how much importance did your previous employer place on physical health?</th>\n",
              "      <th>Overall, how much importance did your previous employer place on mental health?</th>\n",
              "      <th>Do you currently have a mental health disorder?</th>\n",
              "      <th>Have you ever been diagnosed with a mental health disorder?</th>\n",
              "      <th>Have you had a mental health disorder in the past?</th>\n",
              "      <th>Have you ever sought treatment for a mental health disorder from a mental health professional?</th>\n",
              "      <th>Do you have a family history of mental illness?</th>\n",
              "      <th>If you have a mental health disorder, how often do you feel that it interferes with your work when being treated effectively?</th>\n",
              "      <th>If you have a mental health disorder, how often do you feel that it interferes with your work when NOT being treated effectively (i.e., when you are experiencing symptoms)?</th>\n",
              "      <th>Have your observations of how another individual who discussed a mental health issue made you less likely to reveal a mental health issue yourself in your current workplace?</th>\n",
              "      <th>How willing would you be to share with friends and family that you have a mental illness?</th>\n",
              "      <th>Would you be willing to bring up a physical health issue with a potential employer in an interview?</th>\n",
              "      <th>Would you bring up your mental health with a potential employer in an interview?</th>\n",
              "      <th>Are you openly identified at work as a person with a mental health issue?</th>\n",
              "      <th>Has being identified as a person with a mental health issue affected your career?</th>\n",
              "      <th>How has it affected your career?</th>\n",
              "      <th>If they knew you suffered from a mental health disorder, how do you think that your team members/co-workers would react?</th>\n",
              "      <th>Have you observed or experienced an unsupportive or badly handled response to a mental health issue in your current or previous workplace?</th>\n",
              "      <th>Have you observed or experienced a supportive or well handled response to a mental health issue in your current or previous workplace?</th>\n",
              "      <th>Overall, how well do you think the tech industry supports employees with mental health issues?</th>\n",
              "      <th>What is your age?</th>\n",
              "      <th>What is your gender?</th>\n",
              "      <th>What country do you live in?</th>\n",
              "      <th>What US state or territory do you live in?</th>\n",
              "      <th>What is your race?</th>\n",
              "      <th>What country do you work in?</th>\n",
              "      <th>What US state or territory do you work in?</th>\n",
              "      <th>What disorder(s) have you been diagnosed with?</th>\n",
              "      <th>If possibly, what disorder(s) do you believe you have?</th>\n",
              "      <th>If so, what disorder(s) were you diagnosed with?</th>\n",
              "      <th>comments</th>\n",
              "    </tr>\n",
              "  </thead>\n",
              "  <tbody>\n",
              "    <tr>\n",
              "      <th>0</th>\n",
              "      <td>0</td>\n",
              "      <td>2017</td>\n",
              "      <td>0</td>\n",
              "      <td>0</td>\n",
              "      <td>100-500</td>\n",
              "      <td>1.0</td>\n",
              "      <td>1.0</td>\n",
              "      <td>No</td>\n",
              "      <td>Yes</td>\n",
              "      <td>No</td>\n",
              "      <td>I don't know</td>\n",
              "      <td>I don't know</td>\n",
              "      <td>I don't know</td>\n",
              "      <td>Same level of comfort for each</td>\n",
              "      <td>Yes</td>\n",
              "      <td>0.0</td>\n",
              "      <td>Yes</td>\n",
              "      <td>1.0</td>\n",
              "      <td>1.0</td>\n",
              "      <td>6.0</td>\n",
              "      <td>0.0</td>\n",
              "      <td>NaN</td>\n",
              "      <td>NaN</td>\n",
              "      <td>NaN</td>\n",
              "      <td>NaN</td>\n",
              "      <td>NaN</td>\n",
              "      <td>NaN</td>\n",
              "      <td>NaN</td>\n",
              "      <td>NaN</td>\n",
              "      <td>1</td>\n",
              "      <td>0.0</td>\n",
              "      <td>I don't know</td>\n",
              "      <td>N/A (was not aware)</td>\n",
              "      <td>Some did</td>\n",
              "      <td>Some did</td>\n",
              "      <td>Yes, always</td>\n",
              "      <td>Physical health</td>\n",
              "      <td>Yes, all of my previous supervisors</td>\n",
              "      <td>0.0</td>\n",
              "      <td>No, at none of my previous employers</td>\n",
              "      <td>0.0</td>\n",
              "      <td>0.0</td>\n",
              "      <td>3.0</td>\n",
              "      <td>3.0</td>\n",
              "      <td>Possibly</td>\n",
              "      <td>NaN</td>\n",
              "      <td>Possibly</td>\n",
              "      <td>1</td>\n",
              "      <td>No</td>\n",
              "      <td>Sometimes</td>\n",
              "      <td>Sometimes</td>\n",
              "      <td>No</td>\n",
              "      <td>5</td>\n",
              "      <td>Yes</td>\n",
              "      <td>No</td>\n",
              "      <td>0.0</td>\n",
              "      <td>NaN</td>\n",
              "      <td>NaN</td>\n",
              "      <td>10.0</td>\n",
              "      <td>Yes, I experienced</td>\n",
              "      <td>Yes, I experienced</td>\n",
              "      <td>1.0</td>\n",
              "      <td>27.0</td>\n",
              "      <td>Female</td>\n",
              "      <td>United Kingdom</td>\n",
              "      <td>NaN</td>\n",
              "      <td>NaN</td>\n",
              "      <td>United Kingdom</td>\n",
              "      <td>NaN</td>\n",
              "      <td>NaN</td>\n",
              "      <td>Anxiety Disorder (Generalized, Social, Phobia,...</td>\n",
              "      <td>NaN</td>\n",
              "      <td>Spoke about my anxiety they were very supporti...</td>\n",
              "    </tr>\n",
              "    <tr>\n",
              "      <th>1</th>\n",
              "      <td>1</td>\n",
              "      <td>2017</td>\n",
              "      <td>1</td>\n",
              "      <td>0</td>\n",
              "      <td>100-500</td>\n",
              "      <td>1.0</td>\n",
              "      <td>1.0</td>\n",
              "      <td>Yes</td>\n",
              "      <td>Yes</td>\n",
              "      <td>No</td>\n",
              "      <td>No</td>\n",
              "      <td>I don't know</td>\n",
              "      <td>I don't know</td>\n",
              "      <td>Same level of comfort for each</td>\n",
              "      <td>Maybe</td>\n",
              "      <td>0.0</td>\n",
              "      <td>Yes</td>\n",
              "      <td>1.0</td>\n",
              "      <td>1.0</td>\n",
              "      <td>7.0</td>\n",
              "      <td>2.0</td>\n",
              "      <td>NaN</td>\n",
              "      <td>NaN</td>\n",
              "      <td>NaN</td>\n",
              "      <td>NaN</td>\n",
              "      <td>NaN</td>\n",
              "      <td>NaN</td>\n",
              "      <td>NaN</td>\n",
              "      <td>NaN</td>\n",
              "      <td>1</td>\n",
              "      <td>1.0</td>\n",
              "      <td>Some did</td>\n",
              "      <td>I was aware of some</td>\n",
              "      <td>None did</td>\n",
              "      <td>None did</td>\n",
              "      <td>I don't know</td>\n",
              "      <td>Physical health</td>\n",
              "      <td>No, none of my previous supervisors</td>\n",
              "      <td>0.0</td>\n",
              "      <td>At some of my previous employers</td>\n",
              "      <td>1.0</td>\n",
              "      <td>0.0</td>\n",
              "      <td>5.0</td>\n",
              "      <td>2.0</td>\n",
              "      <td>Possibly</td>\n",
              "      <td>NaN</td>\n",
              "      <td>Possibly</td>\n",
              "      <td>0</td>\n",
              "      <td>No</td>\n",
              "      <td>Not applicable to me</td>\n",
              "      <td>Sometimes</td>\n",
              "      <td>No</td>\n",
              "      <td>4</td>\n",
              "      <td>Yes</td>\n",
              "      <td>No</td>\n",
              "      <td>0.0</td>\n",
              "      <td>NaN</td>\n",
              "      <td>NaN</td>\n",
              "      <td>6.0</td>\n",
              "      <td>Yes, I observed</td>\n",
              "      <td>Maybe/Not sure</td>\n",
              "      <td>2.0</td>\n",
              "      <td>31.0</td>\n",
              "      <td>male</td>\n",
              "      <td>United Kingdom</td>\n",
              "      <td>NaN</td>\n",
              "      <td>NaN</td>\n",
              "      <td>United Kingdom</td>\n",
              "      <td>NaN</td>\n",
              "      <td>NaN</td>\n",
              "      <td>Mood Disorder (Depression, Bipolar Disorder, etc)</td>\n",
              "      <td>NaN</td>\n",
              "      <td>the coworker was comprehensive, empathetic and...</td>\n",
              "    </tr>\n",
              "    <tr>\n",
              "      <th>2</th>\n",
              "      <td>2</td>\n",
              "      <td>2017</td>\n",
              "      <td>2</td>\n",
              "      <td>0</td>\n",
              "      <td>6-25</td>\n",
              "      <td>1.0</td>\n",
              "      <td>1.0</td>\n",
              "      <td>I don't know</td>\n",
              "      <td>No</td>\n",
              "      <td>I don't know</td>\n",
              "      <td>No</td>\n",
              "      <td>Yes</td>\n",
              "      <td>Difficult</td>\n",
              "      <td>Same level of comfort for each</td>\n",
              "      <td>Yes</td>\n",
              "      <td>1.0</td>\n",
              "      <td>Maybe</td>\n",
              "      <td>1.0</td>\n",
              "      <td>0.0</td>\n",
              "      <td>0.0</td>\n",
              "      <td>1.0</td>\n",
              "      <td>NaN</td>\n",
              "      <td>NaN</td>\n",
              "      <td>NaN</td>\n",
              "      <td>NaN</td>\n",
              "      <td>NaN</td>\n",
              "      <td>NaN</td>\n",
              "      <td>NaN</td>\n",
              "      <td>NaN</td>\n",
              "      <td>1</td>\n",
              "      <td>1.0</td>\n",
              "      <td>Some did</td>\n",
              "      <td>N/A (was not aware)</td>\n",
              "      <td>None did</td>\n",
              "      <td>None did</td>\n",
              "      <td>I don't know</td>\n",
              "      <td>Physical health</td>\n",
              "      <td>No, none of my previous supervisors</td>\n",
              "      <td>0.0</td>\n",
              "      <td>At some of my previous employers</td>\n",
              "      <td>1.0</td>\n",
              "      <td>0.0</td>\n",
              "      <td>8.0</td>\n",
              "      <td>0.0</td>\n",
              "      <td>Yes</td>\n",
              "      <td>Yes</td>\n",
              "      <td>Yes</td>\n",
              "      <td>1</td>\n",
              "      <td>Yes</td>\n",
              "      <td>Sometimes</td>\n",
              "      <td>Sometimes</td>\n",
              "      <td>Yes</td>\n",
              "      <td>5</td>\n",
              "      <td>Maybe</td>\n",
              "      <td>No</td>\n",
              "      <td>1.0</td>\n",
              "      <td>1.0</td>\n",
              "      <td>3.0</td>\n",
              "      <td>5.0</td>\n",
              "      <td>Yes, I experienced</td>\n",
              "      <td>Yes, I experienced</td>\n",
              "      <td>1.0</td>\n",
              "      <td>36.0</td>\n",
              "      <td>male</td>\n",
              "      <td>United States of America</td>\n",
              "      <td>Missouri</td>\n",
              "      <td>White</td>\n",
              "      <td>United States of America</td>\n",
              "      <td>Missouri</td>\n",
              "      <td>NaN</td>\n",
              "      <td>NaN</td>\n",
              "      <td>Anxiety Disorder (Generalized, Social, Phobia,...</td>\n",
              "      <td>The conversation went well, he too suffers men...</td>\n",
              "    </tr>\n",
              "    <tr>\n",
              "      <th>3</th>\n",
              "      <td>3</td>\n",
              "      <td>2017</td>\n",
              "      <td>3</td>\n",
              "      <td>0</td>\n",
              "      <td>More than 1000</td>\n",
              "      <td>1.0</td>\n",
              "      <td>1.0</td>\n",
              "      <td>Yes</td>\n",
              "      <td>Yes</td>\n",
              "      <td>I don't know</td>\n",
              "      <td>I don't know</td>\n",
              "      <td>Yes</td>\n",
              "      <td>Difficult</td>\n",
              "      <td>Same level of comfort for each</td>\n",
              "      <td>Yes</td>\n",
              "      <td>1.0</td>\n",
              "      <td>Yes</td>\n",
              "      <td>1.0</td>\n",
              "      <td>0.0</td>\n",
              "      <td>7.0</td>\n",
              "      <td>5.0</td>\n",
              "      <td>NaN</td>\n",
              "      <td>NaN</td>\n",
              "      <td>NaN</td>\n",
              "      <td>NaN</td>\n",
              "      <td>NaN</td>\n",
              "      <td>NaN</td>\n",
              "      <td>NaN</td>\n",
              "      <td>NaN</td>\n",
              "      <td>0</td>\n",
              "      <td>NaN</td>\n",
              "      <td>NaN</td>\n",
              "      <td>NaN</td>\n",
              "      <td>NaN</td>\n",
              "      <td>NaN</td>\n",
              "      <td>NaN</td>\n",
              "      <td>NaN</td>\n",
              "      <td>NaN</td>\n",
              "      <td>NaN</td>\n",
              "      <td>NaN</td>\n",
              "      <td>NaN</td>\n",
              "      <td>NaN</td>\n",
              "      <td>NaN</td>\n",
              "      <td>NaN</td>\n",
              "      <td>Yes</td>\n",
              "      <td>Yes</td>\n",
              "      <td>No</td>\n",
              "      <td>1</td>\n",
              "      <td>I don't know</td>\n",
              "      <td>Sometimes</td>\n",
              "      <td>Often</td>\n",
              "      <td>No</td>\n",
              "      <td>10</td>\n",
              "      <td>No</td>\n",
              "      <td>No</td>\n",
              "      <td>0.0</td>\n",
              "      <td>NaN</td>\n",
              "      <td>NaN</td>\n",
              "      <td>5.0</td>\n",
              "      <td>Maybe/Not sure</td>\n",
              "      <td>Maybe/Not sure</td>\n",
              "      <td>2.0</td>\n",
              "      <td>22.0</td>\n",
              "      <td>Male</td>\n",
              "      <td>United States of America</td>\n",
              "      <td>Washington</td>\n",
              "      <td>White</td>\n",
              "      <td>United States of America</td>\n",
              "      <td>Washington</td>\n",
              "      <td>NaN</td>\n",
              "      <td>NaN</td>\n",
              "      <td>Attention Deficit Hyperactivity Disorder</td>\n",
              "      <td>Direct Manager and HR know because of medicati...</td>\n",
              "    </tr>\n",
              "    <tr>\n",
              "      <th>4</th>\n",
              "      <td>4</td>\n",
              "      <td>2017</td>\n",
              "      <td>4</td>\n",
              "      <td>1</td>\n",
              "      <td>NaN</td>\n",
              "      <td>NaN</td>\n",
              "      <td>NaN</td>\n",
              "      <td>NaN</td>\n",
              "      <td>NaN</td>\n",
              "      <td>NaN</td>\n",
              "      <td>NaN</td>\n",
              "      <td>NaN</td>\n",
              "      <td>NaN</td>\n",
              "      <td>NaN</td>\n",
              "      <td>NaN</td>\n",
              "      <td>NaN</td>\n",
              "      <td>NaN</td>\n",
              "      <td>NaN</td>\n",
              "      <td>NaN</td>\n",
              "      <td>NaN</td>\n",
              "      <td>NaN</td>\n",
              "      <td>0.0</td>\n",
              "      <td>Yes, I know several</td>\n",
              "      <td>Sometimes, if it comes up</td>\n",
              "      <td>No change</td>\n",
              "      <td>No, because it doesn't matter</td>\n",
              "      <td>No change</td>\n",
              "      <td>Yes</td>\n",
              "      <td>1-25%</td>\n",
              "      <td>1</td>\n",
              "      <td>0.0</td>\n",
              "      <td>No, none did</td>\n",
              "      <td>N/A (none offered)</td>\n",
              "      <td>None did</td>\n",
              "      <td>None did</td>\n",
              "      <td>Yes, always</td>\n",
              "      <td>Same level of comfort for each</td>\n",
              "      <td>No, none of my previous supervisors</td>\n",
              "      <td>0.0</td>\n",
              "      <td>No, at none of my previous employers</td>\n",
              "      <td>1.0</td>\n",
              "      <td>1.0</td>\n",
              "      <td>8.0</td>\n",
              "      <td>8.0</td>\n",
              "      <td>No</td>\n",
              "      <td>NaN</td>\n",
              "      <td>Yes</td>\n",
              "      <td>1</td>\n",
              "      <td>Yes</td>\n",
              "      <td>Often</td>\n",
              "      <td>Sometimes</td>\n",
              "      <td>No</td>\n",
              "      <td>10</td>\n",
              "      <td>Maybe</td>\n",
              "      <td>No</td>\n",
              "      <td>0.0</td>\n",
              "      <td>NaN</td>\n",
              "      <td>NaN</td>\n",
              "      <td>4.0</td>\n",
              "      <td>No</td>\n",
              "      <td>Yes, I observed</td>\n",
              "      <td>1.0</td>\n",
              "      <td>52.0</td>\n",
              "      <td>female</td>\n",
              "      <td>United States of America</td>\n",
              "      <td>Illinois</td>\n",
              "      <td>More than one of the above</td>\n",
              "      <td>United States of America</td>\n",
              "      <td>Illinois</td>\n",
              "      <td>NaN</td>\n",
              "      <td>NaN</td>\n",
              "      <td>NaN</td>\n",
              "      <td>I'm in mental heatlh so I talk about it often....</td>\n",
              "    </tr>\n",
              "  </tbody>\n",
              "</table>\n",
              "</div>"
            ],
            "text/plain": [
              "   Unnamed: 0  ...                                           comments\n",
              "0           0  ...  Spoke about my anxiety they were very supporti...\n",
              "1           1  ...  the coworker was comprehensive, empathetic and...\n",
              "2           2  ...  The conversation went well, he too suffers men...\n",
              "3           3  ...  Direct Manager and HR know because of medicati...\n",
              "4           4  ...  I'm in mental heatlh so I talk about it often....\n",
              "\n",
              "[5 rows x 73 columns]"
            ]
          },
          "metadata": {},
          "execution_count": 33
        }
      ]
    },
    {
      "cell_type": "code",
      "metadata": {
        "colab": {
          "base_uri": "https://localhost:8080/"
        },
        "id": "ogqzj-grXhlk",
        "outputId": "e0ccf165-fcf2-4d23-ea3c-b48ef4c4b862"
      },
      "source": [
        "# Attribute names\n",
        "df.columns"
      ],
      "execution_count": 4,
      "outputs": [
        {
          "output_type": "execute_result",
          "data": {
            "text/plain": [
              "Index(['Unnamed: 0', 'Timestamp', 'Unnamed: 0.1', 'Are you self-employed?',\n",
              "       'How many employees does your company or organization have?',\n",
              "       'Is your employer primarily a tech company/organization?',\n",
              "       'Is your primary role within your company related to tech/IT?',\n",
              "       'Does your employer provide mental health benefits as part of healthcare coverage?',\n",
              "       'Do you know the options for mental health care available under your employer-provided health coverage?',\n",
              "       'Has your employer ever formally discussed mental health (for example, as part of a wellness campaign or other official communication)?',\n",
              "       'Does your employer offer resources to learn more about mental health disorders and options for seeking help?',\n",
              "       'Is your anonymity protected if you choose to take advantage of mental health or substance abuse treatment resources provided by your employer?',\n",
              "       'If a mental health issue prompted you to request a medical leave from work, how easy or difficult would it be to ask for that leave?',\n",
              "       'Would you feel more comfortable talking to your coworkers about your physical health or your mental health?',\n",
              "       'Would you feel comfortable discussing a mental health issue with your direct supervisor(s)?',\n",
              "       'Have you ever discussed your mental health with your employer?',\n",
              "       'Would you feel comfortable discussing a mental health issue with your coworkers?',\n",
              "       'Have you ever discussed your mental health with coworkers?',\n",
              "       'Have you ever had a coworker discuss their or another coworker's mental health with you?',\n",
              "       'Overall, how much importance does your employer place on physical health?',\n",
              "       'Overall, how much importance does your employer place on mental health?',\n",
              "       'Do you have medical coverage (private insurance or state-provided) that includes treatment of mental health disorders?',\n",
              "       'Do you know local or online resources to seek help for a mental health issue?',\n",
              "       'If you have been diagnosed or treated for a mental health disorder, do you ever reveal this to clients or business contacts?',\n",
              "       'If you have revealed a mental health disorder to a client or business contact, how has this affected you or the relationship?',\n",
              "       'If you have been diagnosed or treated for a mental health disorder, do you ever reveal this to coworkers or employees?',\n",
              "       'If you have revealed a mental health disorder to a coworker or employee, how has this impacted you or the relationship?',\n",
              "       'Do you believe your productivity is ever affected by a mental health issue?',\n",
              "       'If yes, what percentage of your work time (time performing primary or secondary job functions) is affected by a mental health issue?',\n",
              "       'Do you have previous employers?',\n",
              "       'Was your employer primarily a tech company/organization?',\n",
              "       'Have your previous employers provided mental health benefits?',\n",
              "       'Were you aware of the options for mental health care provided by your previous employers?',\n",
              "       'Did your previous employers ever formally discuss mental health (as part of a wellness campaign or other official communication)?',\n",
              "       'Did your previous employers provide resources to learn more about mental health disorders and how to seek help?',\n",
              "       'Was your anonymity protected if you chose to take advantage of mental health or substance abuse treatment resources with previous employers?',\n",
              "       'Would you have felt more comfortable talking to your previous employer about your physical health or your mental health?',\n",
              "       'Would you have been willing to discuss your mental health with your direct supervisor(s)?',\n",
              "       'Did you ever discuss your mental health with your previous employer?',\n",
              "       'Would you have been willing to discuss your mental health with your coworkers at previous employers?',\n",
              "       'Did you ever discuss your mental health with a previous coworker(s)?',\n",
              "       'Did you ever have a previous coworker discuss their or another coworker's mental health with you?',\n",
              "       'Overall, how much importance did your previous employer place on physical health?',\n",
              "       'Overall, how much importance did your previous employer place on mental health?',\n",
              "       'Do you currently have a mental health disorder?',\n",
              "       'Have you ever been diagnosed with a mental health disorder?',\n",
              "       'Have you had a mental health disorder in the past?',\n",
              "       'Have you ever sought treatment for a mental health disorder from a mental health professional?',\n",
              "       'Do you have a family history of mental illness?',\n",
              "       'If you have a mental health disorder, how often do you feel that it interferes with your work when being treated effectively?',\n",
              "       'If you have a mental health disorder, how often do you feel that it interferes with your work when NOT being treated effectively (i.e., when you are experiencing symptoms)?',\n",
              "       'Have your observations of how another individual who discussed a mental health issue made you less likely to reveal a mental health issue yourself in your current workplace?',\n",
              "       'How willing would you be to share with friends and family that you have a mental illness?',\n",
              "       'Would you be willing to bring up a physical health issue with a potential employer in an interview?',\n",
              "       'Would you bring up your mental health with a potential employer in an interview?',\n",
              "       'Are you openly identified at work as a person with a mental health issue?',\n",
              "       'Has being identified as a person with a mental health issue affected your career?',\n",
              "       'How has it affected your career?',\n",
              "       'If they knew you suffered from a mental health disorder, how do you think that your team members/co-workers would react?',\n",
              "       'Have you observed or experienced an unsupportive or badly handled response to a mental health issue in your current or previous workplace?',\n",
              "       'Have you observed or experienced a supportive or well handled response to a mental health issue in your current or previous workplace?',\n",
              "       'Overall, how well do you think the tech industry supports employees with mental health issues?',\n",
              "       'What is your age?', 'What is your gender?',\n",
              "       'What country do you live in?',\n",
              "       'What US state or territory do you live in?', 'What is your race?',\n",
              "       'What country do you work in?',\n",
              "       'What US state or territory do you work in?',\n",
              "       'What disorder(s) have you been diagnosed with?',\n",
              "       'If possibly, what disorder(s) do you believe you have?',\n",
              "       'If so, what disorder(s) were you diagnosed with?', 'comments'],\n",
              "      dtype='object')"
            ]
          },
          "metadata": {},
          "execution_count": 4
        }
      ]
    },
    {
      "cell_type": "markdown",
      "metadata": {
        "id": "2VVgwFQwUVh7"
      },
      "source": [
        "**Understanding the attributes**\n",
        "\n"
      ]
    },
    {
      "cell_type": "code",
      "metadata": {
        "colab": {
          "base_uri": "https://localhost:8080/",
          "height": 491
        },
        "id": "h4wLwd0VUaXC",
        "outputId": "e0b8cc47-376c-4f74-a49a-09910ee47ffa"
      },
      "source": [
        "# Basic properties of the dataset\n",
        "print(\"Shape:\", df.shape)\n",
        "df.describe()"
      ],
      "execution_count": 5,
      "outputs": [
        {
          "output_type": "stream",
          "name": "stdout",
          "text": [
            "Shape: (1705, 73)\n"
          ]
        },
        {
          "output_type": "execute_result",
          "data": {
            "text/html": [
              "<div>\n",
              "<style scoped>\n",
              "    .dataframe tbody tr th:only-of-type {\n",
              "        vertical-align: middle;\n",
              "    }\n",
              "\n",
              "    .dataframe tbody tr th {\n",
              "        vertical-align: top;\n",
              "    }\n",
              "\n",
              "    .dataframe thead th {\n",
              "        text-align: right;\n",
              "    }\n",
              "</style>\n",
              "<table border=\"1\" class=\"dataframe\">\n",
              "  <thead>\n",
              "    <tr style=\"text-align: right;\">\n",
              "      <th></th>\n",
              "      <th>Unnamed: 0</th>\n",
              "      <th>Timestamp</th>\n",
              "      <th>Unnamed: 0.1</th>\n",
              "      <th>Are you self-employed?</th>\n",
              "      <th>Overall, how much importance does your employer place on physical health?</th>\n",
              "      <th>Overall, how much importance does your employer place on mental health?</th>\n",
              "      <th>Do you have previous employers?</th>\n",
              "      <th>Overall, how much importance did your previous employer place on physical health?</th>\n",
              "      <th>Overall, how much importance did your previous employer place on mental health?</th>\n",
              "      <th>Have you ever sought treatment for a mental health disorder from a mental health professional?</th>\n",
              "      <th>How willing would you be to share with friends and family that you have a mental illness?</th>\n",
              "      <th>Are you openly identified at work as a person with a mental health issue?</th>\n",
              "      <th>How has it affected your career?</th>\n",
              "      <th>If they knew you suffered from a mental health disorder, how do you think that your team members/co-workers would react?</th>\n",
              "      <th>Overall, how well do you think the tech industry supports employees with mental health issues?</th>\n",
              "      <th>What is your age?</th>\n",
              "      <th>What disorder(s) have you been diagnosed with?</th>\n",
              "    </tr>\n",
              "  </thead>\n",
              "  <tbody>\n",
              "    <tr>\n",
              "      <th>count</th>\n",
              "      <td>1705.000000</td>\n",
              "      <td>1705.000000</td>\n",
              "      <td>1705.000000</td>\n",
              "      <td>1705.000000</td>\n",
              "      <td>1463.000000</td>\n",
              "      <td>1463.000000</td>\n",
              "      <td>1705.000000</td>\n",
              "      <td>1461.000000</td>\n",
              "      <td>1461.000000</td>\n",
              "      <td>1705.000000</td>\n",
              "      <td>1705.000000</td>\n",
              "      <td>1703.000000</td>\n",
              "      <td>75.000000</td>\n",
              "      <td>1703.000000</td>\n",
              "      <td>1703.000000</td>\n",
              "      <td>1703.000000</td>\n",
              "      <td>0.0</td>\n",
              "    </tr>\n",
              "    <tr>\n",
              "      <th>mean</th>\n",
              "      <td>852.000000</td>\n",
              "      <td>2017.974194</td>\n",
              "      <td>263.936657</td>\n",
              "      <td>0.141935</td>\n",
              "      <td>6.295284</td>\n",
              "      <td>5.002734</td>\n",
              "      <td>0.856891</td>\n",
              "      <td>5.409309</td>\n",
              "      <td>3.490760</td>\n",
              "      <td>0.597067</td>\n",
              "      <td>6.427566</td>\n",
              "      <td>0.122725</td>\n",
              "      <td>3.826667</td>\n",
              "      <td>5.282443</td>\n",
              "      <td>2.564885</td>\n",
              "      <td>34.960070</td>\n",
              "      <td>NaN</td>\n",
              "    </tr>\n",
              "    <tr>\n",
              "      <th>std</th>\n",
              "      <td>492.335421</td>\n",
              "      <td>1.035424</td>\n",
              "      <td>195.990426</td>\n",
              "      <td>0.349086</td>\n",
              "      <td>2.265611</td>\n",
              "      <td>2.489099</td>\n",
              "      <td>0.350286</td>\n",
              "      <td>2.579322</td>\n",
              "      <td>2.507677</td>\n",
              "      <td>0.490631</td>\n",
              "      <td>2.727587</td>\n",
              "      <td>0.328217</td>\n",
              "      <td>2.440499</td>\n",
              "      <td>2.252971</td>\n",
              "      <td>0.944581</td>\n",
              "      <td>8.606603</td>\n",
              "      <td>NaN</td>\n",
              "    </tr>\n",
              "    <tr>\n",
              "      <th>min</th>\n",
              "      <td>0.000000</td>\n",
              "      <td>2017.000000</td>\n",
              "      <td>0.000000</td>\n",
              "      <td>0.000000</td>\n",
              "      <td>0.000000</td>\n",
              "      <td>0.000000</td>\n",
              "      <td>0.000000</td>\n",
              "      <td>0.000000</td>\n",
              "      <td>0.000000</td>\n",
              "      <td>0.000000</td>\n",
              "      <td>0.000000</td>\n",
              "      <td>0.000000</td>\n",
              "      <td>0.000000</td>\n",
              "      <td>0.000000</td>\n",
              "      <td>1.000000</td>\n",
              "      <td>0.000000</td>\n",
              "      <td>NaN</td>\n",
              "    </tr>\n",
              "    <tr>\n",
              "      <th>25%</th>\n",
              "      <td>426.000000</td>\n",
              "      <td>2017.000000</td>\n",
              "      <td>106.000000</td>\n",
              "      <td>0.000000</td>\n",
              "      <td>5.000000</td>\n",
              "      <td>3.000000</td>\n",
              "      <td>1.000000</td>\n",
              "      <td>4.000000</td>\n",
              "      <td>1.000000</td>\n",
              "      <td>0.000000</td>\n",
              "      <td>5.000000</td>\n",
              "      <td>0.000000</td>\n",
              "      <td>2.000000</td>\n",
              "      <td>4.000000</td>\n",
              "      <td>2.000000</td>\n",
              "      <td>29.000000</td>\n",
              "      <td>NaN</td>\n",
              "    </tr>\n",
              "    <tr>\n",
              "      <th>50%</th>\n",
              "      <td>852.000000</td>\n",
              "      <td>2018.000000</td>\n",
              "      <td>224.000000</td>\n",
              "      <td>0.000000</td>\n",
              "      <td>7.000000</td>\n",
              "      <td>5.000000</td>\n",
              "      <td>1.000000</td>\n",
              "      <td>5.000000</td>\n",
              "      <td>3.000000</td>\n",
              "      <td>1.000000</td>\n",
              "      <td>7.000000</td>\n",
              "      <td>0.000000</td>\n",
              "      <td>3.000000</td>\n",
              "      <td>5.000000</td>\n",
              "      <td>3.000000</td>\n",
              "      <td>34.000000</td>\n",
              "      <td>NaN</td>\n",
              "    </tr>\n",
              "    <tr>\n",
              "      <th>75%</th>\n",
              "      <td>1278.000000</td>\n",
              "      <td>2019.000000</td>\n",
              "      <td>373.000000</td>\n",
              "      <td>0.000000</td>\n",
              "      <td>8.000000</td>\n",
              "      <td>7.000000</td>\n",
              "      <td>1.000000</td>\n",
              "      <td>7.000000</td>\n",
              "      <td>5.000000</td>\n",
              "      <td>1.000000</td>\n",
              "      <td>9.000000</td>\n",
              "      <td>0.000000</td>\n",
              "      <td>5.500000</td>\n",
              "      <td>7.000000</td>\n",
              "      <td>3.000000</td>\n",
              "      <td>40.000000</td>\n",
              "      <td>NaN</td>\n",
              "    </tr>\n",
              "    <tr>\n",
              "      <th>max</th>\n",
              "      <td>1704.000000</td>\n",
              "      <td>2020.000000</td>\n",
              "      <td>755.000000</td>\n",
              "      <td>1.000000</td>\n",
              "      <td>10.000000</td>\n",
              "      <td>10.000000</td>\n",
              "      <td>1.000000</td>\n",
              "      <td>10.000000</td>\n",
              "      <td>10.000000</td>\n",
              "      <td>1.000000</td>\n",
              "      <td>10.000000</td>\n",
              "      <td>1.000000</td>\n",
              "      <td>10.000000</td>\n",
              "      <td>10.000000</td>\n",
              "      <td>5.000000</td>\n",
              "      <td>67.000000</td>\n",
              "      <td>NaN</td>\n",
              "    </tr>\n",
              "  </tbody>\n",
              "</table>\n",
              "</div>"
            ],
            "text/plain": [
              "        Unnamed: 0  ...  What disorder(s) have you been diagnosed with?\n",
              "count  1705.000000  ...                                             0.0\n",
              "mean    852.000000  ...                                             NaN\n",
              "std     492.335421  ...                                             NaN\n",
              "min       0.000000  ...                                             NaN\n",
              "25%     426.000000  ...                                             NaN\n",
              "50%     852.000000  ...                                             NaN\n",
              "75%    1278.000000  ...                                             NaN\n",
              "max    1704.000000  ...                                             NaN\n",
              "\n",
              "[8 rows x 17 columns]"
            ]
          },
          "metadata": {},
          "execution_count": 5
        }
      ]
    },
    {
      "cell_type": "code",
      "metadata": {
        "colab": {
          "base_uri": "https://localhost:8080/"
        },
        "id": "0JaMpS3mXE9-",
        "outputId": "82bea112-1c11-480a-c81b-9d2f776d1962"
      },
      "source": [
        "# View the properties of the attributes \n",
        "df.info()"
      ],
      "execution_count": 6,
      "outputs": [
        {
          "output_type": "stream",
          "name": "stdout",
          "text": [
            "<class 'pandas.core.frame.DataFrame'>\n",
            "RangeIndex: 1705 entries, 0 to 1704\n",
            "Data columns (total 73 columns):\n",
            " #   Column                                                                                                                                                                         Non-Null Count  Dtype  \n",
            "---  ------                                                                                                                                                                         --------------  -----  \n",
            " 0   Unnamed: 0                                                                                                                                                                     1705 non-null   int64  \n",
            " 1   Timestamp                                                                                                                                                                      1705 non-null   int64  \n",
            " 2   Unnamed: 0.1                                                                                                                                                                   1705 non-null   int64  \n",
            " 3   Are you self-employed?                                                                                                                                                         1705 non-null   int64  \n",
            " 4   How many employees does your company or organization have?                                                                                                                     1463 non-null   object \n",
            " 5   Is your employer primarily a tech company/organization?                                                                                                                        1463 non-null   object \n",
            " 6   Is your primary role within your company related to tech/IT?                                                                                                                   1463 non-null   object \n",
            " 7   Does your employer provide mental health benefits as part of healthcare coverage?                                                                                              1463 non-null   object \n",
            " 8   Do you know the options for mental health care available under your employer-provided health coverage?                                                                         1311 non-null   object \n",
            " 9   Has your employer ever formally discussed mental health (for example, as part of a wellness campaign or other official communication)?                                         1463 non-null   object \n",
            " 10  Does your employer offer resources to learn more about mental health disorders and options for seeking help?                                                                   1463 non-null   object \n",
            " 11  Is your anonymity protected if you choose to take advantage of mental health or substance abuse treatment resources provided by your employer?                                 1463 non-null   object \n",
            " 12  If a mental health issue prompted you to request a medical leave from work, how easy or difficult would it be to ask for that leave?                                           1463 non-null   object \n",
            " 13  Would you feel more comfortable talking to your coworkers about your physical health or your mental health?                                                                    1463 non-null   object \n",
            " 14  Would you feel comfortable discussing a mental health issue with your direct supervisor(s)?                                                                                    1463 non-null   object \n",
            " 15  Have you ever discussed your mental health with your employer?                                                                                                                 1463 non-null   object \n",
            " 16  Would you feel comfortable discussing a mental health issue with your coworkers?                                                                                               1463 non-null   object \n",
            " 17  Have you ever discussed your mental health with coworkers?                                                                                                                     1459 non-null   object \n",
            " 18  Have you ever had a coworker discuss their or another coworker's mental health with you?                                                                                       1456 non-null   object \n",
            " 19  Overall, how much importance does your employer place on physical health?                                                                                                      1463 non-null   float64\n",
            " 20  Overall, how much importance does your employer place on mental health?                                                                                                        1463 non-null   float64\n",
            " 21  Do you have medical coverage (private insurance or state-provided) that includes treatment of mental health disorders?                                                         242 non-null    object \n",
            " 22  Do you know local or online resources to seek help for a mental health issue?                                                                                                  242 non-null    object \n",
            " 23  If you have been diagnosed or treated for a mental health disorder, do you ever reveal this to clients or business contacts?                                                   242 non-null    object \n",
            " 24  If you have revealed a mental health disorder to a client or business contact, how has this affected you or the relationship?                                                  107 non-null    object \n",
            " 25  If you have been diagnosed or treated for a mental health disorder, do you ever reveal this to coworkers or employees?                                                         242 non-null    object \n",
            " 26  If you have revealed a mental health disorder to a coworker or employee, how has this impacted you or the relationship?                                                        242 non-null    object \n",
            " 27  Do you believe your productivity is ever affected by a mental health issue?                                                                                                    242 non-null    object \n",
            " 28  If yes, what percentage of your work time (time performing primary or secondary job functions) is affected by a mental health issue?                                           183 non-null    object \n",
            " 29  Do you have previous employers?                                                                                                                                                1705 non-null   int64  \n",
            " 30  Was your employer primarily a tech company/organization?                                                                                                                       1461 non-null   object \n",
            " 31  Have your previous employers provided mental health benefits?                                                                                                                  1461 non-null   object \n",
            " 32  Were you aware of the options for mental health care provided by your previous employers?                                                                                      1461 non-null   object \n",
            " 33  Did your previous employers ever formally discuss mental health (as part of a wellness campaign or other official communication)?                                              1461 non-null   object \n",
            " 34  Did your previous employers provide resources to learn more about mental health disorders and how to seek help?                                                                1461 non-null   object \n",
            " 35  Was your anonymity protected if you chose to take advantage of mental health or substance abuse treatment resources with previous employers?                                   1461 non-null   object \n",
            " 36  Would you have felt more comfortable talking to your previous employer about your physical health or your mental health?                                                       1461 non-null   object \n",
            " 37  Would you have been willing to discuss your mental health with your direct supervisor(s)?                                                                                      1461 non-null   object \n",
            " 38  Did you ever discuss your mental health with your previous employer?                                                                                                           1461 non-null   object \n",
            " 39  Would you have been willing to discuss your mental health with your coworkers at previous employers?                                                                           1461 non-null   object \n",
            " 40  Did you ever discuss your mental health with a previous coworker(s)?                                                                                                           1455 non-null   object \n",
            " 41  Did you ever have a previous coworker discuss their or another coworker's mental health with you?                                                                              1452 non-null   object \n",
            " 42  Overall, how much importance did your previous employer place on physical health?                                                                                              1461 non-null   float64\n",
            " 43  Overall, how much importance did your previous employer place on mental health?                                                                                                1461 non-null   float64\n",
            " 44  Do you currently have a mental health disorder?                                                                                                                                1705 non-null   object \n",
            " 45  Have you ever been diagnosed with a mental health disorder?                                                                                                                    713 non-null    object \n",
            " 46  Have you had a mental health disorder in the past?                                                                                                                             1686 non-null   object \n",
            " 47  Have you ever sought treatment for a mental health disorder from a mental health professional?                                                                                 1705 non-null   int64  \n",
            " 48  Do you have a family history of mental illness?                                                                                                                                1705 non-null   object \n",
            " 49  If you have a mental health disorder, how often do you feel that it interferes with your work when being treated effectively?                                                  1705 non-null   object \n",
            " 50  If you have a mental health disorder, how often do you feel that it interferes with your work when NOT being treated effectively (i.e., when you are experiencing symptoms)?   1705 non-null   object \n",
            " 51  Have your observations of how another individual who discussed a mental health issue made you less likely to reveal a mental health issue yourself in your current workplace?  1342 non-null   object \n",
            " 52  How willing would you be to share with friends and family that you have a mental illness?                                                                                      1705 non-null   int64  \n",
            " 53  Would you be willing to bring up a physical health issue with a potential employer in an interview?                                                                            1705 non-null   object \n",
            " 54  Would you bring up your mental health with a potential employer in an interview?                                                                                               1705 non-null   object \n",
            " 55  Are you openly identified at work as a person with a mental health issue?                                                                                                      1703 non-null   float64\n",
            " 56  Has being identified as a person with a mental health issue affected your career?                                                                                              205 non-null    object \n",
            " 57  How has it affected your career?                                                                                                                                               75 non-null     float64\n",
            " 58  If they knew you suffered from a mental health disorder, how do you think that your team members/co-workers would react?                                                       1703 non-null   float64\n",
            " 59  Have you observed or experienced an unsupportive or badly handled response to a mental health issue in your current or previous workplace?                                     1703 non-null   object \n",
            " 60  Have you observed or experienced a supportive or well handled response to a mental health issue in your current or previous workplace?                                         1703 non-null   object \n",
            " 61  Overall, how well do you think the tech industry supports employees with mental health issues?                                                                                 1703 non-null   float64\n",
            " 62  What is your age?                                                                                                                                                              1703 non-null   float64\n",
            " 63  What is your gender?                                                                                                                                                           1682 non-null   object \n",
            " 64  What country do you live in?                                                                                                                                                   1703 non-null   object \n",
            " 65  What US state or territory do you live in?                                                                                                                                     1077 non-null   object \n",
            " 66  What is your race?                                                                                                                                                             1052 non-null   object \n",
            " 67  What country do you work in?                                                                                                                                                   1703 non-null   object \n",
            " 68  What US state or territory do you work in?                                                                                                                                     1088 non-null   object \n",
            " 69  What disorder(s) have you been diagnosed with?                                                                                                                                 0 non-null      float64\n",
            " 70  If possibly, what disorder(s) do you believe you have?                                                                                                                         342 non-null    object \n",
            " 71  If so, what disorder(s) were you diagnosed with?                                                                                                                               692 non-null    object \n",
            " 72  comments                                                                                                                                                                       1351 non-null   object \n",
            "dtypes: float64(10), int64(7), object(56)\n",
            "memory usage: 972.5+ KB\n"
          ]
        }
      ]
    },
    {
      "cell_type": "code",
      "metadata": {
        "colab": {
          "base_uri": "https://localhost:8080/"
        },
        "id": "oAQ7iAwCxGDa",
        "scrolled": true,
        "outputId": "8d98b494-4ba5-43b7-e87e-e479d8ade73b"
      },
      "source": [
        "# Print all the columns with null values\n",
        "print(\"Columns with null values:\")\n",
        "for col, i in zip(df.columns, df.isnull().sum()):\n",
        "    if i != 0:\n",
        "        print(col, ':', i)"
      ],
      "execution_count": 7,
      "outputs": [
        {
          "output_type": "stream",
          "name": "stdout",
          "text": [
            "Columns with null values:\n",
            "How many employees does your company or organization have? : 242\n",
            "Is your employer primarily a tech company/organization? : 242\n",
            "Is your primary role within your company related to tech/IT? : 242\n",
            "Does your employer provide mental health benefits as part of healthcare coverage? : 242\n",
            "Do you know the options for mental health care available under your employer-provided health coverage? : 394\n",
            "Has your employer ever formally discussed mental health (for example, as part of a wellness campaign or other official communication)? : 242\n",
            "Does your employer offer resources to learn more about mental health disorders and options for seeking help? : 242\n",
            "Is your anonymity protected if you choose to take advantage of mental health or substance abuse treatment resources provided by your employer? : 242\n",
            "If a mental health issue prompted you to request a medical leave from work, how easy or difficult would it be to ask for that leave? : 242\n",
            "Would you feel more comfortable talking to your coworkers about your physical health or your mental health? : 242\n",
            "Would you feel comfortable discussing a mental health issue with your direct supervisor(s)? : 242\n",
            "Have you ever discussed your mental health with your employer? : 242\n",
            "Would you feel comfortable discussing a mental health issue with your coworkers? : 242\n",
            "Have you ever discussed your mental health with coworkers? : 246\n",
            "Have you ever had a coworker discuss their or another coworker's mental health with you? : 249\n",
            "Overall, how much importance does your employer place on physical health? : 242\n",
            "Overall, how much importance does your employer place on mental health? : 242\n",
            "Do you have medical coverage (private insurance or state-provided) that includes treatment of mental health disorders? : 1463\n",
            "Do you know local or online resources to seek help for a mental health issue? : 1463\n",
            "If you have been diagnosed or treated for a mental health disorder, do you ever reveal this to clients or business contacts? : 1463\n",
            "If you have revealed a mental health disorder to a client or business contact, how has this affected you or the relationship? : 1598\n",
            "If you have been diagnosed or treated for a mental health disorder, do you ever reveal this to coworkers or employees? : 1463\n",
            "If you have revealed a mental health disorder to a coworker or employee, how has this impacted you or the relationship? : 1463\n",
            "Do you believe your productivity is ever affected by a mental health issue? : 1463\n",
            "If yes, what percentage of your work time (time performing primary or secondary job functions) is affected by a mental health issue? : 1522\n",
            "Was your employer primarily a tech company/organization? : 244\n",
            "Have your previous employers provided mental health benefits? : 244\n",
            "Were you aware of the options for mental health care provided by your previous employers? : 244\n",
            "Did your previous employers ever formally discuss mental health (as part of a wellness campaign or other official communication)? : 244\n",
            "Did your previous employers provide resources to learn more about mental health disorders and how to seek help? : 244\n",
            "Was your anonymity protected if you chose to take advantage of mental health or substance abuse treatment resources with previous employers? : 244\n",
            "Would you have felt more comfortable talking to your previous employer about your physical health or your mental health? : 244\n",
            "Would you have been willing to discuss your mental health with your direct supervisor(s)? : 244\n",
            "Did you ever discuss your mental health with your previous employer? : 244\n",
            "Would you have been willing to discuss your mental health with your coworkers at previous employers? : 244\n",
            "Did you ever discuss your mental health with a previous coworker(s)? : 250\n",
            "Did you ever have a previous coworker discuss their or another coworker's mental health with you? : 253\n",
            "Overall, how much importance did your previous employer place on physical health? : 244\n",
            "Overall, how much importance did your previous employer place on mental health? : 244\n",
            "Have you ever been diagnosed with a mental health disorder? : 992\n",
            "Have you had a mental health disorder in the past? : 19\n",
            "Have your observations of how another individual who discussed a mental health issue made you less likely to reveal a mental health issue yourself in your current workplace? : 363\n",
            "Are you openly identified at work as a person with a mental health issue? : 2\n",
            "Has being identified as a person with a mental health issue affected your career? : 1500\n",
            "How has it affected your career? : 1630\n",
            "If they knew you suffered from a mental health disorder, how do you think that your team members/co-workers would react? : 2\n",
            "Have you observed or experienced an unsupportive or badly handled response to a mental health issue in your current or previous workplace? : 2\n",
            "Have you observed or experienced a supportive or well handled response to a mental health issue in your current or previous workplace? : 2\n",
            "Overall, how well do you think the tech industry supports employees with mental health issues? : 2\n",
            "What is your age? : 2\n",
            "What is your gender? : 23\n",
            "What country do you live in? : 2\n",
            "What US state or territory do you live in? : 628\n",
            "What is your race? : 653\n",
            "What country do you work in? : 2\n",
            "What US state or territory do you work in? : 617\n",
            "What disorder(s) have you been diagnosed with? : 1705\n",
            "If possibly, what disorder(s) do you believe you have? : 1363\n",
            "If so, what disorder(s) were you diagnosed with? : 1013\n",
            "comments : 354\n"
          ]
        }
      ]
    },
    {
      "cell_type": "markdown",
      "metadata": {
        "id": "0bzi3J8o6rj-"
      },
      "source": [
        "## 02 Overview Analysis\n",
        "From a high vantage point of the dataset, we determine that it consists of 1705 records and 73 attributes. \n"
      ]
    },
    {
      "cell_type": "markdown",
      "metadata": {
        "id": "uZ2NKceJ6rj-"
      },
      "source": [
        "## 03 Data Preprocessing\n",
        "\n",
        "### 1. Dealing with missing values for certain attributes"
      ]
    },
    {
      "cell_type": "markdown",
      "metadata": {
        "id": "arWDABA96rj-"
      },
      "source": [
        "### 2. Dealing with the `Age` attribute"
      ]
    },
    {
      "cell_type": "code",
      "metadata": {
        "id": "w2DKzeAB6rj_",
        "colab": {
          "base_uri": "https://localhost:8080/",
          "height": 363
        },
        "outputId": "0363d016-8717-4355-92df-3f5fe72808a6"
      },
      "source": [
        "# Plot a histogram for the values of ages before preprocessing\n",
        "plt.rcParams[\"figure.figsize\"] = (10, 5)\n",
        "age = sns.countplot(data=df, x='What is your age?')\n",
        "age.set_title('Analyzing the attribute Age before preprocessing')\n",
        "age.set_xticklabels(age.get_xticklabels(), rotation=40, ha=\"right\")\n",
        "plt.xticks(rotation=45)\n",
        "plt.show()"
      ],
      "execution_count": 8,
      "outputs": [
        {
          "output_type": "display_data",
          "data": {
            "image/png": "[encoded data removed]",
            "text/plain": [
              "<Figure size 720x360 with 1 Axes>"
            ]
          },
          "metadata": {
            "needs_background": "light"
          }
        }
      ]
    },
    {
      "cell_type": "code",
      "metadata": {
        "id": "wElth5596rj_",
        "colab": {
          "base_uri": "https://localhost:8080/"
        },
        "outputId": "b0d6e080-ef02-4689-ee07-f7d6f4eec36a"
      },
      "source": [
        "# Get the unique values of ages\n",
        "df['What is your age?'].unique()"
      ],
      "execution_count": 9,
      "outputs": [
        {
          "output_type": "execute_result",
          "data": {
            "text/plain": [
              "array([27., 31., 36., 22., 52., 30., 38., 35., 40., 23., 34., 28., 53.,\n",
              "       21., 18., 37., 25., 33., 66., 32., 46., 29., 39., 42., 43., 47.,\n",
              "       64., 45., 54., 61., 26., 44., 50., 24., 57., 48., 41., 20., 49.,\n",
              "       62., 51., 60., 58., 59., 67., 56., 55., nan, 19., 65.,  0., 63.,\n",
              "        5.,  1.])"
            ]
          },
          "metadata": {},
          "execution_count": 9
        }
      ]
    },
    {
      "cell_type": "markdown",
      "metadata": {
        "id": "1FssRJsF6rj_"
      },
      "source": [
        "As we can analyze from the graph and unique values, there exist nan . Values below 18 and above 80 make very little sense, so we'll replace the corresponding values with the median of the age column."
      ]
    },
    {
      "cell_type": "code",
      "metadata": {
        "id": "bC1tELhj6rkA",
        "colab": {
          "base_uri": "https://localhost:8080/",
          "height": 53
        },
        "outputId": "36c2e08b-5fba-4015-fa21-2e7749770503"
      },
      "source": [
        "'''# How many dubious values of ages of each type do we have?\n",
        "print(\"Responses with ages less than 18:\")\n",
        "print(df[df['What is your age?'] < 18].What is your age?)\n",
        "print(\"\\nResponses with ages more than 80:\")\n",
        "print(df[df['What is your age?'] > 80].What is your age?)\n",
        "print(\"\\nNull responses:\", df['What is your age?'].isnull().sum())'''"
      ],
      "execution_count": 10,
      "outputs": [
        {
          "output_type": "execute_result",
          "data": {
            "application/vnd.google.colaboratory.intrinsic+json": {
              "type": "string"
            },
            "text/plain": [
              "'# How many dubious values of ages of each type do we have?\\nprint(\"Responses with ages less than 18:\")\\nprint(df[df[\\'What is your age?\\'] < 18].What is your age?)\\nprint(\"\\nResponses with ages more than 80:\")\\nprint(df[df[\\'What is your age?\\'] > 80].What is your age?)\\nprint(\"\\nNull responses:\", df[\\'What is your age?\\'].isnull().sum())'"
            ]
          },
          "metadata": {},
          "execution_count": 10
        }
      ]
    },
    {
      "cell_type": "code",
      "metadata": {
        "scrolled": true,
        "id": "OI195G5k6rkA",
        "colab": {
          "base_uri": "https://localhost:8080/"
        },
        "outputId": "07fc3ee4-983b-4cb6-c213-9a38528e2144"
      },
      "source": [
        "# Replace values of ages less than 18 and more than 80 with the median\n",
        "\n",
        "# Calculate previous median\n",
        "median_without_dubious = df.loc[ (df['What is your age?'] > 18) | (df['What is your age?'] < 80), 'What is your age?'].median()\n",
        "\n",
        "# Replace dubious values with median\n",
        "df.loc[ (df['What is your age?'] < 18) | (df['What is your age?'] > 80), 'What is your age?'] = median_without_dubious\n",
        "\n",
        "# Describe the attribute to analyze min and max\n",
        "df['What is your age?'].describe()"
      ],
      "execution_count": 11,
      "outputs": [
        {
          "output_type": "execute_result",
          "data": {
            "text/plain": [
              "count    1703.000000\n",
              "mean       35.016442\n",
              "std         8.494055\n",
              "min        18.000000\n",
              "25%        29.000000\n",
              "50%        34.000000\n",
              "75%        40.000000\n",
              "max        67.000000\n",
              "Name: What is your age?, dtype: float64"
            ]
          },
          "metadata": {},
          "execution_count": 11
        }
      ]
    },
    {
      "cell_type": "markdown",
      "metadata": {
        "id": "PM3sNmeL6rkA"
      },
      "source": [
        "The minimum and maximum ages are 18 and 71 with the mean at around 35. We seemed to have completed cleaning up Age."
      ]
    },
    {
      "cell_type": "code",
      "metadata": {
        "id": "HKqV3xvw6rkB",
        "colab": {
          "base_uri": "https://localhost:8080/",
          "height": 363
        },
        "outputId": "24efc95e-0091-4214-d511-ad8bea951e57"
      },
      "source": [
        "# Plot a histogram for the values of ages after preprocessing\n",
        "plt.rcParams[\"figure.figsize\"] = (10, 5)\n",
        "age = sns.countplot(data=df, x='What is your age?')\n",
        "age.set_title('Analyzing the attribute Age after preprocessing')\n",
        "age.set_xticklabels(age.get_xticklabels(), rotation=40, ha=\"right\")\n",
        "plt.xticks(rotation=45)\n",
        "plt.show()"
      ],
      "execution_count": 12,
      "outputs": [
        {
          "output_type": "display_data",
          "data": {
            "image/png": "[encoded data removed]",
            "text/plain": [
              "<Figure size 720x360 with 1 Axes>"
            ]
          },
          "metadata": {
            "needs_background": "light"
          }
        }
      ]
    },
    {
      "cell_type": "markdown",
      "metadata": {
        "id": "c-DHeKqS6rkB"
      },
      "source": [
        "**Analysis**\n",
        "\n",
        "The graph for the continuous Age attribute is a **positively skewed histogram**. Many people fall into the age 30 and 33 bins."
      ]
    },
    {
      "cell_type": "code",
      "metadata": {
        "id": "m5ZpENsz6rkB",
        "colab": {
          "base_uri": "https://localhost:8080/"
        },
        "outputId": "1ebcdabe-c920-4652-d28a-bbfaa6d4e652"
      },
      "source": [
        "# Get the unique values of ages\n",
        "print(\"Unique values:\\n\", df['What is your age?'].unique())"
      ],
      "execution_count": 13,
      "outputs": [
        {
          "output_type": "stream",
          "name": "stdout",
          "text": [
            "Unique values:\n",
            " [27. 31. 36. 22. 52. 30. 38. 35. 40. 23. 34. 28. 53. 21. 18. 37. 25. 33.\n",
            " 66. 32. 46. 29. 39. 42. 43. 47. 64. 45. 54. 61. 26. 44. 50. 24. 57. 48.\n",
            " 41. 20. 49. 62. 51. 60. 58. 59. 67. 56. 55. nan 19. 65. 63.]\n"
          ]
        }
      ]
    },
    {
      "cell_type": "code",
      "metadata": {
        "colab": {
          "base_uri": "https://localhost:8080/"
        },
        "id": "c3jKOyICFdWS",
        "outputId": "9899dc06-4819-45cc-dc63-95d1055acc62"
      },
      "source": [
        "df['What is your age?'].isna().sum()"
      ],
      "execution_count": 34,
      "outputs": [
        {
          "output_type": "execute_result",
          "data": {
            "text/plain": [
              "2"
            ]
          },
          "metadata": {},
          "execution_count": 34
        }
      ]
    },
    {
      "cell_type": "markdown",
      "metadata": {
        "id": "zhy5puiEL8wk"
      },
      "source": [
        "##Filling the rows of age attribute which is empyty by its median"
      ]
    },
    {
      "cell_type": "code",
      "metadata": {
        "id": "GFnviRSFFyz3"
      },
      "source": [
        "median = np.median(df['What is your age?'][df['What is your age?'].isna()==False])\n",
        "df['What is your age?'].fillna(median,inplace=True)"
      ],
      "execution_count": 35,
      "outputs": []
    },
    {
      "cell_type": "markdown",
      "metadata": {
        "id": "sYGZbWvF6rkC"
      },
      "source": [
        "### 3. Dealing with the `Gender` attribute"
      ]
    },
    {
      "cell_type": "code",
      "metadata": {
        "id": "CsH0sFb66rkC",
        "colab": {
          "base_uri": "https://localhost:8080/"
        },
        "outputId": "819ca0bf-ae10-48b2-c0bc-416afcbe2c26"
      },
      "source": [
        "# Are there any null values?\n",
        "df['What is your gender?'].isnull().sum()"
      ],
      "execution_count": 14,
      "outputs": [
        {
          "output_type": "execute_result",
          "data": {
            "text/plain": [
              "23"
            ]
          },
          "metadata": {},
          "execution_count": 14
        }
      ]
    },
    {
      "cell_type": "markdown",
      "metadata": {
        "id": "HM3CE1e96rkC"
      },
      "source": [
        "We observe that there are 23 null values"
      ]
    },
    {
      "cell_type": "code",
      "metadata": {
        "colab": {
          "base_uri": "https://localhost:8080/"
        },
        "id": "yL3mPUsAwhcg",
        "outputId": "8af51d4d-851b-4815-b977-da887ec6ff45"
      },
      "source": [
        "# What are the unique values in the Gender column?\n",
        "df['What is your gender?'].unique()"
      ],
      "execution_count": 15,
      "outputs": [
        {
          "output_type": "execute_result",
          "data": {
            "text/plain": [
              "array(['Female', 'male', 'Male', 'female', 'F', 'M', 'Man', nan, 'f',\n",
              "       'Genderfluid', 'Nonbinary', 'Female ', 'cis-male', 'Mail', 'Woman',\n",
              "       'male/androgynous ', 'cis hetero male', 'm', 'femalw', 'femail',\n",
              "       'Male (cis)', 'uhhhhhhhhh fem genderqueer?',\n",
              "       \"male (hey this is the tech industry you're talking about)\",\n",
              "       'female (cis)', 'God King of the Valajar', 'Cis male', 'man',\n",
              "       'My sex is female.', 'Cis-male', 'Male ', 'Non-binary',\n",
              "       'Male, cis', 'cis male ', 'Agender/genderfluid', 'Male-ish',\n",
              "       'woman', 'sometimes', 'female (cisgender)', 'Female (cis) ',\n",
              "       'Woman-identified', 'Contextual', 'Non binary',\n",
              "       'Genderqueer demigirl', 'Genderqueer/non-binary', 'cis-Female',\n",
              "       'cis female', 'nonbinary', 'F, cisgender', 'Female-ish', '\\\\-',\n",
              "       'trans woman', 'Transfeminine', 'None', 'Cis Male', 'dude',\n",
              "       'Ostensibly Male', 'Agender', 'male, born with xy chromosoms',\n",
              "       'Malel', 'MALE', 'I identify as female', '*shrug emoji* (F)',\n",
              "       'Male (or female, or both)', 'Trans man', 'transgender',\n",
              "       'cis male', 'non binary', 'Female/gender non-binary.', 'Cis woman',\n",
              "       'Female (cisgender)', 'Cis-Female', 'Cisgendered woman',\n",
              "       'Trans woman', 'genderfluid', 'Genderqueer', 'Demiguy', 'none',\n",
              "       'Trans female', 'Cisgender male', 'non-binary',\n",
              "       'She/her/they/them', 'Other', 'Cis female ', 'SWM',\n",
              "       'cisgender female', 'NB', 'Nonbinary/femme',\n",
              "       'gender non-conforming woman',\n",
              "       'Let\\'s keep it simple and say \"male\"', 'Identify as male',\n",
              "       'Masculine', 'Cishet male', 'Female-identified', 'agender',\n",
              "       'Questioning', 'I have a penis', 'rr', 'cis woman',\n",
              "       'Agender trans woman', 'femmina', '43', 'masculino',\n",
              "       'I am a Wookie', 'Make', 'Trans non-binary/genderfluid',\n",
              "       'CIS Male', 'Non-binary and gender fluid', 'Femile',\n",
              "       'Female (cis)', 'mail', 'FEMALE', 'female, she/her', 'mostly male',\n",
              "       'cisgender male', 'MAle'], dtype=object)"
            ]
          },
          "metadata": {},
          "execution_count": 15
        }
      ]
    },
    {
      "cell_type": "markdown",
      "metadata": {
        "id": "cqhsqFA06rkC"
      },
      "source": [
        "In the survey, this question was open-ended, and so the responses are strings that we need to classify into bins. We do so with three bins:\n",
        "- Male\n",
        "- Female\n",
        "- Other\n",
        "\n",
        "`rr` and `43` certainly do not belong here. We remove the records with those attribute values."
      ]
    },
    {
      "cell_type": "code",
      "metadata": {
        "id": "dC-m_jKv6rkC"
      },
      "source": [
        "# Remove the records with those attribute values\n",
        "df = df[~df['What is your gender?'].isin(['rr', '43'])]"
      ],
      "execution_count": 16,
      "outputs": []
    },
    {
      "cell_type": "code",
      "metadata": {
        "colab": {
          "base_uri": "https://localhost:8080/"
        },
        "id": "dDWL6sf5iu5E",
        "outputId": "81562d5e-e806-4dae-e3d8-2bfc153cecbf"
      },
      "source": [
        "# Replace the strings with the values of bins we require\n",
        "# Group all related strings into bins\n",
        "\n",
        "# Group into Male bin\n",
        "\n",
        "\n",
        "# Group into Female bin\n",
        "df[\"What is your gender?\"] = df[\"What is your gender?\"].str.lower()\n",
        "df['What is your gender?'].replace(['f','female ', 'femalw', 'femail', 'female (cis)', 'female (cis) ','cis female ',\n",
        "                            'my sex is female.', 'female (cisgender)', 'woman-identified', 'cis-female', \n",
        "                            'cis female', 'f, cisgender', 'female-ish', 'trans woman', 'i identify as female',\n",
        "                            '*shrug emoji* (f)', 'cis woman', 'cisgendered woman', 'trans female', 'woman',\n",
        "                            'cisgender female','female, she/her','female-identified','femmina','femile'], 'female', inplace=True)\n",
        "\n",
        "# Group into Other bin\n",
        "df[\"What is your gender?\"].replace(['m', 'man', 'cis-male', 'mail', 'male/androgynous ','cis hetero male', \n",
        "                            'male (cis)','male (hey this is the tech industry you\\'re talking about)',\n",
        "                            'god king of the valajar', 'cis male', 'male ', 'male, cis', 'cis male ',\n",
        "                            'male-ish','dude','ostensibly male','male, born with xy chromosoms','malel', \n",
        "                            'trans man','cisgender male', 'swm',\"let's keep it simple and say 'male'\",'identify as male','masculino','mostly male','cishet male','i have a penis','masculine'], \"male\", inplace=True)\n",
        "\n",
        "df[\"What is your gender?\"].replace(['gender non-binary/other','nonbinary','non-binary','non binary','uhhhhhhhhh fem genderqueer?',\n",
        "                            'agender/genderfluid','sometimes','contextual','genderqueer demigirl','genderqueer/non-binary',\n",
        "                            '\\\\-','transfeminine','agender','male (or female, or both)','female/gender non-binary.', \n",
        "                            'genderqueer','demiguy','she/her/they/them','other','nonbinary/femme','genderfluid', 'none',\n",
        "                           'transgender', 'nb', 'gender non-conforming woman','trans non-binary/genderfluid','questioning','i am a wookie','non-binary and gender fluid','rr','43','agender trans woman'], \n",
        "                           \"other\", inplace=True)\n",
        "\n",
        "df['What is your gender?'].describe()"
      ],
      "execution_count": 17,
      "outputs": [
        {
          "output_type": "execute_result",
          "data": {
            "text/plain": [
              "count     1680\n",
              "unique       5\n",
              "top       male\n",
              "freq      1120\n",
              "Name: What is your gender?, dtype: object"
            ]
          },
          "metadata": {},
          "execution_count": 17
        }
      ]
    },
    {
      "cell_type": "code",
      "metadata": {
        "id": "hSloDnofFNoq"
      },
      "source": [
        "df['What is your gender?'].fillna(value=\"male\", inplace=True)"
      ],
      "execution_count": 18,
      "outputs": []
    },
    {
      "cell_type": "markdown",
      "metadata": {
        "id": "cPBwTTZZC5eP"
      },
      "source": [
        "We will fill all Nan with male since majority of people who filled the questionnaire are male"
      ]
    },
    {
      "cell_type": "code",
      "metadata": {
        "id": "Ou6W7SJ4QxUN",
        "colab": {
          "base_uri": "https://localhost:8080/"
        },
        "outputId": "8a938cef-1f38-403d-fc61-5ae10a714b01"
      },
      "source": [
        "# Viewing the counts of each type\n",
        "df['What is your gender?'].value_counts()"
      ],
      "execution_count": 19,
      "outputs": [
        {
          "output_type": "execute_result",
          "data": {
            "text/plain": [
              "male                                   1143\n",
              "female                                  510\n",
              "other                                    48\n",
              "let's keep it simple and say \"male\"       1\n",
              "make                                      1\n",
              "Name: What is your gender?, dtype: int64"
            ]
          },
          "metadata": {},
          "execution_count": 19
        }
      ]
    },
    {
      "cell_type": "code",
      "metadata": {
        "colab": {
          "base_uri": "https://localhost:8080/",
          "height": 362
        },
        "id": "_oCz0oB2jUed",
        "scrolled": true,
        "outputId": "a0f7f6f0-73ab-4de7-8170-ae2cfec3661a"
      },
      "source": [
        "# Visualizing the proportion of genders\n",
        "fig, ax = plt.subplots()\n",
        "labels = ['Male', \n",
        "         'Female',\n",
        "         'Other']\n",
        "male_perc = (df['What is your gender?'] == 'male').sum() / df['What is your gender?'].count()\n",
        "female_perc = (df['What is your gender?'] == 'female').sum() / df['What is your gender?'].count()\n",
        "other_perc = (df['What is your gender?'] == 'other').sum() / df['What is your gender?'].count()\n",
        "\n",
        "percentages = [male_perc, female_perc, other_perc]\n",
        "\n",
        "ax.pie(percentages, labels=labels,  \n",
        "       autopct='%1.0f%%', \n",
        "       shadow=False, startangle=0,   \n",
        "       pctdistance=1.2,labeldistance=1.4)\n",
        "ax.axis('equal')\n",
        "ax.set_title(\"Gender values after Preprocessing\")\n",
        "ax.legend(frameon=False, bbox_to_anchor=(1.5,0.8))"
      ],
      "execution_count": 20,
      "outputs": [
        {
          "output_type": "execute_result",
          "data": {
            "text/plain": [
              "<matplotlib.legend.Legend at 0x7fe3ce3d10d0>"
            ]
          },
          "metadata": {},
          "execution_count": 20
        },
        {
          "output_type": "display_data",
          "data": {
            "image/png": "[encoded data removed]",
            "text/plain": [
              "<Figure size 720x360 with 1 Axes>"
            ]
          },
          "metadata": {}
        }
      ]
    },
    {
      "cell_type": "markdown",
      "metadata": {
        "id": "TnlvzKIM6rkE"
      },
      "source": [
        "As the plot suggests, male responders far outnumber the female and other responders. This is a point to keep in mind as we work on our models in the future."
      ]
    },
    {
      "cell_type": "markdown",
      "metadata": {
        "id": "utCbIVK9m01B"
      },
      "source": [
        "### 4. Dealing with the `comments` attribute"
      ]
    },
    {
      "cell_type": "markdown",
      "metadata": {
        "id": "rK-jk8HWVe3J"
      },
      "source": [
        "Viewing comments after droping rows with missing values"
      ]
    },
    {
      "cell_type": "code",
      "metadata": {
        "colab": {
          "base_uri": "https://localhost:8080/"
        },
        "id": "NFyp5fA8y25E",
        "outputId": "8dc261b9-1e44-4476-ed5c-8707e285dcc4"
      },
      "source": [
        "for count, i in enumerate(df['comments'].dropna()):\n",
        "    if count < 30:\n",
        "        print(i[:80])"
      ],
      "execution_count": 21,
      "outputs": [
        {
          "output_type": "stream",
          "name": "stdout",
          "text": [
            "Spoke about my anxiety they were very supportive, they spoke about their depress\n",
            "the coworker was comprehensive, empathetic and understanding, a discussion about\n",
            "The conversation went well, he too suffers mental illness... however, I was just\n",
            "Direct Manager and HR know because of medication. No real reactions, Coworkers t\n",
            "I'm in mental heatlh so I talk about it often., They talked about as caregivers \n",
            "Awareness, changed work schedules and expectations\n",
            "I've talked about my depression with coworkers in the past. They were good liste\n",
            "One of my coworkers took a month off due to burn out and we talked about it afte\n",
            "Don’t know \n",
            "ok, OK, ok, ok, ok\n",
            "I needed to discuss accommodations due to Autism and ADHD.  The conversation was\n",
            "Several times I've seen people with depression or other mental problems be fired\n",
            "Are you OK?\n",
            "Yeup, What's up, guys?\n",
            "I think that the opportunity to have mental health sick leave should be just as \n",
            "\"I suffer from extreme anxiety and ADD, and take medication for both. Sometimes \n",
            "A few former coworkers have become friends and so we've had a few honest convers\n",
            "polite, he had a problem shouting all of you, some employee need treatment, good\n",
            "Raise awareness and offer services, Good mental health is vital to complete good\n",
            "Awareness & open talks to lower the obstacle of talking about it.\n",
            "My coworker was brave enough to share with me that they have Bipolar disorder, d\n",
            "discussed previous issues with depression and how that forced them to leave the \n",
            "I have PTSD and am currently in the middle of a series of flashbacks brought on \n",
            "On my second day of work, I had a breakdown and was unable to enter the building\n",
            "We have ZERO coverage for any mental health counselling. It all comes from a sha\n",
            "I asked a coworker for a referral to a therapist., A new hire exhibited symptoms\n",
            "When I had to miss work because I was having a difficult reaction to starting a \n",
            "Coworkers have described symptons, treatment, and general effects of having Anxi\n",
            "The conversation I’m referring to was very two-way, i.e. we were basically talki\n",
            "I was blocking out some periods of time during work days as \"busy\" on my calenda\n",
            "I needed to take 3 weeks off due to major panic / anxiety disorder.  The HR mana\n"
          ]
        }
      ]
    },
    {
      "cell_type": "markdown",
      "metadata": {
        "id": "3ONpfxqiBMlZ"
      },
      "source": [
        "##5 .Dealing with `race attribute`"
      ]
    },
    {
      "cell_type": "code",
      "metadata": {
        "colab": {
          "base_uri": "https://localhost:8080/"
        },
        "id": "A0h_KterKgm_",
        "outputId": "1bc6a3a3-8ac8-47b1-c2be-e2dc9facefd9"
      },
      "source": [
        "# cleaning race column\n",
        "\n",
        "\n",
        "# cleaning up racial responses\n",
        "hispanics = [\"Hispanic\",\"Hispanic or Latino\",\"Latina\",\"Latino\",\"Latinx\",\"mexican american \"]\n",
        "no_answer = [\"Did not answer\",\"I prefer not to answer\",\n",
        "             \"I am of the race of Adam, the first human.\"]\n",
        "mixed = [\"Mixed\",\"More than one of the above\",\"Hispanic, White\",\"Mestizo\"]\n",
        "jewish = [\"Jewish\",\"Ashkenazi\"]\n",
        "caucasian = [\"Caucasian\",\"White\",\"European American\",\n",
        "             \"My race is white, but my ethnicity is Latin American\"]\n",
        "caribbean = [\"Caribbean\",\"Indo-Caribbean\",\"West Indian\"]\n",
        "asian = [\"Asian\",\"South Asian\"]\n",
        "aa = [\"Afrcian American\",\"Black or African American\"]\n",
        "\n",
        "race_list = [hispanics,no_answer,mixed,jewish,caucasian,caribbean,asian,aa]\n",
        "\n",
        "for race in race_list:\n",
        "    for num,info in enumerate(race):\n",
        "        if num > 0:\n",
        "            df[\"What is your race?\"][df[\"What is your race?\"]==info] = race[0]\n",
        "df['What is your race?'].isna().sum()\n",
        "\n",
        "    "
      ],
      "execution_count": 37,
      "outputs": [
        {
          "output_type": "stream",
          "name": "stderr",
          "text": [
            "/usr/local/lib/python3.7/dist-packages/ipykernel_launcher.py:21: SettingWithCopyWarning:\n",
            "\n",
            "\n",
            "A value is trying to be set on a copy of a slice from a DataFrame\n",
            "\n",
            "See the caveats in the documentation: https://pandas.pydata.org/pandas-docs/stable/user_guide/indexing.html#returning-a-view-versus-a-copy\n",
            "\n"
          ]
        },
        {
          "output_type": "execute_result",
          "data": {
            "text/plain": [
              "653"
            ]
          },
          "metadata": {},
          "execution_count": 37
        }
      ]
    },
    {
      "cell_type": "code",
      "metadata": {
        "colab": {
          "base_uri": "https://localhost:8080/"
        },
        "id": "byapUPQCH0kJ",
        "outputId": "b43e9162-0bcd-4994-850f-a7fccb8441f1"
      },
      "source": [
        "print(df['What is your race?'].value_counts())\n",
        "df['What is your race?'].fillna(value=\"Caucasian\", inplace=True)"
      ],
      "execution_count": 40,
      "outputs": [
        {
          "output_type": "stream",
          "name": "stdout",
          "text": [
            "Caucasian                           1576\n",
            "Asian                                 44\n",
            "Mixed                                 36\n",
            "Did not answer                        30\n",
            "Afrcian American                      16\n",
            "Hispanic                               1\n",
            "American Indian or Alaska Native       1\n",
            "White Hispanic                         1\n",
            "Name: What is your race?, dtype: int64\n"
          ]
        }
      ]
    },
    {
      "cell_type": "markdown",
      "metadata": {
        "id": "GFKgwDcFNOBN"
      },
      "source": [
        "##Dealing with missing values of rating column"
      ]
    },
    {
      "cell_type": "code",
      "metadata": {
        "id": "0iFy7_TqMcWj"
      },
      "source": [
        "median = np.median(df['Overall, how well do you think the tech industry supports employees with mental health issues?'][df['Overall, how well do you think the tech industry supports employees with mental health issues?'].isna()==False])\n",
        "df['Overall, how well do you think the tech industry supports employees with mental health issues?'].fillna(median,inplace=True)"
      ],
      "execution_count": 41,
      "outputs": []
    },
    {
      "cell_type": "markdown",
      "metadata": {
        "id": "H7TzFxp9N4fj"
      },
      "source": [
        "##Dealing with employee column"
      ]
    },
    {
      "cell_type": "code",
      "metadata": {
        "colab": {
          "base_uri": "https://localhost:8080/"
        },
        "id": "9_oGliUqNeNr",
        "outputId": "ac574436-401b-47ab-f7dd-4266d36e56ae"
      },
      "source": [
        "print(df['How many employees does your company or organization have?'].value_counts())\n",
        "df['How many employees does your company or organization have?'].isna().sum()"
      ],
      "execution_count": 43,
      "outputs": [
        {
          "output_type": "stream",
          "name": "stdout",
          "text": [
            "More than 1000    446\n",
            "100-500           388\n",
            "26-100            271\n",
            "6-25              199\n",
            "500-1000          126\n",
            "1-5                33\n",
            "Name: How many employees does your company or organization have?, dtype: int64\n"
          ]
        },
        {
          "output_type": "execute_result",
          "data": {
            "text/plain": [
              "242"
            ]
          },
          "metadata": {},
          "execution_count": 43
        }
      ]
    },
    {
      "cell_type": "code",
      "metadata": {
        "id": "EcD-4l2iQuhi"
      },
      "source": [
        "df['How many employees does your company or organization have?'].fillna(0,inplace=True)"
      ],
      "execution_count": 52,
      "outputs": []
    },
    {
      "cell_type": "markdown",
      "metadata": {
        "id": "MqTUPuOO8jAB"
      },
      "source": [
        "We replace all the nan values by 0"
      ]
    },
    {
      "cell_type": "code",
      "metadata": {
        "id": "_EncfsXN8J-Y"
      },
      "source": [
        "df.drop(columns=['comments'], inplace = True)"
      ],
      "execution_count": 50,
      "outputs": []
    },
    {
      "cell_type": "markdown",
      "metadata": {
        "id": "lgwVgjxX8uhD"
      },
      "source": [
        "About 70% of the `comments` column is empty hence we drop the comments section too"
      ]
    },
    {
      "cell_type": "code",
      "metadata": {
        "colab": {
          "base_uri": "https://localhost:8080/"
        },
        "id": "BDAUfkix8J__",
        "outputId": "c167f77e-4d9b-4893-9af3-4a414244db36"
      },
      "source": [
        "df.columns"
      ],
      "execution_count": 51,
      "outputs": [
        {
          "output_type": "execute_result",
          "data": {
            "text/plain": [
              "Index(['Unnamed: 0', 'Timestamp', 'Unnamed: 0.1', 'Are you self-employed?',\n",
              "       'How many employees does your company or organization have?',\n",
              "       'Is your employer primarily a tech company/organization?',\n",
              "       'Is your primary role within your company related to tech/IT?',\n",
              "       'Does your employer provide mental health benefits as part of healthcare coverage?',\n",
              "       'Do you know the options for mental health care available under your employer-provided health coverage?',\n",
              "       'Has your employer ever formally discussed mental health (for example, as part of a wellness campaign or other official communication)?',\n",
              "       'Does your employer offer resources to learn more about mental health disorders and options for seeking help?',\n",
              "       'Is your anonymity protected if you choose to take advantage of mental health or substance abuse treatment resources provided by your employer?',\n",
              "       'If a mental health issue prompted you to request a medical leave from work, how easy or difficult would it be to ask for that leave?',\n",
              "       'Would you feel more comfortable talking to your coworkers about your physical health or your mental health?',\n",
              "       'Would you feel comfortable discussing a mental health issue with your direct supervisor(s)?',\n",
              "       'Have you ever discussed your mental health with your employer?',\n",
              "       'Would you feel comfortable discussing a mental health issue with your coworkers?',\n",
              "       'Have you ever discussed your mental health with coworkers?',\n",
              "       'Have you ever had a coworker discuss their or another coworker's mental health with you?',\n",
              "       'Overall, how much importance does your employer place on physical health?',\n",
              "       'Overall, how much importance does your employer place on mental health?',\n",
              "       'Do you have medical coverage (private insurance or state-provided) that includes treatment of mental health disorders?',\n",
              "       'Do you know local or online resources to seek help for a mental health issue?',\n",
              "       'If you have been diagnosed or treated for a mental health disorder, do you ever reveal this to clients or business contacts?',\n",
              "       'If you have revealed a mental health disorder to a client or business contact, how has this affected you or the relationship?',\n",
              "       'If you have been diagnosed or treated for a mental health disorder, do you ever reveal this to coworkers or employees?',\n",
              "       'If you have revealed a mental health disorder to a coworker or employee, how has this impacted you or the relationship?',\n",
              "       'Do you believe your productivity is ever affected by a mental health issue?',\n",
              "       'If yes, what percentage of your work time (time performing primary or secondary job functions) is affected by a mental health issue?',\n",
              "       'Do you have previous employers?',\n",
              "       'Was your employer primarily a tech company/organization?',\n",
              "       'Have your previous employers provided mental health benefits?',\n",
              "       'Were you aware of the options for mental health care provided by your previous employers?',\n",
              "       'Did your previous employers ever formally discuss mental health (as part of a wellness campaign or other official communication)?',\n",
              "       'Did your previous employers provide resources to learn more about mental health disorders and how to seek help?',\n",
              "       'Was your anonymity protected if you chose to take advantage of mental health or substance abuse treatment resources with previous employers?',\n",
              "       'Would you have felt more comfortable talking to your previous employer about your physical health or your mental health?',\n",
              "       'Would you have been willing to discuss your mental health with your direct supervisor(s)?',\n",
              "       'Did you ever discuss your mental health with your previous employer?',\n",
              "       'Would you have been willing to discuss your mental health with your coworkers at previous employers?',\n",
              "       'Did you ever discuss your mental health with a previous coworker(s)?',\n",
              "       'Did you ever have a previous coworker discuss their or another coworker's mental health with you?',\n",
              "       'Overall, how much importance did your previous employer place on physical health?',\n",
              "       'Overall, how much importance did your previous employer place on mental health?',\n",
              "       'Do you currently have a mental health disorder?',\n",
              "       'Have you ever been diagnosed with a mental health disorder?',\n",
              "       'Have you had a mental health disorder in the past?',\n",
              "       'Have you ever sought treatment for a mental health disorder from a mental health professional?',\n",
              "       'Do you have a family history of mental illness?',\n",
              "       'If you have a mental health disorder, how often do you feel that it interferes with your work when being treated effectively?',\n",
              "       'If you have a mental health disorder, how often do you feel that it interferes with your work when NOT being treated effectively (i.e., when you are experiencing symptoms)?',\n",
              "       'Have your observations of how another individual who discussed a mental health issue made you less likely to reveal a mental health issue yourself in your current workplace?',\n",
              "       'How willing would you be to share with friends and family that you have a mental illness?',\n",
              "       'Would you be willing to bring up a physical health issue with a potential employer in an interview?',\n",
              "       'Would you bring up your mental health with a potential employer in an interview?',\n",
              "       'Are you openly identified at work as a person with a mental health issue?',\n",
              "       'Has being identified as a person with a mental health issue affected your career?',\n",
              "       'How has it affected your career?',\n",
              "       'If they knew you suffered from a mental health disorder, how do you think that your team members/co-workers would react?',\n",
              "       'Have you observed or experienced an unsupportive or badly handled response to a mental health issue in your current or previous workplace?',\n",
              "       'Have you observed or experienced a supportive or well handled response to a mental health issue in your current or previous workplace?',\n",
              "       'Overall, how well do you think the tech industry supports employees with mental health issues?',\n",
              "       'What is your age?', 'What is your gender?',\n",
              "       'What country do you live in?',\n",
              "       'What US state or territory do you live in?', 'What is your race?',\n",
              "       'What country do you work in?',\n",
              "       'What US state or territory do you work in?',\n",
              "       'What disorder(s) have you been diagnosed with?',\n",
              "       'If possibly, what disorder(s) do you believe you have?',\n",
              "       'If so, what disorder(s) were you diagnosed with?'],\n",
              "      dtype='object')"
            ]
          },
          "metadata": {},
          "execution_count": 51
        }
      ]
    },
    {
      "cell_type": "markdown",
      "metadata": {
        "id": "w9pVkCyWR3Gk"
      },
      "source": [
        "##Dealing with missing values"
      ]
    },
    {
      "cell_type": "code",
      "metadata": {
        "id": "w0E4ol3Q-C_5",
        "colab": {
          "base_uri": "https://localhost:8080/"
        },
        "outputId": "08248416-9c80-4c57-8447-bf5a71a99e87"
      },
      "source": [
        "df.isnull().sum()"
      ],
      "execution_count": 53,
      "outputs": [
        {
          "output_type": "execute_result",
          "data": {
            "text/plain": [
              "Unnamed: 0                                                       0\n",
              "Timestamp                                                        0\n",
              "Unnamed: 0.1                                                     0\n",
              "Are you self-employed?                                           0\n",
              "How many employees does your company or organization have?       0\n",
              "                                                              ... \n",
              "What country do you work in?                                     2\n",
              "What US state or territory do you work in?                     617\n",
              "What disorder(s) have you been diagnosed with?                1705\n",
              "If possibly, what disorder(s) do you believe you have?        1363\n",
              "If so, what disorder(s) were you diagnosed with?              1013\n",
              "Length: 72, dtype: int64"
            ]
          },
          "metadata": {},
          "execution_count": 53
        }
      ]
    },
    {
      "cell_type": "markdown",
      "metadata": {
        "id": "3JXOZ1XKRWqS"
      },
      "source": [
        "Viewing the number the null values in each of the column matrix attribute"
      ]
    },
    {
      "cell_type": "code",
      "metadata": {
        "colab": {
          "base_uri": "https://localhost:8080/"
        },
        "id": "PhbBdvnVRXu7",
        "outputId": "e64d1925-0d5b-4008-f301-0f0a8d7491f7"
      },
      "source": [
        "df.shape"
      ],
      "execution_count": 54,
      "outputs": [
        {
          "output_type": "execute_result",
          "data": {
            "text/plain": [
              "(1705, 72)"
            ]
          },
          "metadata": {},
          "execution_count": 54
        }
      ]
    },
    {
      "cell_type": "markdown",
      "metadata": {
        "id": "YPCf1aZ3Rptu"
      },
      "source": [
        "We observe that a lot of columns  have null values and we  drop columns with over 50% NaN values"
      ]
    },
    {
      "cell_type": "code",
      "metadata": {
        "id": "6LIzr4_iRcBf"
      },
      "source": [
        "delete_list = df.isna().sum()[df.isna().sum() > 587]\n",
        "for num in range(len(delete_list)):\n",
        "    df.drop(columns = delete_list.index[num],inplace=True)"
      ],
      "execution_count": 55,
      "outputs": []
    },
    {
      "cell_type": "markdown",
      "metadata": {
        "id": "Hq7huTN3RyJi"
      },
      "source": [
        "We observe that about 17 columns had more than 50% null values hence they were dropped"
      ]
    },
    {
      "cell_type": "code",
      "metadata": {
        "colab": {
          "base_uri": "https://localhost:8080/"
        },
        "id": "8bsrtIqaRcLO",
        "outputId": "ddb594ff-ac8c-4e0d-ccad-dcb94973f7ff"
      },
      "source": [
        "df.shape"
      ],
      "execution_count": 56,
      "outputs": [
        {
          "output_type": "execute_result",
          "data": {
            "text/plain": [
              "(1705, 56)"
            ]
          },
          "metadata": {},
          "execution_count": 56
        }
      ]
    },
    {
      "cell_type": "code",
      "metadata": {
        "id": "m256X9kmSQUu"
      },
      "source": [
        ""
      ],
      "execution_count": null,
      "outputs": []
    }
  ]
}