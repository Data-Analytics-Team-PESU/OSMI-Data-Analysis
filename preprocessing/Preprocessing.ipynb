{
 "cells": [
  {
   "cell_type": "markdown",
   "metadata": {
    "id": "mzBxt6gDa76a"
   },
   "source": [
    "\n",
    "# OSMI Survey Dataset"
   ]
  },
  {
   "cell_type": "markdown",
   "metadata": {
    "id": "0jMUZlI-6rj2"
   },
   "source": [
    "## 01 Basic Overview of the Dataset"
   ]
  },
  {
   "cell_type": "code",
   "execution_count": 229,
   "metadata": {
    "id": "dcdCjj6yWZFT"
   },
   "outputs": [],
   "source": [
    "# Importing necessary libraries\n",
    "import numpy as np\n",
    "import pandas as pd\n",
    "import matplotlib.pyplot as plt\n",
    "from matplotlib.pyplot import pie\n",
    "import seaborn as sns\n",
    "import plotly.express as px"
   ]
  },
  {
   "cell_type": "code",
   "execution_count": 230,
   "metadata": {
    "colab": {
     "base_uri": "https://localhost:8080/",
     "height": 834
    },
    "id": "uGgd8VUqXE2s",
    "outputId": "543d7e76-41cb-4c5a-be80-84d68d9d17df"
   },
   "outputs": [
    {
     "data": {
      "text/html": [
       "<div>\n",
       "<style scoped>\n",
       "    .dataframe tbody tr th:only-of-type {\n",
       "        vertical-align: middle;\n",
       "    }\n",
       "\n",
       "    .dataframe tbody tr th {\n",
       "        vertical-align: top;\n",
       "    }\n",
       "\n",
       "    .dataframe thead th {\n",
       "        text-align: right;\n",
       "    }\n",
       "</style>\n",
       "<table border=\"1\" class=\"dataframe\">\n",
       "  <thead>\n",
       "    <tr style=\"text-align: right;\">\n",
       "      <th></th>\n",
       "      <th>Unnamed: 0</th>\n",
       "      <th>Timestamp</th>\n",
       "      <th>Unnamed: 0.1</th>\n",
       "      <th>Are you self-employed?</th>\n",
       "      <th>How many employees does your company or organization have?</th>\n",
       "      <th>Is your employer primarily a tech company/organization?</th>\n",
       "      <th>Is your primary role within your company related to tech/IT?</th>\n",
       "      <th>Does your employer provide mental health benefits as part of healthcare coverage?</th>\n",
       "      <th>Do you know the options for mental health care available under your employer-provided health coverage?</th>\n",
       "      <th>Has your employer ever formally discussed mental health (for example, as part of a wellness campaign or other official communication)?</th>\n",
       "      <th>...</th>\n",
       "      <th>What is your gender?</th>\n",
       "      <th>What country do you live in?</th>\n",
       "      <th>What US state or territory do you live in?</th>\n",
       "      <th>What is your race?</th>\n",
       "      <th>What country do you work in?</th>\n",
       "      <th>What US state or territory do you work in?</th>\n",
       "      <th>What disorder(s) have you been diagnosed with?</th>\n",
       "      <th>If possibly, what disorder(s) do you believe you have?</th>\n",
       "      <th>If so, what disorder(s) were you diagnosed with?</th>\n",
       "      <th>comments</th>\n",
       "    </tr>\n",
       "  </thead>\n",
       "  <tbody>\n",
       "    <tr>\n",
       "      <th>0</th>\n",
       "      <td>0</td>\n",
       "      <td>2017</td>\n",
       "      <td>0</td>\n",
       "      <td>0</td>\n",
       "      <td>100-500</td>\n",
       "      <td>1.0</td>\n",
       "      <td>1.0</td>\n",
       "      <td>No</td>\n",
       "      <td>Yes</td>\n",
       "      <td>No</td>\n",
       "      <td>...</td>\n",
       "      <td>Female</td>\n",
       "      <td>United Kingdom</td>\n",
       "      <td>NaN</td>\n",
       "      <td>NaN</td>\n",
       "      <td>United Kingdom</td>\n",
       "      <td>NaN</td>\n",
       "      <td>NaN</td>\n",
       "      <td>Anxiety Disorder (Generalized, Social, Phobia,...</td>\n",
       "      <td>NaN</td>\n",
       "      <td>Spoke about my anxiety they were very supporti...</td>\n",
       "    </tr>\n",
       "    <tr>\n",
       "      <th>1</th>\n",
       "      <td>1</td>\n",
       "      <td>2017</td>\n",
       "      <td>1</td>\n",
       "      <td>0</td>\n",
       "      <td>100-500</td>\n",
       "      <td>1.0</td>\n",
       "      <td>1.0</td>\n",
       "      <td>Yes</td>\n",
       "      <td>Yes</td>\n",
       "      <td>No</td>\n",
       "      <td>...</td>\n",
       "      <td>male</td>\n",
       "      <td>United Kingdom</td>\n",
       "      <td>NaN</td>\n",
       "      <td>NaN</td>\n",
       "      <td>United Kingdom</td>\n",
       "      <td>NaN</td>\n",
       "      <td>NaN</td>\n",
       "      <td>Mood Disorder (Depression, Bipolar Disorder, etc)</td>\n",
       "      <td>NaN</td>\n",
       "      <td>the coworker was comprehensive, empathetic and...</td>\n",
       "    </tr>\n",
       "    <tr>\n",
       "      <th>2</th>\n",
       "      <td>2</td>\n",
       "      <td>2017</td>\n",
       "      <td>2</td>\n",
       "      <td>0</td>\n",
       "      <td>6-25</td>\n",
       "      <td>1.0</td>\n",
       "      <td>1.0</td>\n",
       "      <td>I don't know</td>\n",
       "      <td>No</td>\n",
       "      <td>I don't know</td>\n",
       "      <td>...</td>\n",
       "      <td>male</td>\n",
       "      <td>United States of America</td>\n",
       "      <td>Missouri</td>\n",
       "      <td>White</td>\n",
       "      <td>United States of America</td>\n",
       "      <td>Missouri</td>\n",
       "      <td>NaN</td>\n",
       "      <td>NaN</td>\n",
       "      <td>Anxiety Disorder (Generalized, Social, Phobia,...</td>\n",
       "      <td>The conversation went well, he too suffers men...</td>\n",
       "    </tr>\n",
       "    <tr>\n",
       "      <th>3</th>\n",
       "      <td>3</td>\n",
       "      <td>2017</td>\n",
       "      <td>3</td>\n",
       "      <td>0</td>\n",
       "      <td>More than 1000</td>\n",
       "      <td>1.0</td>\n",
       "      <td>1.0</td>\n",
       "      <td>Yes</td>\n",
       "      <td>Yes</td>\n",
       "      <td>I don't know</td>\n",
       "      <td>...</td>\n",
       "      <td>Male</td>\n",
       "      <td>United States of America</td>\n",
       "      <td>Washington</td>\n",
       "      <td>White</td>\n",
       "      <td>United States of America</td>\n",
       "      <td>Washington</td>\n",
       "      <td>NaN</td>\n",
       "      <td>NaN</td>\n",
       "      <td>Attention Deficit Hyperactivity Disorder</td>\n",
       "      <td>Direct Manager and HR know because of medicati...</td>\n",
       "    </tr>\n",
       "    <tr>\n",
       "      <th>4</th>\n",
       "      <td>4</td>\n",
       "      <td>2017</td>\n",
       "      <td>4</td>\n",
       "      <td>1</td>\n",
       "      <td>NaN</td>\n",
       "      <td>NaN</td>\n",
       "      <td>NaN</td>\n",
       "      <td>NaN</td>\n",
       "      <td>NaN</td>\n",
       "      <td>NaN</td>\n",
       "      <td>...</td>\n",
       "      <td>female</td>\n",
       "      <td>United States of America</td>\n",
       "      <td>Illinois</td>\n",
       "      <td>More than one of the above</td>\n",
       "      <td>United States of America</td>\n",
       "      <td>Illinois</td>\n",
       "      <td>NaN</td>\n",
       "      <td>NaN</td>\n",
       "      <td>NaN</td>\n",
       "      <td>I'm in mental heatlh so I talk about it often....</td>\n",
       "    </tr>\n",
       "  </tbody>\n",
       "</table>\n",
       "<p>5 rows × 73 columns</p>\n",
       "</div>"
      ],
      "text/plain": [
       "   Unnamed: 0  Timestamp  Unnamed: 0.1  Are you self-employed?  \\\n",
       "0           0       2017             0                       0   \n",
       "1           1       2017             1                       0   \n",
       "2           2       2017             2                       0   \n",
       "3           3       2017             3                       0   \n",
       "4           4       2017             4                       1   \n",
       "\n",
       "  How many employees does your company or organization have?  \\\n",
       "0                                            100-500           \n",
       "1                                            100-500           \n",
       "2                                               6-25           \n",
       "3                                     More than 1000           \n",
       "4                                                NaN           \n",
       "\n",
       "  Is your employer primarily a tech company/organization?  \\\n",
       "0                                                1.0        \n",
       "1                                                1.0        \n",
       "2                                                1.0        \n",
       "3                                                1.0        \n",
       "4                                                NaN        \n",
       "\n",
       "  Is your primary role within your company related to tech/IT?  \\\n",
       "0                                                1.0             \n",
       "1                                                1.0             \n",
       "2                                                1.0             \n",
       "3                                                1.0             \n",
       "4                                                NaN             \n",
       "\n",
       "  Does your employer provide mental health benefits as part of healthcare coverage?  \\\n",
       "0                                                 No                                  \n",
       "1                                                Yes                                  \n",
       "2                                       I don't know                                  \n",
       "3                                                Yes                                  \n",
       "4                                                NaN                                  \n",
       "\n",
       "  Do you know the options for mental health care available under your employer-provided health coverage?  \\\n",
       "0                                                Yes                                                       \n",
       "1                                                Yes                                                       \n",
       "2                                                 No                                                       \n",
       "3                                                Yes                                                       \n",
       "4                                                NaN                                                       \n",
       "\n",
       "  Has your employer ever formally discussed mental health (for example, as part of a wellness campaign or other official communication)?  \\\n",
       "0                                                 No                                                                                       \n",
       "1                                                 No                                                                                       \n",
       "2                                       I don't know                                                                                       \n",
       "3                                       I don't know                                                                                       \n",
       "4                                                NaN                                                                                       \n",
       "\n",
       "   ... What is your gender? What country do you live in?  \\\n",
       "0  ...               Female               United Kingdom   \n",
       "1  ...                 male               United Kingdom   \n",
       "2  ...                 male     United States of America   \n",
       "3  ...                 Male     United States of America   \n",
       "4  ...               female     United States of America   \n",
       "\n",
       "  What US state or territory do you live in?          What is your race?  \\\n",
       "0                                        NaN                         NaN   \n",
       "1                                        NaN                         NaN   \n",
       "2                                   Missouri                       White   \n",
       "3                                 Washington                       White   \n",
       "4                                   Illinois  More than one of the above   \n",
       "\n",
       "  What country do you work in? What US state or territory do you work in?  \\\n",
       "0               United Kingdom                                        NaN   \n",
       "1               United Kingdom                                        NaN   \n",
       "2     United States of America                                   Missouri   \n",
       "3     United States of America                                 Washington   \n",
       "4     United States of America                                   Illinois   \n",
       "\n",
       "  What disorder(s) have you been diagnosed with?  \\\n",
       "0                                            NaN   \n",
       "1                                            NaN   \n",
       "2                                            NaN   \n",
       "3                                            NaN   \n",
       "4                                            NaN   \n",
       "\n",
       "  If possibly, what disorder(s) do you believe you have?  \\\n",
       "0  Anxiety Disorder (Generalized, Social, Phobia,...       \n",
       "1  Mood Disorder (Depression, Bipolar Disorder, etc)       \n",
       "2                                                NaN       \n",
       "3                                                NaN       \n",
       "4                                                NaN       \n",
       "\n",
       "    If so, what disorder(s) were you diagnosed with?  \\\n",
       "0                                                NaN   \n",
       "1                                                NaN   \n",
       "2  Anxiety Disorder (Generalized, Social, Phobia,...   \n",
       "3           Attention Deficit Hyperactivity Disorder   \n",
       "4                                                NaN   \n",
       "\n",
       "                                            comments  \n",
       "0  Spoke about my anxiety they were very supporti...  \n",
       "1  the coworker was comprehensive, empathetic and...  \n",
       "2  The conversation went well, he too suffers men...  \n",
       "3  Direct Manager and HR know because of medicati...  \n",
       "4  I'm in mental heatlh so I talk about it often....  \n",
       "\n",
       "[5 rows x 73 columns]"
      ]
     },
     "execution_count": 230,
     "metadata": {},
     "output_type": "execute_result"
    }
   ],
   "source": [
    "# Loading the dataset and overview\n",
    "#datasets/2014_survey.csv\n",
    "df = pd.read_csv(\"../datasets/final_all.csv\")\n",
    "df.head()"
   ]
  },
  {
   "cell_type": "code",
   "execution_count": 231,
   "metadata": {
    "colab": {
     "base_uri": "https://localhost:8080/"
    },
    "id": "ogqzj-grXhlk",
    "outputId": "e0ccf165-fcf2-4d23-ea3c-b48ef4c4b862"
   },
   "outputs": [
    {
     "data": {
      "text/plain": [
       "Index(['Unnamed: 0', 'Timestamp', 'Unnamed: 0.1', 'Are you self-employed?',\n",
       "       'How many employees does your company or organization have?',\n",
       "       'Is your employer primarily a tech company/organization?',\n",
       "       'Is your primary role within your company related to tech/IT?',\n",
       "       'Does your employer provide mental health benefits as part of healthcare coverage?',\n",
       "       'Do you know the options for mental health care available under your employer-provided health coverage?',\n",
       "       'Has your employer ever formally discussed mental health (for example, as part of a wellness campaign or other official communication)?',\n",
       "       'Does your employer offer resources to learn more about mental health disorders and options for seeking help?',\n",
       "       'Is your anonymity protected if you choose to take advantage of mental health or substance abuse treatment resources provided by your employer?',\n",
       "       'If a mental health issue prompted you to request a medical leave from work, how easy or difficult would it be to ask for that leave?',\n",
       "       'Would you feel more comfortable talking to your coworkers about your physical health or your mental health?',\n",
       "       'Would you feel comfortable discussing a mental health issue with your direct supervisor(s)?',\n",
       "       'Have you ever discussed your mental health with your employer?',\n",
       "       'Would you feel comfortable discussing a mental health issue with your coworkers?',\n",
       "       'Have you ever discussed your mental health with coworkers?',\n",
       "       'Have you ever had a coworker discuss their or another coworker's mental health with you?',\n",
       "       'Overall, how much importance does your employer place on physical health?',\n",
       "       'Overall, how much importance does your employer place on mental health?',\n",
       "       'Do you have medical coverage (private insurance or state-provided) that includes treatment of mental health disorders?',\n",
       "       'Do you know local or online resources to seek help for a mental health issue?',\n",
       "       'If you have been diagnosed or treated for a mental health disorder, do you ever reveal this to clients or business contacts?',\n",
       "       'If you have revealed a mental health disorder to a client or business contact, how has this affected you or the relationship?',\n",
       "       'If you have been diagnosed or treated for a mental health disorder, do you ever reveal this to coworkers or employees?',\n",
       "       'If you have revealed a mental health disorder to a coworker or employee, how has this impacted you or the relationship?',\n",
       "       'Do you believe your productivity is ever affected by a mental health issue?',\n",
       "       'If yes, what percentage of your work time (time performing primary or secondary job functions) is affected by a mental health issue?',\n",
       "       'Do you have previous employers?',\n",
       "       'Was your employer primarily a tech company/organization?',\n",
       "       'Have your previous employers provided mental health benefits?',\n",
       "       'Were you aware of the options for mental health care provided by your previous employers?',\n",
       "       'Did your previous employers ever formally discuss mental health (as part of a wellness campaign or other official communication)?',\n",
       "       'Did your previous employers provide resources to learn more about mental health disorders and how to seek help?',\n",
       "       'Was your anonymity protected if you chose to take advantage of mental health or substance abuse treatment resources with previous employers?',\n",
       "       'Would you have felt more comfortable talking to your previous employer about your physical health or your mental health?',\n",
       "       'Would you have been willing to discuss your mental health with your direct supervisor(s)?',\n",
       "       'Did you ever discuss your mental health with your previous employer?',\n",
       "       'Would you have been willing to discuss your mental health with your coworkers at previous employers?',\n",
       "       'Did you ever discuss your mental health with a previous coworker(s)?',\n",
       "       'Did you ever have a previous coworker discuss their or another coworker's mental health with you?',\n",
       "       'Overall, how much importance did your previous employer place on physical health?',\n",
       "       'Overall, how much importance did your previous employer place on mental health?',\n",
       "       'Do you currently have a mental health disorder?',\n",
       "       'Have you ever been diagnosed with a mental health disorder?',\n",
       "       'Have you had a mental health disorder in the past?',\n",
       "       'Have you ever sought treatment for a mental health disorder from a mental health professional?',\n",
       "       'Do you have a family history of mental illness?',\n",
       "       'If you have a mental health disorder, how often do you feel that it interferes with your work when being treated effectively?',\n",
       "       'If you have a mental health disorder, how often do you feel that it interferes with your work when NOT being treated effectively (i.e., when you are experiencing symptoms)?',\n",
       "       'Have your observations of how another individual who discussed a mental health issue made you less likely to reveal a mental health issue yourself in your current workplace?',\n",
       "       'How willing would you be to share with friends and family that you have a mental illness?',\n",
       "       'Would you be willing to bring up a physical health issue with a potential employer in an interview?',\n",
       "       'Would you bring up your mental health with a potential employer in an interview?',\n",
       "       'Are you openly identified at work as a person with a mental health issue?',\n",
       "       'Has being identified as a person with a mental health issue affected your career?',\n",
       "       'How has it affected your career?',\n",
       "       'If they knew you suffered from a mental health disorder, how do you think that your team members/co-workers would react?',\n",
       "       'Have you observed or experienced an unsupportive or badly handled response to a mental health issue in your current or previous workplace?',\n",
       "       'Have you observed or experienced a supportive or well handled response to a mental health issue in your current or previous workplace?',\n",
       "       'Overall, how well do you think the tech industry supports employees with mental health issues?',\n",
       "       'What is your age?', 'What is your gender?',\n",
       "       'What country do you live in?',\n",
       "       'What US state or territory do you live in?', 'What is your race?',\n",
       "       'What country do you work in?',\n",
       "       'What US state or territory do you work in?',\n",
       "       'What disorder(s) have you been diagnosed with?',\n",
       "       'If possibly, what disorder(s) do you believe you have?',\n",
       "       'If so, what disorder(s) were you diagnosed with?', 'comments'],\n",
       "      dtype='object')"
      ]
     },
     "execution_count": 231,
     "metadata": {},
     "output_type": "execute_result"
    }
   ],
   "source": [
    "# Attribute names\n",
    "df.columns"
   ]
  },
  {
   "cell_type": "markdown",
   "metadata": {
    "id": "2VVgwFQwUVh7"
   },
   "source": [
    "**Understanding the attributes**\n",
    "\n"
   ]
  },
  {
   "cell_type": "code",
   "execution_count": 232,
   "metadata": {
    "colab": {
     "base_uri": "https://localhost:8080/",
     "height": 491
    },
    "id": "h4wLwd0VUaXC",
    "outputId": "e0b8cc47-376c-4f74-a49a-09910ee47ffa"
   },
   "outputs": [
    {
     "name": "stdout",
     "output_type": "stream",
     "text": [
      "Shape: (1705, 73)\n"
     ]
    },
    {
     "data": {
      "text/html": [
       "<div>\n",
       "<style scoped>\n",
       "    .dataframe tbody tr th:only-of-type {\n",
       "        vertical-align: middle;\n",
       "    }\n",
       "\n",
       "    .dataframe tbody tr th {\n",
       "        vertical-align: top;\n",
       "    }\n",
       "\n",
       "    .dataframe thead th {\n",
       "        text-align: right;\n",
       "    }\n",
       "</style>\n",
       "<table border=\"1\" class=\"dataframe\">\n",
       "  <thead>\n",
       "    <tr style=\"text-align: right;\">\n",
       "      <th></th>\n",
       "      <th>Unnamed: 0</th>\n",
       "      <th>Timestamp</th>\n",
       "      <th>Unnamed: 0.1</th>\n",
       "      <th>Are you self-employed?</th>\n",
       "      <th>Overall, how much importance does your employer place on physical health?</th>\n",
       "      <th>Overall, how much importance does your employer place on mental health?</th>\n",
       "      <th>Do you have previous employers?</th>\n",
       "      <th>Overall, how much importance did your previous employer place on physical health?</th>\n",
       "      <th>Overall, how much importance did your previous employer place on mental health?</th>\n",
       "      <th>Have you ever sought treatment for a mental health disorder from a mental health professional?</th>\n",
       "      <th>How willing would you be to share with friends and family that you have a mental illness?</th>\n",
       "      <th>Are you openly identified at work as a person with a mental health issue?</th>\n",
       "      <th>How has it affected your career?</th>\n",
       "      <th>If they knew you suffered from a mental health disorder, how do you think that your team members/co-workers would react?</th>\n",
       "      <th>Overall, how well do you think the tech industry supports employees with mental health issues?</th>\n",
       "      <th>What is your age?</th>\n",
       "      <th>What disorder(s) have you been diagnosed with?</th>\n",
       "    </tr>\n",
       "  </thead>\n",
       "  <tbody>\n",
       "    <tr>\n",
       "      <th>count</th>\n",
       "      <td>1705.000000</td>\n",
       "      <td>1705.000000</td>\n",
       "      <td>1705.000000</td>\n",
       "      <td>1705.000000</td>\n",
       "      <td>1463.000000</td>\n",
       "      <td>1463.000000</td>\n",
       "      <td>1705.000000</td>\n",
       "      <td>1461.000000</td>\n",
       "      <td>1461.000000</td>\n",
       "      <td>1705.000000</td>\n",
       "      <td>1705.000000</td>\n",
       "      <td>1703.000000</td>\n",
       "      <td>75.000000</td>\n",
       "      <td>1703.000000</td>\n",
       "      <td>1703.000000</td>\n",
       "      <td>1703.000000</td>\n",
       "      <td>0.0</td>\n",
       "    </tr>\n",
       "    <tr>\n",
       "      <th>mean</th>\n",
       "      <td>852.000000</td>\n",
       "      <td>2017.974194</td>\n",
       "      <td>263.936657</td>\n",
       "      <td>0.141935</td>\n",
       "      <td>6.295284</td>\n",
       "      <td>5.002734</td>\n",
       "      <td>0.856891</td>\n",
       "      <td>5.409309</td>\n",
       "      <td>3.490760</td>\n",
       "      <td>0.597067</td>\n",
       "      <td>6.427566</td>\n",
       "      <td>0.122725</td>\n",
       "      <td>3.826667</td>\n",
       "      <td>5.282443</td>\n",
       "      <td>2.564885</td>\n",
       "      <td>34.960070</td>\n",
       "      <td>NaN</td>\n",
       "    </tr>\n",
       "    <tr>\n",
       "      <th>std</th>\n",
       "      <td>492.335421</td>\n",
       "      <td>1.035424</td>\n",
       "      <td>195.990426</td>\n",
       "      <td>0.349086</td>\n",
       "      <td>2.265611</td>\n",
       "      <td>2.489099</td>\n",
       "      <td>0.350286</td>\n",
       "      <td>2.579322</td>\n",
       "      <td>2.507677</td>\n",
       "      <td>0.490631</td>\n",
       "      <td>2.727587</td>\n",
       "      <td>0.328217</td>\n",
       "      <td>2.440499</td>\n",
       "      <td>2.252971</td>\n",
       "      <td>0.944581</td>\n",
       "      <td>8.606603</td>\n",
       "      <td>NaN</td>\n",
       "    </tr>\n",
       "    <tr>\n",
       "      <th>min</th>\n",
       "      <td>0.000000</td>\n",
       "      <td>2017.000000</td>\n",
       "      <td>0.000000</td>\n",
       "      <td>0.000000</td>\n",
       "      <td>0.000000</td>\n",
       "      <td>0.000000</td>\n",
       "      <td>0.000000</td>\n",
       "      <td>0.000000</td>\n",
       "      <td>0.000000</td>\n",
       "      <td>0.000000</td>\n",
       "      <td>0.000000</td>\n",
       "      <td>0.000000</td>\n",
       "      <td>0.000000</td>\n",
       "      <td>0.000000</td>\n",
       "      <td>1.000000</td>\n",
       "      <td>0.000000</td>\n",
       "      <td>NaN</td>\n",
       "    </tr>\n",
       "    <tr>\n",
       "      <th>25%</th>\n",
       "      <td>426.000000</td>\n",
       "      <td>2017.000000</td>\n",
       "      <td>106.000000</td>\n",
       "      <td>0.000000</td>\n",
       "      <td>5.000000</td>\n",
       "      <td>3.000000</td>\n",
       "      <td>1.000000</td>\n",
       "      <td>4.000000</td>\n",
       "      <td>1.000000</td>\n",
       "      <td>0.000000</td>\n",
       "      <td>5.000000</td>\n",
       "      <td>0.000000</td>\n",
       "      <td>2.000000</td>\n",
       "      <td>4.000000</td>\n",
       "      <td>2.000000</td>\n",
       "      <td>29.000000</td>\n",
       "      <td>NaN</td>\n",
       "    </tr>\n",
       "    <tr>\n",
       "      <th>50%</th>\n",
       "      <td>852.000000</td>\n",
       "      <td>2018.000000</td>\n",
       "      <td>224.000000</td>\n",
       "      <td>0.000000</td>\n",
       "      <td>7.000000</td>\n",
       "      <td>5.000000</td>\n",
       "      <td>1.000000</td>\n",
       "      <td>5.000000</td>\n",
       "      <td>3.000000</td>\n",
       "      <td>1.000000</td>\n",
       "      <td>7.000000</td>\n",
       "      <td>0.000000</td>\n",
       "      <td>3.000000</td>\n",
       "      <td>5.000000</td>\n",
       "      <td>3.000000</td>\n",
       "      <td>34.000000</td>\n",
       "      <td>NaN</td>\n",
       "    </tr>\n",
       "    <tr>\n",
       "      <th>75%</th>\n",
       "      <td>1278.000000</td>\n",
       "      <td>2019.000000</td>\n",
       "      <td>373.000000</td>\n",
       "      <td>0.000000</td>\n",
       "      <td>8.000000</td>\n",
       "      <td>7.000000</td>\n",
       "      <td>1.000000</td>\n",
       "      <td>7.000000</td>\n",
       "      <td>5.000000</td>\n",
       "      <td>1.000000</td>\n",
       "      <td>9.000000</td>\n",
       "      <td>0.000000</td>\n",
       "      <td>5.500000</td>\n",
       "      <td>7.000000</td>\n",
       "      <td>3.000000</td>\n",
       "      <td>40.000000</td>\n",
       "      <td>NaN</td>\n",
       "    </tr>\n",
       "    <tr>\n",
       "      <th>max</th>\n",
       "      <td>1704.000000</td>\n",
       "      <td>2020.000000</td>\n",
       "      <td>755.000000</td>\n",
       "      <td>1.000000</td>\n",
       "      <td>10.000000</td>\n",
       "      <td>10.000000</td>\n",
       "      <td>1.000000</td>\n",
       "      <td>10.000000</td>\n",
       "      <td>10.000000</td>\n",
       "      <td>1.000000</td>\n",
       "      <td>10.000000</td>\n",
       "      <td>1.000000</td>\n",
       "      <td>10.000000</td>\n",
       "      <td>10.000000</td>\n",
       "      <td>5.000000</td>\n",
       "      <td>67.000000</td>\n",
       "      <td>NaN</td>\n",
       "    </tr>\n",
       "  </tbody>\n",
       "</table>\n",
       "</div>"
      ],
      "text/plain": [
       "        Unnamed: 0    Timestamp  Unnamed: 0.1  Are you self-employed?  \\\n",
       "count  1705.000000  1705.000000   1705.000000             1705.000000   \n",
       "mean    852.000000  2017.974194    263.936657                0.141935   \n",
       "std     492.335421     1.035424    195.990426                0.349086   \n",
       "min       0.000000  2017.000000      0.000000                0.000000   \n",
       "25%     426.000000  2017.000000    106.000000                0.000000   \n",
       "50%     852.000000  2018.000000    224.000000                0.000000   \n",
       "75%    1278.000000  2019.000000    373.000000                0.000000   \n",
       "max    1704.000000  2020.000000    755.000000                1.000000   \n",
       "\n",
       "       Overall, how much importance does your employer place on physical health?  \\\n",
       "count                                        1463.000000                           \n",
       "mean                                            6.295284                           \n",
       "std                                             2.265611                           \n",
       "min                                             0.000000                           \n",
       "25%                                             5.000000                           \n",
       "50%                                             7.000000                           \n",
       "75%                                             8.000000                           \n",
       "max                                            10.000000                           \n",
       "\n",
       "       Overall, how much importance does your employer place on mental health?  \\\n",
       "count                                        1463.000000                         \n",
       "mean                                            5.002734                         \n",
       "std                                             2.489099                         \n",
       "min                                             0.000000                         \n",
       "25%                                             3.000000                         \n",
       "50%                                             5.000000                         \n",
       "75%                                             7.000000                         \n",
       "max                                            10.000000                         \n",
       "\n",
       "       Do you have previous employers?  \\\n",
       "count                      1705.000000   \n",
       "mean                          0.856891   \n",
       "std                           0.350286   \n",
       "min                           0.000000   \n",
       "25%                           1.000000   \n",
       "50%                           1.000000   \n",
       "75%                           1.000000   \n",
       "max                           1.000000   \n",
       "\n",
       "       Overall, how much importance did your previous employer place on physical health?  \\\n",
       "count                                        1461.000000                                   \n",
       "mean                                            5.409309                                   \n",
       "std                                             2.579322                                   \n",
       "min                                             0.000000                                   \n",
       "25%                                             4.000000                                   \n",
       "50%                                             5.000000                                   \n",
       "75%                                             7.000000                                   \n",
       "max                                            10.000000                                   \n",
       "\n",
       "       Overall, how much importance did your previous employer place on mental health?  \\\n",
       "count                                        1461.000000                                 \n",
       "mean                                            3.490760                                 \n",
       "std                                             2.507677                                 \n",
       "min                                             0.000000                                 \n",
       "25%                                             1.000000                                 \n",
       "50%                                             3.000000                                 \n",
       "75%                                             5.000000                                 \n",
       "max                                            10.000000                                 \n",
       "\n",
       "       Have you ever sought treatment for a mental health disorder from a mental health professional?  \\\n",
       "count                                        1705.000000                                                \n",
       "mean                                            0.597067                                                \n",
       "std                                             0.490631                                                \n",
       "min                                             0.000000                                                \n",
       "25%                                             0.000000                                                \n",
       "50%                                             1.000000                                                \n",
       "75%                                             1.000000                                                \n",
       "max                                             1.000000                                                \n",
       "\n",
       "       How willing would you be to share with friends and family that you have a mental illness?  \\\n",
       "count                                        1705.000000                                           \n",
       "mean                                            6.427566                                           \n",
       "std                                             2.727587                                           \n",
       "min                                             0.000000                                           \n",
       "25%                                             5.000000                                           \n",
       "50%                                             7.000000                                           \n",
       "75%                                             9.000000                                           \n",
       "max                                            10.000000                                           \n",
       "\n",
       "       Are you openly identified at work as a person with a mental health issue?  \\\n",
       "count                                        1703.000000                           \n",
       "mean                                            0.122725                           \n",
       "std                                             0.328217                           \n",
       "min                                             0.000000                           \n",
       "25%                                             0.000000                           \n",
       "50%                                             0.000000                           \n",
       "75%                                             0.000000                           \n",
       "max                                             1.000000                           \n",
       "\n",
       "       How has it affected your career?  \\\n",
       "count                         75.000000   \n",
       "mean                           3.826667   \n",
       "std                            2.440499   \n",
       "min                            0.000000   \n",
       "25%                            2.000000   \n",
       "50%                            3.000000   \n",
       "75%                            5.500000   \n",
       "max                           10.000000   \n",
       "\n",
       "       If they knew you suffered from a mental health disorder, how do you think that your team members/co-workers would react?  \\\n",
       "count                                        1703.000000                                                                          \n",
       "mean                                            5.282443                                                                          \n",
       "std                                             2.252971                                                                          \n",
       "min                                             0.000000                                                                          \n",
       "25%                                             4.000000                                                                          \n",
       "50%                                             5.000000                                                                          \n",
       "75%                                             7.000000                                                                          \n",
       "max                                            10.000000                                                                          \n",
       "\n",
       "       Overall, how well do you think the tech industry supports employees with mental health issues?  \\\n",
       "count                                        1703.000000                                                \n",
       "mean                                            2.564885                                                \n",
       "std                                             0.944581                                                \n",
       "min                                             1.000000                                                \n",
       "25%                                             2.000000                                                \n",
       "50%                                             3.000000                                                \n",
       "75%                                             3.000000                                                \n",
       "max                                             5.000000                                                \n",
       "\n",
       "       What is your age?  What disorder(s) have you been diagnosed with?  \n",
       "count        1703.000000                                             0.0  \n",
       "mean           34.960070                                             NaN  \n",
       "std             8.606603                                             NaN  \n",
       "min             0.000000                                             NaN  \n",
       "25%            29.000000                                             NaN  \n",
       "50%            34.000000                                             NaN  \n",
       "75%            40.000000                                             NaN  \n",
       "max            67.000000                                             NaN  "
      ]
     },
     "execution_count": 232,
     "metadata": {},
     "output_type": "execute_result"
    }
   ],
   "source": [
    "# Basic properties of the dataset\n",
    "print(\"Shape:\", df.shape)\n",
    "df.describe()"
   ]
  },
  {
   "cell_type": "code",
   "execution_count": 233,
   "metadata": {
    "colab": {
     "base_uri": "https://localhost:8080/"
    },
    "id": "0JaMpS3mXE9-",
    "outputId": "82bea112-1c11-480a-c81b-9d2f776d1962"
   },
   "outputs": [
    {
     "name": "stdout",
     "output_type": "stream",
     "text": [
      "<class 'pandas.core.frame.DataFrame'>\n",
      "RangeIndex: 1705 entries, 0 to 1704\n",
      "Data columns (total 73 columns):\n",
      " #   Column                                                                                                                                                                         Non-Null Count  Dtype  \n",
      "---  ------                                                                                                                                                                         --------------  -----  \n",
      " 0   Unnamed: 0                                                                                                                                                                     1705 non-null   int64  \n",
      " 1   Timestamp                                                                                                                                                                      1705 non-null   int64  \n",
      " 2   Unnamed: 0.1                                                                                                                                                                   1705 non-null   int64  \n",
      " 3   Are you self-employed?                                                                                                                                                         1705 non-null   int64  \n",
      " 4   How many employees does your company or organization have?                                                                                                                     1463 non-null   object \n",
      " 5   Is your employer primarily a tech company/organization?                                                                                                                        1463 non-null   object \n",
      " 6   Is your primary role within your company related to tech/IT?                                                                                                                   1463 non-null   object \n",
      " 7   Does your employer provide mental health benefits as part of healthcare coverage?                                                                                              1463 non-null   object \n",
      " 8   Do you know the options for mental health care available under your employer-provided health coverage?                                                                         1311 non-null   object \n",
      " 9   Has your employer ever formally discussed mental health (for example, as part of a wellness campaign or other official communication)?                                         1463 non-null   object \n",
      " 10  Does your employer offer resources to learn more about mental health disorders and options for seeking help?                                                                   1463 non-null   object \n",
      " 11  Is your anonymity protected if you choose to take advantage of mental health or substance abuse treatment resources provided by your employer?                                 1463 non-null   object \n",
      " 12  If a mental health issue prompted you to request a medical leave from work, how easy or difficult would it be to ask for that leave?                                           1463 non-null   object \n",
      " 13  Would you feel more comfortable talking to your coworkers about your physical health or your mental health?                                                                    1463 non-null   object \n",
      " 14  Would you feel comfortable discussing a mental health issue with your direct supervisor(s)?                                                                                    1463 non-null   object \n",
      " 15  Have you ever discussed your mental health with your employer?                                                                                                                 1463 non-null   object \n",
      " 16  Would you feel comfortable discussing a mental health issue with your coworkers?                                                                                               1463 non-null   object \n",
      " 17  Have you ever discussed your mental health with coworkers?                                                                                                                     1459 non-null   object \n",
      " 18  Have you ever had a coworker discuss their or another coworker's mental health with you?                                                                                       1456 non-null   object \n",
      " 19  Overall, how much importance does your employer place on physical health?                                                                                                      1463 non-null   float64\n",
      " 20  Overall, how much importance does your employer place on mental health?                                                                                                        1463 non-null   float64\n",
      " 21  Do you have medical coverage (private insurance or state-provided) that includes treatment of mental health disorders?                                                         242 non-null    object \n",
      " 22  Do you know local or online resources to seek help for a mental health issue?                                                                                                  242 non-null    object \n",
      " 23  If you have been diagnosed or treated for a mental health disorder, do you ever reveal this to clients or business contacts?                                                   242 non-null    object \n",
      " 24  If you have revealed a mental health disorder to a client or business contact, how has this affected you or the relationship?                                                  107 non-null    object \n",
      " 25  If you have been diagnosed or treated for a mental health disorder, do you ever reveal this to coworkers or employees?                                                         242 non-null    object \n",
      " 26  If you have revealed a mental health disorder to a coworker or employee, how has this impacted you or the relationship?                                                        242 non-null    object \n",
      " 27  Do you believe your productivity is ever affected by a mental health issue?                                                                                                    242 non-null    object \n",
      " 28  If yes, what percentage of your work time (time performing primary or secondary job functions) is affected by a mental health issue?                                           183 non-null    object \n",
      " 29  Do you have previous employers?                                                                                                                                                1705 non-null   int64  \n",
      " 30  Was your employer primarily a tech company/organization?                                                                                                                       1461 non-null   object \n",
      " 31  Have your previous employers provided mental health benefits?                                                                                                                  1461 non-null   object \n",
      " 32  Were you aware of the options for mental health care provided by your previous employers?                                                                                      1461 non-null   object \n",
      " 33  Did your previous employers ever formally discuss mental health (as part of a wellness campaign or other official communication)?                                              1461 non-null   object \n",
      " 34  Did your previous employers provide resources to learn more about mental health disorders and how to seek help?                                                                1461 non-null   object \n",
      " 35  Was your anonymity protected if you chose to take advantage of mental health or substance abuse treatment resources with previous employers?                                   1461 non-null   object \n",
      " 36  Would you have felt more comfortable talking to your previous employer about your physical health or your mental health?                                                       1461 non-null   object \n",
      " 37  Would you have been willing to discuss your mental health with your direct supervisor(s)?                                                                                      1461 non-null   object \n",
      " 38  Did you ever discuss your mental health with your previous employer?                                                                                                           1461 non-null   object \n",
      " 39  Would you have been willing to discuss your mental health with your coworkers at previous employers?                                                                           1461 non-null   object \n",
      " 40  Did you ever discuss your mental health with a previous coworker(s)?                                                                                                           1455 non-null   object \n",
      " 41  Did you ever have a previous coworker discuss their or another coworker's mental health with you?                                                                              1452 non-null   object \n",
      " 42  Overall, how much importance did your previous employer place on physical health?                                                                                              1461 non-null   float64\n",
      " 43  Overall, how much importance did your previous employer place on mental health?                                                                                                1461 non-null   float64\n",
      " 44  Do you currently have a mental health disorder?                                                                                                                                1705 non-null   object \n",
      " 45  Have you ever been diagnosed with a mental health disorder?                                                                                                                    713 non-null    object \n",
      " 46  Have you had a mental health disorder in the past?                                                                                                                             1686 non-null   object \n",
      " 47  Have you ever sought treatment for a mental health disorder from a mental health professional?                                                                                 1705 non-null   int64  \n",
      " 48  Do you have a family history of mental illness?                                                                                                                                1705 non-null   object \n",
      " 49  If you have a mental health disorder, how often do you feel that it interferes with your work when being treated effectively?                                                  1705 non-null   object \n",
      " 50  If you have a mental health disorder, how often do you feel that it interferes with your work when NOT being treated effectively (i.e., when you are experiencing symptoms)?   1705 non-null   object \n",
      " 51  Have your observations of how another individual who discussed a mental health issue made you less likely to reveal a mental health issue yourself in your current workplace?  1342 non-null   object \n",
      " 52  How willing would you be to share with friends and family that you have a mental illness?                                                                                      1705 non-null   int64  \n",
      " 53  Would you be willing to bring up a physical health issue with a potential employer in an interview?                                                                            1705 non-null   object \n",
      " 54  Would you bring up your mental health with a potential employer in an interview?                                                                                               1705 non-null   object \n",
      " 55  Are you openly identified at work as a person with a mental health issue?                                                                                                      1703 non-null   float64\n",
      " 56  Has being identified as a person with a mental health issue affected your career?                                                                                              205 non-null    object \n",
      " 57  How has it affected your career?                                                                                                                                               75 non-null     float64\n",
      " 58  If they knew you suffered from a mental health disorder, how do you think that your team members/co-workers would react?                                                       1703 non-null   float64\n",
      " 59  Have you observed or experienced an unsupportive or badly handled response to a mental health issue in your current or previous workplace?                                     1703 non-null   object \n",
      " 60  Have you observed or experienced a supportive or well handled response to a mental health issue in your current or previous workplace?                                         1703 non-null   object \n",
      " 61  Overall, how well do you think the tech industry supports employees with mental health issues?                                                                                 1703 non-null   float64\n",
      " 62  What is your age?                                                                                                                                                              1703 non-null   float64\n",
      " 63  What is your gender?                                                                                                                                                           1682 non-null   object \n",
      " 64  What country do you live in?                                                                                                                                                   1703 non-null   object \n",
      " 65  What US state or territory do you live in?                                                                                                                                     1077 non-null   object \n",
      " 66  What is your race?                                                                                                                                                             1052 non-null   object \n",
      " 67  What country do you work in?                                                                                                                                                   1703 non-null   object \n",
      " 68  What US state or territory do you work in?                                                                                                                                     1088 non-null   object \n",
      " 69  What disorder(s) have you been diagnosed with?                                                                                                                                 0 non-null      float64\n",
      " 70  If possibly, what disorder(s) do you believe you have?                                                                                                                         342 non-null    object \n",
      " 71  If so, what disorder(s) were you diagnosed with?                                                                                                                               692 non-null    object \n",
      " 72  comments                                                                                                                                                                       1351 non-null   object \n",
      "dtypes: float64(10), int64(7), object(56)\n",
      "memory usage: 972.5+ KB\n"
     ]
    }
   ],
   "source": [
    "# View the properties of the attributes \n",
    "df.info()"
   ]
  },
  {
   "cell_type": "code",
   "execution_count": 234,
   "metadata": {
    "colab": {
     "base_uri": "https://localhost:8080/"
    },
    "id": "oAQ7iAwCxGDa",
    "outputId": "8d98b494-4ba5-43b7-e87e-e479d8ade73b",
    "scrolled": true
   },
   "outputs": [
    {
     "name": "stdout",
     "output_type": "stream",
     "text": [
      "Columns with null values:\n",
      "How many employees does your company or organization have? : 242\n",
      "Is your employer primarily a tech company/organization? : 242\n",
      "Is your primary role within your company related to tech/IT? : 242\n",
      "Does your employer provide mental health benefits as part of healthcare coverage? : 242\n",
      "Do you know the options for mental health care available under your employer-provided health coverage? : 394\n",
      "Has your employer ever formally discussed mental health (for example, as part of a wellness campaign or other official communication)? : 242\n",
      "Does your employer offer resources to learn more about mental health disorders and options for seeking help? : 242\n",
      "Is your anonymity protected if you choose to take advantage of mental health or substance abuse treatment resources provided by your employer? : 242\n",
      "If a mental health issue prompted you to request a medical leave from work, how easy or difficult would it be to ask for that leave? : 242\n",
      "Would you feel more comfortable talking to your coworkers about your physical health or your mental health? : 242\n",
      "Would you feel comfortable discussing a mental health issue with your direct supervisor(s)? : 242\n",
      "Have you ever discussed your mental health with your employer? : 242\n",
      "Would you feel comfortable discussing a mental health issue with your coworkers? : 242\n",
      "Have you ever discussed your mental health with coworkers? : 246\n",
      "Have you ever had a coworker discuss their or another coworker's mental health with you? : 249\n",
      "Overall, how much importance does your employer place on physical health? : 242\n",
      "Overall, how much importance does your employer place on mental health? : 242\n",
      "Do you have medical coverage (private insurance or state-provided) that includes treatment of mental health disorders? : 1463\n",
      "Do you know local or online resources to seek help for a mental health issue? : 1463\n",
      "If you have been diagnosed or treated for a mental health disorder, do you ever reveal this to clients or business contacts? : 1463\n",
      "If you have revealed a mental health disorder to a client or business contact, how has this affected you or the relationship? : 1598\n",
      "If you have been diagnosed or treated for a mental health disorder, do you ever reveal this to coworkers or employees? : 1463\n",
      "If you have revealed a mental health disorder to a coworker or employee, how has this impacted you or the relationship? : 1463\n",
      "Do you believe your productivity is ever affected by a mental health issue? : 1463\n",
      "If yes, what percentage of your work time (time performing primary or secondary job functions) is affected by a mental health issue? : 1522\n",
      "Was your employer primarily a tech company/organization? : 244\n",
      "Have your previous employers provided mental health benefits? : 244\n",
      "Were you aware of the options for mental health care provided by your previous employers? : 244\n",
      "Did your previous employers ever formally discuss mental health (as part of a wellness campaign or other official communication)? : 244\n",
      "Did your previous employers provide resources to learn more about mental health disorders and how to seek help? : 244\n",
      "Was your anonymity protected if you chose to take advantage of mental health or substance abuse treatment resources with previous employers? : 244\n",
      "Would you have felt more comfortable talking to your previous employer about your physical health or your mental health? : 244\n",
      "Would you have been willing to discuss your mental health with your direct supervisor(s)? : 244\n",
      "Did you ever discuss your mental health with your previous employer? : 244\n",
      "Would you have been willing to discuss your mental health with your coworkers at previous employers? : 244\n",
      "Did you ever discuss your mental health with a previous coworker(s)? : 250\n",
      "Did you ever have a previous coworker discuss their or another coworker's mental health with you? : 253\n",
      "Overall, how much importance did your previous employer place on physical health? : 244\n",
      "Overall, how much importance did your previous employer place on mental health? : 244\n",
      "Have you ever been diagnosed with a mental health disorder? : 992\n",
      "Have you had a mental health disorder in the past? : 19\n",
      "Have your observations of how another individual who discussed a mental health issue made you less likely to reveal a mental health issue yourself in your current workplace? : 363\n",
      "Are you openly identified at work as a person with a mental health issue? : 2\n",
      "Has being identified as a person with a mental health issue affected your career? : 1500\n",
      "How has it affected your career? : 1630\n",
      "If they knew you suffered from a mental health disorder, how do you think that your team members/co-workers would react? : 2\n",
      "Have you observed or experienced an unsupportive or badly handled response to a mental health issue in your current or previous workplace? : 2\n",
      "Have you observed or experienced a supportive or well handled response to a mental health issue in your current or previous workplace? : 2\n",
      "Overall, how well do you think the tech industry supports employees with mental health issues? : 2\n",
      "What is your age? : 2\n",
      "What is your gender? : 23\n",
      "What country do you live in? : 2\n",
      "What US state or territory do you live in? : 628\n",
      "What is your race? : 653\n",
      "What country do you work in? : 2\n",
      "What US state or territory do you work in? : 617\n",
      "What disorder(s) have you been diagnosed with? : 1705\n",
      "If possibly, what disorder(s) do you believe you have? : 1363\n",
      "If so, what disorder(s) were you diagnosed with? : 1013\n",
      "comments : 354\n"
     ]
    }
   ],
   "source": [
    "# Print all the columns with null values\n",
    "print(\"Columns with null values:\")\n",
    "for col, i in zip(df.columns, df.isnull().sum()):\n",
    "    if i != 0:\n",
    "        print(col, ':', i)"
   ]
  },
  {
   "cell_type": "markdown",
   "metadata": {
    "id": "0bzi3J8o6rj-"
   },
   "source": [
    "## 02 Overview Analysis\n",
    "From a high vantage point of the dataset, we determine that it consists of 1705 records and 73 attributes. \n"
   ]
  },
  {
   "cell_type": "markdown",
   "metadata": {
    "id": "uZ2NKceJ6rj-"
   },
   "source": [
    "## 03 Data Preprocessing\n",
    "\n",
    "##  Dealing with missing values for certain attributes"
   ]
  },
  {
   "cell_type": "markdown",
   "metadata": {
    "id": "arWDABA96rj-"
   },
   "source": [
    "### 2. Dealing with the `Age` attribute"
   ]
  },
  {
   "cell_type": "code",
   "execution_count": 235,
   "metadata": {
    "colab": {
     "base_uri": "https://localhost:8080/",
     "height": 363
    },
    "id": "w2DKzeAB6rj_",
    "outputId": "0363d016-8717-4355-92df-3f5fe72808a6"
   },
   "outputs": [
    {
     "data": {
      "image/png": "[encoded data removed]",
      "text/plain": [
       "<Figure size 720x360 with 1 Axes>"
      ]
     },
     "metadata": {
      "needs_background": "light"
     },
     "output_type": "display_data"
    }
   ],
   "source": [
    "# Plot a histogram for the values of ages before preprocessing\n",
    "plt.rcParams[\"figure.figsize\"] = (10, 5)\n",
    "age = sns.countplot(data=df, x='What is your age?')\n",
    "age.set_title('Analyzing the attribute Age before preprocessing')\n",
    "age.set_xticklabels(age.get_xticklabels(), rotation=40, ha=\"right\")\n",
    "plt.xticks(rotation=45)\n",
    "plt.show()"
   ]
  },
  {
   "cell_type": "code",
   "execution_count": 236,
   "metadata": {
    "colab": {
     "base_uri": "https://localhost:8080/"
    },
    "id": "wElth5596rj_",
    "outputId": "b0d6e080-ef02-4689-ee07-f7d6f4eec36a"
   },
   "outputs": [
    {
     "data": {
      "text/plain": [
       "array([27., 31., 36., 22., 52., 30., 38., 35., 40., 23., 34., 28., 53.,\n",
       "       21., 18., 37., 25., 33., 66., 32., 46., 29., 39., 42., 43., 47.,\n",
       "       64., 45., 54., 61., 26., 44., 50., 24., 57., 48., 41., 20., 49.,\n",
       "       62., 51., 60., 58., 59., 67., 56., 55., nan, 19., 65.,  0., 63.,\n",
       "        5.,  1.])"
      ]
     },
     "execution_count": 236,
     "metadata": {},
     "output_type": "execute_result"
    }
   ],
   "source": [
    "# Get the unique values of ages\n",
    "df['What is your age?'].unique()"
   ]
  },
  {
   "cell_type": "markdown",
   "metadata": {
    "id": "1FssRJsF6rj_"
   },
   "source": [
    "As we can analyze from the graph and unique values, there exist nan . Values below 18 and above 80 make very little sense, so we'll replace the corresponding values with the median of the age column."
   ]
  },
  {
   "cell_type": "code",
   "execution_count": 237,
   "metadata": {
    "colab": {
     "base_uri": "https://localhost:8080/",
     "height": 53
    },
    "id": "bC1tELhj6rkA",
    "outputId": "36c2e08b-5fba-4015-fa21-2e7749770503"
   },
   "outputs": [
    {
     "data": {
      "text/plain": [
       "'# How many dubious values of ages of each type do we have?\\nprint(\"Responses with ages less than 18:\")\\nprint(df[df[\\'What is your age?\\'] < 18].What is your age?)\\nprint(\"\\nResponses with ages more than 80:\")\\nprint(df[df[\\'What is your age?\\'] > 80].What is your age?)\\nprint(\"\\nNull responses:\", df[\\'What is your age?\\'].isnull().sum())'"
      ]
     },
     "execution_count": 237,
     "metadata": {},
     "output_type": "execute_result"
    }
   ],
   "source": [
    "'''# How many dubious values of ages of each type do we have?\n",
    "print(\"Responses with ages less than 18:\")\n",
    "print(df[df['What is your age?'] < 18].What is your age?)\n",
    "print(\"\\nResponses with ages more than 80:\")\n",
    "print(df[df['What is your age?'] > 80].What is your age?)\n",
    "print(\"\\nNull responses:\", df['What is your age?'].isnull().sum())'''"
   ]
  },
  {
   "cell_type": "code",
   "execution_count": 238,
   "metadata": {
    "colab": {
     "base_uri": "https://localhost:8080/"
    },
    "id": "OI195G5k6rkA",
    "outputId": "07fc3ee4-983b-4cb6-c213-9a38528e2144",
    "scrolled": true
   },
   "outputs": [
    {
     "data": {
      "text/plain": [
       "count    1703.000000\n",
       "mean       35.016442\n",
       "std         8.494055\n",
       "min        18.000000\n",
       "25%        29.000000\n",
       "50%        34.000000\n",
       "75%        40.000000\n",
       "max        67.000000\n",
       "Name: What is your age?, dtype: float64"
      ]
     },
     "execution_count": 238,
     "metadata": {},
     "output_type": "execute_result"
    }
   ],
   "source": [
    "# Replace values of ages less than 18 and more than 80 with the median\n",
    "\n",
    "# Calculate previous median\n",
    "median_without_dubious = df.loc[ (df['What is your age?'] > 18) | (df['What is your age?'] < 80), 'What is your age?'].median()\n",
    "\n",
    "# Replace dubious values with median\n",
    "df.loc[ (df['What is your age?'] < 18) | (df['What is your age?'] > 80), 'What is your age?'] = median_without_dubious\n",
    "\n",
    "# Describe the attribute to analyze min and max\n",
    "df['What is your age?'].describe()"
   ]
  },
  {
   "cell_type": "markdown",
   "metadata": {
    "id": "PM3sNmeL6rkA"
   },
   "source": [
    "The minimum and maximum ages are 18 and 71 with the mean at around 35. We seemed to have completed cleaning up Age."
   ]
  },
  {
   "cell_type": "code",
   "execution_count": 239,
   "metadata": {
    "colab": {
     "base_uri": "https://localhost:8080/",
     "height": 363
    },
    "id": "HKqV3xvw6rkB",
    "outputId": "24efc95e-0091-4214-d511-ad8bea951e57"
   },
   "outputs": [
    {
     "data": {
      "image/png": "[encoded data removed]",
      "text/plain": [
       "<Figure size 720x360 with 1 Axes>"
      ]
     },
     "metadata": {
      "needs_background": "light"
     },
     "output_type": "display_data"
    }
   ],
   "source": [
    "# Plot a histogram for the values of ages after preprocessing\n",
    "plt.rcParams[\"figure.figsize\"] = (10, 5)\n",
    "age = sns.countplot(data=df, x='What is your age?')\n",
    "age.set_title('Analyzing the attribute Age after preprocessing')\n",
    "age.set_xticklabels(age.get_xticklabels(), rotation=40, ha=\"right\")\n",
    "plt.xticks(rotation=45)\n",
    "plt.show()"
   ]
  },
  {
   "cell_type": "markdown",
   "metadata": {
    "id": "c-DHeKqS6rkB"
   },
   "source": [
    "**Analysis**\n",
    "\n",
    "The graph for the continuous Age attribute is a **positively skewed histogram**. Many people fall into the age 30 and 33 bins."
   ]
  },
  {
   "cell_type": "code",
   "execution_count": 240,
   "metadata": {
    "colab": {
     "base_uri": "https://localhost:8080/"
    },
    "id": "m5ZpENsz6rkB",
    "outputId": "1ebcdabe-c920-4652-d28a-bbfaa6d4e652"
   },
   "outputs": [
    {
     "name": "stdout",
     "output_type": "stream",
     "text": [
      "Unique values:\n",
      " [27. 31. 36. 22. 52. 30. 38. 35. 40. 23. 34. 28. 53. 21. 18. 37. 25. 33.\n",
      " 66. 32. 46. 29. 39. 42. 43. 47. 64. 45. 54. 61. 26. 44. 50. 24. 57. 48.\n",
      " 41. 20. 49. 62. 51. 60. 58. 59. 67. 56. 55. nan 19. 65. 63.]\n"
     ]
    }
   ],
   "source": [
    "# Get the unique values of ages\n",
    "print(\"Unique values:\\n\", df['What is your age?'].unique())"
   ]
  },
  {
   "cell_type": "code",
   "execution_count": 241,
   "metadata": {
    "colab": {
     "base_uri": "https://localhost:8080/"
    },
    "id": "c3jKOyICFdWS",
    "outputId": "9899dc06-4819-45cc-dc63-95d1055acc62"
   },
   "outputs": [
    {
     "data": {
      "text/plain": [
       "2"
      ]
     },
     "execution_count": 241,
     "metadata": {},
     "output_type": "execute_result"
    }
   ],
   "source": [
    "df['What is your age?'].isna().sum()"
   ]
  },
  {
   "cell_type": "markdown",
   "metadata": {
    "id": "zhy5puiEL8wk"
   },
   "source": [
    "##Filling the rows of age attribute which is empyty by its median"
   ]
  },
  {
   "cell_type": "code",
   "execution_count": 242,
   "metadata": {
    "id": "GFnviRSFFyz3"
   },
   "outputs": [],
   "source": [
    "median = np.median(df['What is your age?'][df['What is your age?'].isna()==False])\n",
    "df['What is your age?'].fillna(median,inplace=True)"
   ]
  },
  {
   "cell_type": "markdown",
   "metadata": {
    "id": "sYGZbWvF6rkC"
   },
   "source": [
    "### 3. Dealing with the `Gender` attribute"
   ]
  },
  {
   "cell_type": "code",
   "execution_count": 243,
   "metadata": {
    "colab": {
     "base_uri": "https://localhost:8080/"
    },
    "id": "CsH0sFb66rkC",
    "outputId": "819ca0bf-ae10-48b2-c0bc-416afcbe2c26"
   },
   "outputs": [
    {
     "data": {
      "text/plain": [
       "23"
      ]
     },
     "execution_count": 243,
     "metadata": {},
     "output_type": "execute_result"
    }
   ],
   "source": [
    "# Are there any null values?\n",
    "df['What is your gender?'].isnull().sum()"
   ]
  },
  {
   "cell_type": "markdown",
   "metadata": {
    "id": "HM3CE1e96rkC"
   },
   "source": [
    "We observe that there are 23 null values"
   ]
  },
  {
   "cell_type": "code",
   "execution_count": 244,
   "metadata": {
    "colab": {
     "base_uri": "https://localhost:8080/"
    },
    "id": "yL3mPUsAwhcg",
    "outputId": "8af51d4d-851b-4815-b977-da887ec6ff45"
   },
   "outputs": [
    {
     "data": {
      "text/plain": [
       "array(['Female', 'male', 'Male', 'female', 'F', 'M', 'Man', nan, 'f',\n",
       "       'Genderfluid', 'Nonbinary', 'Female ', 'cis-male', 'Mail', 'Woman',\n",
       "       'male/androgynous ', 'cis hetero male', 'm', 'femalw', 'femail',\n",
       "       'Male (cis)', 'uhhhhhhhhh fem genderqueer?',\n",
       "       \"male (hey this is the tech industry you're talking about)\",\n",
       "       'female (cis)', 'God King of the Valajar', 'Cis male', 'man',\n",
       "       'My sex is female.', 'Cis-male', 'Male ', 'Non-binary',\n",
       "       'Male, cis', 'cis male ', 'Agender/genderfluid', 'Male-ish',\n",
       "       'woman', 'sometimes', 'female (cisgender)', 'Female (cis) ',\n",
       "       'Woman-identified', 'Contextual', 'Non binary',\n",
       "       'Genderqueer demigirl', 'Genderqueer/non-binary', 'cis-Female',\n",
       "       'cis female', 'nonbinary', 'F, cisgender', 'Female-ish', '\\\\-',\n",
       "       'trans woman', 'Transfeminine', 'None', 'Cis Male', 'dude',\n",
       "       'Ostensibly Male', 'Agender', 'male, born with xy chromosoms',\n",
       "       'Malel', 'MALE', 'I identify as female', '*shrug emoji* (F)',\n",
       "       'Male (or female, or both)', 'Trans man', 'transgender',\n",
       "       'cis male', 'non binary', 'Female/gender non-binary.', 'Cis woman',\n",
       "       'Female (cisgender)', 'Cis-Female', 'Cisgendered woman',\n",
       "       'Trans woman', 'genderfluid', 'Genderqueer', 'Demiguy', 'none',\n",
       "       'Trans female', 'Cisgender male', 'non-binary',\n",
       "       'She/her/they/them', 'Other', 'Cis female ', 'SWM',\n",
       "       'cisgender female', 'NB', 'Nonbinary/femme',\n",
       "       'gender non-conforming woman',\n",
       "       'Let\\'s keep it simple and say \"male\"', 'Identify as male',\n",
       "       'Masculine', 'Cishet male', 'Female-identified', 'agender',\n",
       "       'Questioning', 'I have a penis', 'rr', 'cis woman',\n",
       "       'Agender trans woman', 'femmina', '43', 'masculino',\n",
       "       'I am a Wookie', 'Make', 'Trans non-binary/genderfluid',\n",
       "       'CIS Male', 'Non-binary and gender fluid', 'Femile',\n",
       "       'Female (cis)', 'mail', 'FEMALE', 'female, she/her', 'mostly male',\n",
       "       'cisgender male', 'MAle'], dtype=object)"
      ]
     },
     "execution_count": 244,
     "metadata": {},
     "output_type": "execute_result"
    }
   ],
   "source": [
    "# What are the unique values in the Gender column?\n",
    "df['What is your gender?'].unique()"
   ]
  },
  {
   "cell_type": "markdown",
   "metadata": {
    "id": "cqhsqFA06rkC"
   },
   "source": [
    "In the survey, this question was open-ended, and so the responses are strings that we need to classify into bins. We do so with three bins:\n",
    "- Male\n",
    "- Female\n",
    "- Other\n",
    "\n",
    "`rr` and `43` certainly do not belong here. We remove the records with those attribute values."
   ]
  },
  {
   "cell_type": "code",
   "execution_count": 245,
   "metadata": {
    "id": "dC-m_jKv6rkC"
   },
   "outputs": [],
   "source": [
    "# Remove the records with those attribute values\n",
    "df = df[~df['What is your gender?'].isin(['rr', '43'])]"
   ]
  },
  {
   "cell_type": "code",
   "execution_count": 246,
   "metadata": {
    "colab": {
     "base_uri": "https://localhost:8080/"
    },
    "id": "dDWL6sf5iu5E",
    "outputId": "81562d5e-e806-4dae-e3d8-2bfc153cecbf"
   },
   "outputs": [
    {
     "data": {
      "text/plain": [
       "count     1680\n",
       "unique       5\n",
       "top       male\n",
       "freq      1120\n",
       "Name: What is your gender?, dtype: object"
      ]
     },
     "execution_count": 246,
     "metadata": {},
     "output_type": "execute_result"
    }
   ],
   "source": [
    "# Replace the strings with the values of bins we require\n",
    "# Group all related strings into bins\n",
    "\n",
    "# Group into Male bin\n",
    "\n",
    "\n",
    "# Group into Female bin\n",
    "df[\"What is your gender?\"] = df[\"What is your gender?\"].str.lower()\n",
    "df['What is your gender?'].replace(['f','female ', 'femalw', 'femail', 'female (cis)', 'female (cis) ','cis female ',\n",
    "                            'my sex is female.', 'female (cisgender)', 'woman-identified', 'cis-female', \n",
    "                            'cis female', 'f, cisgender', 'female-ish', 'trans woman', 'i identify as female',\n",
    "                            '*shrug emoji* (f)', 'cis woman', 'cisgendered woman', 'trans female', 'woman',\n",
    "                            'cisgender female','female, she/her','female-identified','femmina','femile'], 'female', inplace=True)\n",
    "\n",
    "# Group into Other bin\n",
    "df[\"What is your gender?\"].replace(['m', 'man', 'cis-male', 'mail', 'male/androgynous ','cis hetero male', \n",
    "                            'male (cis)','male (hey this is the tech industry you\\'re talking about)',\n",
    "                            'god king of the valajar', 'cis male', 'male ', 'male, cis', 'cis male ',\n",
    "                            'male-ish','dude','ostensibly male','male, born with xy chromosoms','malel', \n",
    "                            'trans man','cisgender male', 'swm',\"let's keep it simple and say 'male'\",'identify as male','masculino','mostly male','cishet male','i have a penis','masculine'], \"male\", inplace=True)\n",
    "\n",
    "df[\"What is your gender?\"].replace(['gender non-binary/other','nonbinary','non-binary','non binary','uhhhhhhhhh fem genderqueer?',\n",
    "                            'agender/genderfluid','sometimes','contextual','genderqueer demigirl','genderqueer/non-binary',\n",
    "                            '\\\\-','transfeminine','agender','male (or female, or both)','female/gender non-binary.', \n",
    "                            'genderqueer','demiguy','she/her/they/them','other','nonbinary/femme','genderfluid', 'none',\n",
    "                           'transgender', 'nb', 'gender non-conforming woman','trans non-binary/genderfluid','questioning','i am a wookie','non-binary and gender fluid','rr','43','agender trans woman'], \n",
    "                           \"other\", inplace=True)\n",
    "\n",
    "df['What is your gender?'].describe()"
   ]
  },
  {
   "cell_type": "code",
   "execution_count": 247,
   "metadata": {
    "id": "hSloDnofFNoq"
   },
   "outputs": [],
   "source": [
    "df['What is your gender?'].fillna(value=\"male\", inplace=True)"
   ]
  },
  {
   "cell_type": "markdown",
   "metadata": {
    "id": "cPBwTTZZC5eP"
   },
   "source": [
    "We will fill all Nan with male since majority of people who filled the questionnaire are male"
   ]
  },
  {
   "cell_type": "code",
   "execution_count": 248,
   "metadata": {
    "colab": {
     "base_uri": "https://localhost:8080/"
    },
    "id": "Ou6W7SJ4QxUN",
    "outputId": "8a938cef-1f38-403d-fc61-5ae10a714b01"
   },
   "outputs": [
    {
     "data": {
      "text/plain": [
       "male                                   1143\n",
       "female                                  510\n",
       "other                                    48\n",
       "make                                      1\n",
       "let's keep it simple and say \"male\"       1\n",
       "Name: What is your gender?, dtype: int64"
      ]
     },
     "execution_count": 248,
     "metadata": {},
     "output_type": "execute_result"
    }
   ],
   "source": [
    "# Viewing the counts of each type\n",
    "df['What is your gender?'].value_counts()"
   ]
  },
  {
   "cell_type": "code",
   "execution_count": 249,
   "metadata": {
    "colab": {
     "base_uri": "https://localhost:8080/",
     "height": 362
    },
    "id": "_oCz0oB2jUed",
    "outputId": "a0f7f6f0-73ab-4de7-8170-ae2cfec3661a",
    "scrolled": true
   },
   "outputs": [
    {
     "data": {
      "text/plain": [
       "<matplotlib.legend.Legend at 0x7f8a91c5e0d0>"
      ]
     },
     "execution_count": 249,
     "metadata": {},
     "output_type": "execute_result"
    },
    {
     "data": {
      "image/png": "[encoded data removed]",
      "text/plain": [
       "<Figure size 720x360 with 1 Axes>"
      ]
     },
     "metadata": {},
     "output_type": "display_data"
    }
   ],
   "source": [
    "# Visualizing the proportion of genders\n",
    "fig, ax = plt.subplots()\n",
    "labels = ['Male', \n",
    "         'Female',\n",
    "         'Other']\n",
    "male_perc = (df['What is your gender?'] == 'male').sum() / df['What is your gender?'].count()\n",
    "female_perc = (df['What is your gender?'] == 'female').sum() / df['What is your gender?'].count()\n",
    "other_perc = (df['What is your gender?'] == 'other').sum() / df['What is your gender?'].count()\n",
    "\n",
    "percentages = [male_perc, female_perc, other_perc]\n",
    "\n",
    "ax.pie(percentages, labels=labels,  \n",
    "       autopct='%1.0f%%', \n",
    "       shadow=False, startangle=0,   \n",
    "       pctdistance=1.2,labeldistance=1.4)\n",
    "ax.axis('equal')\n",
    "ax.set_title(\"Gender values after Preprocessing\")\n",
    "ax.legend(frameon=False, bbox_to_anchor=(1.5,0.8))"
   ]
  },
  {
   "cell_type": "markdown",
   "metadata": {
    "id": "TnlvzKIM6rkE"
   },
   "source": [
    "As the plot suggests, male responders far outnumber the female and other responders. This is a point to keep in mind as we work on our models in the future."
   ]
  },
  {
   "cell_type": "markdown",
   "metadata": {
    "id": "utCbIVK9m01B"
   },
   "source": [
    "### 4. Dealing with the `comments` attribute"
   ]
  },
  {
   "cell_type": "markdown",
   "metadata": {
    "id": "rK-jk8HWVe3J"
   },
   "source": [
    "Viewing comments after droping rows with missing values"
   ]
  },
  {
   "cell_type": "code",
   "execution_count": 250,
   "metadata": {
    "colab": {
     "base_uri": "https://localhost:8080/"
    },
    "id": "NFyp5fA8y25E",
    "outputId": "8dc261b9-1e44-4476-ed5c-8707e285dcc4"
   },
   "outputs": [
    {
     "name": "stdout",
     "output_type": "stream",
     "text": [
      "Spoke about my anxiety they were very supportive, they spoke about their depress\n",
      "the coworker was comprehensive, empathetic and understanding, a discussion about\n",
      "The conversation went well, he too suffers mental illness... however, I was just\n",
      "Direct Manager and HR know because of medication. No real reactions, Coworkers t\n",
      "I'm in mental heatlh so I talk about it often., They talked about as caregivers \n",
      "Awareness, changed work schedules and expectations\n",
      "I've talked about my depression with coworkers in the past. They were good liste\n",
      "One of my coworkers took a month off due to burn out and we talked about it afte\n",
      "Don’t know \n",
      "ok, OK, ok, ok, ok\n",
      "I needed to discuss accommodations due to Autism and ADHD.  The conversation was\n",
      "Several times I've seen people with depression or other mental problems be fired\n",
      "Are you OK?\n",
      "Yeup, What's up, guys?\n",
      "I think that the opportunity to have mental health sick leave should be just as \n",
      "\"I suffer from extreme anxiety and ADD, and take medication for both. Sometimes \n",
      "A few former coworkers have become friends and so we've had a few honest convers\n",
      "polite, he had a problem shouting all of you, some employee need treatment, good\n",
      "Raise awareness and offer services, Good mental health is vital to complete good\n",
      "Awareness & open talks to lower the obstacle of talking about it.\n",
      "My coworker was brave enough to share with me that they have Bipolar disorder, d\n",
      "discussed previous issues with depression and how that forced them to leave the \n",
      "I have PTSD and am currently in the middle of a series of flashbacks brought on \n",
      "On my second day of work, I had a breakdown and was unable to enter the building\n",
      "We have ZERO coverage for any mental health counselling. It all comes from a sha\n",
      "I asked a coworker for a referral to a therapist., A new hire exhibited symptoms\n",
      "When I had to miss work because I was having a difficult reaction to starting a \n",
      "Coworkers have described symptons, treatment, and general effects of having Anxi\n",
      "The conversation I’m referring to was very two-way, i.e. we were basically talki\n",
      "I was blocking out some periods of time during work days as \"busy\" on my calenda\n",
      "I needed to take 3 weeks off due to major panic / anxiety disorder.  The HR mana\n"
     ]
    }
   ],
   "source": [
    "for count, i in enumerate(df['comments'].dropna()):\n",
    "    if count < 30:\n",
    "        print(i[:80])"
   ]
  },
  {
   "cell_type": "markdown",
   "metadata": {
    "id": "3ONpfxqiBMlZ"
   },
   "source": [
    "### 5 .Dealing with `race` attribute"
   ]
  },
  {
   "cell_type": "code",
   "execution_count": 251,
   "metadata": {
    "colab": {
     "base_uri": "https://localhost:8080/"
    },
    "id": "A0h_KterKgm_",
    "outputId": "1bc6a3a3-8ac8-47b1-c2be-e2dc9facefd9"
   },
   "outputs": [
    {
     "name": "stderr",
     "output_type": "stream",
     "text": [
      "<ipython-input-251-865b8f7be091>:21: SettingWithCopyWarning: \n",
      "A value is trying to be set on a copy of a slice from a DataFrame\n",
      "\n",
      "See the caveats in the documentation: https://pandas.pydata.org/pandas-docs/stable/user_guide/indexing.html#returning-a-view-versus-a-copy\n",
      "  df[\"What is your race?\"][df[\"What is your race?\"]==info] = race[0]\n"
     ]
    },
    {
     "data": {
      "text/plain": [
       "652"
      ]
     },
     "execution_count": 251,
     "metadata": {},
     "output_type": "execute_result"
    }
   ],
   "source": [
    "# cleaning race column\n",
    "\n",
    "\n",
    "# cleaning up racial responses\n",
    "hispanics = [\"Hispanic\",\"Hispanic or Latino\",\"Latina\",\"Latino\",\"Latinx\",\"mexican american \"]\n",
    "no_answer = [\"Did not answer\",\"I prefer not to answer\",\n",
    "             \"I am of the race of Adam, the first human.\"]\n",
    "mixed = [\"Mixed\",\"More than one of the above\",\"Hispanic, White\",\"Mestizo\"]\n",
    "jewish = [\"Jewish\",\"Ashkenazi\"]\n",
    "caucasian = [\"Caucasian\",\"White\",\"European American\",\n",
    "             \"My race is white, but my ethnicity is Latin American\"]\n",
    "caribbean = [\"Caribbean\",\"Indo-Caribbean\",\"West Indian\"]\n",
    "asian = [\"Asian\",\"South Asian\"]\n",
    "aa = [\"Afrcian American\",\"Black or African American\"]\n",
    "\n",
    "race_list = [hispanics,no_answer,mixed,jewish,caucasian,caribbean,asian,aa]\n",
    "\n",
    "for race in race_list:\n",
    "    for num,info in enumerate(race):\n",
    "        if num > 0:\n",
    "            df[\"What is your race?\"][df[\"What is your race?\"]==info] = race[0]\n",
    "df['What is your race?'].isna().sum()\n",
    "\n",
    "    "
   ]
  },
  {
   "cell_type": "code",
   "execution_count": 252,
   "metadata": {
    "colab": {
     "base_uri": "https://localhost:8080/"
    },
    "id": "byapUPQCH0kJ",
    "outputId": "b43e9162-0bcd-4994-850f-a7fccb8441f1"
   },
   "outputs": [
    {
     "name": "stdout",
     "output_type": "stream",
     "text": [
      "Caucasian                           923\n",
      "Asian                                44\n",
      "Mixed                                36\n",
      "Did not answer                       30\n",
      "Afrcian American                     15\n",
      "Hispanic                              1\n",
      "White Hispanic                        1\n",
      "American Indian or Alaska Native      1\n",
      "Name: What is your race?, dtype: int64\n"
     ]
    }
   ],
   "source": [
    "print(df['What is your race?'].value_counts())\n",
    "df['What is your race?'].fillna(value=\"Caucasian\", inplace=True)"
   ]
  },
  {
   "cell_type": "markdown",
   "metadata": {
    "id": "GFKgwDcFNOBN"
   },
   "source": [
    "##Dealing with missing values of rating column"
   ]
  },
  {
   "cell_type": "code",
   "execution_count": 253,
   "metadata": {
    "id": "0iFy7_TqMcWj"
   },
   "outputs": [],
   "source": [
    "median = np.median(df['Overall, how well do you think the tech industry supports employees with mental health issues?'][df['Overall, how well do you think the tech industry supports employees with mental health issues?'].isna()==False])\n",
    "df['Overall, how well do you think the tech industry supports employees with mental health issues?'].fillna(median,inplace=True)"
   ]
  },
  {
   "cell_type": "markdown",
   "metadata": {
    "id": "H7TzFxp9N4fj"
   },
   "source": [
    "### 5 .Dealing with `employee` attribute"
   ]
  },
  {
   "cell_type": "code",
   "execution_count": 254,
   "metadata": {
    "colab": {
     "base_uri": "https://localhost:8080/"
    },
    "id": "9_oGliUqNeNr",
    "outputId": "ac574436-401b-47ab-f7dd-4266d36e56ae"
   },
   "outputs": [
    {
     "name": "stdout",
     "output_type": "stream",
     "text": [
      "More than 1000    446\n",
      "100-500           387\n",
      "26-100            271\n",
      "6-25              199\n",
      "500-1000          126\n",
      "1-5                33\n",
      "Name: How many employees does your company or organization have?, dtype: int64\n"
     ]
    },
    {
     "data": {
      "text/plain": [
       "241"
      ]
     },
     "execution_count": 254,
     "metadata": {},
     "output_type": "execute_result"
    }
   ],
   "source": [
    "print(df['How many employees does your company or organization have?'].value_counts())\n",
    "df['How many employees does your company or organization have?'].isna().sum()"
   ]
  },
  {
   "cell_type": "code",
   "execution_count": 255,
   "metadata": {
    "id": "EcD-4l2iQuhi"
   },
   "outputs": [],
   "source": [
    "df['How many employees does your company or organization have?'].fillna(0,inplace=True)"
   ]
  },
  {
   "cell_type": "markdown",
   "metadata": {
    "id": "MqTUPuOO8jAB"
   },
   "source": [
    "We replace all the nan values by 0"
   ]
  },
  {
   "cell_type": "code",
   "execution_count": 256,
   "metadata": {
    "id": "_EncfsXN8J-Y"
   },
   "outputs": [],
   "source": [
    "df.drop(columns=['comments'], inplace = True)"
   ]
  },
  {
   "cell_type": "markdown",
   "metadata": {
    "id": "lgwVgjxX8uhD"
   },
   "source": [
    "About 70% of the `comments` column is empty hence we drop the comments section too"
   ]
  },
  {
   "cell_type": "code",
   "execution_count": 257,
   "metadata": {
    "colab": {
     "base_uri": "https://localhost:8080/"
    },
    "id": "BDAUfkix8J__",
    "outputId": "c167f77e-4d9b-4893-9af3-4a414244db36"
   },
   "outputs": [
    {
     "data": {
      "text/plain": [
       "Index(['Unnamed: 0', 'Timestamp', 'Unnamed: 0.1', 'Are you self-employed?',\n",
       "       'How many employees does your company or organization have?',\n",
       "       'Is your employer primarily a tech company/organization?',\n",
       "       'Is your primary role within your company related to tech/IT?',\n",
       "       'Does your employer provide mental health benefits as part of healthcare coverage?',\n",
       "       'Do you know the options for mental health care available under your employer-provided health coverage?',\n",
       "       'Has your employer ever formally discussed mental health (for example, as part of a wellness campaign or other official communication)?',\n",
       "       'Does your employer offer resources to learn more about mental health disorders and options for seeking help?',\n",
       "       'Is your anonymity protected if you choose to take advantage of mental health or substance abuse treatment resources provided by your employer?',\n",
       "       'If a mental health issue prompted you to request a medical leave from work, how easy or difficult would it be to ask for that leave?',\n",
       "       'Would you feel more comfortable talking to your coworkers about your physical health or your mental health?',\n",
       "       'Would you feel comfortable discussing a mental health issue with your direct supervisor(s)?',\n",
       "       'Have you ever discussed your mental health with your employer?',\n",
       "       'Would you feel comfortable discussing a mental health issue with your coworkers?',\n",
       "       'Have you ever discussed your mental health with coworkers?',\n",
       "       'Have you ever had a coworker discuss their or another coworker's mental health with you?',\n",
       "       'Overall, how much importance does your employer place on physical health?',\n",
       "       'Overall, how much importance does your employer place on mental health?',\n",
       "       'Do you have medical coverage (private insurance or state-provided) that includes treatment of mental health disorders?',\n",
       "       'Do you know local or online resources to seek help for a mental health issue?',\n",
       "       'If you have been diagnosed or treated for a mental health disorder, do you ever reveal this to clients or business contacts?',\n",
       "       'If you have revealed a mental health disorder to a client or business contact, how has this affected you or the relationship?',\n",
       "       'If you have been diagnosed or treated for a mental health disorder, do you ever reveal this to coworkers or employees?',\n",
       "       'If you have revealed a mental health disorder to a coworker or employee, how has this impacted you or the relationship?',\n",
       "       'Do you believe your productivity is ever affected by a mental health issue?',\n",
       "       'If yes, what percentage of your work time (time performing primary or secondary job functions) is affected by a mental health issue?',\n",
       "       'Do you have previous employers?',\n",
       "       'Was your employer primarily a tech company/organization?',\n",
       "       'Have your previous employers provided mental health benefits?',\n",
       "       'Were you aware of the options for mental health care provided by your previous employers?',\n",
       "       'Did your previous employers ever formally discuss mental health (as part of a wellness campaign or other official communication)?',\n",
       "       'Did your previous employers provide resources to learn more about mental health disorders and how to seek help?',\n",
       "       'Was your anonymity protected if you chose to take advantage of mental health or substance abuse treatment resources with previous employers?',\n",
       "       'Would you have felt more comfortable talking to your previous employer about your physical health or your mental health?',\n",
       "       'Would you have been willing to discuss your mental health with your direct supervisor(s)?',\n",
       "       'Did you ever discuss your mental health with your previous employer?',\n",
       "       'Would you have been willing to discuss your mental health with your coworkers at previous employers?',\n",
       "       'Did you ever discuss your mental health with a previous coworker(s)?',\n",
       "       'Did you ever have a previous coworker discuss their or another coworker's mental health with you?',\n",
       "       'Overall, how much importance did your previous employer place on physical health?',\n",
       "       'Overall, how much importance did your previous employer place on mental health?',\n",
       "       'Do you currently have a mental health disorder?',\n",
       "       'Have you ever been diagnosed with a mental health disorder?',\n",
       "       'Have you had a mental health disorder in the past?',\n",
       "       'Have you ever sought treatment for a mental health disorder from a mental health professional?',\n",
       "       'Do you have a family history of mental illness?',\n",
       "       'If you have a mental health disorder, how often do you feel that it interferes with your work when being treated effectively?',\n",
       "       'If you have a mental health disorder, how often do you feel that it interferes with your work when NOT being treated effectively (i.e., when you are experiencing symptoms)?',\n",
       "       'Have your observations of how another individual who discussed a mental health issue made you less likely to reveal a mental health issue yourself in your current workplace?',\n",
       "       'How willing would you be to share with friends and family that you have a mental illness?',\n",
       "       'Would you be willing to bring up a physical health issue with a potential employer in an interview?',\n",
       "       'Would you bring up your mental health with a potential employer in an interview?',\n",
       "       'Are you openly identified at work as a person with a mental health issue?',\n",
       "       'Has being identified as a person with a mental health issue affected your career?',\n",
       "       'How has it affected your career?',\n",
       "       'If they knew you suffered from a mental health disorder, how do you think that your team members/co-workers would react?',\n",
       "       'Have you observed or experienced an unsupportive or badly handled response to a mental health issue in your current or previous workplace?',\n",
       "       'Have you observed or experienced a supportive or well handled response to a mental health issue in your current or previous workplace?',\n",
       "       'Overall, how well do you think the tech industry supports employees with mental health issues?',\n",
       "       'What is your age?', 'What is your gender?',\n",
       "       'What country do you live in?',\n",
       "       'What US state or territory do you live in?', 'What is your race?',\n",
       "       'What country do you work in?',\n",
       "       'What US state or territory do you work in?',\n",
       "       'What disorder(s) have you been diagnosed with?',\n",
       "       'If possibly, what disorder(s) do you believe you have?',\n",
       "       'If so, what disorder(s) were you diagnosed with?'],\n",
       "      dtype='object')"
      ]
     },
     "execution_count": 257,
     "metadata": {},
     "output_type": "execute_result"
    }
   ],
   "source": [
    "df.columns"
   ]
  },
  {
   "cell_type": "markdown",
   "metadata": {
    "id": "w9pVkCyWR3Gk"
   },
   "source": [
    "##Dealing with missing values"
   ]
  },
  {
   "cell_type": "code",
   "execution_count": 258,
   "metadata": {
    "colab": {
     "base_uri": "https://localhost:8080/"
    },
    "id": "w0E4ol3Q-C_5",
    "outputId": "08248416-9c80-4c57-8447-bf5a71a99e87"
   },
   "outputs": [
    {
     "data": {
      "text/plain": [
       "Unnamed: 0                                                       0\n",
       "Timestamp                                                        0\n",
       "Unnamed: 0.1                                                     0\n",
       "Are you self-employed?                                           0\n",
       "How many employees does your company or organization have?       0\n",
       "                                                              ... \n",
       "What country do you work in?                                     2\n",
       "What US state or territory do you work in?                     615\n",
       "What disorder(s) have you been diagnosed with?                1703\n",
       "If possibly, what disorder(s) do you believe you have?        1361\n",
       "If so, what disorder(s) were you diagnosed with?              1012\n",
       "Length: 72, dtype: int64"
      ]
     },
     "execution_count": 258,
     "metadata": {},
     "output_type": "execute_result"
    }
   ],
   "source": [
    "df.isnull().sum()"
   ]
  },
  {
   "cell_type": "markdown",
   "metadata": {
    "id": "3JXOZ1XKRWqS"
   },
   "source": [
    "Viewing the number the null values in each of the column matrix attribute"
   ]
  },
  {
   "cell_type": "code",
   "execution_count": 259,
   "metadata": {
    "colab": {
     "base_uri": "https://localhost:8080/"
    },
    "id": "PhbBdvnVRXu7",
    "outputId": "e64d1925-0d5b-4008-f301-0f0a8d7491f7"
   },
   "outputs": [
    {
     "data": {
      "text/plain": [
       "(1703, 72)"
      ]
     },
     "execution_count": 259,
     "metadata": {},
     "output_type": "execute_result"
    }
   ],
   "source": [
    "df.shape"
   ]
  },
  {
   "cell_type": "markdown",
   "metadata": {
    "id": "YPCf1aZ3Rptu"
   },
   "source": [
    "We observe that a lot of columns  have null values and we  drop columns with over 50% NaN values"
   ]
  },
  {
   "cell_type": "code",
   "execution_count": 260,
   "metadata": {
    "id": "6LIzr4_iRcBf"
   },
   "outputs": [],
   "source": [
    "delete_list = df.isna().sum()[df.isna().sum() > 587]\n",
    "for num in range(len(delete_list)):\n",
    "    df.drop(columns = delete_list.index[num],inplace=True)"
   ]
  },
  {
   "cell_type": "markdown",
   "metadata": {
    "id": "Hq7huTN3RyJi"
   },
   "source": [
    "We observe that about 17 columns had more than 50% null values hence they were dropped"
   ]
  },
  {
   "cell_type": "code",
   "execution_count": 261,
   "metadata": {
    "colab": {
     "base_uri": "https://localhost:8080/"
    },
    "id": "8bsrtIqaRcLO",
    "outputId": "ddb594ff-ac8c-4e0d-ccad-dcb94973f7ff"
   },
   "outputs": [
    {
     "data": {
      "text/plain": [
       "(1703, 56)"
      ]
     },
     "execution_count": 261,
     "metadata": {},
     "output_type": "execute_result"
    }
   ],
   "source": [
    "df.shape"
   ]
  },
  {
   "cell_type": "markdown",
   "metadata": {},
   "source": [
    "### 6. Removing the unwanted index columns"
   ]
  },
  {
   "cell_type": "code",
   "execution_count": 262,
   "metadata": {},
   "outputs": [],
   "source": [
    "df.drop(['Unnamed: 0','Unnamed: 0.1'],axis=1,inplace=True)"
   ]
  },
  {
   "cell_type": "code",
   "execution_count": 263,
   "metadata": {},
   "outputs": [
    {
     "data": {
      "text/html": [
       "<div>\n",
       "<style scoped>\n",
       "    .dataframe tbody tr th:only-of-type {\n",
       "        vertical-align: middle;\n",
       "    }\n",
       "\n",
       "    .dataframe tbody tr th {\n",
       "        vertical-align: top;\n",
       "    }\n",
       "\n",
       "    .dataframe thead th {\n",
       "        text-align: right;\n",
       "    }\n",
       "</style>\n",
       "<table border=\"1\" class=\"dataframe\">\n",
       "  <thead>\n",
       "    <tr style=\"text-align: right;\">\n",
       "      <th></th>\n",
       "      <th>Timestamp</th>\n",
       "      <th>Are you self-employed?</th>\n",
       "      <th>How many employees does your company or organization have?</th>\n",
       "      <th>Is your employer primarily a tech company/organization?</th>\n",
       "      <th>Is your primary role within your company related to tech/IT?</th>\n",
       "      <th>Does your employer provide mental health benefits as part of healthcare coverage?</th>\n",
       "      <th>Do you know the options for mental health care available under your employer-provided health coverage?</th>\n",
       "      <th>Has your employer ever formally discussed mental health (for example, as part of a wellness campaign or other official communication)?</th>\n",
       "      <th>Does your employer offer resources to learn more about mental health disorders and options for seeking help?</th>\n",
       "      <th>Is your anonymity protected if you choose to take advantage of mental health or substance abuse treatment resources provided by your employer?</th>\n",
       "      <th>...</th>\n",
       "      <th>Are you openly identified at work as a person with a mental health issue?</th>\n",
       "      <th>If they knew you suffered from a mental health disorder, how do you think that your team members/co-workers would react?</th>\n",
       "      <th>Have you observed or experienced an unsupportive or badly handled response to a mental health issue in your current or previous workplace?</th>\n",
       "      <th>Have you observed or experienced a supportive or well handled response to a mental health issue in your current or previous workplace?</th>\n",
       "      <th>Overall, how well do you think the tech industry supports employees with mental health issues?</th>\n",
       "      <th>What is your age?</th>\n",
       "      <th>What is your gender?</th>\n",
       "      <th>What country do you live in?</th>\n",
       "      <th>What is your race?</th>\n",
       "      <th>What country do you work in?</th>\n",
       "    </tr>\n",
       "  </thead>\n",
       "  <tbody>\n",
       "    <tr>\n",
       "      <th>0</th>\n",
       "      <td>2017</td>\n",
       "      <td>0</td>\n",
       "      <td>100-500</td>\n",
       "      <td>1.0</td>\n",
       "      <td>1.0</td>\n",
       "      <td>No</td>\n",
       "      <td>Yes</td>\n",
       "      <td>No</td>\n",
       "      <td>I don't know</td>\n",
       "      <td>I don't know</td>\n",
       "      <td>...</td>\n",
       "      <td>0.0</td>\n",
       "      <td>10.0</td>\n",
       "      <td>Yes, I experienced</td>\n",
       "      <td>Yes, I experienced</td>\n",
       "      <td>1.0</td>\n",
       "      <td>27.0</td>\n",
       "      <td>female</td>\n",
       "      <td>United Kingdom</td>\n",
       "      <td>Caucasian</td>\n",
       "      <td>United Kingdom</td>\n",
       "    </tr>\n",
       "    <tr>\n",
       "      <th>1</th>\n",
       "      <td>2017</td>\n",
       "      <td>0</td>\n",
       "      <td>100-500</td>\n",
       "      <td>1.0</td>\n",
       "      <td>1.0</td>\n",
       "      <td>Yes</td>\n",
       "      <td>Yes</td>\n",
       "      <td>No</td>\n",
       "      <td>No</td>\n",
       "      <td>I don't know</td>\n",
       "      <td>...</td>\n",
       "      <td>0.0</td>\n",
       "      <td>6.0</td>\n",
       "      <td>Yes, I observed</td>\n",
       "      <td>Maybe/Not sure</td>\n",
       "      <td>2.0</td>\n",
       "      <td>31.0</td>\n",
       "      <td>male</td>\n",
       "      <td>United Kingdom</td>\n",
       "      <td>Caucasian</td>\n",
       "      <td>United Kingdom</td>\n",
       "    </tr>\n",
       "    <tr>\n",
       "      <th>2</th>\n",
       "      <td>2017</td>\n",
       "      <td>0</td>\n",
       "      <td>6-25</td>\n",
       "      <td>1.0</td>\n",
       "      <td>1.0</td>\n",
       "      <td>I don't know</td>\n",
       "      <td>No</td>\n",
       "      <td>I don't know</td>\n",
       "      <td>No</td>\n",
       "      <td>Yes</td>\n",
       "      <td>...</td>\n",
       "      <td>1.0</td>\n",
       "      <td>5.0</td>\n",
       "      <td>Yes, I experienced</td>\n",
       "      <td>Yes, I experienced</td>\n",
       "      <td>1.0</td>\n",
       "      <td>36.0</td>\n",
       "      <td>male</td>\n",
       "      <td>United States of America</td>\n",
       "      <td>Caucasian</td>\n",
       "      <td>United States of America</td>\n",
       "    </tr>\n",
       "    <tr>\n",
       "      <th>3</th>\n",
       "      <td>2017</td>\n",
       "      <td>0</td>\n",
       "      <td>More than 1000</td>\n",
       "      <td>1.0</td>\n",
       "      <td>1.0</td>\n",
       "      <td>Yes</td>\n",
       "      <td>Yes</td>\n",
       "      <td>I don't know</td>\n",
       "      <td>I don't know</td>\n",
       "      <td>Yes</td>\n",
       "      <td>...</td>\n",
       "      <td>0.0</td>\n",
       "      <td>5.0</td>\n",
       "      <td>Maybe/Not sure</td>\n",
       "      <td>Maybe/Not sure</td>\n",
       "      <td>2.0</td>\n",
       "      <td>22.0</td>\n",
       "      <td>male</td>\n",
       "      <td>United States of America</td>\n",
       "      <td>Caucasian</td>\n",
       "      <td>United States of America</td>\n",
       "    </tr>\n",
       "    <tr>\n",
       "      <th>4</th>\n",
       "      <td>2017</td>\n",
       "      <td>1</td>\n",
       "      <td>0</td>\n",
       "      <td>NaN</td>\n",
       "      <td>NaN</td>\n",
       "      <td>NaN</td>\n",
       "      <td>NaN</td>\n",
       "      <td>NaN</td>\n",
       "      <td>NaN</td>\n",
       "      <td>NaN</td>\n",
       "      <td>...</td>\n",
       "      <td>0.0</td>\n",
       "      <td>4.0</td>\n",
       "      <td>No</td>\n",
       "      <td>Yes, I observed</td>\n",
       "      <td>1.0</td>\n",
       "      <td>52.0</td>\n",
       "      <td>female</td>\n",
       "      <td>United States of America</td>\n",
       "      <td>Mixed</td>\n",
       "      <td>United States of America</td>\n",
       "    </tr>\n",
       "  </tbody>\n",
       "</table>\n",
       "<p>5 rows × 54 columns</p>\n",
       "</div>"
      ],
      "text/plain": [
       "   Timestamp  Are you self-employed?  \\\n",
       "0       2017                       0   \n",
       "1       2017                       0   \n",
       "2       2017                       0   \n",
       "3       2017                       0   \n",
       "4       2017                       1   \n",
       "\n",
       "  How many employees does your company or organization have?  \\\n",
       "0                                            100-500           \n",
       "1                                            100-500           \n",
       "2                                               6-25           \n",
       "3                                     More than 1000           \n",
       "4                                                  0           \n",
       "\n",
       "  Is your employer primarily a tech company/organization?  \\\n",
       "0                                                1.0        \n",
       "1                                                1.0        \n",
       "2                                                1.0        \n",
       "3                                                1.0        \n",
       "4                                                NaN        \n",
       "\n",
       "  Is your primary role within your company related to tech/IT?  \\\n",
       "0                                                1.0             \n",
       "1                                                1.0             \n",
       "2                                                1.0             \n",
       "3                                                1.0             \n",
       "4                                                NaN             \n",
       "\n",
       "  Does your employer provide mental health benefits as part of healthcare coverage?  \\\n",
       "0                                                 No                                  \n",
       "1                                                Yes                                  \n",
       "2                                       I don't know                                  \n",
       "3                                                Yes                                  \n",
       "4                                                NaN                                  \n",
       "\n",
       "  Do you know the options for mental health care available under your employer-provided health coverage?  \\\n",
       "0                                                Yes                                                       \n",
       "1                                                Yes                                                       \n",
       "2                                                 No                                                       \n",
       "3                                                Yes                                                       \n",
       "4                                                NaN                                                       \n",
       "\n",
       "  Has your employer ever formally discussed mental health (for example, as part of a wellness campaign or other official communication)?  \\\n",
       "0                                                 No                                                                                       \n",
       "1                                                 No                                                                                       \n",
       "2                                       I don't know                                                                                       \n",
       "3                                       I don't know                                                                                       \n",
       "4                                                NaN                                                                                       \n",
       "\n",
       "  Does your employer offer resources to learn more about mental health disorders and options for seeking help?  \\\n",
       "0                                       I don't know                                                             \n",
       "1                                                 No                                                             \n",
       "2                                                 No                                                             \n",
       "3                                       I don't know                                                             \n",
       "4                                                NaN                                                             \n",
       "\n",
       "  Is your anonymity protected if you choose to take advantage of mental health or substance abuse treatment resources provided by your employer?  \\\n",
       "0                                       I don't know                                                                                               \n",
       "1                                       I don't know                                                                                               \n",
       "2                                                Yes                                                                                               \n",
       "3                                                Yes                                                                                               \n",
       "4                                                NaN                                                                                               \n",
       "\n",
       "   ...  \\\n",
       "0  ...   \n",
       "1  ...   \n",
       "2  ...   \n",
       "3  ...   \n",
       "4  ...   \n",
       "\n",
       "  Are you openly identified at work as a person with a mental health issue?  \\\n",
       "0                                                0.0                          \n",
       "1                                                0.0                          \n",
       "2                                                1.0                          \n",
       "3                                                0.0                          \n",
       "4                                                0.0                          \n",
       "\n",
       "  If they knew you suffered from a mental health disorder, how do you think that your team members/co-workers would react?  \\\n",
       "0                                               10.0                                                                         \n",
       "1                                                6.0                                                                         \n",
       "2                                                5.0                                                                         \n",
       "3                                                5.0                                                                         \n",
       "4                                                4.0                                                                         \n",
       "\n",
       "  Have you observed or experienced an unsupportive or badly handled response to a mental health issue in your current or previous workplace?  \\\n",
       "0                                 Yes, I experienced                                                                                           \n",
       "1                                    Yes, I observed                                                                                           \n",
       "2                                 Yes, I experienced                                                                                           \n",
       "3                                     Maybe/Not sure                                                                                           \n",
       "4                                                 No                                                                                           \n",
       "\n",
       "  Have you observed or experienced a supportive or well handled response to a mental health issue in your current or previous workplace?  \\\n",
       "0                                 Yes, I experienced                                                                                       \n",
       "1                                     Maybe/Not sure                                                                                       \n",
       "2                                 Yes, I experienced                                                                                       \n",
       "3                                     Maybe/Not sure                                                                                       \n",
       "4                                    Yes, I observed                                                                                       \n",
       "\n",
       "  Overall, how well do you think the tech industry supports employees with mental health issues?  \\\n",
       "0                                                1.0                                               \n",
       "1                                                2.0                                               \n",
       "2                                                1.0                                               \n",
       "3                                                2.0                                               \n",
       "4                                                1.0                                               \n",
       "\n",
       "  What is your age? What is your gender?  What country do you live in?  \\\n",
       "0              27.0               female                United Kingdom   \n",
       "1              31.0                 male                United Kingdom   \n",
       "2              36.0                 male      United States of America   \n",
       "3              22.0                 male      United States of America   \n",
       "4              52.0               female      United States of America   \n",
       "\n",
       "   What is your race?  What country do you work in?  \n",
       "0           Caucasian                United Kingdom  \n",
       "1           Caucasian                United Kingdom  \n",
       "2           Caucasian      United States of America  \n",
       "3           Caucasian      United States of America  \n",
       "4               Mixed      United States of America  \n",
       "\n",
       "[5 rows x 54 columns]"
      ]
     },
     "execution_count": 263,
     "metadata": {},
     "output_type": "execute_result"
    }
   ],
   "source": [
    "df.head()"
   ]
  },
  {
   "cell_type": "code",
   "execution_count": 264,
   "metadata": {},
   "outputs": [
    {
     "data": {
      "text/plain": [
       "(1703, 54)"
      ]
     },
     "execution_count": 264,
     "metadata": {},
     "output_type": "execute_result"
    }
   ],
   "source": [
    "df.shape"
   ]
  },
  {
   "cell_type": "code",
   "execution_count": 265,
   "metadata": {},
   "outputs": [
    {
     "data": {
      "text/plain": [
       "54"
      ]
     },
     "execution_count": 265,
     "metadata": {},
     "output_type": "execute_result"
    }
   ],
   "source": [
    "len(df.columns)"
   ]
  },
  {
   "cell_type": "markdown",
   "metadata": {},
   "source": [
    "### 7. Column names"
   ]
  },
  {
   "cell_type": "markdown",
   "metadata": {},
   "source": [
    "Since the column names are very long, in order to analyze them, we create a CSV file with the column names"
   ]
  },
  {
   "cell_type": "code",
   "execution_count": 266,
   "metadata": {},
   "outputs": [
    {
     "data": {
      "text/plain": [
       "(54, 2)"
      ]
     },
     "execution_count": 266,
     "metadata": {},
     "output_type": "execute_result"
    }
   ],
   "source": [
    "col_df=pd.DataFrame(columns=['ColumnNumber','ColumnName'])\n",
    "col_df['ColumnNumber']=[i for i in range(0,df.shape[1])]\n",
    "col_df['ColumnName']=df.columns\n",
    "col_df.shape"
   ]
  },
  {
   "cell_type": "code",
   "execution_count": 267,
   "metadata": {},
   "outputs": [],
   "source": [
    "col_df.to_csv('../datasets/columns.csv')"
   ]
  },
  {
   "cell_type": "markdown",
   "metadata": {},
   "source": [
    "### 8. Dropping Rows which have more than 25% null values"
   ]
  },
  {
   "cell_type": "code",
   "execution_count": 268,
   "metadata": {},
   "outputs": [
    {
     "data": {
      "text/plain": [
       "(1703, 54)"
      ]
     },
     "execution_count": 268,
     "metadata": {},
     "output_type": "execute_result"
    }
   ],
   "source": [
    "df.shape"
   ]
  },
  {
   "cell_type": "code",
   "execution_count": 269,
   "metadata": {},
   "outputs": [
    {
     "data": {
      "text/plain": [
       "457"
      ]
     },
     "execution_count": 269,
     "metadata": {},
     "output_type": "execute_result"
    }
   ],
   "source": [
    "len(df.isnull().sum(axis=1)[df.isnull().sum(axis=1) > (df.shape[1]/4)])"
   ]
  },
  {
   "cell_type": "code",
   "execution_count": 270,
   "metadata": {},
   "outputs": [],
   "source": [
    "delete_rows = df.isnull().sum(axis=1)[df.isnull().sum(axis=1) > (df.shape[1]/4)]\n",
    "for num in range(len(delete_rows)):\n",
    "    df.drop(delete_rows.index[num],axis=0,inplace=True)"
   ]
  },
  {
   "cell_type": "code",
   "execution_count": 271,
   "metadata": {},
   "outputs": [
    {
     "data": {
      "text/plain": [
       "(1246, 54)"
      ]
     },
     "execution_count": 271,
     "metadata": {},
     "output_type": "execute_result"
    }
   ],
   "source": [
    "df.shape"
   ]
  },
  {
   "cell_type": "markdown",
   "metadata": {},
   "source": [
    "### 9.Dealing with the remaining NULL values"
   ]
  },
  {
   "cell_type": "markdown",
   "metadata": {},
   "source": [
    "#### Checking which columns have null"
   ]
  },
  {
   "cell_type": "code",
   "execution_count": 272,
   "metadata": {},
   "outputs": [
    {
     "name": "stdout",
     "output_type": "stream",
     "text": [
      "0 0\n",
      "1 0\n",
      "2 0\n",
      "3 0\n",
      "4 0\n",
      "5 0\n",
      "6 125\n",
      "7 0\n",
      "8 0\n",
      "9 0\n",
      "10 0\n",
      "11 0\n",
      "12 0\n",
      "13 0\n",
      "14 0\n",
      "15 3\n",
      "16 4\n",
      "17 0\n",
      "18 0\n",
      "19 0\n",
      "20 0\n",
      "21 0\n",
      "22 0\n",
      "23 0\n",
      "24 0\n",
      "25 0\n",
      "26 0\n",
      "27 0\n",
      "28 0\n",
      "29 0\n",
      "30 5\n",
      "31 6\n",
      "32 0\n",
      "33 0\n",
      "34 0\n",
      "35 11\n",
      "36 0\n",
      "37 0\n",
      "38 0\n",
      "39 0\n",
      "40 238\n",
      "41 0\n",
      "42 0\n",
      "43 0\n",
      "44 0\n",
      "45 0\n",
      "46 0\n",
      "47 0\n",
      "48 0\n",
      "49 0\n",
      "50 0\n",
      "51 0\n",
      "52 0\n",
      "53 0\n"
     ]
    }
   ],
   "source": [
    "cnt=0\n",
    "for i in df.columns:\n",
    "    print(cnt,df[i].isnull().sum())\n",
    "    cnt+=1"
   ]
  },
  {
   "cell_type": "markdown",
   "metadata": {},
   "source": [
    "#### Finding the mode of each columns with nulls"
   ]
  },
  {
   "cell_type": "code",
   "execution_count": 273,
   "metadata": {},
   "outputs": [
    {
     "name": "stdout",
     "output_type": "stream",
     "text": [
      "6 No\n",
      "15 0.0\n",
      "16 0.0\n",
      "30 0.0\n",
      "31 0.0\n",
      "35 Yes\n",
      "40 No\n"
     ]
    }
   ],
   "source": [
    "for i in df.columns:\n",
    "    if df[i].isnull().sum()>0:\n",
    "        print(df.columns.get_loc(i),df[i].mode()[0])"
   ]
  },
  {
   "attachments": {},
   "cell_type": "markdown",
   "metadata": {},
   "source": [
    "#### Column-wise strategy for replacing NULLS:\n",
    "\n",
    "6\tDo you know the options for mental health care available under your employer-provided health coverage? \n",
    "- Replace with mode\n",
    "\n",
    "15\tHave you ever discussed your mental health with coworkers?\n",
    "- Replace with mode\n",
    "\n",
    "16\tHave you ever had a coworker discuss their or another coworker's mental health with you?\n",
    "- Replace with mode\n",
    "\n",
    "30\tDid you ever discuss your mental health with a previous coworker(s)?\n",
    "- Replace with mode\n",
    "\n",
    "31\tDid you ever have a previous coworker discuss their or another coworker's mental health with you?\n",
    "- Replace with mode\n",
    "\n",
    "35\tHave you had a mental health disorder in the past?\n",
    "- Replace with \"Don't Know\"\n",
    "\n",
    "40\tHave your observations of how another individual who discussed a mental health issue made you less likely to reveal a mental health issue yourself in your current workplace?\n",
    "- Replace with \"No Answer\" (Since there are 238 nulls)"
   ]
  },
  {
   "cell_type": "code",
   "execution_count": 277,
   "metadata": {},
   "outputs": [],
   "source": [
    "mode_int_cols=[15,16,30,31]\n",
    "\n",
    "for i in mode_int_cols:\n",
    "    df[df.columns[i]].fillna(int(float((df[df.columns[i]].mode()[0]))), inplace=True)\n",
    "df[df.columns[6]].fillna(df[df.columns[6]].mode()[0], inplace=True)\n",
    "df[df.columns[35]].fillna(\"Don't Know\", inplace=True)\n",
    "df[df.columns[40]].fillna(\"No_Answer\", inplace=True)"
   ]
  },
  {
   "cell_type": "code",
   "execution_count": 285,
   "metadata": {},
   "outputs": [
    {
     "data": {
      "text/plain": [
       "False"
      ]
     },
     "execution_count": 285,
     "metadata": {},
     "output_type": "execute_result"
    }
   ],
   "source": [
    "df.isnull().values.any()"
   ]
  },
  {
   "cell_type": "markdown",
   "metadata": {},
   "source": [
    "### There are no more null values in the dataset, it is ready to go to the next stage of preprocessing"
   ]
  },
  {
   "cell_type": "code",
   "execution_count": 286,
   "metadata": {},
   "outputs": [],
   "source": [
    "df.to_csv('../datasets/final.csv',index=False)"
   ]
  }
 ],
 "metadata": {
  "colab": {
   "collapsed_sections": [],
   "name": "Mental_health_In_Tech - finalSurvey.ipynb.txt",
   "provenance": []
  },
  "kernelspec": {
   "display_name": "Python 3",
   "language": "python",
   "name": "python3"
  },
  "language_info": {
   "codemirror_mode": {
    "name": "ipython",
    "version": 3
   },
   "file_extension": ".py",
   "mimetype": "text/x-python",
   "name": "python",
   "nbconvert_exporter": "python",
   "pygments_lexer": "ipython3",
   "version": "3.8.3"
  }
 },
 "nbformat": 4,
 "nbformat_minor": 1
}
