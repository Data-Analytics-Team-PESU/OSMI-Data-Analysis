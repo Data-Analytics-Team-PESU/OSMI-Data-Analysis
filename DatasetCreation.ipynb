{
 "cells": [
  {
   "cell_type": "markdown",
   "id": "d4d5051f",
   "metadata": {},
   "source": [
    "# Dataset Creation with Web Scraping "
   ]
  },
  {
   "cell_type": "markdown",
   "id": "a6cf78a4",
   "metadata": {},
   "source": [
    "Typeform is an online SAAS company for web form and survey creation. OSMI utilizes this software for its surveys.\n",
    "To scrape details of its online surveys, we use the ```requests``` and ```BeautifulSoup``` libraries.\n",
    "\n",
    "Data Sources:\n",
    "1. [OSMI 2016 Survey]()\n",
    "2. [OSMI 2017 Survey]()\n",
    "3. [OSMI 2018 Survey]()\n",
    "4. [OSMI 2020 Survey]()"
   ]
  },
  {
   "cell_type": "markdown",
   "id": "8db05ea8",
   "metadata": {},
   "source": [
    "## 01 OSMI 2018 Survey"
   ]
  },
  {
   "cell_type": "code",
   "execution_count": 86,
   "id": "e4682ed3",
   "metadata": {
    "scrolled": false
   },
   "outputs": [
    {
     "name": "stdout",
     "output_type": "stream",
     "text": [
      "Web scraping response status:\n",
      " 200\n",
      "Dataset Title:\n",
      " OSMI Mental Health in Tech Survey 2018\n"
     ]
    }
   ],
   "source": [
    "# Import libraries necessary for web scraping and dataset creation\n",
    "import re\n",
    "import sys\n",
    "import json\n",
    "import pandas\n",
    "import requests\n",
    "from bs4 import BeautifulSoup\n",
    "\n",
    "# Request typeform survey webpage for contents\n",
    "res = requests.get(\n",
    "      'https://osmi.typeform.com/report/xztgPT/NFu2PHjwsMUkkL3h')\n",
    "\n",
    "# Extract response status and validate for successful transaction\n",
    "status = res.status_code\n",
    "if status != 200:\n",
    "    sys.exit(1)\n",
    "else:\n",
    "    print(\"Web scraping response status:\\n\", status)\n",
    "\n",
    "# Parse HTML title, head and body contents using BeautifulSoup\n",
    "soup = BeautifulSoup(res.content, 'html.parser')\n",
    "\n",
    "print(\"Dataset Title:\\n\", soup.title.text)"
   ]
  },
  {
   "cell_type": "code",
   "execution_count": 127,
   "id": "951fbf9c",
   "metadata": {},
   "outputs": [
    {
     "name": "stdout",
     "output_type": "stream",
     "text": [
      "Number of questions in the survey: 68\n",
      "----------------------------------------------------------------------------------------------------\n",
      "Are you self-employed?\n",
      "How many employees does your company or organization have?\n",
      "Is your employer primarily a tech company/organization?\n",
      "Is your primary role within your company related to tech/IT?\n",
      "Does your employer provide mental health benefits as part of healthcare coverage?\n",
      "Do you know the options for mental health care available under your employer-provided health coverage?\n",
      "Has your employer ever formally discussed mental health (for example, as part of a wellness campaign or other official communication)?\n",
      "Does your employer offer resources to learn more about mental health disorders and options for seeking help?\n",
      "Is your anonymity protected if you choose to take advantage of mental health or substance abuse treatment resources provided by your employer?\n",
      "If a mental health issue prompted you to request a medical leave from work, how easy or difficult would it be to ask for that leave?\n",
      "Would you feel more comfortable talking to your coworkers about your physical health or your mental health?\n",
      "Would you feel comfortable discussing a mental health issue with your direct supervisor(s)?\n",
      "Have you ever discussed your mental health with your employer?\n",
      "Would you feel comfortable discussing a mental health issue with your coworkers?\n",
      "Have you ever discussed your mental health with coworkers?\n",
      "Have you ever had a coworker discuss their or another coworker's mental health with you?\n",
      "Overall, how much importance does your employer place on physical health?\n",
      "Overall, how much importance does your employer place on mental health?\n",
      "Do you have medical coverage (private insurance or state-provided) that includes treatment of mental health disorders?\n",
      "Do you know local or online resources to seek help for a mental health issue?\n",
      "If you have been diagnosed or treated for a mental health disorder, do you ever reveal this to clients or business contacts?\n",
      "If you have revealed a mental health disorder to a client or business contact, how has this affected you or the relationship?\n",
      "If you have been diagnosed or treated for a mental health disorder, do you ever reveal this to coworkers or employees?\n",
      "If you have revealed a mental health disorder to a coworker or employee, how has this impacted you or the relationship?\n",
      "Do you believe your productivity is ever affected by a mental health issue?\n",
      "If yes, what percentage of your work time (time performing primary or secondary job functions) is affected by a mental health issue?\n",
      "Do you have previous employers?\n",
      "Was your employer primarily a tech company/organization?\n",
      "Have your previous employers provided mental health benefits?\n",
      "Were you aware of the options for mental health care provided by your previous employers?\n",
      "Did your previous employers ever formally discuss mental health (as part of a wellness campaign or other official communication)?\n",
      "Did your previous employers provide resources to learn more about mental health disorders and how to seek help?\n",
      "Was your anonymity protected if you chose to take advantage of mental health or substance abuse treatment resources with previous employers?\n",
      "Would you have felt more comfortable talking to your previous employer about your physical health or your mental health?\n",
      "Would you have been willing to discuss your mental health with your direct supervisor(s)?\n",
      "Did you ever discuss your mental health with your previous employer?\n",
      "Would you have been willing to discuss your mental health with your coworkers at previous employers?\n",
      "Did you ever discuss your mental health with a previous coworker(s)?\n",
      "Did you ever have a previous coworker discuss their or another coworker's mental health with you?\n",
      "Overall, how much importance did your previous employer place on physical health?\n",
      "Overall, how much importance did your previous employer place on mental health?\n",
      "Do you currently have a mental health disorder?\n",
      "Have you ever been diagnosed with a mental health disorder?\n",
      "What disorder(s) have you been diagnosed with?\n",
      "If possibly, what disorder(s) do you believe you have?\n",
      "If so, what disorder(s) were you diagnosed with?\n",
      "Have you had a mental health disorder in the past?\n",
      "Have you ever sought treatment for a mental health disorder from a mental health professional?\n",
      "Do you have a family history of mental illness?\n",
      "If you have a mental health disorder, how often do you feel that it interferes with your work *when being treated effectively?*\n",
      "If you have a mental health disorder, how often do you feel that it interferes with your work *when* _*NOT*_* being treated effectively (i.e., when you are experiencing symptoms)?*\n",
      "Have your observations of how another individual who discussed a mental health issue made you less likely to reveal a mental health issue yourself in your current workplace?\n",
      "How willing would you be to share with friends and family that you have a mental illness?\n",
      "Would you be willing to bring up a physical health issue with a potential employer in an interview?\n",
      "Would you bring up your mental health with a potential employer in an interview?\n",
      "Are you openly identified at work as a person with a mental health issue?\n",
      "Has being identified as a person with a mental health issue affected your career?\n",
      "How has it affected your career?\n",
      "If they knew you suffered from a mental health disorder, how do you think that team members/co-workers would react?\n",
      "Have you observed or experienced an unsupportive or badly handled response to a mental health issue in your current or previous workplace?\n",
      "Have you observed or experienced supportive or well handled response to a mental health issue in your current or previous workplace?\n",
      "Overall, how well do you think the tech industry supports employees with mental health issues?\n",
      "Would you be willing to talk to one of us more extensively about your experiences with mental health issues in the tech industry? (Note that all interview responses would be used _anonymously_ and only with your permission.)\n",
      "What country do you *live* in?\n",
      "What US state or territory do you *live* in?\n",
      "What is your race?\n",
      "What country do you *work* in?\n",
      "What US state or territory do you *work* in?\n"
     ]
    }
   ],
   "source": [
    "# Select content inside the script element that contains information about the survey questions and answers\n",
    "script = soup.select('script')[11]\n",
    "\n",
    "# Set a Regex pattern to extract the report's payload and apply the pattern on the script text\n",
    "pattern = re.compile(\"(?<=window.__REPORT_PAYLOAD = ).*(?=};)\")\n",
    "fields = re.findall(pattern, script.text)\n",
    "\n",
    "# Complete the string to be able to input to the JSON parser\n",
    "fields[0] = fields[0] + '}'\n",
    "\n",
    "# Convert the string to JSON\n",
    "json_param = json.loads(fields[0])\n",
    "\n",
    "# Print all the questions asked in the survey\n",
    "print(\"Number of questions in the survey:\", len(json_param['blocks']))\n",
    "print('-'*100)\n",
    "for question in json_param['blocks']:\n",
    "    title = question['title']\n",
    "        uestion['title'].replace('*', '')\n",
    "    print(question['title'])"
   ]
  }
 ],
 "metadata": {
  "kernelspec": {
   "display_name": "Python 3 (ipykernel)",
   "language": "python",
   "name": "python3"
  },
  "language_info": {
   "codemirror_mode": {
    "name": "ipython",
    "version": 3
   },
   "file_extension": ".py",
   "mimetype": "text/x-python",
   "name": "python",
   "nbconvert_exporter": "python",
   "pygments_lexer": "ipython3",
   "version": "3.8.10"
  }
 },
 "nbformat": 4,
 "nbformat_minor": 5
}
