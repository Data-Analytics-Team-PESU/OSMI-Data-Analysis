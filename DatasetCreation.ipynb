{
 "cells": [
  {
   "cell_type": "markdown",
   "id": "d543b406",
   "metadata": {},
   "source": [
    "# Dataset Creation using Web Scraping & Cleaning Techniques"
   ]
  },
  {
   "cell_type": "markdown",
   "id": "4b0723da",
   "metadata": {},
   "source": [
    "Typeform is an online SAAS company for web form and survey creation. OSMI has utilized this software for its surveys from the year 2016. On the publicly available survey webpage, all the questions asked are followed by a distribution of the responses. We scrape data about the questions for merging with the Kaggle dataset for each year's survey. To scrape the questions of its online surveys, we use the ```requests``` and ```BeautifulSoup``` libraries. In order to acquire the responses of each participant, we use the dataset on Kaggle.\n",
    "\n",
    "**Data Sources:**\n",
    "1. [OSMI 2016 Survey]()\n",
    "2. [OSMI 2017 Survey]()\n",
    "3. [OSMI 2018 Survey](https://osmi.typeform.com/report/xztgPT/NFu2PHjwsMUkkL3h) and the corresponding [Kaggle Dataset](https://www.kaggle.com/osmihelp/osmi-mental-health-in-tech-survey-2018)\n",
    "4. [OSMI 2020 Survey]()"
   ]
  },
  {
   "cell_type": "markdown",
   "id": "7904c46c",
   "metadata": {},
   "source": [
    "## 01 OSMI 2018 Survey"
   ]
  },
  {
   "cell_type": "code",
   "execution_count": 411,
   "id": "32f7bec4",
   "metadata": {
    "scrolled": false
   },
   "outputs": [
    {
     "name": "stdout",
     "output_type": "stream",
     "text": [
      "Web scraping response status:\n",
      " 200\n",
      "Dataset Title:\n",
      " OSMI Mental Health in Tech Survey 2018\n"
     ]
    }
   ],
   "source": [
    "# Import libraries necessary for web scraping and dataset creation\n",
    "import re\n",
    "import sys\n",
    "import json\n",
    "import requests\n",
    "import numpy as np\n",
    "import pandas as pd\n",
    "from bs4 import BeautifulSoup\n",
    "from collections import Counter\n",
    "\n",
    "# Request typeform survey webpage for contents\n",
    "res = requests.get(\n",
    "      'https://osmi.typeform.com/report/xztgPT/NFu2PHjwsMUkkL3h')\n",
    "\n",
    "# Extract response status and validate for successful transaction\n",
    "status = res.status_code\n",
    "if status != 200:\n",
    "    sys.exit(1)\n",
    "else:\n",
    "    print(\"Web scraping response status:\\n\", status)\n",
    "\n",
    "# Parse HTML title, head and body contents using BeautifulSoup\n",
    "soup = BeautifulSoup(res.content, 'html.parser')\n",
    "\n",
    "print(\"Dataset Title:\\n\", soup.title.text)"
   ]
  },
  {
   "cell_type": "code",
   "execution_count": 412,
   "id": "8a4e8d3c",
   "metadata": {},
   "outputs": [
    {
     "name": "stdout",
     "output_type": "stream",
     "text": [
      "Number of questions in the survey: 68\n",
      "----------------------------------------------------------------------------------------------------\n",
      "Are you self-employed?\n",
      "How many employees does your company or organization have?\n",
      "Is your employer primarily a tech company/organization?\n",
      "Is your primary role within your company related to tech/IT?\n",
      "Does your employer provide mental health benefits as part of healthcare coverage?\n",
      "Do you know the options for mental health care available under your employer-provided health coverage?\n",
      "Has your employer ever formally discussed mental health (for example, as part of a wellness campaign or other official communication)?\n",
      "Does your employer offer resources to learn more about mental health disorders and options for seeking help?\n",
      "Is your anonymity protected if you choose to take advantage of mental health or substance abuse treatment resources provided by your employer?\n",
      "If a mental health issue prompted you to request a medical leave from work, how easy or difficult would it be to ask for that leave?\n",
      "Would you feel more comfortable talking to your coworkers about your physical health or your mental health?\n",
      "Would you feel comfortable discussing a mental health issue with your direct supervisor(s)?\n",
      "Have you ever discussed your mental health with your employer?\n",
      "Would you feel comfortable discussing a mental health issue with your coworkers?\n",
      "Have you ever discussed your mental health with coworkers?\n",
      "Have you ever had a coworker discuss their or another coworker's mental health with you?\n",
      "Overall, how much importance does your employer place on physical health?\n",
      "Overall, how much importance does your employer place on mental health?\n",
      "Do you have medical coverage (private insurance or state-provided) that includes treatment of mental health disorders?\n",
      "Do you know local or online resources to seek help for a mental health issue?\n",
      "If you have been diagnosed or treated for a mental health disorder, do you ever reveal this to clients or business contacts?\n",
      "If you have revealed a mental health disorder to a client or business contact, how has this affected you or the relationship?\n",
      "If you have been diagnosed or treated for a mental health disorder, do you ever reveal this to coworkers or employees?\n",
      "If you have revealed a mental health disorder to a coworker or employee, how has this impacted you or the relationship?\n",
      "Do you believe your productivity is ever affected by a mental health issue?\n",
      "If yes, what percentage of your work time (time performing primary or secondary job functions) is affected by a mental health issue?\n",
      "Do you have previous employers?\n",
      "Was your employer primarily a tech company/organization?\n",
      "Have your previous employers provided mental health benefits?\n",
      "Were you aware of the options for mental health care provided by your previous employers?\n",
      "Did your previous employers ever formally discuss mental health (as part of a wellness campaign or other official communication)?\n",
      "Did your previous employers provide resources to learn more about mental health disorders and how to seek help?\n",
      "Was your anonymity protected if you chose to take advantage of mental health or substance abuse treatment resources with previous employers?\n",
      "Would you have felt more comfortable talking to your previous employer about your physical health or your mental health?\n",
      "Would you have been willing to discuss your mental health with your direct supervisor(s)?\n",
      "Did you ever discuss your mental health with your previous employer?\n",
      "Would you have been willing to discuss your mental health with your coworkers at previous employers?\n",
      "Did you ever discuss your mental health with a previous coworker(s)?\n",
      "Did you ever have a previous coworker discuss their or another coworker's mental health with you?\n",
      "Overall, how much importance did your previous employer place on physical health?\n",
      "Overall, how much importance did your previous employer place on mental health?\n",
      "Do you currently have a mental health disorder?\n",
      "Have you ever been diagnosed with a mental health disorder?\n",
      "What disorder(s) have you been diagnosed with?\n",
      "If possibly, what disorder(s) do you believe you have?\n",
      "If so, what disorder(s) were you diagnosed with?\n",
      "Have you had a mental health disorder in the past?\n",
      "Have you ever sought treatment for a mental health disorder from a mental health professional?\n",
      "Do you have a family history of mental illness?\n",
      "If you have a mental health disorder, how often do you feel that it interferes with your work when being treated effectively?\n",
      "If you have a mental health disorder, how often do you feel that it interferes with your work when NOT being treated effectively (i.e., when you are experiencing symptoms)?\n",
      "Have your observations of how another individual who discussed a mental health issue made you less likely to reveal a mental health issue yourself in your current workplace?\n",
      "How willing would you be to share with friends and family that you have a mental illness?\n",
      "Would you be willing to bring up a physical health issue with a potential employer in an interview?\n",
      "Would you bring up your mental health with a potential employer in an interview?\n",
      "Are you openly identified at work as a person with a mental health issue?\n",
      "Has being identified as a person with a mental health issue affected your career?\n",
      "How has it affected your career?\n",
      "If they knew you suffered from a mental health disorder, how do you think that team members/co-workers would react?\n",
      "Have you observed or experienced an unsupportive or badly handled response to a mental health issue in your current or previous workplace?\n",
      "Have you observed or experienced supportive or well handled response to a mental health issue in your current or previous workplace?\n",
      "Overall, how well do you think the tech industry supports employees with mental health issues?\n",
      "Would you be willing to talk to one of us more extensively about your experiences with mental health issues in the tech industry? (Note that all interview responses would be used anonymously and only with your permission.)\n",
      "What country do you live in?\n",
      "What US state or territory do you live in?\n",
      "What is your race?\n",
      "What country do you work in?\n",
      "What US state or territory do you work in?\n"
     ]
    }
   ],
   "source": [
    "# Select content inside the script element that contains information about the survey questions and answers\n",
    "script = soup.select('script')[11]\n",
    "\n",
    "# Set a Regex pattern to extract the report's payload and apply the pattern on the script text\n",
    "pattern = re.compile(\"(?<=window.__REPORT_PAYLOAD = ).*(?=};)\")\n",
    "fields = re.findall(pattern, script.text)\n",
    "\n",
    "# Complete the string to be able to input to the JSON parser\n",
    "fields[0] = fields[0] + '}'\n",
    "\n",
    "# Convert the string to JSON\n",
    "json_param = json.loads(fields[0])\n",
    "\n",
    "# Print all the questions asked in the survey\n",
    "questions = json_param['blocks']\n",
    "print(\"Number of questions in the survey:\", len(questions))\n",
    "print('-'*100)\n",
    "\n",
    "# Process each question to remove * present representing bolded words\n",
    "question_titles = []\n",
    "for question in questions:\n",
    "    question['title'] = question['title'].replace('*', '')\n",
    "    question['title'] = question['title'].replace('_', '')\n",
    "    question_titles.append(question['title'])\n",
    "    print(question['title'])"
   ]
  },
  {
   "cell_type": "code",
   "execution_count": 413,
   "id": "8f9a6b9a",
   "metadata": {
    "scrolled": true
   },
   "outputs": [
    {
     "data": {
      "text/plain": [
       "Counter({'yes_no': 16,\n",
       "         'multiple_choice': 40,\n",
       "         'opinion_scale': 7,\n",
       "         'rating': 1,\n",
       "         'dropdown': 4})"
      ]
     },
     "execution_count": 413,
     "metadata": {},
     "output_type": "execute_result"
    }
   ],
   "source": [
    "# Analyze the types of questions asked in the survey\n",
    "question_types = []\n",
    "for question in questions:\n",
    "    question_types.append(question['type'])\n",
    "Counter(question_types)"
   ]
  },
  {
   "cell_type": "code",
   "execution_count": 414,
   "id": "657e0908",
   "metadata": {
    "scrolled": true
   },
   "outputs": [
    {
     "name": "stdout",
     "output_type": "stream",
     "text": [
      "Number of respondents for each question out of 417 participants:\n",
      " [417, 361, 361, 361, 361, 361, 361, 361, 361, 361, 361, 361, 361, 361, 360, 360, 361, 361, 56, 56, 56, 56, 56, 56, 56, 41, 417, 363, 363, 363, 363, 363, 363, 363, 363, 363, 363, 362, 363, 363, 363, 417, 191, 0, 81, 188, 415, 417, 417, 417, 417, 417, 417, 417, 417, 417, 51, 16, 417, 417, 417, 417, 417, 417, 311, 311, 417, 314]\n"
     ]
    }
   ],
   "source": [
    "# Get the total number of participants in the survey\n",
    "total_resp = json_param['totalResponsesCount']\n",
    "\n",
    "# Get the number of participants that answered each question\n",
    "counts = []\n",
    "for question in questions:\n",
    "    counts.append(question['summary']['count'])\n",
    "print(\"Number of respondents for each question out of {0} participants:\\n {1}\".format(total_resp, counts))"
   ]
  },
  {
   "cell_type": "code",
   "execution_count": 415,
   "id": "b3734db8",
   "metadata": {},
   "outputs": [
    {
     "name": "stdout",
     "output_type": "stream",
     "text": [
      "Number of columns: 123\n",
      "----------------------------------------------------------------------------------------------------\n",
      "0 #\n",
      "14 Describe the conversation you had with your employer about your mental health, including their reactions and what actions were taken to address your mental health issue/questions.\n",
      "17 Describe the conversation with coworkers you had about your mental health including their reactions.\n",
      "19 Describe the conversation your coworker had with you about their mental health (please do not use names).\n",
      "40 Describe the conversation you had with your previous employer about your mental health, including their reactions and actions taken to address your mental health issue/questions.\n",
      "43 Describe the conversation you had with your previous coworkers about your mental health including their reactions.\n",
      "45 Describe the conversation your coworker had with you about their mental health (please do not use names)..1\n",
      "50 Anxiety Disorder (Generalized, Social, Phobia, etc)\n",
      "51 Mood Disorder (Depression, Bipolar Disorder, etc)\n",
      "52 Psychotic Disorder (Schizophrenia, Schizoaffective, etc)\n",
      "53 Eating Disorder (Anorexia, Bulimia, etc)\n",
      "54 Attention Deficit Hyperactivity Disorder\n",
      "55 Personality Disorder (Borderline, Antisocial, Paranoid, etc)\n",
      "56 Obsessive-Compulsive Disorder\n",
      "57 Post-Traumatic Stress Disorder\n",
      "58 Stress Response Syndromes\n",
      "59 Dissociative Disorder\n",
      "60 Substance Use Disorder\n",
      "61 Addictive Disorder\n",
      "62 Other\n",
      "63 Anxiety Disorder (Generalized, Social, Phobia, etc).1\n",
      "64 Mood Disorder (Depression, Bipolar Disorder, etc).1\n",
      "65 Psychotic Disorder (Schizophrenia, Schizoaffective, etc).1\n",
      "66 Eating Disorder (Anorexia, Bulimia, etc).1\n",
      "67 Attention Deficit Hyperactivity Disorder.1\n",
      "68 Personality Disorder (Borderline, Antisocial, Paranoid, etc).1\n",
      "69 Obsessive-Compulsive Disorder.1\n",
      "70 Post-traumatic Stress Disorder\n",
      "71 Stress Response Syndromes.1\n",
      "72 Dissociative Disorder.1\n",
      "73 Substance Use Disorder.1\n",
      "74 Addictive Disorder.1\n",
      "75 Other.1\n",
      "76 Anxiety Disorder (Generalized, Social, Phobia, etc).2\n",
      "77 Mood Disorder (Depression, Bipolar Disorder, etc).2\n",
      "78 Psychotic Disorder (Schizophrenia, Schizoaffective, etc).2\n",
      "79 Eating Disorder (Anorexia, Bulimia, etc).2\n",
      "80 Attention Deficit Hyperactivity Disorder.2\n",
      "81 Personality Disorder (Borderline, Antisocial, Paranoid, etc).2\n",
      "82 Obsessive-Compulsive Disorder.2\n",
      "83 Post-traumatic Stress Disorder.1\n",
      "84 Stress Response Syndromes.2\n",
      "85 Dissociative Disorder.2\n",
      "86 Substance Use Disorder.2\n",
      "87 Addictive Disorder.2\n",
      "88 Other.2\n",
      "105 Describe the circumstances of the badly handled or unsupportive response.\n",
      "107 Describe the circumstances of the supportive or well handled response.\n",
      "109 Briefly describe what you think the industry as a whole and/or employers could do to improve mental health support for employees.\n",
      "110 If there is anything else you would like to tell us that has not been covered by the survey questions, please use this space to do so.\n",
      "117 Other.3\n",
      "120 Start Date (UTC)\n",
      "121 Submit Date (UTC)\n",
      "122 Network ID\n"
     ]
    }
   ],
   "source": [
    "# Import Kaggle dataset and examine the columns\n",
    "data_2018 = pd.read_csv('datasets/2018_dataset_from_Kaggle.csv')\n",
    "print(\"Number of columns:\", len(data_2018.columns))\n",
    "print('-'*100)\n",
    "for count, i in enumerate(data_2018.columns):\n",
    "    if '?' not in i:\n",
    "        print(count, i)"
   ]
  },
  {
   "cell_type": "markdown",
   "id": "f5b5693a",
   "metadata": {},
   "source": [
    "Since we look to aggregate columns from multiple datasets throughout the years, we merge the columns of descriptive questions to form a single column: `comments`. We also drop the first column representing the participant ID and a few other columns that are not relevant to our study."
   ]
  },
  {
   "cell_type": "code",
   "execution_count": 416,
   "id": "a401546d",
   "metadata": {},
   "outputs": [],
   "source": [
    "data_2018.drop(['#', 'Start Date (UTC)', 'Submit Date (UTC)', 'Network ID'], axis=1, inplace=True)"
   ]
  },
  {
   "cell_type": "markdown",
   "id": "1e83a858",
   "metadata": {},
   "source": [
    "The columns with indices between 50 to 62, 63 to 75 and 76 to 88 correspond to, respectively,\n",
    "\n",
    "`What disorder(s) have you been diagnosed with?`\n",
    "\n",
    "`If possibly, what disorder(s) do you believe you have?`\n",
    "\n",
    "`If so, what disorder(s) were you diagnosed with?`.\n",
    "\n",
    "Therefore, we merge the corresponding columns of indices to create new columns with the attribute headings being the above qustions."
   ]
  },
  {
   "cell_type": "code",
   "execution_count": 417,
   "id": "a9d339e2",
   "metadata": {},
   "outputs": [],
   "source": [
    "cols_1 = ['Anxiety Disorder (Generalized, Social, Phobia, etc)',\n",
    "          'Mood Disorder (Depression, Bipolar Disorder, etc)',\n",
    "          'Psychotic Disorder (Schizophrenia, Schizoaffective, etc)',\n",
    "          'Eating Disorder (Anorexia, Bulimia, etc)',\n",
    "          'Attention Deficit Hyperactivity Disorder',\n",
    "          'Personality Disorder (Borderline, Antisocial, Paranoid, etc)',\n",
    "          'Obsessive-Compulsive Disorder',\n",
    "          'Post-Traumatic Stress Disorder',\n",
    "          'Stress Response Syndromes',\n",
    "          'Dissociative Disorder',\n",
    "          'Substance Use Disorder',\n",
    "          'Addictive Disorder',\n",
    "          'Other']\n",
    "data_2018.rename(columns = {'Post-traumatic Stress Disorder':'Post-Traumatic Stress Disorder.1',\n",
    "                           'Post-traumatic Stress Disorder.1':'Post-Traumatic Stress Disorder.2'}, inplace = True)\n",
    "cols_2 = [i + '.1' for i in cols_1]\n",
    "cols_3 = [i + '.2' for i in cols_1]\n",
    "\n",
    "cols_4 = ['Describe the conversation you had with your employer about your mental health, including their reactions and what actions were taken to address your mental health issue/questions.',\n",
    "          'Describe the conversation with coworkers you had about your mental health including their reactions.',\n",
    "          'Describe the conversation your coworker had with you about their mental health (please do not use names).',\n",
    "          'Describe the conversation you had with your previous employer about your mental health, including their reactions and actions taken to address your mental health issue/questions.',\n",
    "          'Describe the conversation you had with your previous coworkers about your mental health including their reactions.',\n",
    "          'Describe the conversation your coworker had with you about their mental health (please do not use names)..1',\n",
    "          'Describe the circumstances of the badly handled or unsupportive response.',\n",
    "          'Describe the circumstances of the supportive or well handled response.',\n",
    "          'Briefly describe what you think the industry as a whole and/or employers could do to improve mental health support for employees.',\n",
    "          'If there is anything else you would like to tell us that has not been covered by the survey questions, please use this space to do so.',\n",
    "          'Other.3']\n",
    "\n",
    "q_1 = 'What disorder(s) have you been diagnosed with?'\n",
    "q_2 = 'If possibly, what disorder(s) do you believe you have?'\n",
    "q_3 = 'If so, what disorder(s) were you diagnosed with?'\n",
    "q_4 = 'comments'\n"
   ]
  },
  {
   "cell_type": "code",
   "execution_count": 418,
   "id": "0a96d461",
   "metadata": {},
   "outputs": [],
   "source": [
    "def merge_columns(df, new_col, col_list):\n",
    "    df[new_col] = df[col_list].apply(lambda x: ', '.join(x.dropna().astype(str)), 1)\n",
    "    df[new_col] = df[new_col].apply(lambda aCode: np.nan if aCode == '' else aCode)\n",
    "    df.drop(col_list, axis=1, inplace=True)"
   ]
  },
  {
   "cell_type": "code",
   "execution_count": 419,
   "id": "1821c851",
   "metadata": {},
   "outputs": [],
   "source": [
    "merge_columns(data_2018, q_1, cols_1)\n",
    "merge_columns(data_2018, q_2, cols_2)\n",
    "merge_columns(data_2018, q_3, cols_3)\n",
    "merge_columns(data_2018, q_4, cols_4)"
   ]
  },
  {
   "cell_type": "code",
   "execution_count": 420,
   "id": "8c4d2316",
   "metadata": {},
   "outputs": [
    {
     "name": "stdout",
     "output_type": "stream",
     "text": [
      "Number of columns: 73\n",
      "----------------------------------------------------------------------------------------------------\n",
      "Are you self-employed?\n",
      "How many employees does your company or organization have?\n",
      "Is your employer primarily a tech company/organization?\n",
      "Is your primary role within your company related to tech/IT?\n",
      "Does your employer provide mental health benefits as part of healthcare coverage?\n",
      "Do you know the options for mental health care available under your employer-provided health coverage?\n",
      "Has your employer ever formally discussed mental health (for example, as part of a wellness campaign or other official communication)?\n",
      "Does your employer offer resources to learn more about mental health disorders and options for seeking help?\n",
      "Is your anonymity protected if you choose to take advantage of mental health or substance abuse treatment resources provided by your employer?\n",
      "If a mental health issue prompted you to request a medical leave from work, how easy or difficult would it be to ask for that leave?\n",
      "Would you feel more comfortable talking to your coworkers about your physical health or your mental health?\n",
      "Would you feel comfortable discussing a mental health issue with your direct supervisor(s)?\n",
      "Have you ever discussed your mental health with your employer?\n",
      "Would you feel comfortable discussing a mental health issue with your coworkers?\n",
      "Have you ever discussed your mental health with coworkers?\n",
      "Have you ever had a coworker discuss their or another coworker's mental health with you?\n",
      "Overall, how much importance does your employer place on physical health?\n",
      "Overall, how much importance does your employer place on mental health?\n",
      "Do you have medical coverage (private insurance or state-provided) that includes treatment of mental health disorders?\n",
      "Do you know local or online resources to seek help for a mental health issue?\n",
      "If you have been diagnosed or treated for a mental health disorder, do you ever reveal this to clients or business contacts?\n",
      "If you have revealed a mental health disorder to a client or business contact, how has this affected you or the relationship?\n",
      "If you have been diagnosed or treated for a mental health disorder, do you ever reveal this to coworkers or employees?\n",
      "If you have revealed a mental health disorder to a coworker or employee, how has this impacted you or the relationship?\n",
      "Do you believe your productivity is ever affected by a mental health issue?\n",
      "If yes, what percentage of your work time (time performing primary or secondary job functions) is affected by a mental health issue?\n",
      "Do you have previous employers?\n",
      "Was your employer primarily a tech company/organization?\n",
      "Have your previous employers provided mental health benefits?\n",
      "Were you aware of the options for mental health care provided by your previous employers?\n",
      "Did your previous employers ever formally discuss mental health (as part of a wellness campaign or other official communication)?\n",
      "Did your previous employers provide resources to learn more about mental health disorders and how to seek help?\n",
      "Was your anonymity protected if you chose to take advantage of mental health or substance abuse treatment resources with previous employers?\n",
      "Would you have felt more comfortable talking to your previous employer about your physical health or your mental health?\n",
      "Would you have been willing to discuss your mental health with your direct supervisor(s)?\n",
      "Did you ever discuss your mental health with your previous employer?\n",
      "Would you have been willing to discuss your mental health with your coworkers at previous employers?\n",
      "Did you ever discuss your mental health with a previous coworker(s)?\n",
      "Did you ever have a previous coworker discuss their or another coworker's mental health with you?\n",
      "Overall, how much importance did your previous employer place on physical health?\n",
      "Overall, how much importance did your previous employer place on mental health?\n",
      "Do you currently have a mental health disorder?\n",
      "Have you ever been diagnosed with a mental health disorder?\n",
      "Have you had a mental health disorder in the past?\n",
      "Have you ever sought treatment for a mental health disorder from a mental health professional?\n",
      "Do you have a family history of mental illness?\n",
      "If you have a mental health disorder, how often do you feel that it interferes with your work when being treated effectively?\n",
      "If you have a mental health disorder, how often do you feel that it interferes with your work when NOT being treated effectively (i.e., when you are experiencing symptoms)?\n",
      "Have your observations of how another individual who discussed a mental health issue made you less likely to reveal a mental health issue yourself in your current workplace?\n",
      "How willing would you be to share with friends and family that you have a mental illness?\n",
      "Would you be willing to bring up a physical health issue with a potential employer in an interview?\n",
      "Why or why not?\n",
      "Would you bring up your mental health with a potential employer in an interview?\n",
      "Why or why not?.1\n",
      "Are you openly identified at work as a person with a mental health issue?\n",
      "Has being identified as a person with a mental health issue affected your career?\n",
      "How has it affected your career?\n",
      "If they knew you suffered from a mental health disorder, how do you think that team members/co-workers would react?\n",
      "Have you observed or experienced an unsupportive or badly handled response to a mental health issue in your current or previous workplace?\n",
      "Have you observed or experienced supportive or well handled response to a mental health issue in your current or previous workplace?\n",
      "Overall, how well do you think the tech industry supports employees with mental health issues?\n",
      "Would you be willing to talk to one of us more extensively about your experiences with mental health issues in the tech industry? (Note that all interview responses would be used anonymously and only with your permission.)\n",
      "What is your age?\n",
      "What is your gender?\n",
      "What country do you live in?\n",
      "What US state or territory do you live in?\n",
      "What is your race?\n",
      "What country do you work in?\n",
      "What US state or territory do you work in?\n",
      "What disorder(s) have you been diagnosed with?\n",
      "If possibly, what disorder(s) do you believe you have?\n",
      "If so, what disorder(s) were you diagnosed with?\n",
      "comments\n"
     ]
    }
   ],
   "source": [
    "print(\"Number of columns:\", len(data_2018.columns))\n",
    "print('-'*100)\n",
    "for i in range(len(data_2018.columns)):\n",
    "    for string in ['<strong>', '</strong>', '<em>', '</em>']:\n",
    "        data_2018.rename(columns = {data_2018.columns[i]:data_2018.columns[i].replace(string, '')}, inplace=True)"
   ]
  },
  {
   "cell_type": "markdown",
   "id": "aa498cb2",
   "metadata": {},
   "source": [
    "### Cleaned Kaggle Dataset"
   ]
  },
  {
   "cell_type": "code",
   "execution_count": null,
   "id": "adfcd88f",
   "metadata": {},
   "outputs": [],
   "source": [
    "print('Final cleaned Kaggle dataset:')\n",
    "for i in data_2018.columns:\n",
    "    print(i)"
   ]
  },
  {
   "cell_type": "code",
   "execution_count": 422,
   "id": "0e78b2b4",
   "metadata": {},
   "outputs": [
    {
     "name": "stdout",
     "output_type": "stream",
     "text": [
      "['Why or why not?', 'Why or why not?.1', 'What is your age?', 'What is your gender?', 'comments']\n"
     ]
    }
   ],
   "source": [
    "# Analyze the attributes that are present in the Kaggle dataset and not in the scraped dataset\n",
    "print([i for i in data_2018.columns if i not in question_titles])"
   ]
  },
  {
   "cell_type": "markdown",
   "id": "e67cd301",
   "metadata": {},
   "source": [
    "The attributes age, gender and comments are important for the final aggregation, and so we retain them as is. We do not need the explanatory questions, and so they are dropped."
   ]
  },
  {
   "cell_type": "code",
   "execution_count": 423,
   "id": "2da206bd",
   "metadata": {},
   "outputs": [
    {
     "ename": "SyntaxError",
     "evalue": "invalid syntax (1907645675.py, line 1)",
     "output_type": "error",
     "traceback": [
      "\u001b[0;36m  File \u001b[0;32m\"/tmp/ipykernel_8098/1907645675.py\"\u001b[0;36m, line \u001b[0;32m1\u001b[0m\n\u001b[0;31m    df.drop([['Why or why not?', 'Why or why not?.1'], axis=1, inplace=True)\u001b[0m\n\u001b[0m                                                           ^\u001b[0m\n\u001b[0;31mSyntaxError\u001b[0m\u001b[0;31m:\u001b[0m invalid syntax\n"
     ]
    }
   ],
   "source": [
    "df.drop([['Why or why not?', 'Why or why not?.1'], axis=1, inplace=True)"
   ]
  }
 ],
 "metadata": {
  "kernelspec": {
   "display_name": "Python 3 (ipykernel)",
   "language": "python",
   "name": "python3"
  },
  "language_info": {
   "codemirror_mode": {
    "name": "ipython",
    "version": 3
   },
   "file_extension": ".py",
   "mimetype": "text/x-python",
   "name": "python",
   "nbconvert_exporter": "python",
   "pygments_lexer": "ipython3",
   "version": "3.8.10"
  }
 },
 "nbformat": 4,
 "nbformat_minor": 5
}
