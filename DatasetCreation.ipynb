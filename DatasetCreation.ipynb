{
 "cells": [
  {
   "cell_type": "markdown",
   "id": "61d230ed",
   "metadata": {},
   "source": [
    "# Dataset Creation with Web Scraping "
   ]
  },
  {
   "cell_type": "markdown",
   "id": "b0ad3e9f",
   "metadata": {},
   "source": [
    "Typeform is an online SAAS company for web form and survey creation. OSMI utilizes this software for its surveys.\n",
    "To scrape details of its online surveys, we use the ```requests``` and ```BeautifulSoup``` libraries.\n",
    "\n",
    "Data Sources:\n",
    "1. [OSMI 2016 Survey]()\n",
    "2. [OSMI 2017 Survey]()\n",
    "3. [OSMI 2018 Survey]()\n",
    "4. [OSMI 2020 Survey]()"
   ]
  },
  {
   "cell_type": "markdown",
   "id": "0d6b47b2",
   "metadata": {},
   "source": [
    "## 01 OSMI 2018 Survey"
   ]
  },
  {
   "cell_type": "code",
   "execution_count": 86,
   "id": "aa2dbc3a",
   "metadata": {
    "scrolled": false
   },
   "outputs": [
    {
     "name": "stdout",
     "output_type": "stream",
     "text": [
      "Web scraping response status:\n",
      " 200\n",
      "Dataset Title:\n",
      " OSMI Mental Health in Tech Survey 2018\n"
     ]
    }
   ],
   "source": [
    "# Import libraries necessary for web scraping and dataset creation\n",
    "import re\n",
    "import sys\n",
    "import json\n",
    "import pandas\n",
    "import requests\n",
    "from bs4 import BeautifulSoup\n",
    "\n",
    "# Request typeform survey webpage for contents\n",
    "res = requests.get(\n",
    "      'https://osmi.typeform.com/report/xztgPT/NFu2PHjwsMUkkL3h')\n",
    "\n",
    "# Extract response status and validate for successful transaction\n",
    "status = res.status_code\n",
    "if status != 200:\n",
    "    sys.exit(1)\n",
    "else:\n",
    "    print(\"Web scraping response status:\\n\", status)\n",
    "\n",
    "# Parse HTML title, head and body contents using BeautifulSoup\n",
    "soup = BeautifulSoup(res.content, 'html.parser')\n",
    "\n",
    "print(\"Dataset Title:\\n\", soup.title.text)"
   ]
  },
  {
   "cell_type": "code",
   "execution_count": 121,
   "id": "2402ed8d",
   "metadata": {},
   "outputs": [
    {
     "name": "stdout",
     "output_type": "stream",
     "text": [
      "*Are you self-employed?*\n",
      "*If you have been diagnosed or treated for a mental health disorder, do you ever reveal this to clients or business contacts?*\n",
      "*If you have been diagnosed or treated for a mental health disorder, do you ever reveal this to coworkers or employees?*\n",
      "*Do you have previous employers?*\n",
      "*Have your previous employers provided mental health benefits?*\n",
      "*Were you aware of the options for mental health care provided by your previous employers?*\n",
      "*Would you have been willing to discuss your mental health with your coworkers at previous employers?*\n",
      "*What disorder(s) have you been diagnosed with?*\n",
      "*If possibly, what disorder(s) do you believe you have?*\n",
      "*Have you observed or experienced an unsupportive or badly handled response to a mental health issue in your current or previous workplace?*\n",
      "*Have you observed or experienced supportive or well handled response to a mental health issue in your current or previous workplace?*\n"
     ]
    }
   ],
   "source": [
    "# Select content inside the script element that contains information about the survey questions and answers\n",
    "script = soup.select('script')[11]\n",
    "\n",
    "# Set a Regex pattern to extract the report's payload and apply the pattern on the script text\n",
    "pattern = re.compile(\"(?<=window.__REPORT_PAYLOAD = ).*(?=};)\")\n",
    "fields = re.findall(pattern, script.text)\n",
    "\n",
    "# Complete the string to be able to input to the JSON parser\n",
    "fields[0] = fields[0] + '}'\n",
    "\n",
    "# Convert the string to JSON\n",
    "json_param = json.loads(fields[0])\n",
    "\n",
    "for question in json_param['blocks']:\n",
    "    title = ['title']\n",
    "    if title[0] == '*' and title[-1] == '*':\n",
    "        t"
   ]
  }
 ],
 "metadata": {
  "kernelspec": {
   "display_name": "Python 3 (ipykernel)",
   "language": "python",
   "name": "python3"
  },
  "language_info": {
   "codemirror_mode": {
    "name": "ipython",
    "version": 3
   },
   "file_extension": ".py",
   "mimetype": "text/x-python",
   "name": "python",
   "nbconvert_exporter": "python",
   "pygments_lexer": "ipython3",
   "version": "3.8.10"
  }
 },
 "nbformat": 4,
 "nbformat_minor": 5
}
