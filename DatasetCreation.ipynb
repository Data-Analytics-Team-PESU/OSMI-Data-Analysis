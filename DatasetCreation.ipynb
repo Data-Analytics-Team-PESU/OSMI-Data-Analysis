{
 "cells": [
  {
   "cell_type": "markdown",
   "id": "41a6a881",
   "metadata": {},
   "source": [
    "# Dataset Creation with Web Scraping "
   ]
  },
  {
   "cell_type": "markdown",
   "id": "3871679c",
   "metadata": {},
   "source": [
    "Typeform is an online SAAS company for web form and survey creation. OSMI has utilized this software for its surveys from the year 2016. On the publicly available survey webpage, all the questions asked are followed by a distribution of the responses. We scrape data about the questions for the creation of a CSV file for each year's survey. To scrape the questions of its online surveys, we use the ```requests``` and ```BeautifulSoup``` libraries. In order to acquire the responses of each participant\n",
    "\n",
    "**Data Sources:**\n",
    "1. [OSMI 2016 Survey]()\n",
    "2. [OSMI 2017 Survey]()\n",
    "3. [OSMI 2018 Survey]()\n",
    "4. [OSMI 2020 Survey]()"
   ]
  },
  {
   "cell_type": "markdown",
   "id": "62a731be",
   "metadata": {},
   "source": [
    "## 01 OSMI 2018 Survey"
   ]
  },
  {
   "cell_type": "code",
   "execution_count": 194,
   "id": "6d9d018f",
   "metadata": {
    "scrolled": false
   },
   "outputs": [
    {
     "name": "stdout",
     "output_type": "stream",
     "text": [
      "Web scraping response status:\n",
      " 200\n",
      "Dataset Title:\n",
      " OSMI Mental Health in Tech Survey 2018\n"
     ]
    }
   ],
   "source": [
    "# Import libraries necessary for web scraping and dataset creation\n",
    "import re\n",
    "import sys\n",
    "import json\n",
    "import requests\n",
    "import pandas as pd\n",
    "from bs4 import BeautifulSoup\n",
    "from collections import Counter\n",
    "\n",
    "# Request typeform survey webpage for contents\n",
    "res = requests.get(\n",
    "      'https://osmi.typeform.com/report/xztgPT/NFu2PHjwsMUkkL3h')\n",
    "\n",
    "# Extract response status and validate for successful transaction\n",
    "status = res.status_code\n",
    "if status != 200:\n",
    "    sys.exit(1)\n",
    "else:\n",
    "    print(\"Web scraping response status:\\n\", status)\n",
    "\n",
    "# Parse HTML title, head and body contents using BeautifulSoup\n",
    "soup = BeautifulSoup(res.content, 'html.parser')\n",
    "\n",
    "print(\"Dataset Title:\\n\", soup.title.text)"
   ]
  },
  {
   "cell_type": "code",
   "execution_count": 195,
   "id": "bba39c9d",
   "metadata": {},
   "outputs": [
    {
     "name": "stdout",
     "output_type": "stream",
     "text": [
      "Number of questions in the survey: 68\n",
      "----------------------------------------------------------------------------------------------------\n",
      "Are you self-employed?\n",
      "How many employees does your company or organization have?\n",
      "Is your employer primarily a tech company/organization?\n",
      "Is your primary role within your company related to tech/IT?\n",
      "Does your employer provide mental health benefits as part of healthcare coverage?\n",
      "Do you know the options for mental health care available under your employer-provided health coverage?\n",
      "Has your employer ever formally discussed mental health (for example, as part of a wellness campaign or other official communication)?\n",
      "Does your employer offer resources to learn more about mental health disorders and options for seeking help?\n",
      "Is your anonymity protected if you choose to take advantage of mental health or substance abuse treatment resources provided by your employer?\n",
      "If a mental health issue prompted you to request a medical leave from work, how easy or difficult would it be to ask for that leave?\n",
      "Would you feel more comfortable talking to your coworkers about your physical health or your mental health?\n",
      "Would you feel comfortable discussing a mental health issue with your direct supervisor(s)?\n",
      "Have you ever discussed your mental health with your employer?\n",
      "Would you feel comfortable discussing a mental health issue with your coworkers?\n",
      "Have you ever discussed your mental health with coworkers?\n",
      "Have you ever had a coworker discuss their or another coworker's mental health with you?\n",
      "Overall, how much importance does your employer place on physical health?\n",
      "Overall, how much importance does your employer place on mental health?\n",
      "Do you have medical coverage (private insurance or state-provided) that includes treatment of mental health disorders?\n",
      "Do you know local or online resources to seek help for a mental health issue?\n",
      "If you have been diagnosed or treated for a mental health disorder, do you ever reveal this to clients or business contacts?\n",
      "If you have revealed a mental health disorder to a client or business contact, how has this affected you or the relationship?\n",
      "If you have been diagnosed or treated for a mental health disorder, do you ever reveal this to coworkers or employees?\n",
      "If you have revealed a mental health disorder to a coworker or employee, how has this impacted you or the relationship?\n",
      "Do you believe your productivity is ever affected by a mental health issue?\n",
      "If yes, what percentage of your work time (time performing primary or secondary job functions) is affected by a mental health issue?\n",
      "Do you have previous employers?\n",
      "Was your employer primarily a tech company/organization?\n",
      "Have your previous employers provided mental health benefits?\n",
      "Were you aware of the options for mental health care provided by your previous employers?\n",
      "Did your previous employers ever formally discuss mental health (as part of a wellness campaign or other official communication)?\n",
      "Did your previous employers provide resources to learn more about mental health disorders and how to seek help?\n",
      "Was your anonymity protected if you chose to take advantage of mental health or substance abuse treatment resources with previous employers?\n",
      "Would you have felt more comfortable talking to your previous employer about your physical health or your mental health?\n",
      "Would you have been willing to discuss your mental health with your direct supervisor(s)?\n",
      "Did you ever discuss your mental health with your previous employer?\n",
      "Would you have been willing to discuss your mental health with your coworkers at previous employers?\n",
      "Did you ever discuss your mental health with a previous coworker(s)?\n",
      "Did you ever have a previous coworker discuss their or another coworker's mental health with you?\n",
      "Overall, how much importance did your previous employer place on physical health?\n",
      "Overall, how much importance did your previous employer place on mental health?\n",
      "Do you currently have a mental health disorder?\n",
      "Have you ever been diagnosed with a mental health disorder?\n",
      "What disorder(s) have you been diagnosed with?\n",
      "If possibly, what disorder(s) do you believe you have?\n",
      "If so, what disorder(s) were you diagnosed with?\n",
      "Have you had a mental health disorder in the past?\n",
      "Have you ever sought treatment for a mental health disorder from a mental health professional?\n",
      "Do you have a family history of mental illness?\n",
      "If you have a mental health disorder, how often do you feel that it interferes with your work when being treated effectively?\n",
      "If you have a mental health disorder, how often do you feel that it interferes with your work when _NOT_ being treated effectively (i.e., when you are experiencing symptoms)?\n",
      "Have your observations of how another individual who discussed a mental health issue made you less likely to reveal a mental health issue yourself in your current workplace?\n",
      "How willing would you be to share with friends and family that you have a mental illness?\n",
      "Would you be willing to bring up a physical health issue with a potential employer in an interview?\n",
      "Would you bring up your mental health with a potential employer in an interview?\n",
      "Are you openly identified at work as a person with a mental health issue?\n",
      "Has being identified as a person with a mental health issue affected your career?\n",
      "How has it affected your career?\n",
      "If they knew you suffered from a mental health disorder, how do you think that team members/co-workers would react?\n",
      "Have you observed or experienced an unsupportive or badly handled response to a mental health issue in your current or previous workplace?\n",
      "Have you observed or experienced supportive or well handled response to a mental health issue in your current or previous workplace?\n",
      "Overall, how well do you think the tech industry supports employees with mental health issues?\n",
      "Would you be willing to talk to one of us more extensively about your experiences with mental health issues in the tech industry? (Note that all interview responses would be used _anonymously_ and only with your permission.)\n",
      "What country do you live in?\n",
      "What US state or territory do you live in?\n",
      "What is your race?\n",
      "What country do you work in?\n",
      "What US state or territory do you work in?\n"
     ]
    }
   ],
   "source": [
    "# Select content inside the script element that contains information about the survey questions and answers\n",
    "script = soup.select('script')[11]\n",
    "\n",
    "# Set a Regex pattern to extract the report's payload and apply the pattern on the script text\n",
    "pattern = re.compile(\"(?<=window.__REPORT_PAYLOAD = ).*(?=};)\")\n",
    "fields = re.findall(pattern, script.text)\n",
    "\n",
    "# Complete the string to be able to input to the JSON parser\n",
    "fields[0] = fields[0] + '}'\n",
    "\n",
    "# Convert the string to JSON\n",
    "json_param = json.loads(fields[0])\n",
    "\n",
    "# Print all the questions asked in the survey\n",
    "questions = json_param['blocks']\n",
    "print(\"Number of questions in the survey:\", len(questions))\n",
    "print('-'*100)\n",
    "\n",
    "# Process each question to remove * present representing bolded words\n",
    "for question in questions:\n",
    "    question['title'] = question['title'].replace('*', '')\n",
    "    print(question['title'])"
   ]
  },
  {
   "cell_type": "code",
   "execution_count": 196,
   "id": "86e77677",
   "metadata": {
    "scrolled": true
   },
   "outputs": [
    {
     "data": {
      "text/plain": [
       "Counter({'yes_no': 16,\n",
       "         'multiple_choice': 40,\n",
       "         'opinion_scale': 7,\n",
       "         'rating': 1,\n",
       "         'dropdown': 4})"
      ]
     },
     "execution_count": 196,
     "metadata": {},
     "output_type": "execute_result"
    }
   ],
   "source": [
    "# Analyze the types of questions asked in the survey\n",
    "question_types = []\n",
    "for question in questions:\n",
    "    question_types.append(question['type'])\n",
    "Counter(question_types)"
   ]
  },
  {
   "cell_type": "code",
   "execution_count": 197,
   "id": "cadc83fa",
   "metadata": {
    "scrolled": true
   },
   "outputs": [
    {
     "name": "stdout",
     "output_type": "stream",
     "text": [
      "Number of respondents for each question out of 417 participants:\n",
      " [417, 361, 361, 361, 361, 361, 361, 361, 361, 361, 361, 361, 361, 361, 360, 360, 361, 361, 56, 56, 56, 56, 56, 56, 56, 41, 417, 363, 363, 363, 363, 363, 363, 363, 363, 363, 363, 362, 363, 363, 363, 417, 191, 0, 81, 188, 415, 417, 417, 417, 417, 417, 417, 417, 417, 417, 51, 16, 417, 417, 417, 417, 417, 417, 311, 311, 417, 314]\n"
     ]
    }
   ],
   "source": [
    "# Get the total number of participants in the survey\n",
    "total_resp = json_param['totalResponsesCount']\n",
    "\n",
    "# Get the number of participants that answered each question\n",
    "counts = []\n",
    "for question in questions:\n",
    "    counts.append(question['summary']['count'])\n",
    "print(\"Number of respondents for each question out of {0} participants:\\n {1}\".format(total_resp, counts))"
   ]
  },
  {
   "cell_type": "code",
   "execution_count": 198,
   "id": "a08fef6b",
   "metadata": {},
   "outputs": [
    {
     "name": "stdout",
     "output_type": "stream",
     "text": [
      "Number of columns: 123\n",
      "----------------------------------------------------------------------------------------------------\n",
      "0 #\n",
      "14 Describe the conversation you had with your employer about your mental health, including their reactions and what actions were taken to address your mental health issue/questions.\n",
      "17 Describe the conversation with coworkers you had about your mental health including their reactions.\n",
      "19 Describe the conversation your coworker had with you about their mental health (please do not use names).\n",
      "40 Describe the conversation you had with your previous employer about your mental health, including their reactions and actions taken to address your mental health issue/questions.\n",
      "43 Describe the conversation you had with your previous coworkers about your mental health including their reactions.\n",
      "45 Describe the conversation your coworker had with you about their mental health (please do not use names)..1\n",
      "50 Anxiety Disorder (Generalized, Social, Phobia, etc)\n",
      "51 Mood Disorder (Depression, Bipolar Disorder, etc)\n",
      "52 Psychotic Disorder (Schizophrenia, Schizoaffective, etc)\n",
      "53 Eating Disorder (Anorexia, Bulimia, etc)\n",
      "54 Attention Deficit Hyperactivity Disorder\n",
      "55 Personality Disorder (Borderline, Antisocial, Paranoid, etc)\n",
      "56 Obsessive-Compulsive Disorder\n",
      "57 Post-Traumatic Stress Disorder\n",
      "58 Stress Response Syndromes\n",
      "59 Dissociative Disorder\n",
      "60 Substance Use Disorder\n",
      "61 Addictive Disorder\n",
      "62 Other\n",
      "63 Anxiety Disorder (Generalized, Social, Phobia, etc).1\n",
      "64 Mood Disorder (Depression, Bipolar Disorder, etc).1\n",
      "65 Psychotic Disorder (Schizophrenia, Schizoaffective, etc).1\n",
      "66 Eating Disorder (Anorexia, Bulimia, etc).1\n",
      "67 Attention Deficit Hyperactivity Disorder.1\n",
      "68 Personality Disorder (Borderline, Antisocial, Paranoid, etc).1\n",
      "69 Obsessive-Compulsive Disorder.1\n",
      "70 Post-traumatic Stress Disorder\n",
      "71 Stress Response Syndromes.1\n",
      "72 Dissociative Disorder.1\n",
      "73 Substance Use Disorder.1\n",
      "74 Addictive Disorder.1\n",
      "75 Other.1\n",
      "76 Anxiety Disorder (Generalized, Social, Phobia, etc).2\n",
      "77 Mood Disorder (Depression, Bipolar Disorder, etc).2\n",
      "78 Psychotic Disorder (Schizophrenia, Schizoaffective, etc).2\n",
      "79 Eating Disorder (Anorexia, Bulimia, etc).2\n",
      "80 Attention Deficit Hyperactivity Disorder.2\n",
      "81 Personality Disorder (Borderline, Antisocial, Paranoid, etc).2\n",
      "82 Obsessive-Compulsive Disorder.2\n",
      "83 Post-traumatic Stress Disorder.1\n",
      "84 Stress Response Syndromes.2\n",
      "85 Dissociative Disorder.2\n",
      "86 Substance Use Disorder.2\n",
      "87 Addictive Disorder.2\n",
      "88 Other.2\n",
      "105 Describe the circumstances of the badly handled or unsupportive response.\n",
      "107 Describe the circumstances of the supportive or well handled response.\n",
      "109 Briefly describe what you think the industry as a whole and/or employers could do to improve mental health support for employees.\n",
      "110 If there is anything else you would like to tell us that has not been covered by the survey questions, please use this space to do so.\n",
      "117 Other.3\n",
      "120 Start Date (UTC)\n",
      "121 Submit Date (UTC)\n",
      "122 Network ID\n"
     ]
    }
   ],
   "source": [
    "# Import Kaggle dataset and examine the columns\n",
    "data_2018 = pd.read_csv('datasets/2018_dataset_from_Kaggle.csv')\n",
    "print(\"Number of columns:\", len(data_2018.columns))\n",
    "print('-'*100)\n",
    "for count, i in enumerate(data_2018.columns):\n",
    "    if '?' not in i:\n",
    "        print(count, i)"
   ]
  },
  {
   "cell_type": "markdown",
   "id": "f10ddc1e",
   "metadata": {},
   "source": [
    "Since we look to aggregate columns from multiple datasets throughout the years, we merge the columns of descriptive questions to form a single column: `comments`. We also drop the first column representing the participant ID and a few other columns that are not relevant to our study."
   ]
  },
  {
   "cell_type": "code",
   "execution_count": 199,
   "id": "d67e6075",
   "metadata": {},
   "outputs": [
    {
     "data": {
      "text/plain": [
       "Index(['<strong>Are you self-employed?</strong>',\n",
       "       'How many employees does your company or organization have?',\n",
       "       'Is your employer primarily a tech company/organization?',\n",
       "       'Is your primary role within your company related to tech/IT?',\n",
       "       'Does your employer provide mental health benefits as part of healthcare coverage?',\n",
       "       'Do you know the options for mental health care available under your employer-provided health coverage?',\n",
       "       'Has your employer ever formally discussed mental health (for example, as part of a wellness campaign or other official communication)?',\n",
       "       'Does your employer offer resources to learn more about mental health disorders and options for seeking help?',\n",
       "       'Is your anonymity protected if you choose to take advantage of mental health or substance abuse treatment resources provided by your employer?',\n",
       "       'If a mental health issue prompted you to request a medical leave from work, how easy or difficult would it be to ask for that leave?',\n",
       "       ...\n",
       "       'Would you be willing to talk to one of us more extensively about your experiences with mental health issues in the tech industry? (Note that all interview responses would be used <em>anonymously</em> and only with your permission.)',\n",
       "       'What is your age?', 'What is your gender?',\n",
       "       'What country do you <strong>live</strong> in?',\n",
       "       'What US state or territory do you <strong>live</strong> in?',\n",
       "       'What is your race?', 'Other.3',\n",
       "       'What country do you <strong>work</strong> in?',\n",
       "       'What US state or territory do you <strong>work</strong> in?',\n",
       "       'Network ID'],\n",
       "      dtype='object', length=120)"
      ]
     },
     "execution_count": 199,
     "metadata": {},
     "output_type": "execute_result"
    }
   ],
   "source": [
    "data_2018.drop(['#', 'Start Date (UTC)', 'Submit Date (UTC)'], axis=1, inplace=True)"
   ]
  },
  {
   "cell_type": "markdown",
   "id": "4de6ff95",
   "metadata": {},
   "source": [
    "The columns with indices between 50 to 62, 63 to 75 and 76 to 88 correspond to, respectively,\n",
    "\n",
    "`What disorder(s) have you been diagnosed with?`\n",
    "\n",
    "`If possibly, what disorder(s) do you believe you have?`\n",
    "\n",
    "`If so, what disorder(s) were you diagnosed with?`."
   ]
  }
 ],
 "metadata": {
  "kernelspec": {
   "display_name": "Python 3 (ipykernel)",
   "language": "python",
   "name": "python3"
  },
  "language_info": {
   "codemirror_mode": {
    "name": "ipython",
    "version": 3
   },
   "file_extension": ".py",
   "mimetype": "text/x-python",
   "name": "python",
   "nbconvert_exporter": "python",
   "pygments_lexer": "ipython3",
   "version": "3.8.10"
  }
 },
 "nbformat": 4,
 "nbformat_minor": 5
}
