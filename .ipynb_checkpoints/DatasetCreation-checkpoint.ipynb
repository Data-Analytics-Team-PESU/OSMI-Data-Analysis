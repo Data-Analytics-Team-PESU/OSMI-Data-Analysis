{
 "cells": [
  {
   "cell_type": "markdown",
   "id": "4a649e17",
   "metadata": {},
   "source": [
    "# Dataset Creation using Web Scraping & Cleaning Techniques"
   ]
  },
  {
   "cell_type": "markdown",
   "id": "38d0c1d7",
   "metadata": {},
   "source": [
    "Typeform is an online SAAS company for web form and survey creation. OSMI has utilized this software for its surveys from the year 2016. On the publicly available survey webpage, all the questions asked are followed by a distribution of the responses. We scrape data about the questions for merging with the Kaggle dataset for each year's survey. To scrape the questions of its online surveys, we use the ```requests``` and ```BeautifulSoup``` libraries. In order to acquire the responses of each participant, we use the dataset on Kaggle.\n",
    "\n",
    "**Data Sources:**\n",
    "1. [OSMI 2016 Survey]()\n",
    "2. [OSMI 2017 Survey]()\n",
    "3. [OSMI 2018 Survey](https://osmi.typeform.com/report/xztgPT/NFu2PHjwsMUkkL3h) and the corresponding [Kaggle Dataset](https://www.kaggle.com/osmihelp/osmi-mental-health-in-tech-survey-2018)\n",
    "4. [OSMI 2020 Survey]()"
   ]
  },
  {
   "cell_type": "markdown",
   "id": "f37d3489",
   "metadata": {},
   "source": [
    "## 01 OSMI 2018 Survey"
   ]
  },
  {
   "cell_type": "code",
   "execution_count": null,
   "id": "d66b10b6",
   "metadata": {
    "scrolled": false
   },
   "outputs": [],
   "source": [
    "# Import libraries necessary for web scraping and dataset creation\n",
    "import re\n",
    "import sys\n",
    "import json\n",
    "import requests\n",
    "import numpy as np\n",
    "import pandas as pd\n",
    "from bs4 import BeautifulSoup\n",
    "from collections import Counter\n",
    "\n",
    "# Request typeform survey webpage for contents\n",
    "res = requests.get(\n",
    "      'https://osmi.typeform.com/report/xztgPT/NFu2PHjwsMUkkL3h')\n",
    "\n",
    "# Extract response status and validate for successful transaction\n",
    "status = res.status_code\n",
    "if status != 200:\n",
    "    sys.exit(1)\n",
    "else:\n",
    "    print(\"Web scraping response status:\\n\", status)\n",
    "\n",
    "# Parse HTML title, head and body contents using BeautifulSoup\n",
    "soup = BeautifulSoup(res.content, 'html.parser')\n",
    "\n",
    "print(\"Dataset Title:\\n\", soup.title.text)"
   ]
  },
  {
   "cell_type": "code",
   "execution_count": null,
   "id": "4b73a4d3",
   "metadata": {},
   "outputs": [],
   "source": [
    "# Select content inside the script element that contains information about the survey questions and answers\n",
    "script = soup.select('script')[11]\n",
    "\n",
    "# Set a Regex pattern to extract the report's payload and apply the pattern on the script text\n",
    "pattern = re.compile(\"(?<=window.__REPORT_PAYLOAD = ).*(?=};)\")\n",
    "fields = re.findall(pattern, script.text)\n",
    "\n",
    "# Complete the string to be able to input to the JSON parser\n",
    "fields[0] = fields[0] + '}'\n",
    "\n",
    "# Convert the string to JSON\n",
    "json_param = json.loads(fields[0])\n",
    "\n",
    "# Print all the questions asked in the survey\n",
    "questions = json_param['blocks']\n",
    "print(\"Number of questions in the survey:\", len(questions))\n",
    "print('-'*100)\n",
    "\n",
    "# Process each question to remove * present representing bolded words\n",
    "for question in questions:\n",
    "    question['title'] = question['title'].replace('*', '')\n",
    "    print(question['title'])"
   ]
  },
  {
   "cell_type": "code",
   "execution_count": null,
   "id": "7603e350",
   "metadata": {
    "scrolled": true
   },
   "outputs": [],
   "source": [
    "# Analyze the types of questions asked in the survey\n",
    "question_types = []\n",
    "for question in questions:\n",
    "    question_types.append(question['type'])\n",
    "Counter(question_types)"
   ]
  },
  {
   "cell_type": "code",
   "execution_count": null,
   "id": "e6e02acf",
   "metadata": {
    "scrolled": true
   },
   "outputs": [],
   "source": [
    "# Get the total number of participants in the survey\n",
    "total_resp = json_param['totalResponsesCount']\n",
    "\n",
    "# Get the number of participants that answered each question\n",
    "counts = []\n",
    "for question in questions:\n",
    "    counts.append(question['summary']['count'])\n",
    "print(\"Number of respondents for each question out of {0} participants:\\n {1}\".format(total_resp, counts))"
   ]
  },
  {
   "cell_type": "code",
   "execution_count": null,
   "id": "050b9cf5",
   "metadata": {},
   "outputs": [],
   "source": [
    "# Import Kaggle dataset and examine the columns\n",
    "data_2018 = pd.read_csv('datasets/2018_dataset_from_Kaggle.csv')\n",
    "print(\"Number of columns:\", len(data_2018.columns))\n",
    "print('-'*100)\n",
    "for count, i in enumerate(data_2018.columns):\n",
    "    if '?' not in i:\n",
    "        print(count, i)"
   ]
  },
  {
   "cell_type": "markdown",
   "id": "6fa1c398",
   "metadata": {},
   "source": [
    "Since we look to aggregate columns from multiple datasets throughout the years, we merge the columns of descriptive questions to form a single column: `comments`. We also drop the first column representing the participant ID and a few other columns that are not relevant to our study."
   ]
  },
  {
   "cell_type": "code",
   "execution_count": null,
   "id": "69fe6b37",
   "metadata": {},
   "outputs": [],
   "source": [
    "data_2018.drop(['#', 'Start Date (UTC)', 'Submit Date (UTC)', 'Network ID'], axis=1, inplace=True)"
   ]
  },
  {
   "cell_type": "markdown",
   "id": "c5889781",
   "metadata": {},
   "source": [
    "The columns with indices between 50 to 62, 63 to 75 and 76 to 88 correspond to, respectively,\n",
    "\n",
    "`What disorder(s) have you been diagnosed with?`\n",
    "\n",
    "`If possibly, what disorder(s) do you believe you have?`\n",
    "\n",
    "`If so, what disorder(s) were you diagnosed with?`.\n",
    "\n",
    "Therefore, we merge the corresponding columns of indices to create new columns with the attribute headings being the above qustions."
   ]
  },
  {
   "cell_type": "code",
   "execution_count": null,
   "id": "be4e3f7f",
   "metadata": {},
   "outputs": [],
   "source": [
    "cols_1 = ['Anxiety Disorder (Generalized, Social, Phobia, etc)',\n",
    "          'Mood Disorder (Depression, Bipolar Disorder, etc)',\n",
    "          'Psychotic Disorder (Schizophrenia, Schizoaffective, etc)',\n",
    "          'Eating Disorder (Anorexia, Bulimia, etc)',\n",
    "          'Attention Deficit Hyperactivity Disorder',\n",
    "          'Personality Disorder (Borderline, Antisocial, Paranoid, etc)',\n",
    "          'Obsessive-Compulsive Disorder',\n",
    "          'Post-Traumatic Stress Disorder',\n",
    "          'Stress Response Syndromes',\n",
    "          'Dissociative Disorder',\n",
    "          'Substance Use Disorder',\n",
    "          'Addictive Disorder',\n",
    "          'Other']\n",
    "data_2018.rename(columns = {'Post-traumatic Stress Disorder':'Post-Traumatic Stress Disorder.1',\n",
    "                           'Post-traumatic Stress Disorder.1':'Post-Traumatic Stress Disorder.2'}, inplace = True)\n",
    "cols_2 = [i + '.1' for i in cols_1]\n",
    "cols_3 = [i + '.2' for i in cols_1]\n",
    "\n",
    "cols_4 = ['Describe the conversation you had with your employer about your mental health, including their reactions and what actions were taken to address your mental health issue/questions.',\n",
    "          'Describe the conversation with coworkers you had about your mental health including their reactions.',\n",
    "          'Describe the conversation your coworker had with you about their mental health (please do not use names).',\n",
    "          'Describe the conversation you had with your previous employer about your mental health, including their reactions and actions taken to address your mental health issue/questions.',\n",
    "          'Describe the conversation you had with your previous coworkers about your mental health including their reactions.',\n",
    "          'Describe the conversation your coworker had with you about their mental health (please do not use names)..1',\n",
    "          'Describe the circumstances of the badly handled or unsupportive response.',\n",
    "          'Describe the circumstances of the supportive or well handled response.',\n",
    "          'Briefly describe what you think the industry as a whole and/or employers could do to improve mental health support for employees.',\n",
    "          'If there is anything else you would like to tell us that has not been covered by the survey questions, please use this space to do so.',\n",
    "          'Other.3']\n",
    "\n",
    "q_1 = 'What disorder(s) have you been diagnosed with?'\n",
    "q_2 = 'If possibly, what disorder(s) do you believe you have?'\n",
    "q_3 = 'If so, what disorder(s) were you diagnosed with?'\n",
    "q_4 = 'comments'\n"
   ]
  },
  {
   "cell_type": "code",
   "execution_count": null,
   "id": "6bb6d0ab",
   "metadata": {},
   "outputs": [],
   "source": [
    "def merge_columns(df, new_col, col_list):\n",
    "    df[new_col] = df[col_list].apply(lambda x: ', '.join(x.dropna().astype(str)), 1)\n",
    "    df[new_col] = df[new_col].apply(lambda aCode: np.nan if aCode == '' else aCode)\n",
    "    df.drop(col_list, axis=1, inplace=True)"
   ]
  },
  {
   "cell_type": "code",
   "execution_count": null,
   "id": "67d648c3",
   "metadata": {},
   "outputs": [],
   "source": [
    "merge_columns(data_2018, q_1, cols_1)\n",
    "merge_columns(data_2018, q_2, cols_2)\n",
    "merge_columns(data_2018, q_3, cols_3)\n",
    "merge_columns(data_2018, q_4, cols_4)"
   ]
  },
  {
   "cell_type": "code",
   "execution_count": null,
   "id": "794ae63d",
   "metadata": {},
   "outputs": [],
   "source": [
    "print(\"Number of columns:\", len(data_2018.columns))\n",
    "print('-'*100)\n",
    "for count, i in enumerate(data_2018.columns):\n",
    "    if '?' in i:\n",
    "        print(count, i)"
   ]
  }
 ],
 "metadata": {
  "kernelspec": {
   "display_name": "Python 3 (ipykernel)",
   "language": "python",
   "name": "python3"
  },
  "language_info": {
   "codemirror_mode": {
    "name": "ipython",
    "version": 3
   },
   "file_extension": ".py",
   "mimetype": "text/x-python",
   "name": "python",
   "nbconvert_exporter": "python",
   "pygments_lexer": "ipython3",
   "version": "3.8.10"
  }
 },
 "nbformat": 4,
 "nbformat_minor": 5
}
