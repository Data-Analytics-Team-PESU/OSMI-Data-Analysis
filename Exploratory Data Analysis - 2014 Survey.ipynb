{
 "cells": [
  {
   "cell_type": "markdown",
   "metadata": {
    "id": "mzBxt6gDa76a"
   },
   "source": [
    "\n",
    "# EDA on the 2014 Survey Dataset"
   ]
  },
  {
   "cell_type": "markdown",
   "metadata": {},
   "source": [
    "## 01 Basic Overview of the Dataset"
   ]
  },
  {
   "cell_type": "code",
   "execution_count": null,
   "metadata": {
    "id": "dcdCjj6yWZFT"
   },
   "outputs": [],
   "source": [
    "# Importing necessary libraries\n",
    "import numpy as np\n",
    "import pandas as pd\n",
    "import matplotlib.pyplot as plt\n",
    "from matplotlib.pyplot import pie\n",
    "import seaborn as sns\n",
    "import plotly.express as px"
   ]
  },
  {
   "cell_type": "code",
   "execution_count": null,
   "metadata": {
    "id": "uGgd8VUqXE2s"
   },
   "outputs": [],
   "source": [
    "# Loading the dataset and overview\n",
    "df = pd.read_csv(\"datasets/2014_survey.csv\")\n",
    "df.head()"
   ]
  },
  {
   "cell_type": "code",
   "execution_count": null,
   "metadata": {
    "colab": {
     "base_uri": "https://localhost:8080/"
    },
    "id": "ogqzj-grXhlk",
    "outputId": "6abd4a79-da9b-4d73-9161-5a1f02737af2"
   },
   "outputs": [],
   "source": [
    "# Attribute names\n",
    "df.columns"
   ]
  },
  {
   "cell_type": "markdown",
   "metadata": {
    "id": "2VVgwFQwUVh7"
   },
   "source": [
    "**Understanding the attributes**\n",
    "\n",
    "The dataset contains the attributes which correspond to the following survey questions:\n",
    "- ```Timestamp```\n",
    "- ```Age```\n",
    "- ```Gender```\n",
    "- ```Country```\n",
    "- ```state```: If you live in the United States, which state or territory do you live in?\n",
    "- ```self_employed```: Are you self-employed?\n",
    "- ```family_history```: Do you have a family history of mental illness?\n",
    "- ```treatment```: Have you sought treatment for a mental health condition?\n",
    "- ```work_interfere```: If you have a mental health condition, do you feel that it interferes with your work?\n",
    "- ```no_employees```: How many employees does your company or organization have?\n",
    "- ```remote_work```: Do you work remotely (outside of an office) at least 50% of the time?\n",
    "- ```tech_company```: Is your employer primarily a tech company/organization?\n",
    "- ```benefits```: Does your employer provide mental health benefits?\n",
    "- ```care_options```: Do you know the options for mental health care your employer provides?\n",
    "- ```wellness_program```: Has your employer ever discussed mental health as part of an employee wellness program?\n",
    "- ```seek_help```: Does your employer provide resources to learn more about mental health issues and how to seek help?\n",
    "- ```anonymity```: Is your anonymity protected if you choose to take advantage of mental health or substance abuse treatment resources?\n",
    "- ```leave```: How easy is it for you to take medical leave for a mental health condition?\n",
    "- ```mentalhealthconsequence```: Do you think that discussing a mental health issue with your employer would have negative consequences?\n",
    "- ```physhealthconsequence```: Do you think that discussing a physical health issue with your employer would have negative consequences?\n",
    "- ```coworkers```: Would you be willing to discuss a mental health issue with your coworkers?\n",
    "- ```supervisor```: Would you be willing to discuss a mental health issue with your direct supervisor(s)?\n",
    "- ```mentalhealthinterview```: Would you bring up a mental health issue with a potential employer in an interview?\n",
    "- ```physhealthinterview```: Would you bring up a physical health issue with a potential employer in an interview?\n",
    "- ```mentalvsphysical```: Do you feel that your employer takes mental health as seriously as physical health?\n",
    "- ```obs_consequence```: Have you heard of or observed negative consequences for coworkers with mental health conditions in your workplace?\n",
    "- ```comments```: Any additional notes or comments"
   ]
  },
  {
   "cell_type": "code",
   "execution_count": null,
   "metadata": {
    "colab": {
     "base_uri": "https://localhost:8080/"
    },
    "id": "h4wLwd0VUaXC",
    "outputId": "d3d3d484-89cd-4d7f-d4a7-5a9812eaeecb"
   },
   "outputs": [],
   "source": [
    "# Basic properties of the dataset\n",
    "print(\"Shape:\", df.shape)\n",
    "df.describe()"
   ]
  },
  {
   "cell_type": "code",
   "execution_count": null,
   "metadata": {
    "colab": {
     "base_uri": "https://localhost:8080/"
    },
    "id": "0JaMpS3mXE9-",
    "outputId": "30bfab45-9e97-4296-d6bb-06a8ac3ad8b5"
   },
   "outputs": [],
   "source": [
    "# View the properties of the attributes \n",
    "df.info()"
   ]
  },
  {
   "cell_type": "code",
   "execution_count": null,
   "metadata": {
    "colab": {
     "base_uri": "https://localhost:8080/"
    },
    "id": "oAQ7iAwCxGDa",
    "outputId": "422dc0e9-1a29-48cf-fbeb-7f862a21360c",
    "scrolled": true
   },
   "outputs": [],
   "source": [
    "# Print all the columns with null values\n",
    "print(\"Columns with null values:\")\n",
    "for col, i in zip(df.columns, df.isnull().sum()):\n",
    "    if i != 0:\n",
    "        print(col, ':', i)"
   ]
  },
  {
   "cell_type": "markdown",
   "metadata": {},
   "source": [
    "## 02 Overview Analysis\n",
    "From a high vantage point of the dataset, we determine that it consists of 1259 records and 27 attributes. The `Age` attribute is the only integer typed one, with all others being objects. `comments` has the most number of `null` values, far outnumbering the other attributes with `null` values - `state`, `work_interference` and `self_employed`. \n",
    "\n",
    "**Inferences and Thoughts**\n",
    "- It makes sense that few participants would contribute to additional commenting. \n",
    "- The lack of answers in `state` could be attributed to people outside the US. Further calculation regarding the number of people who did live in the US and yet did not provide an answer here would yield the true `null` values.\n",
    "- How many participants were undecided on the question of whether their mental health condition interferes with their work?"
   ]
  },
  {
   "cell_type": "markdown",
   "metadata": {},
   "source": [
    "## 03 Data Preprocessing\n",
    "\n",
    "### 1. Dealing with the `Age` attribute"
   ]
  },
  {
   "cell_type": "code",
   "execution_count": null,
   "metadata": {},
   "outputs": [],
   "source": [
    "# Plot a histogram for the values of ages before preprocessing\n",
    "plt.rcParams[\"figure.figsize\"] = (10, 5)\n",
    "age = sns.countplot(data=df, x='Age')\n",
    "age.set_title('Analyzing the attribute Age before preprocessing')\n",
    "age.set_xticklabels(age.get_xticklabels(), rotation=40, ha=\"right\")\n",
    "plt.xticks(rotation=45)\n",
    "plt.show()"
   ]
  },
  {
   "cell_type": "code",
   "execution_count": null,
   "metadata": {},
   "outputs": [],
   "source": [
    "# Get the unique values of ages\n",
    "df['Age'].unique()"
   ]
  },
  {
   "cell_type": "markdown",
   "metadata": {},
   "source": [
    "As we can analyze from the graph and unique values, there exist negative values of ages. Values below 18 and above 80 make very little sense, so we'll replace the corresponding values with the median of the age column."
   ]
  },
  {
   "cell_type": "code",
   "execution_count": null,
   "metadata": {},
   "outputs": [],
   "source": [
    "# How many dubious values of ages of each type do we have?\n",
    "print(\"Responses with ages less than 18:\")\n",
    "print(df[df['Age'] < 18].Age)\n",
    "print(\"\\nResponses with ages more than 80:\")\n",
    "print(df[df['Age'] > 80].Age)\n",
    "print(\"\\nNull responses:\", df['Age'].isnull().sum())"
   ]
  },
  {
   "cell_type": "code",
   "execution_count": null,
   "metadata": {
    "scrolled": true
   },
   "outputs": [],
   "source": [
    "# Replace values of ages less than 18 and more than 80 with the median\n",
    "\n",
    "# Calculate previous median\n",
    "median_without_dubious = df.loc[ (df['Age'] > 18) | (df['Age'] < 80), 'Age'].median()\n",
    "\n",
    "# Replace dubious values with median\n",
    "df.loc[ (df['Age'] < 18) | (df['Age'] > 80), 'Age'] = median_without_dubious\n",
    "\n",
    "# Describe the attribute to analyze min and max\n",
    "df['Age'].describe()"
   ]
  },
  {
   "cell_type": "markdown",
   "metadata": {},
   "source": [
    "The minimum and maximum ages are 18 and 71 with the mean at around 32. We seemed to have completed cleaning up Age."
   ]
  },
  {
   "cell_type": "code",
   "execution_count": null,
   "metadata": {},
   "outputs": [],
   "source": [
    "# Plot a histogram for the values of ages after preprocessing\n",
    "plt.rcParams[\"figure.figsize\"] = (10, 5)\n",
    "age = sns.countplot(data=df, x='Age')\n",
    "age.set_title('Analyzing the attribute Age after preprocessing')\n",
    "age.set_xticklabels(age.get_xticklabels(), rotation=40, ha=\"right\")\n",
    "plt.xticks(rotation=45)\n",
    "plt.show()"
   ]
  },
  {
   "cell_type": "markdown",
   "metadata": {},
   "source": [
    "**Analysis**\n",
    "\n",
    "The graph for the continuous Age attribute is a **positively skewed histogram**. Many people fall into the age 30 and 33 bins."
   ]
  },
  {
   "cell_type": "code",
   "execution_count": null,
   "metadata": {},
   "outputs": [],
   "source": [
    "# Get the unique values of ages\n",
    "print(\"Unique values:\\n\", df['Age'].unique())"
   ]
  },
  {
   "cell_type": "markdown",
   "metadata": {},
   "source": [
    "### 2. Dealing with the `Gender` attribute"
   ]
  },
  {
   "cell_type": "code",
   "execution_count": null,
   "metadata": {},
   "outputs": [],
   "source": [
    "# Are there any null values?\n",
    "df['Gender'].isnull().sum()"
   ]
  },
  {
   "cell_type": "markdown",
   "metadata": {},
   "source": [
    "Since there are no null values, we can move on."
   ]
  },
  {
   "cell_type": "code",
   "execution_count": null,
   "metadata": {
    "colab": {
     "base_uri": "https://localhost:8080/"
    },
    "id": "yL3mPUsAwhcg",
    "outputId": "1d7a577f-1405-48bd-8f66-58730cad44f8"
   },
   "outputs": [],
   "source": [
    "# What are the unique values in the Gender column?\n",
    "df['Gender'].unique()"
   ]
  },
  {
   "cell_type": "markdown",
   "metadata": {},
   "source": [
    "In the survey, this question was open-ended, and so the responses are strings that we need to classify into bins. We do so with three bins:\n",
    "- Male\n",
    "- Female\n",
    "- Other\n",
    "\n",
    "`A little about you` and `p` certainly do not belong here. We remove the records with those attribute values."
   ]
  },
  {
   "cell_type": "code",
   "execution_count": null,
   "metadata": {},
   "outputs": [],
   "source": [
    "# Remove the records with those attribute values\n",
    "df = df[~df['Gender'].isin(['A little about you', 'p'])]"
   ]
  },
  {
   "cell_type": "code",
   "execution_count": null,
   "metadata": {
    "colab": {
     "base_uri": "https://localhost:8080/"
    },
    "id": "dDWL6sf5iu5E",
    "outputId": "a7beb69f-c244-4133-e75a-6be4ddda2822"
   },
   "outputs": [],
   "source": [
    "# Replace the strings with the values of bins we require\n",
    "# Group all related strings into bins\n",
    "\n",
    "# Group into Male bin\n",
    "df['Gender'].replace(['Male ', 'male', 'M', 'm', 'Male', 'Cis Male','Man', 'cis male', 'Mail', 'Male-ish', \n",
    "                      'Male (CIS)', 'Cis Man', 'msle', 'Malr', 'Mal', 'maile', 'Make']\n",
    "                     \n",
    "                     , 'Male', inplace = True)\n",
    "\n",
    "# Group into Female bin\n",
    "df['Gender'].replace(['Female ', 'female', 'F', 'f', 'Woman', 'Female', 'femail', 'Cis Female', \n",
    "                      'cis-female/femme', 'Femake', 'Female (cis)', 'woman'], \n",
    "                     \n",
    "                     'Female', inplace = True)\n",
    "\n",
    "# Group into Other bin\n",
    "df[\"Gender\"].replace(['Female (trans)', 'queer/she/they', 'non-binary','fluid', 'queer','Androgyne',\n",
    "                      'Trans-female', 'male leaning androgynous', 'Agender', 'Nah', 'All', \n",
    "                      'ostensibly male, unsure what that really means', 'Genderqueer', 'Enby', \n",
    "                      'Neuter', 'something kinda male?', 'Guy (-ish) ^_^', 'Trans woman'],\n",
    "                     \n",
    "                     'Other', inplace = True)\n",
    "\n",
    "df['Gender'].describe()"
   ]
  },
  {
   "cell_type": "code",
   "execution_count": null,
   "metadata": {
    "id": "Ou6W7SJ4QxUN"
   },
   "outputs": [],
   "source": [
    "# Viewing the counts of each type\n",
    "df['Gender'].value_counts()"
   ]
  },
  {
   "cell_type": "code",
   "execution_count": null,
   "metadata": {
    "colab": {
     "base_uri": "https://localhost:8080/",
     "height": 265
    },
    "id": "_oCz0oB2jUed",
    "outputId": "b28f2ac4-443d-418e-a8ac-53a449609871",
    "scrolled": true
   },
   "outputs": [],
   "source": [
    "# Visualizing the proportion of genders\n",
    "fig, ax = plt.subplots()\n",
    "labels = ['Male', \n",
    "         'Female',\n",
    "         'Other']\n",
    "male_perc = (df['Gender'] == 'Male').sum() / df['Gender'].count()\n",
    "female_perc = (df['Gender'] == 'Female').sum() / df['Gender'].count()\n",
    "other_perc = (df['Gender'] == 'Other').sum() / df['Gender'].count()\n",
    "\n",
    "percentages = [male_perc, female_perc, other_perc]\n",
    "\n",
    "ax.pie(percentages, labels=labels,  \n",
    "       autopct='%1.0f%%', \n",
    "       shadow=False, startangle=0,   \n",
    "       pctdistance=1.2,labeldistance=1.4)\n",
    "ax.axis('equal')\n",
    "ax.set_title(\"Gender values after Preprocessing\")\n",
    "ax.legend(frameon=False, bbox_to_anchor=(1.5,0.8))"
   ]
  },
  {
   "cell_type": "markdown",
   "metadata": {},
   "source": [
    "As the plot suggests, male responders far outnumber the female and other responders. This is a point to keep in mind as we work on our models in the future."
   ]
  },
  {
   "cell_type": "markdown",
   "metadata": {
    "id": "utCbIVK9m01B"
   },
   "source": [
    "### 4. Dealing with the `comments` attribute"
   ]
  },
  {
   "cell_type": "markdown",
   "metadata": {
    "id": "rK-jk8HWVe3J"
   },
   "source": [
    "Viewing comments after droping rows with missing values"
   ]
  },
  {
   "cell_type": "code",
   "execution_count": null,
   "metadata": {
    "colab": {
     "base_uri": "https://localhost:8080/"
    },
    "id": "NFyp5fA8y25E",
    "outputId": "b4d77205-fe4b-4737-ae9c-22df94a93de7"
   },
   "outputs": [],
   "source": [
    "for count, i in enumerate(df['comments'].dropna()):\n",
    "    if count < 30:\n",
    "        print(i[:80])"
   ]
  },
  {
   "cell_type": "markdown",
   "metadata": {
    "id": "zHMd608wyKJn"
   },
   "source": [
    "## 04 Data Visualization\n",
    "\n",
    "### 1. Analysis of the `leave` attribute"
   ]
  },
  {
   "cell_type": "code",
   "execution_count": null,
   "metadata": {
    "colab": {
     "base_uri": "https://localhost:8080/"
    },
    "id": "fH92PiTSyZRW",
    "outputId": "5a413e46-3b9e-4825-d93c-513edefca6c5",
    "scrolled": true
   },
   "outputs": [],
   "source": [
    "df['leave'].value_counts()"
   ]
  },
  {
   "cell_type": "markdown",
   "metadata": {
    "id": "3KTd-203c18t"
   },
   "source": [
    "In the below plot column 'leave' is grouped and is represented as a rectangular mark."
   ]
  },
  {
   "cell_type": "code",
   "execution_count": null,
   "metadata": {
    "colab": {
     "base_uri": "https://localhost:8080/",
     "height": 542
    },
    "id": "UGKhBCZvytCC",
    "outputId": "a36386ba-a134-4670-955b-977b230d1b41"
   },
   "outputs": [],
   "source": [
    "fig, ax = plt.subplots(figsize = (12,6))\n",
    "ind = np.arange(len(df['leave']))\n",
    "sns.barplot(x=df['leave'].value_counts().index, \n",
    "            y = df['leave'].value_counts(),  \n",
    "            data = df, \n",
    "            ax=ax)\n",
    "ax.set_title(\"Ease of taking leaves\")\n",
    "ax.set_ylabel(\"Number of respondents\")\n",
    "ax.set_ylim(0,100)\n",
    "ax.set_xlabel(\"Ease of taking a leave for a mental health condition\")\n",
    "ax.set_xticks(range(0,len(ind)))\n",
    "ax.set_xticklabels(list(df['leave']), rotation=45)"
   ]
  },
  {
   "cell_type": "markdown",
   "metadata": {
    "id": "5OZ75U4wddHA"
   },
   "source": [
    "People with family history of metal illnes  grouped by treatment sought"
   ]
  },
  {
   "cell_type": "code",
   "execution_count": null,
   "metadata": {
    "colab": {
     "base_uri": "https://localhost:8080/",
     "height": 542
    },
    "id": "AArDOK3nywJY",
    "outputId": "3793e84b-f32f-4dbd-e04f-38a4645d20a7"
   },
   "outputs": [],
   "source": [
    "temp_grp_df = df.groupby(['family_history','treatment']).count()\n",
    "temp_grp_df.reset_index(drop=False, inplace=True)\n",
    "\n",
    "fig = px.bar(temp_grp_df, x='family_history', y='Age', labels={'Age':'Count'}, orientation='v', color='treatment',title='People with Family History of Mental Illness Grouped by Treatment Sought' ,barmode='group')\n",
    "fig.show()"
   ]
  },
  {
   "cell_type": "code",
   "execution_count": null,
   "metadata": {
    "colab": {
     "base_uri": "https://localhost:8080/",
     "height": 542
    },
    "id": "Jn2A6zoqyv4s",
    "outputId": "e62e19e5-5ba5-4658-f49a-0d0e842ca0d9"
   },
   "outputs": [],
   "source": [
    "temp_grp_df = df.groupby(['mental_health_consequence','phys_health_consequence','mental_vs_physical']).count()\n",
    "temp_grp_df.reset_index(drop=False, inplace=True)\n",
    "\n",
    "fig = px.bar(temp_grp_df, x='mental_health_consequence', y='Age', labels={'Age':'Count'}, orientation='v', color='phys_health_consequence', facet_col='mental_vs_physical',barmode='group')\n",
    "fig.show()"
   ]
  },
  {
   "cell_type": "code",
   "execution_count": null,
   "metadata": {
    "colab": {
     "base_uri": "https://localhost:8080/",
     "height": 349
    },
    "id": "O9WzyxUyjXv0",
    "outputId": "a5c422fa-6e5c-487f-ef89-357928fd7e00"
   },
   "outputs": [],
   "source": [
    "df.groupby('Gender').Age.plot(kind='kde')"
   ]
  },
  {
   "cell_type": "code",
   "execution_count": null,
   "metadata": {
    "colab": {
     "base_uri": "https://localhost:8080/",
     "height": 349
    },
    "id": "CS-zQY9UnyIm",
    "outputId": "071556de-9b31-4b42-aa23-9350c37c3603"
   },
   "outputs": [],
   "source": [
    "df.groupby('Gender').Age.hist()"
   ]
  },
  {
   "cell_type": "markdown",
   "metadata": {
    "id": "-pXDW7M0Z8VK"
   },
   "source": [
    "- When the argument of color corresponds to non-numerical data(here yes/no), discrete colors are used.\n",
    "- Column - country is grouped and is represented as a sector of the treemap."
   ]
  },
  {
   "cell_type": "code",
   "execution_count": null,
   "metadata": {
    "colab": {
     "base_uri": "https://localhost:8080/",
     "height": 542
    },
    "id": "cpSaGE1wzCG8",
    "outputId": "076e0ed4-649a-461b-cf9e-55d72a992e79"
   },
   "outputs": [],
   "source": [
    "temp_grp_df = df.groupby(['Country','treatment']).count()\n",
    "temp_grp_df.reset_index(drop=False, inplace=True)\n",
    "\n",
    "fig = px.treemap(temp_grp_df,path=['Country', 'treatment'],  color='treatment', values='Age',labels={'Age':'Count'})\n",
    "fig.update_layout(margin = dict(t=50, l=25, r=25, b=25))\n",
    "fig.show()"
   ]
  },
  {
   "cell_type": "code",
   "execution_count": null,
   "metadata": {
    "id": "Ph0stzTdqMIl"
   },
   "outputs": [],
   "source": [
    "def bar_plot(categ_var):\n",
    "    \"\"\"\n",
    "        input: variable ex: \"anonymity\"\n",
    "        output: bar plot & value count\n",
    "    \"\"\"\n",
    "    # get feature\n",
    "    var = df[categ_var]\n",
    "    # count number of categorical variable\n",
    "    var_value = var.value_counts()\n",
    "    \n",
    "    plt.figure(figsize = (9,3))\n",
    "    plt.bar(var_value.index, var_value)\n",
    "    plt.xticks(var_value.index, var_value.values)\n",
    "    plt.ylabel(\"Frequency\")\n",
    "    plt.title(categ_var)\n",
    "    plt.show()\n",
    "    print(f\"{categ_var}:\\n{var_value}\")"
   ]
  },
  {
   "cell_type": "markdown",
   "metadata": {
    "id": "JcgLxb4RgUgH"
   },
   "source": [
    "Bar plot for self employed,family_history.tech_company,phys_health_consquence,supervisor"
   ]
  },
  {
   "cell_type": "code",
   "execution_count": null,
   "metadata": {
    "colab": {
     "base_uri": "https://localhost:8080/",
     "height": 1000
    },
    "id": "3dLfCvjhouMO",
    "outputId": "a83cda3d-fffa-4527-f7b2-dc21d115b7d7"
   },
   "outputs": [],
   "source": [
    "categorical_vars = [\"self_employed\",\"family_history\",\"tech_company\",\"phys_health_consequence\",\"supervisor\"]\n",
    "for c in categorical_vars:\n",
    "    bar_plot(c)"
   ]
  },
  {
   "cell_type": "markdown",
   "metadata": {
    "id": "PQSMlsB-rvUA"
   },
   "source": [
    "Treatment percentage for a mental health condition"
   ]
  },
  {
   "cell_type": "code",
   "execution_count": null,
   "metadata": {
    "colab": {
     "base_uri": "https://localhost:8080/",
     "height": 350
    },
    "id": "Yb04isDSqE-d",
    "outputId": "f127f9fc-dbe7-4b05-851c-11481d1e629e"
   },
   "outputs": [],
   "source": [
    "sns.set_style(\"whitegrid\")\n",
    "plt.figure(figsize = (7,5))\n",
    "eda_percentage = df['treatment'].value_counts(normalize = True).rename_axis('treatment').reset_index(name = 'Percentage')\n",
    "sns.barplot(x = 'treatment', y = 'Percentage', data = eda_percentage.head(10))\n",
    "plt.title('Get Treatment of Survey Respondents')\n",
    "plt.show()"
   ]
  },
  {
   "cell_type": "markdown",
   "metadata": {
    "id": "BTEGralS0r32"
   },
   "source": [
    "Difference in number of respondents that get treatment and no treatment(based of gender)."
   ]
  },
  {
   "cell_type": "code",
   "execution_count": null,
   "metadata": {
    "colab": {
     "base_uri": "https://localhost:8080/",
     "height": 350
    },
    "id": "222OSGkNq610",
    "outputId": "cf86240b-8f85-47bf-d651-56024c047de9"
   },
   "outputs": [],
   "source": [
    "plt.figure(figsize = (20,5))\n",
    "plt.title('Gender of Survey Respondents')\n",
    "plt.subplot(1,2,2)\n",
    "sns.countplot(x=df['Gender'], hue = df['treatment'])\n",
    "plt.title('Gender of Survey Respondents')\n",
    "plt.show()"
   ]
  },
  {
   "cell_type": "markdown",
   "metadata": {
    "id": "rU6NCno0Fj99"
   },
   "source": [
    "##COUNTRY COLUMN"
   ]
  },
  {
   "cell_type": "code",
   "execution_count": null,
   "metadata": {
    "colab": {
     "base_uri": "https://localhost:8080/",
     "height": 336
    },
    "id": "3TwHFwDzEJl2",
    "outputId": "9e1aa650-e219-4569-a4f2-282e8fdab8f9"
   },
   "outputs": [],
   "source": [
    "country_count = df.Country.value_counts().sort_values(ascending=False).to_frame()[:10]\n",
    "country_count = country_count.rename(columns={'Country': 'count'})\n",
    "plt.figure(figsize=(15,5))\n",
    "ax = sns.barplot(x=country_count.index, y='count', data=country_count,  palette=\"ch:.25\")\n",
    "for p in ax.patches:\n",
    "    ax.annotate(format(p.get_height(), '.1f'), \n",
    "                   (p.get_x() + p.get_width() / 2., p.get_height()), \n",
    "                   ha = 'center', va = 'center', \n",
    "                   xytext = (0, 9), \n",
    "                   textcoords = 'offset points')\n",
    "ax = ax.set_title('Top 10 countries')"
   ]
  },
  {
   "cell_type": "markdown",
   "metadata": {
    "id": "PGJKVt_9HC2H"
   },
   "source": [
    "## STATE COLUMN"
   ]
  },
  {
   "cell_type": "code",
   "execution_count": null,
   "metadata": {
    "colab": {
     "base_uri": "https://localhost:8080/",
     "height": 607
    },
    "id": "GKI15EOzFq8M",
    "outputId": "4a866480-4b22-497f-b58d-14e857e12b48"
   },
   "outputs": [],
   "source": [
    "state_count = df.state.value_counts().sort_values(ascending=False).to_frame()[:10]\n",
    "state_count = state_count.rename(columns={'state': 'count'})\n",
    "plt.figure(figsize=(10,10))\n",
    "ax = sns.barplot(x=state_count.index, y='count', data=state_count,  palette=\"ch:.25\")\n",
    "for p in ax.patches:\n",
    "    ax.annotate(format(p.get_height(), '.1f'), \n",
    "                   (p.get_x() + p.get_width() / 2., p.get_height()), \n",
    "                   ha = 'center', va = 'center', \n",
    "                   xytext = (0, 9), \n",
    "                   textcoords = 'offset points')\n",
    "ax = ax.set_title('Top 10 States')"
   ]
  },
  {
   "cell_type": "markdown",
   "metadata": {
    "id": "EIeIh464qG9I"
   },
   "source": [
    "##NO OF EMPLOYEES COLUMN"
   ]
  },
  {
   "cell_type": "code",
   "execution_count": null,
   "metadata": {
    "colab": {
     "base_uri": "https://localhost:8080/"
    },
    "id": "H3IdzWi0KRpY",
    "outputId": "69786611-4da7-473e-ec8d-1b9209187511"
   },
   "outputs": [],
   "source": [
    "df['no_employees'].value_counts()\n"
   ]
  },
  {
   "cell_type": "markdown",
   "metadata": {
    "id": "nMmOjFOEqpKc"
   },
   "source": [
    "##TREATEMENT COLUMN"
   ]
  },
  {
   "cell_type": "code",
   "execution_count": null,
   "metadata": {
    "colab": {
     "base_uri": "https://localhost:8080/",
     "height": 354
    },
    "id": "7EUyd6WFqmRy",
    "outputId": "15a78c5a-e7cd-41e1-b706-02159cb3764c"
   },
   "outputs": [],
   "source": [
    "sns.set_style(\"whitegrid\")\n",
    "plt.figure(figsize = (8,5))\n",
    "plt.title('Get Treatment of Survey Respondents', fontsize=18, fontweight='bold')\n",
    "eda_percentage = df['treatment'].value_counts(normalize = True).rename_axis('treatment').reset_index(name = 'Percentage')\n",
    "\n",
    "ax = sns.barplot(x = 'treatment', y = 'Percentage', data = eda_percentage.head(10), palette='Dark2')\n",
    "for p in ax.patches:\n",
    "    width = p.get_width()\n",
    "    height = p.get_height()\n",
    "    x, y = p.get_xy() \n",
    "    ax.annotate(f'{height:.0%}', (x + width/2, y + height*1.02), ha='center', fontweight='bold')\n"
   ]
  },
  {
   "cell_type": "markdown",
   "metadata": {
    "id": "lwqEaj8WwxWO"
   },
   "source": [
    "##WORK_INTERFERE COLUMN"
   ]
  },
  {
   "cell_type": "code",
   "execution_count": null,
   "metadata": {
    "colab": {
     "base_uri": "https://localhost:8080/",
     "height": 410
    },
    "id": "JDaWtUhfq-wc",
    "outputId": "87270342-a42f-4f4c-eae2-f56566850b8c"
   },
   "outputs": [],
   "source": [
    "plt.figure(figsize = (20,6))\n",
    "plt.subplot(1,2,1)\n",
    "eda_percentage = df['work_interfere'].value_counts(normalize = True).rename_axis('work_interfere').reset_index(name = 'Percentage')\n",
    "ax = sns.barplot(x = 'work_interfere', y = 'Percentage', data = eda_percentage, palette='Dark2')\n",
    "for p in ax.patches:\n",
    "    width = p.get_width()\n",
    "    height = p.get_height()\n",
    "    x, y = p.get_xy() \n",
    "    ax.annotate(f'{height:.0%}', (x + width/2, y + height*1.02), ha='center', fontweight='bold')\n",
    "\n",
    "plt.title('Work Interference of Survey Respondents', fontsize=18, fontweight='bold')\n",
    "plt.xticks(fontsize=16)\n",
    "plt.yticks(fontsize=16)\n",
    "#plt.legend(fontsize=16)\n",
    "\n",
    "plt.subplot(1,2,2)\n",
    "sns.countplot(x=df['work_interfere'], hue = df['treatment'],  palette=dict(No = '#d95f02', Yes = '#1b9e77'))\n",
    "plt.title('Work Interference of Survey Respondents', fontsize=18, fontweight='bold')\n",
    "plt.xticks(fontsize=16)\n",
    "plt.yticks(fontsize=16)\n",
    "plt.legend(fontsize=16)"
   ]
  },
  {
   "cell_type": "markdown",
   "metadata": {
    "id": "Z_TXTCqJxwHw"
   },
   "source": [
    "##WELLNESS PROGRAM COLUMN"
   ]
  },
  {
   "cell_type": "code",
   "execution_count": null,
   "metadata": {
    "colab": {
     "base_uri": "https://localhost:8080/",
     "height": 398
    },
    "id": "pmhTNDU4w_MO",
    "outputId": "a930c0f4-d6eb-48af-c14b-5dd11ba671ce"
   },
   "outputs": [],
   "source": [
    "plt.figure(figsize=(20,6))\n",
    "plt.subplot(1,2,1)\n",
    "eda_percentage = df['wellness_program'].value_counts(normalize = True).rename_axis('wellness_program').reset_index(name = 'Percentage')\n",
    "ax = sns.barplot(x = 'wellness_program', y = 'Percentage', data = eda_percentage, palette='Dark2')\n",
    "for p in ax.patches:\n",
    "    width = p.get_width()\n",
    "    height = p.get_height()\n",
    "    x, y = p.get_xy() \n",
    "    ax.annotate(f'{height:.0%}', (x + width/2, y + height*1.02), ha='center', fontweight='bold')\n",
    "\n",
    "plt.title('Mental Health in Wellness Program provided to the Employees', fontsize=16, fontweight='bold')\n",
    "plt.xticks(fontsize=16)\n",
    "plt.yticks(fontsize=16)\n",
    "#plt.legend(fontsize=16)\n",
    "\n",
    "plt.subplot(1,2,2)\n",
    "sns.countplot(x=df['wellness_program'], hue = df['treatment'], palette='Dark2')\n",
    "plt.title('Mental Health in Wellness Program provided to the Employees', fontsize=16, fontweight='bold')\n",
    "plt.xticks(fontsize=16)\n",
    "plt.yticks(fontsize=16)\n",
    "plt.legend(fontsize=16)"
   ]
  }
 ],
 "metadata": {
  "colab": {
   "name": "EDA and Visualization.ipynb",
   "provenance": []
  },
  "kernelspec": {
   "display_name": "Python 3 (ipykernel)",
   "language": "python",
   "name": "python3"
  },
  "language_info": {
   "codemirror_mode": {
    "name": "ipython",
    "version": 3
   },
   "file_extension": ".py",
   "mimetype": "text/x-python",
   "name": "python",
   "nbconvert_exporter": "python",
   "pygments_lexer": "ipython3",
   "version": "3.8.10"
  }
 },
 "nbformat": 4,
 "nbformat_minor": 1
}
