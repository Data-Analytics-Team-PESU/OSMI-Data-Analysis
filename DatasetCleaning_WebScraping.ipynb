{
 "cells": [
  {
   "cell_type": "markdown",
   "id": "cc37d010",
   "metadata": {},
   "source": [
    "# Dataset Creation and Cleaning using Web Scraping Techniques"
   ]
  },
  {
   "cell_type": "markdown",
   "id": "be7a6b7d",
   "metadata": {},
   "source": [
    "Typeform is an online SAAS company for web form and survey creation. Utilizing this software, OSMI creates and makes public its surveys and has done so since the year 2016. On the publicly available survey webpage, all the questions asked are followed by a distribution of the responses. We scrape data about the questions for merging with the Kaggle dataset for each year's survey. To scrape the questions of its online surveys, we use the ```requests``` and ```BeautifulSoup``` libraries. In order to acquire the responses of each participant, we use the dataset on Kaggle.\n",
    "\n",
    "### Data Sources\n",
    "1. [OSMI 2016 Survey on Typeform](https://osmi.typeform.com/report/Ao6BTw/U76z) and the corresponding [Kaggle Dataset](https://www.kaggle.com/osmi/mental-health-in-tech-2016)\n",
    "2. [Kaggle Dataset for 2017](https://www.kaggle.com/osmihelp/osmi-mental-health-in-tech-survey-2017)\n",
    "3. [OSMI 2018 Survey on Typeform](https://osmi.typeform.com/report/xztgPT/NFu2PHjwsMUkkL3h) and the corresponding [Kaggle Dataset](https://www.kaggle.com/osmihelp/osmi-mental-health-in-tech-survey-2018)\n",
    "4. [OSMI 2020 Survey on Typeform](https://osmi.typeform.com/report/A7mlxC/itVHRYbNRnPqDI9C) and the corresponding [Kaggle Dataset](https://www.kaggle.com/osmihelp/osmi-2020-mental-health-in-tech-survey-results)\n",
    "\n",
    "### Table of Contents\n",
    "\n",
    "1. [Work on the 2018 Dataset](#01-Work-on-the-2016-Dataset)\n",
    "\n",
    "    1. [Acquistion of Survey Questions with Web Scraping](#1.-Acquistion-of-Survey-Questions-with-Web-Scraping)\n",
    "    2. [Cleaning and Aggregation of Columns](#2.-Cleaning-and-Aggregating-Columns-on-the-Dataset-from-Kaggle)\n",
    "    3. [Final Dataset](#3.-Final-Attribute-wise-Cleaned-Kaggle-Dataset)\n",
    "2. [Work on the 2020 Dataset](#02-Work-on-the-2020-Dataset)"
   ]
  },
  {
   "cell_type": "markdown",
   "id": "1074f020",
   "metadata": {},
   "source": [
    "# 01 Work on the 2018 Dataset"
   ]
  },
  {
   "cell_type": "markdown",
   "id": "7416ce6f",
   "metadata": {},
   "source": [
    "## 1. Acquistion of Survey Questions with Web Scraping"
   ]
  },
  {
   "cell_type": "code",
   "execution_count": 52,
   "id": "4b7190b9",
   "metadata": {
    "scrolled": false
   },
   "outputs": [
    {
     "name": "stdout",
     "output_type": "stream",
     "text": [
      "Web scraping response status:\n",
      " 200\n",
      "Dataset Title:\n",
      " OSMI Mental Health in Tech Survey 2018\n"
     ]
    }
   ],
   "source": [
    "# Import libraries necessary for web scraping and dataset creation\n",
    "import re\n",
    "import sys\n",
    "import json\n",
    "import requests\n",
    "import numpy as np\n",
    "import pandas as pd\n",
    "from bs4 import BeautifulSoup\n",
    "from collections import Counter\n",
    "\n",
    "# Request typeform survey webpage for contents\n",
    "res = requests.get(\n",
    "      'https://osmi.typeform.com/report/xztgPT/NFu2PHjwsMUkkL3h')\n",
    "\n",
    "# Extract response status and validate for successful transaction\n",
    "status = res.status_code\n",
    "if status != 200:\n",
    "    sys.exit(1)\n",
    "else:\n",
    "    print(\"Web scraping response status:\\n\", status)\n",
    "\n",
    "# Parse HTML title, head and body contents using BeautifulSoup\n",
    "soup = BeautifulSoup(res.content, 'html.parser')\n",
    "\n",
    "print(\"Dataset Title:\\n\", soup.title.text)"
   ]
  },
  {
   "cell_type": "code",
   "execution_count": 53,
   "id": "768286d9",
   "metadata": {},
   "outputs": [
    {
     "name": "stdout",
     "output_type": "stream",
     "text": [
      "Number of questions in the survey: 68\n",
      "----------------------------------------------------------------------------------------------------\n",
      "Are you self-employed?\n",
      "How many employees does your company or organization have?\n",
      "Is your employer primarily a tech company/organization?\n",
      "Is your primary role within your company related to tech/IT?\n",
      "Does your employer provide mental health benefits as part of healthcare coverage?\n",
      "Do you know the options for mental health care available under your employer-provided health coverage?\n",
      "Has your employer ever formally discussed mental health (for example, as part of a wellness campaign or other official communication)?\n",
      "Does your employer offer resources to learn more about mental health disorders and options for seeking help?\n",
      "Is your anonymity protected if you choose to take advantage of mental health or substance abuse treatment resources provided by your employer?\n",
      "If a mental health issue prompted you to request a medical leave from work, how easy or difficult would it be to ask for that leave?\n",
      "Would you feel more comfortable talking to your coworkers about your physical health or your mental health?\n",
      "Would you feel comfortable discussing a mental health issue with your direct supervisor(s)?\n",
      "Have you ever discussed your mental health with your employer?\n",
      "Would you feel comfortable discussing a mental health issue with your coworkers?\n",
      "Have you ever discussed your mental health with coworkers?\n",
      "Have you ever had a coworker discuss their or another coworker's mental health with you?\n",
      "Overall, how much importance does your employer place on physical health?\n",
      "Overall, how much importance does your employer place on mental health?\n",
      "Do you have medical coverage (private insurance or state-provided) that includes treatment of mental health disorders?\n",
      "Do you know local or online resources to seek help for a mental health issue?\n",
      "If you have been diagnosed or treated for a mental health disorder, do you ever reveal this to clients or business contacts?\n",
      "If you have revealed a mental health disorder to a client or business contact, how has this affected you or the relationship?\n",
      "If you have been diagnosed or treated for a mental health disorder, do you ever reveal this to coworkers or employees?\n",
      "If you have revealed a mental health disorder to a coworker or employee, how has this impacted you or the relationship?\n",
      "Do you believe your productivity is ever affected by a mental health issue?\n",
      "If yes, what percentage of your work time (time performing primary or secondary job functions) is affected by a mental health issue?\n",
      "Do you have previous employers?\n",
      "Was your employer primarily a tech company/organization?\n",
      "Have your previous employers provided mental health benefits?\n",
      "Were you aware of the options for mental health care provided by your previous employers?\n",
      "Did your previous employers ever formally discuss mental health (as part of a wellness campaign or other official communication)?\n",
      "Did your previous employers provide resources to learn more about mental health disorders and how to seek help?\n",
      "Was your anonymity protected if you chose to take advantage of mental health or substance abuse treatment resources with previous employers?\n",
      "Would you have felt more comfortable talking to your previous employer about your physical health or your mental health?\n",
      "Would you have been willing to discuss your mental health with your direct supervisor(s)?\n",
      "Did you ever discuss your mental health with your previous employer?\n",
      "Would you have been willing to discuss your mental health with your coworkers at previous employers?\n",
      "Did you ever discuss your mental health with a previous coworker(s)?\n",
      "Did you ever have a previous coworker discuss their or another coworker's mental health with you?\n",
      "Overall, how much importance did your previous employer place on physical health?\n",
      "Overall, how much importance did your previous employer place on mental health?\n",
      "Do you currently have a mental health disorder?\n",
      "Have you ever been diagnosed with a mental health disorder?\n",
      "What disorder(s) have you been diagnosed with?\n",
      "If possibly, what disorder(s) do you believe you have?\n",
      "If so, what disorder(s) were you diagnosed with?\n",
      "Have you had a mental health disorder in the past?\n",
      "Have you ever sought treatment for a mental health disorder from a mental health professional?\n",
      "Do you have a family history of mental illness?\n",
      "If you have a mental health disorder, how often do you feel that it interferes with your work when being treated effectively?\n",
      "If you have a mental health disorder, how often do you feel that it interferes with your work when NOT being treated effectively (i.e., when you are experiencing symptoms)?\n",
      "Have your observations of how another individual who discussed a mental health issue made you less likely to reveal a mental health issue yourself in your current workplace?\n",
      "How willing would you be to share with friends and family that you have a mental illness?\n",
      "Would you be willing to bring up a physical health issue with a potential employer in an interview?\n",
      "Would you bring up your mental health with a potential employer in an interview?\n",
      "Are you openly identified at work as a person with a mental health issue?\n",
      "Has being identified as a person with a mental health issue affected your career?\n",
      "How has it affected your career?\n",
      "If they knew you suffered from a mental health disorder, how do you think that team members/co-workers would react?\n",
      "Have you observed or experienced an unsupportive or badly handled response to a mental health issue in your current or previous workplace?\n",
      "Have you observed or experienced supportive or well handled response to a mental health issue in your current or previous workplace?\n",
      "Overall, how well do you think the tech industry supports employees with mental health issues?\n",
      "Would you be willing to talk to one of us more extensively about your experiences with mental health issues in the tech industry? (Note that all interview responses would be used anonymously and only with your permission.)\n",
      "What country do you live in?\n",
      "What US state or territory do you live in?\n",
      "What is your race?\n",
      "What country do you work in?\n",
      "What US state or territory do you work in?\n"
     ]
    }
   ],
   "source": [
    "# Select content inside the script element that contains information about the survey questions and answers\n",
    "script = soup.select('script')[11]\n",
    "\n",
    "# Set a Regex pattern to extract the report's payload and apply the pattern on the script text\n",
    "pattern = re.compile(\"(?<=window.__REPORT_PAYLOAD = ).*(?=};)\")\n",
    "fields = re.findall(pattern, script.text)\n",
    "\n",
    "# Complete the string to be able to input to the JSON parser\n",
    "fields[0] = fields[0] + '}'\n",
    "\n",
    "# Convert the string to JSON\n",
    "json_param = json.loads(fields[0])\n",
    "\n",
    "# Print all the questions asked in the survey\n",
    "questions = json_param['blocks']\n",
    "print(\"Number of questions in the survey:\", len(questions))\n",
    "print('-'*100)\n",
    "\n",
    "# Process each question to remove * present representing bolded words\n",
    "question_titles = []\n",
    "for question in questions:\n",
    "    question['title'] = question['title'].replace('*', '')\n",
    "    question['title'] = question['title'].replace('_', '')\n",
    "    question_titles.append(question['title'])\n",
    "    print(question['title'])"
   ]
  },
  {
   "cell_type": "code",
   "execution_count": 54,
   "id": "d0655ac1",
   "metadata": {
    "scrolled": true
   },
   "outputs": [
    {
     "data": {
      "text/plain": [
       "Counter({'yes_no': 16,\n",
       "         'multiple_choice': 40,\n",
       "         'opinion_scale': 7,\n",
       "         'rating': 1,\n",
       "         'dropdown': 4})"
      ]
     },
     "execution_count": 54,
     "metadata": {},
     "output_type": "execute_result"
    }
   ],
   "source": [
    "# Analyze the types of questions asked in the survey\n",
    "question_types = []\n",
    "for question in questions:\n",
    "    question_types.append(question['type'])\n",
    "Counter(question_types)"
   ]
  },
  {
   "cell_type": "code",
   "execution_count": 55,
   "id": "5e756292",
   "metadata": {
    "scrolled": true
   },
   "outputs": [
    {
     "name": "stdout",
     "output_type": "stream",
     "text": [
      "Number of respondents for each question out of 417 participants:\n",
      " [417, 361, 361, 361, 361, 361, 361, 361, 361, 361, 361, 361, 361, 361, 360, 360, 361, 361, 56, 56, 56, 56, 56, 56, 56, 41, 417, 363, 363, 363, 363, 363, 363, 363, 363, 363, 363, 362, 363, 363, 363, 417, 191, 0, 81, 188, 415, 417, 417, 417, 417, 417, 417, 417, 417, 417, 51, 16, 417, 417, 417, 417, 417, 417, 311, 311, 417, 314]\n"
     ]
    }
   ],
   "source": [
    "# Get the total number of participants in the survey\n",
    "total_resp = json_param['totalResponsesCount']\n",
    "\n",
    "# Get the number of participants that answered each question\n",
    "counts = []\n",
    "for question in questions:\n",
    "    counts.append(question['summary']['count'])\n",
    "print(\"Number of respondents for each question out of {0} participants:\\n {1}\".format(total_resp, counts))"
   ]
  },
  {
   "cell_type": "markdown",
   "id": "dd8b270a",
   "metadata": {},
   "source": [
    "## 2. Cleaning and Aggregating Columns on the Dataset from Kaggle"
   ]
  },
  {
   "cell_type": "markdown",
   "id": "704fcc58",
   "metadata": {},
   "source": [
    "### Importing and Overview"
   ]
  },
  {
   "cell_type": "code",
   "execution_count": 56,
   "id": "16d67ce2",
   "metadata": {},
   "outputs": [
    {
     "name": "stdout",
     "output_type": "stream",
     "text": [
      "Number of columns: 123\n",
      "----------------------------------------------------------------------------------------------------\n",
      "0 #\n",
      "14 Describe the conversation you had with your employer about your mental health, including their reactions and what actions were taken to address your mental health issue/questions.\n",
      "17 Describe the conversation with coworkers you had about your mental health including their reactions.\n",
      "19 Describe the conversation your coworker had with you about their mental health (please do not use names).\n",
      "40 Describe the conversation you had with your previous employer about your mental health, including their reactions and actions taken to address your mental health issue/questions.\n",
      "43 Describe the conversation you had with your previous coworkers about your mental health including their reactions.\n",
      "45 Describe the conversation your coworker had with you about their mental health (please do not use names)..1\n",
      "50 Anxiety Disorder (Generalized, Social, Phobia, etc)\n",
      "51 Mood Disorder (Depression, Bipolar Disorder, etc)\n",
      "52 Psychotic Disorder (Schizophrenia, Schizoaffective, etc)\n",
      "53 Eating Disorder (Anorexia, Bulimia, etc)\n",
      "54 Attention Deficit Hyperactivity Disorder\n",
      "55 Personality Disorder (Borderline, Antisocial, Paranoid, etc)\n",
      "56 Obsessive-Compulsive Disorder\n",
      "57 Post-Traumatic Stress Disorder\n",
      "58 Stress Response Syndromes\n",
      "59 Dissociative Disorder\n",
      "60 Substance Use Disorder\n",
      "61 Addictive Disorder\n",
      "62 Other\n",
      "63 Anxiety Disorder (Generalized, Social, Phobia, etc).1\n",
      "64 Mood Disorder (Depression, Bipolar Disorder, etc).1\n",
      "65 Psychotic Disorder (Schizophrenia, Schizoaffective, etc).1\n",
      "66 Eating Disorder (Anorexia, Bulimia, etc).1\n",
      "67 Attention Deficit Hyperactivity Disorder.1\n",
      "68 Personality Disorder (Borderline, Antisocial, Paranoid, etc).1\n",
      "69 Obsessive-Compulsive Disorder.1\n",
      "70 Post-traumatic Stress Disorder\n",
      "71 Stress Response Syndromes.1\n",
      "72 Dissociative Disorder.1\n",
      "73 Substance Use Disorder.1\n",
      "74 Addictive Disorder.1\n",
      "75 Other.1\n",
      "76 Anxiety Disorder (Generalized, Social, Phobia, etc).2\n",
      "77 Mood Disorder (Depression, Bipolar Disorder, etc).2\n",
      "78 Psychotic Disorder (Schizophrenia, Schizoaffective, etc).2\n",
      "79 Eating Disorder (Anorexia, Bulimia, etc).2\n",
      "80 Attention Deficit Hyperactivity Disorder.2\n",
      "81 Personality Disorder (Borderline, Antisocial, Paranoid, etc).2\n",
      "82 Obsessive-Compulsive Disorder.2\n",
      "83 Post-traumatic Stress Disorder.1\n",
      "84 Stress Response Syndromes.2\n",
      "85 Dissociative Disorder.2\n",
      "86 Substance Use Disorder.2\n",
      "87 Addictive Disorder.2\n",
      "88 Other.2\n",
      "105 Describe the circumstances of the badly handled or unsupportive response.\n",
      "107 Describe the circumstances of the supportive or well handled response.\n",
      "109 Briefly describe what you think the industry as a whole and/or employers could do to improve mental health support for employees.\n",
      "110 If there is anything else you would like to tell us that has not been covered by the survey questions, please use this space to do so.\n",
      "117 Other.3\n",
      "120 Start Date (UTC)\n",
      "121 Submit Date (UTC)\n",
      "122 Network ID\n"
     ]
    }
   ],
   "source": [
    "# Import Kaggle dataset and examine the columns\n",
    "data_2018 = pd.read_csv('datasets/2018_data_kaggle.csv')\n",
    "\n",
    "# What are the total number of columns?\n",
    "print(\"Number of columns:\", len(data_2018.columns))\n",
    "print('-'*100)\n",
    "\n",
    "# What are the columns that aren't in question format?\n",
    "for count, i in enumerate(data_2018.columns):\n",
    "    if '?' not in i:\n",
    "        print(count, i)"
   ]
  },
  {
   "cell_type": "markdown",
   "id": "e476e8bd",
   "metadata": {},
   "source": [
    "### Analysis\n",
    "From this we analyze that the dataset from Kaggle has columns that aren't in the data scraped from the survey webpage. It also appears that some columns represent possible responses for questions. Therefore, we decide to merge the corresponding columns and replace the column names with the question titles.\n",
    "Since we look to aggregate columns from multiple datasets throughout the years, we merge the columns of descriptive questions to form a single column: `comments`. We also drop the first column representing the participant ID and a few other columns that are not relevant to our study."
   ]
  },
  {
   "cell_type": "markdown",
   "id": "7e77eac2",
   "metadata": {},
   "source": [
    "### Column Name Cleaning"
   ]
  },
  {
   "cell_type": "code",
   "execution_count": 57,
   "id": "426b0b51",
   "metadata": {},
   "outputs": [],
   "source": [
    "data_2018.drop(['#', 'Start Date (UTC)', 'Submit Date (UTC)', 'Network ID'], axis=1, inplace=True)"
   ]
  },
  {
   "cell_type": "markdown",
   "id": "56c20f20",
   "metadata": {},
   "source": [
    "The columns with indices between 50 to 62, 63 to 75 and 76 to 88 correspond to, respectively,\n",
    "\n",
    "`What disorder(s) have you been diagnosed with?`\n",
    "\n",
    "`If possibly, what disorder(s) do you believe you have?`\n",
    "\n",
    "`If so, what disorder(s) were you diagnosed with?`.\n",
    "\n",
    "Therefore, we merge the corresponding columns of indices to create new columns with the attribute headings being the above qustions."
   ]
  },
  {
   "cell_type": "code",
   "execution_count": 58,
   "id": "c78f6bd0",
   "metadata": {},
   "outputs": [],
   "source": [
    "# Setup the column names that are to be merged\n",
    "\n",
    "# Columns to be merged and replaced by `What disorder(s) have you been diagnosed with?`\n",
    "cols_1 = ['Anxiety Disorder (Generalized, Social, Phobia, etc)',\n",
    "          'Mood Disorder (Depression, Bipolar Disorder, etc)',\n",
    "          'Psychotic Disorder (Schizophrenia, Schizoaffective, etc)',\n",
    "          'Eating Disorder (Anorexia, Bulimia, etc)',\n",
    "          'Attention Deficit Hyperactivity Disorder',\n",
    "          'Personality Disorder (Borderline, Antisocial, Paranoid, etc)',\n",
    "          'Obsessive-Compulsive Disorder',\n",
    "          'Post-Traumatic Stress Disorder',\n",
    "          'Stress Response Syndromes',\n",
    "          'Dissociative Disorder',\n",
    "          'Substance Use Disorder',\n",
    "          'Addictive Disorder',\n",
    "          'Other']\n",
    "data_2018.rename(columns = {'Post-traumatic Stress Disorder':'Post-Traumatic Stress Disorder.1',\n",
    "                           'Post-traumatic Stress Disorder.1':'Post-Traumatic Stress Disorder.2'}, inplace = True)\n",
    "\n",
    "# Columns to be merged and replaced by `If possibly, what disorder(s) do you believe you have?`\n",
    "cols_2 = [i + '.1' for i in cols_1]\n",
    "\n",
    "# Columns to be merged and replaced by `If so, what disorder(s) were you diagnosed with?`\n",
    "cols_3 = [i + '.2' for i in cols_1]\n",
    "\n",
    "# Columns to be merged and replaced by `comments`\n",
    "cols_4 = ['Describe the conversation you had with your employer about your mental health, including their reactions and what actions were taken to address your mental health issue/questions.',\n",
    "          'Describe the conversation with coworkers you had about your mental health including their reactions.',\n",
    "          'Describe the conversation your coworker had with you about their mental health (please do not use names).',\n",
    "          'Describe the conversation you had with your previous employer about your mental health, including their reactions and actions taken to address your mental health issue/questions.',\n",
    "          'Describe the conversation you had with your previous coworkers about your mental health including their reactions.',\n",
    "          'Describe the conversation your coworker had with you about their mental health (please do not use names)..1',\n",
    "          'Describe the circumstances of the badly handled or unsupportive response.',\n",
    "          'Describe the circumstances of the supportive or well handled response.',\n",
    "          'Briefly describe what you think the industry as a whole and/or employers could do to improve mental health support for employees.',\n",
    "          'If there is anything else you would like to tell us that has not been covered by the survey questions, please use this space to do so.',\n",
    "          'Other.3']\n",
    "\n",
    "# Names of the attributes after transformation \n",
    "q_1 = 'What disorder(s) have you been diagnosed with?'\n",
    "q_2 = 'If possibly, what disorder(s) do you believe you have?'\n",
    "q_3 = 'If so, what disorder(s) were you diagnosed with?'\n",
    "q_4 = 'comments'"
   ]
  },
  {
   "cell_type": "code",
   "execution_count": 59,
   "id": "9410fc7c",
   "metadata": {},
   "outputs": [],
   "source": [
    "# Function defined to merge a list of columns to form a new column with the input name\n",
    "def merge_columns(df, new_col, col_list):\n",
    "    '''\n",
    "    Input: \n",
    "        df - Dataframe being worked on (Pandas Dataframe)\n",
    "        new_col - List of column\n",
    "    \n",
    "    '''\n",
    "    df[new_col] = df[col_list].apply(lambda x: ', '.join(x.dropna().astype(str)), 1)\n",
    "    df[new_col] = df[new_col].apply(lambda aCode: np.nan if aCode == '' else aCode)\n",
    "    df.drop(col_list, axis=1, inplace=True)"
   ]
  },
  {
   "cell_type": "code",
   "execution_count": 60,
   "id": "10f13fd0",
   "metadata": {},
   "outputs": [],
   "source": [
    "merge_columns(data_2018, q_1, cols_1)\n",
    "merge_columns(data_2018, q_2, cols_2)\n",
    "merge_columns(data_2018, q_3, cols_3)\n",
    "merge_columns(data_2018, q_4, cols_4)"
   ]
  },
  {
   "cell_type": "code",
   "execution_count": 61,
   "id": "cf0c7a27",
   "metadata": {},
   "outputs": [
    {
     "name": "stdout",
     "output_type": "stream",
     "text": [
      "Number of columns: 73\n"
     ]
    }
   ],
   "source": [
    "print(\"Number of columns:\", len(data_2018.columns))\n",
    "for i in range(len(data_2018.columns)):\n",
    "    for string in ['<strong>', '</strong>', '<em>', '</em>']:\n",
    "        data_2018.rename(columns = {data_2018.columns[i]:data_2018.columns[i].replace(string, '')}, inplace=True)"
   ]
  },
  {
   "cell_type": "code",
   "execution_count": 62,
   "id": "73963616",
   "metadata": {},
   "outputs": [
    {
     "name": "stdout",
     "output_type": "stream",
     "text": [
      "['Why or why not?', 'Why or why not?.1', 'What is your age?', 'What is your gender?', 'comments']\n"
     ]
    }
   ],
   "source": [
    "# Analyze the attributes that are present in the Kaggle dataset and not in the scraped dataset\n",
    "print([i for i in data_2018.columns if i not in question_titles])"
   ]
  },
  {
   "cell_type": "markdown",
   "id": "9e5a312c",
   "metadata": {},
   "source": [
    "The attributes age, gender and comments are important for the final aggregation, and so we retain them as is. We do not need the explanatory questions, and so they are dropped."
   ]
  },
  {
   "cell_type": "code",
   "execution_count": 63,
   "id": "fea55618",
   "metadata": {},
   "outputs": [],
   "source": [
    "data_2018.drop(['Why or why not?', 'Why or why not?.1',\n",
    "               'Would you be willing to talk to one of us more extensively about your experiences with mental health issues in the tech industry? (Note that all interview responses would be used anonymously and only with your permission.)']\n",
    "               , axis=1, inplace=True)"
   ]
  },
  {
   "cell_type": "markdown",
   "id": "ef249bd9",
   "metadata": {},
   "source": [
    "## 3. Final Attribute-wise Cleaned Kaggle Dataset"
   ]
  },
  {
   "cell_type": "code",
   "execution_count": 64,
   "id": "c4d3f134",
   "metadata": {
    "scrolled": true
   },
   "outputs": [
    {
     "name": "stdout",
     "output_type": "stream",
     "text": [
      "Are you self-employed?\n",
      "How many employees does your company or organization have?\n",
      "Is your employer primarily a tech company/organization?\n",
      "Is your primary role within your company related to tech/IT?\n",
      "Does your employer provide mental health benefits as part of healthcare coverage?\n",
      "Do you know the options for mental health care available under your employer-provided health coverage?\n",
      "Has your employer ever formally discussed mental health (for example, as part of a wellness campaign or other official communication)?\n",
      "Does your employer offer resources to learn more about mental health disorders and options for seeking help?\n",
      "Is your anonymity protected if you choose to take advantage of mental health or substance abuse treatment resources provided by your employer?\n",
      "If a mental health issue prompted you to request a medical leave from work, how easy or difficult would it be to ask for that leave?\n",
      "Would you feel more comfortable talking to your coworkers about your physical health or your mental health?\n",
      "Would you feel comfortable discussing a mental health issue with your direct supervisor(s)?\n",
      "Have you ever discussed your mental health with your employer?\n",
      "Would you feel comfortable discussing a mental health issue with your coworkers?\n",
      "Have you ever discussed your mental health with coworkers?\n",
      "Have you ever had a coworker discuss their or another coworker's mental health with you?\n",
      "Overall, how much importance does your employer place on physical health?\n",
      "Overall, how much importance does your employer place on mental health?\n",
      "Do you have medical coverage (private insurance or state-provided) that includes treatment of mental health disorders?\n",
      "Do you know local or online resources to seek help for a mental health issue?\n",
      "If you have been diagnosed or treated for a mental health disorder, do you ever reveal this to clients or business contacts?\n",
      "If you have revealed a mental health disorder to a client or business contact, how has this affected you or the relationship?\n",
      "If you have been diagnosed or treated for a mental health disorder, do you ever reveal this to coworkers or employees?\n",
      "If you have revealed a mental health disorder to a coworker or employee, how has this impacted you or the relationship?\n",
      "Do you believe your productivity is ever affected by a mental health issue?\n",
      "If yes, what percentage of your work time (time performing primary or secondary job functions) is affected by a mental health issue?\n",
      "Do you have previous employers?\n",
      "Was your employer primarily a tech company/organization?\n",
      "Have your previous employers provided mental health benefits?\n",
      "Were you aware of the options for mental health care provided by your previous employers?\n",
      "Did your previous employers ever formally discuss mental health (as part of a wellness campaign or other official communication)?\n",
      "Did your previous employers provide resources to learn more about mental health disorders and how to seek help?\n",
      "Was your anonymity protected if you chose to take advantage of mental health or substance abuse treatment resources with previous employers?\n",
      "Would you have felt more comfortable talking to your previous employer about your physical health or your mental health?\n",
      "Would you have been willing to discuss your mental health with your direct supervisor(s)?\n",
      "Did you ever discuss your mental health with your previous employer?\n",
      "Would you have been willing to discuss your mental health with your coworkers at previous employers?\n",
      "Did you ever discuss your mental health with a previous coworker(s)?\n",
      "Did you ever have a previous coworker discuss their or another coworker's mental health with you?\n",
      "Overall, how much importance did your previous employer place on physical health?\n",
      "Overall, how much importance did your previous employer place on mental health?\n",
      "Do you currently have a mental health disorder?\n",
      "Have you ever been diagnosed with a mental health disorder?\n",
      "Have you had a mental health disorder in the past?\n",
      "Have you ever sought treatment for a mental health disorder from a mental health professional?\n",
      "Do you have a family history of mental illness?\n",
      "If you have a mental health disorder, how often do you feel that it interferes with your work when being treated effectively?\n",
      "If you have a mental health disorder, how often do you feel that it interferes with your work when NOT being treated effectively (i.e., when you are experiencing symptoms)?\n",
      "Have your observations of how another individual who discussed a mental health issue made you less likely to reveal a mental health issue yourself in your current workplace?\n",
      "How willing would you be to share with friends and family that you have a mental illness?\n",
      "Would you be willing to bring up a physical health issue with a potential employer in an interview?\n",
      "Would you bring up your mental health with a potential employer in an interview?\n",
      "Are you openly identified at work as a person with a mental health issue?\n",
      "Has being identified as a person with a mental health issue affected your career?\n",
      "How has it affected your career?\n",
      "If they knew you suffered from a mental health disorder, how do you think that team members/co-workers would react?\n",
      "Have you observed or experienced an unsupportive or badly handled response to a mental health issue in your current or previous workplace?\n",
      "Have you observed or experienced supportive or well handled response to a mental health issue in your current or previous workplace?\n",
      "Overall, how well do you think the tech industry supports employees with mental health issues?\n",
      "What is your age?\n",
      "What is your gender?\n",
      "What country do you live in?\n",
      "What US state or territory do you live in?\n",
      "What is your race?\n",
      "What country do you work in?\n",
      "What US state or territory do you work in?\n",
      "What disorder(s) have you been diagnosed with?\n",
      "If possibly, what disorder(s) do you believe you have?\n",
      "If so, what disorder(s) were you diagnosed with?\n",
      "comments\n"
     ]
    }
   ],
   "source": [
    "print(*[i for i in data_2018.columns], sep='\\n')"
   ]
  },
  {
   "cell_type": "code",
   "execution_count": 65,
   "id": "8db86d73",
   "metadata": {},
   "outputs": [
    {
     "name": "stdout",
     "output_type": "stream",
     "text": [
      "Questions on the Kaggle dataset and not on the survey web page:\n",
      "59. What is your age?\n",
      "60. What is your gender?\n",
      "69. comments\n",
      "Questions on the survey web page and not on the Kaggle dataset:\n",
      "62. Would you be willing to talk to one of us more extensively about your experiences with mental health issues in the tech industry? (Note that all interview responses would be used anonymously and only with your permission.)\n"
     ]
    }
   ],
   "source": [
    "print(\"Questions on the Kaggle dataset and not on the survey web page:\")\n",
    "print(*[(str(count) + '. ' + str(i)) for count, i in enumerate(data_2018.columns) \n",
    "        if i not in question_titles], sep='\\n')\n",
    "print(\"Questions on the survey web page and not on the Kaggle dataset:\")\n",
    "print(*[(str(count) + '. ' + str(i)) for count, i in enumerate(question_titles) \n",
    "        if i not in data_2018.columns], sep='\\n')"
   ]
  },
  {
   "cell_type": "markdown",
   "id": "88d9190d",
   "metadata": {},
   "source": [
    "As observed, the last three columns in the cleaned Kaggle dataset are not present on the survey webpage."
   ]
  },
  {
   "cell_type": "code",
   "execution_count": 66,
   "id": "b53b377f",
   "metadata": {
    "scrolled": false
   },
   "outputs": [
    {
     "data": {
      "text/html": [
       "<div>\n",
       "<style scoped>\n",
       "    .dataframe tbody tr th:only-of-type {\n",
       "        vertical-align: middle;\n",
       "    }\n",
       "\n",
       "    .dataframe tbody tr th {\n",
       "        vertical-align: top;\n",
       "    }\n",
       "\n",
       "    .dataframe thead th {\n",
       "        text-align: right;\n",
       "    }\n",
       "</style>\n",
       "<table border=\"1\" class=\"dataframe\">\n",
       "  <thead>\n",
       "    <tr style=\"text-align: right;\">\n",
       "      <th></th>\n",
       "      <th>Are you self-employed?</th>\n",
       "      <th>How many employees does your company or organization have?</th>\n",
       "      <th>Is your employer primarily a tech company/organization?</th>\n",
       "      <th>Is your primary role within your company related to tech/IT?</th>\n",
       "      <th>Does your employer provide mental health benefits as part of healthcare coverage?</th>\n",
       "      <th>Do you know the options for mental health care available under your employer-provided health coverage?</th>\n",
       "      <th>Has your employer ever formally discussed mental health (for example, as part of a wellness campaign or other official communication)?</th>\n",
       "      <th>Does your employer offer resources to learn more about mental health disorders and options for seeking help?</th>\n",
       "      <th>Is your anonymity protected if you choose to take advantage of mental health or substance abuse treatment resources provided by your employer?</th>\n",
       "      <th>If a mental health issue prompted you to request a medical leave from work, how easy or difficult would it be to ask for that leave?</th>\n",
       "      <th>...</th>\n",
       "      <th>What is your gender?</th>\n",
       "      <th>What country do you live in?</th>\n",
       "      <th>What US state or territory do you live in?</th>\n",
       "      <th>What is your race?</th>\n",
       "      <th>What country do you work in?</th>\n",
       "      <th>What US state or territory do you work in?</th>\n",
       "      <th>What disorder(s) have you been diagnosed with?</th>\n",
       "      <th>If possibly, what disorder(s) do you believe you have?</th>\n",
       "      <th>If so, what disorder(s) were you diagnosed with?</th>\n",
       "      <th>comments</th>\n",
       "    </tr>\n",
       "  </thead>\n",
       "  <tbody>\n",
       "    <tr>\n",
       "      <th>0</th>\n",
       "      <td>0</td>\n",
       "      <td>More than 1000</td>\n",
       "      <td>1.0</td>\n",
       "      <td>0.0</td>\n",
       "      <td>Yes</td>\n",
       "      <td>Yes</td>\n",
       "      <td>Yes</td>\n",
       "      <td>Yes</td>\n",
       "      <td>Yes</td>\n",
       "      <td>Somewhat difficult</td>\n",
       "      <td>...</td>\n",
       "      <td>Female</td>\n",
       "      <td>Canada</td>\n",
       "      <td>NaN</td>\n",
       "      <td>NaN</td>\n",
       "      <td>Canada</td>\n",
       "      <td>NaN</td>\n",
       "      <td>NaN</td>\n",
       "      <td>Anxiety Disorder (Generalized, Social, Phobia,...</td>\n",
       "      <td>NaN</td>\n",
       "      <td>I informed my employer that I was very sick du...</td>\n",
       "    </tr>\n",
       "    <tr>\n",
       "      <th>1</th>\n",
       "      <td>0</td>\n",
       "      <td>More than 1000</td>\n",
       "      <td>1.0</td>\n",
       "      <td>1.0</td>\n",
       "      <td>Yes</td>\n",
       "      <td>Yes</td>\n",
       "      <td>No</td>\n",
       "      <td>I don't know</td>\n",
       "      <td>I don't know</td>\n",
       "      <td>Somewhat difficult</td>\n",
       "      <td>...</td>\n",
       "      <td>male</td>\n",
       "      <td>United States of America</td>\n",
       "      <td>Massachusetts</td>\n",
       "      <td>White</td>\n",
       "      <td>United States of America</td>\n",
       "      <td>Massachusetts</td>\n",
       "      <td>NaN</td>\n",
       "      <td>NaN</td>\n",
       "      <td>Anxiety Disorder (Generalized, Social, Phobia,...</td>\n",
       "      <td>it's a comfort thing at this point imo, needs ...</td>\n",
       "    </tr>\n",
       "    <tr>\n",
       "      <th>2</th>\n",
       "      <td>0</td>\n",
       "      <td>6-25</td>\n",
       "      <td>0.0</td>\n",
       "      <td>1.0</td>\n",
       "      <td>Yes</td>\n",
       "      <td>Yes</td>\n",
       "      <td>No</td>\n",
       "      <td>No</td>\n",
       "      <td>I don't know</td>\n",
       "      <td>Somewhat easy</td>\n",
       "      <td>...</td>\n",
       "      <td>Male</td>\n",
       "      <td>United States of America</td>\n",
       "      <td>Florida</td>\n",
       "      <td>White</td>\n",
       "      <td>United States of America</td>\n",
       "      <td>Florida</td>\n",
       "      <td>NaN</td>\n",
       "      <td>NaN</td>\n",
       "      <td>NaN</td>\n",
       "      <td>We had a coworker have a drastic turn in behav...</td>\n",
       "    </tr>\n",
       "    <tr>\n",
       "      <th>3</th>\n",
       "      <td>0</td>\n",
       "      <td>6-25</td>\n",
       "      <td>1.0</td>\n",
       "      <td>1.0</td>\n",
       "      <td>No</td>\n",
       "      <td>No</td>\n",
       "      <td>No</td>\n",
       "      <td>No</td>\n",
       "      <td>I don't know</td>\n",
       "      <td>Neither easy nor difficult</td>\n",
       "      <td>...</td>\n",
       "      <td>male</td>\n",
       "      <td>Norway</td>\n",
       "      <td>NaN</td>\n",
       "      <td>NaN</td>\n",
       "      <td>Norway</td>\n",
       "      <td>NaN</td>\n",
       "      <td>NaN</td>\n",
       "      <td>NaN</td>\n",
       "      <td>NaN</td>\n",
       "      <td>NaN</td>\n",
       "    </tr>\n",
       "    <tr>\n",
       "      <th>4</th>\n",
       "      <td>0</td>\n",
       "      <td>26-100</td>\n",
       "      <td>1.0</td>\n",
       "      <td>1.0</td>\n",
       "      <td>Yes</td>\n",
       "      <td>Yes</td>\n",
       "      <td>Yes</td>\n",
       "      <td>Yes</td>\n",
       "      <td>Yes</td>\n",
       "      <td>Somewhat easy</td>\n",
       "      <td>...</td>\n",
       "      <td>Ostensibly Male</td>\n",
       "      <td>United States of America</td>\n",
       "      <td>Tennessee</td>\n",
       "      <td>White</td>\n",
       "      <td>United States of America</td>\n",
       "      <td>Tennessee</td>\n",
       "      <td>NaN</td>\n",
       "      <td>NaN</td>\n",
       "      <td>Anxiety Disorder (Generalized, Social, Phobia,...</td>\n",
       "      <td>\"Hey, I have a lot of anxiety sometimes.\"  \"Oh...</td>\n",
       "    </tr>\n",
       "  </tbody>\n",
       "</table>\n",
       "<p>5 rows × 70 columns</p>\n",
       "</div>"
      ],
      "text/plain": [
       "   Are you self-employed?  \\\n",
       "0                       0   \n",
       "1                       0   \n",
       "2                       0   \n",
       "3                       0   \n",
       "4                       0   \n",
       "\n",
       "  How many employees does your company or organization have?  \\\n",
       "0                                     More than 1000           \n",
       "1                                     More than 1000           \n",
       "2                                               6-25           \n",
       "3                                               6-25           \n",
       "4                                             26-100           \n",
       "\n",
       "   Is your employer primarily a tech company/organization?  \\\n",
       "0                                                1.0         \n",
       "1                                                1.0         \n",
       "2                                                0.0         \n",
       "3                                                1.0         \n",
       "4                                                1.0         \n",
       "\n",
       "   Is your primary role within your company related to tech/IT?  \\\n",
       "0                                                0.0              \n",
       "1                                                1.0              \n",
       "2                                                1.0              \n",
       "3                                                1.0              \n",
       "4                                                1.0              \n",
       "\n",
       "  Does your employer provide mental health benefits as part of healthcare coverage?  \\\n",
       "0                                                Yes                                  \n",
       "1                                                Yes                                  \n",
       "2                                                Yes                                  \n",
       "3                                                 No                                  \n",
       "4                                                Yes                                  \n",
       "\n",
       "  Do you know the options for mental health care available under your employer-provided health coverage?  \\\n",
       "0                                                Yes                                                       \n",
       "1                                                Yes                                                       \n",
       "2                                                Yes                                                       \n",
       "3                                                 No                                                       \n",
       "4                                                Yes                                                       \n",
       "\n",
       "  Has your employer ever formally discussed mental health (for example, as part of a wellness campaign or other official communication)?  \\\n",
       "0                                                Yes                                                                                       \n",
       "1                                                 No                                                                                       \n",
       "2                                                 No                                                                                       \n",
       "3                                                 No                                                                                       \n",
       "4                                                Yes                                                                                       \n",
       "\n",
       "  Does your employer offer resources to learn more about mental health disorders and options for seeking help?  \\\n",
       "0                                                Yes                                                             \n",
       "1                                       I don't know                                                             \n",
       "2                                                 No                                                             \n",
       "3                                                 No                                                             \n",
       "4                                                Yes                                                             \n",
       "\n",
       "  Is your anonymity protected if you choose to take advantage of mental health or substance abuse treatment resources provided by your employer?  \\\n",
       "0                                                Yes                                                                                               \n",
       "1                                       I don't know                                                                                               \n",
       "2                                       I don't know                                                                                               \n",
       "3                                       I don't know                                                                                               \n",
       "4                                                Yes                                                                                               \n",
       "\n",
       "  If a mental health issue prompted you to request a medical leave from work, how easy or difficult would it be to ask for that leave?  \\\n",
       "0                                 Somewhat difficult                                                                                     \n",
       "1                                 Somewhat difficult                                                                                     \n",
       "2                                      Somewhat easy                                                                                     \n",
       "3                         Neither easy nor difficult                                                                                     \n",
       "4                                      Somewhat easy                                                                                     \n",
       "\n",
       "   ... What is your gender? What country do you live in?  \\\n",
       "0  ...               Female                       Canada   \n",
       "1  ...                 male     United States of America   \n",
       "2  ...                 Male     United States of America   \n",
       "3  ...                 male                       Norway   \n",
       "4  ...      Ostensibly Male     United States of America   \n",
       "\n",
       "   What US state or territory do you live in? What is your race?  \\\n",
       "0                                         NaN                NaN   \n",
       "1                               Massachusetts              White   \n",
       "2                                     Florida              White   \n",
       "3                                         NaN                NaN   \n",
       "4                                   Tennessee              White   \n",
       "\n",
       "   What country do you work in?  What US state or territory do you work in?  \\\n",
       "0                        Canada                                         NaN   \n",
       "1      United States of America                               Massachusetts   \n",
       "2      United States of America                                     Florida   \n",
       "3                        Norway                                         NaN   \n",
       "4      United States of America                                   Tennessee   \n",
       "\n",
       "   What disorder(s) have you been diagnosed with?  \\\n",
       "0                                             NaN   \n",
       "1                                             NaN   \n",
       "2                                             NaN   \n",
       "3                                             NaN   \n",
       "4                                             NaN   \n",
       "\n",
       "   If possibly, what disorder(s) do you believe you have?  \\\n",
       "0  Anxiety Disorder (Generalized, Social, Phobia,...        \n",
       "1                                                NaN        \n",
       "2                                                NaN        \n",
       "3                                                NaN        \n",
       "4                                                NaN        \n",
       "\n",
       "    If so, what disorder(s) were you diagnosed with?  \\\n",
       "0                                                NaN   \n",
       "1  Anxiety Disorder (Generalized, Social, Phobia,...   \n",
       "2                                                NaN   \n",
       "3                                                NaN   \n",
       "4  Anxiety Disorder (Generalized, Social, Phobia,...   \n",
       "\n",
       "                                            comments  \n",
       "0  I informed my employer that I was very sick du...  \n",
       "1  it's a comfort thing at this point imo, needs ...  \n",
       "2  We had a coworker have a drastic turn in behav...  \n",
       "3                                                NaN  \n",
       "4  \"Hey, I have a lot of anxiety sometimes.\"  \"Oh...  \n",
       "\n",
       "[5 rows x 70 columns]"
      ]
     },
     "execution_count": 66,
     "metadata": {},
     "output_type": "execute_result"
    }
   ],
   "source": [
    "data_2018.head()"
   ]
  },
  {
   "cell_type": "code",
   "execution_count": 67,
   "id": "3f93e4f3",
   "metadata": {},
   "outputs": [],
   "source": [
    "data_2018.to_csv('datasets/2018_data.csv')"
   ]
  },
  {
   "cell_type": "markdown",
   "id": "d613c088",
   "metadata": {},
   "source": [
    "# 02 Work on the 2020 Dataset"
   ]
  },
  {
   "cell_type": "markdown",
   "id": "8d39b385",
   "metadata": {},
   "source": [
    "## 1. Acquistion of Survey Questions with Web Scraping"
   ]
  },
  {
   "cell_type": "code",
   "execution_count": 68,
   "id": "10d4ee5f",
   "metadata": {},
   "outputs": [
    {
     "name": "stdout",
     "output_type": "stream",
     "text": [
      "Web scraping response status:\n",
      " 200\n",
      "Dataset Title:\n",
      " OSMI Mental Health in Tech Survey 2020\n"
     ]
    }
   ],
   "source": [
    "# Request typeform survey webpage for contents\n",
    "res = requests.get(\n",
    "      'https://osmi.typeform.com/report/A7mlxC/itVHRYbNRnPqDI9C')\n",
    "\n",
    "# Extract response status and validate for successful transaction\n",
    "status = res.status_code\n",
    "if status != 200:\n",
    "    sys.exit(1)\n",
    "else:\n",
    "    print(\"Web scraping response status:\\n\", status)\n",
    "\n",
    "# Parse HTML title, head and body contents using BeautifulSoup\n",
    "soup = BeautifulSoup(res.content, 'html.parser')\n",
    "\n",
    "print(\"Dataset Title:\\n\", soup.title.text)"
   ]
  },
  {
   "cell_type": "code",
   "execution_count": 69,
   "id": "e55580cf",
   "metadata": {
    "scrolled": true
   },
   "outputs": [
    {
     "name": "stdout",
     "output_type": "stream",
     "text": [
      "Number of questions in the survey: 68\n",
      "----------------------------------------------------------------------------------------------------\n",
      "Are you self-employed?\n",
      "How many employees does your company or organization have?\n",
      "Is your employer primarily a tech company/organization?\n",
      "Is your primary role within your company related to tech/IT?\n",
      "Does your employer provide mental health benefits as part of healthcare coverage?\n",
      "Do you know the options for mental health care available under your employer-provided health coverage?\n",
      "Has your employer ever formally discussed mental health (for example, as part of a wellness campaign or other official communication)?\n",
      "Does your employer offer resources to learn more about mental health disorders and options for seeking help?\n",
      "Is your anonymity protected if you choose to take advantage of mental health or substance abuse treatment resources provided by your employer?\n",
      "If a mental health issue prompted you to request a medical leave from work, how easy or difficult would it be to ask for that leave?\n",
      "Would you feel more comfortable talking to your coworkers about your physical health or your mental health?\n",
      "Would you feel comfortable discussing a mental health issue with your direct supervisor(s)?\n",
      "Have you ever discussed your mental health with your employer?\n",
      "Would you feel comfortable discussing a mental health issue with your coworkers?\n",
      "Have you ever discussed your mental health with coworkers?\n",
      "Have you ever had a coworker discuss their or another coworker's mental health with you?\n",
      "Overall, how much importance does your employer place on physical health?\n",
      "Overall, how much importance does your employer place on mental health?\n",
      "Do you have medical coverage (private insurance or state-provided) that includes treatment of mental health disorders?\n",
      "Do you know local or online resources to seek help for a mental health issue?\n",
      "If you have been diagnosed or treated for a mental health disorder, do you ever reveal this to clients or business contacts?\n",
      "If you have revealed a mental health disorder to a client or business contact, how has this affected you or the relationship?\n",
      "If you have been diagnosed or treated for a mental health disorder, do you ever reveal this to coworkers or employees?\n",
      "If you have revealed a mental health disorder to a coworker or employee, how has this impacted you or the relationship?\n",
      "Do you believe your productivity is ever affected by a mental health issue?\n",
      "If yes, what percentage of your work time (time performing primary or secondary job functions) is affected by a mental health issue?\n",
      "Do you have previous employers?\n",
      "Was your employer primarily a tech company/organization?\n",
      "Have your previous employers provided mental health benefits?\n",
      "Were you aware of the options for mental health care provided by your previous employers?\n",
      "Did your previous employers ever formally discuss mental health (as part of a wellness campaign or other official communication)?\n",
      "Did your previous employers provide resources to learn more about mental health disorders and how to seek help?\n",
      "Was your anonymity protected if you chose to take advantage of mental health or substance abuse treatment resources with previous employers?\n",
      "Would you have felt more comfortable talking to your previous employer about your physical health or your mental health?\n",
      "Would you have been willing to discuss your mental health with your direct supervisor(s)?\n",
      "Did you ever discuss your mental health with your previous employer?\n",
      "Would you have been willing to discuss your mental health with your coworkers at previous employers?\n",
      "Did you ever discuss your mental health with a previous coworker(s)?\n",
      "Did you ever have a previous coworker discuss their or another coworker's mental health with you?\n",
      "Overall, how much importance did your previous employer place on physical health?\n",
      "Overall, how much importance did your previous employer place on mental health?\n",
      "Do you currently have a mental health disorder?\n",
      "Have you ever been diagnosed with a mental health disorder?\n",
      "What disorder(s) have you been diagnosed with?\n",
      "If possibly, what disorder(s) do you believe you have?\n",
      "If so, what disorder(s) were you diagnosed with?\n",
      "Have you had a mental health disorder in the past?\n",
      "Have you ever sought treatment for a mental health disorder from a mental health professional?\n",
      "Do you have a family history of mental illness?\n",
      "If you have a mental health disorder, how often do you feel that it interferes with your work when being treated effectively?\n",
      "If you have a mental health disorder, how often do you feel that it interferes with your work when NOT being treated effectively (i.e., when you are experiencing symptoms)?\n",
      "Have your observations of how another individual who discussed a mental health issue made you less likely to reveal a mental health issue yourself in your current workplace?\n",
      "How willing would you be to share with friends and family that you have a mental illness?\n",
      "Would you be willing to bring up a physical health issue with a potential employer in an interview?\n",
      "Would you bring up your mental health with a potential employer in an interview?\n",
      "Are you openly identified at work as a person with a mental health issue?\n",
      "Has being identified as a person with a mental health issue affected your career?\n",
      "How has it affected your career?\n",
      "If they knew you suffered from a mental health disorder, how do you think that your team members/co-workers would react?\n",
      "Have you observed or experienced an unsupportive or badly handled response to a mental health issue in your current or previous workplace?\n",
      "Have you observed or experienced a supportive or well handled response to a mental health issue in your current or previous workplace?\n",
      "Overall, how well do you think the tech industry supports employees with mental health issues?\n",
      "Would you be willing to talk to one of us more extensively about your experiences with mental health issues in the tech industry? (Note that all interview responses would be used anonymously and only with your permission.)\n",
      "What country do you live in?\n",
      "What US state or territory do you live in?\n",
      "What is your race?\n",
      "What country do you work in?\n",
      "What US state or territory do you work in?\n"
     ]
    }
   ],
   "source": [
    "# Select content inside the script element that contains information about the survey questions and answers\n",
    "script = soup.select('script')[11]\n",
    "\n",
    "# Set a Regex pattern to extract the report's payload and apply the pattern on the script text\n",
    "pattern = re.compile(\"(?<=window.__REPORT_PAYLOAD = ).*(?=};)\")\n",
    "fields = re.findall(pattern, script.text)\n",
    "\n",
    "# Complete the string to be able to input to the JSON parser\n",
    "fields[0] = fields[0] + '}'\n",
    "\n",
    "# Convert the string to JSON\n",
    "json_param = json.loads(fields[0])\n",
    "\n",
    "# Print all the questions asked in the survey\n",
    "questions = json_param['blocks']\n",
    "print(\"Number of questions in the survey:\", len(questions))\n",
    "print('-'*100)\n",
    "\n",
    "# Process each question to remove * present representing bolded words\n",
    "question_titles = []\n",
    "for question in questions:\n",
    "    question['title'] = question['title'].replace('*', '')\n",
    "    question['title'] = question['title'].replace('_', '')\n",
    "    question_titles.append(question['title'])\n",
    "    print(question['title'])"
   ]
  },
  {
   "cell_type": "code",
   "execution_count": 70,
   "id": "26db6f01",
   "metadata": {},
   "outputs": [
    {
     "data": {
      "text/plain": [
       "Counter({'yes_no': 16,\n",
       "         'multiple_choice': 40,\n",
       "         'opinion_scale': 7,\n",
       "         'rating': 1,\n",
       "         'dropdown': 4})"
      ]
     },
     "execution_count": 70,
     "metadata": {},
     "output_type": "execute_result"
    }
   ],
   "source": [
    "# Analyze the types of questions asked in the survey\n",
    "question_types = []\n",
    "for question in questions:\n",
    "    question_types.append(question['type'])\n",
    "Counter(question_types)"
   ]
  },
  {
   "cell_type": "code",
   "execution_count": 71,
   "id": "270bb847",
   "metadata": {},
   "outputs": [
    {
     "name": "stdout",
     "output_type": "stream",
     "text": [
      "Number of respondents for each question out of 180 participants:\n",
      " [180, 155, 155, 155, 155, 155, 155, 155, 155, 155, 155, 155, 155, 155, 155, 154, 155, 155, 25, 25, 25, 25, 25, 25, 25, 20, 180, 135, 135, 135, 135, 135, 135, 135, 135, 135, 135, 133, 133, 135, 135, 180, 51, 0, 47, 47, 176, 180, 180, 180, 180, 180, 180, 180, 180, 180, 25, 15, 180, 180, 180, 180, 180, 180, 65, 65, 180, 67]\n"
     ]
    }
   ],
   "source": [
    "# Get the total number of participants in the survey\n",
    "total_resp = json_param['totalResponsesCount']\n",
    "\n",
    "# Get the number of participants that answered each question\n",
    "counts = []\n",
    "for question in questions:\n",
    "    counts.append(question['summary']['count'])\n",
    "print(\"Number of respondents for each question out of {0} participants:\\n {1}\".format(total_resp, counts))"
   ]
  },
  {
   "cell_type": "markdown",
   "id": "5754b141",
   "metadata": {},
   "source": [
    "## 2. Cleaning and Aggregating Columns on the Dataset from Kaggle"
   ]
  },
  {
   "cell_type": "markdown",
   "id": "ea716354",
   "metadata": {},
   "source": [
    "### Importing and Overview"
   ]
  },
  {
   "cell_type": "code",
   "execution_count": 72,
   "id": "88755062",
   "metadata": {
    "scrolled": true
   },
   "outputs": [
    {
     "name": "stdout",
     "output_type": "stream",
     "text": [
      "Number of columns: 120\n",
      "----------------------------------------------------------------------------------------------------\n",
      "0 #\n",
      "14 Describe the conversation you had with your employer about your mental health, including their reactions and what actions were taken to address your mental health issue/questions.\n",
      "17 Describe the conversation with coworkers you had about your mental health including their reactions.\n",
      "19 Describe the conversation your coworker had with you about their mental health (please do not use names).\n",
      "40 Describe the conversation you had with your previous employer about your mental health, including their reactions and actions taken to address your mental health issue/questions.\n",
      "43 Describe the conversation you had with your previous coworkers about your mental health including their reactions.\n",
      "45 Describe the conversation your coworker had with you about their mental health (please do not use names)..1\n",
      "50 Anxiety Disorder (Generalized, Social, Phobia, etc)\n",
      "51 Mood Disorder (Depression, Bipolar Disorder, etc)\n",
      "52 Psychotic Disorder (Schizophrenia, Schizoaffective, etc)\n",
      "53 Eating Disorder (Anorexia, Bulimia, etc)\n",
      "54 Attention Deficit Hyperactivity Disorder\n",
      "55 Personality Disorder (Borderline, Antisocial, Paranoid, etc)\n",
      "56 Obsessive-Compulsive Disorder\n",
      "57 Post-Traumatic Stress Disorder\n",
      "58 Stress Response Syndromes\n",
      "59 Dissociative Disorder\n",
      "60 Substance Use Disorder\n",
      "61 Addictive Disorder\n",
      "62 Other\n",
      "63 Anxiety Disorder (Generalized, Social, Phobia, etc).1\n",
      "64 Mood Disorder (Depression, Bipolar Disorder, etc).1\n",
      "65 Psychotic Disorder (Schizophrenia, Schizoaffective, etc).1\n",
      "66 Eating Disorder (Anorexia, Bulimia, etc).1\n",
      "67 Attention Deficit Hyperactivity Disorder.1\n",
      "68 Personality Disorder (Borderline, Antisocial, Paranoid, etc).1\n",
      "69 Obsessive-Compulsive Disorder.1\n",
      "70 Post-traumatic Stress Disorder\n",
      "71 Stress Response Syndromes.1\n",
      "72 Dissociative Disorder.1\n",
      "73 Substance Use Disorder.1\n",
      "74 Addictive Disorder.1\n",
      "75 Other.1\n",
      "76 Anxiety Disorder (Generalized, Social, Phobia, etc).2\n",
      "77 Mood Disorder (Depression, Bipolar Disorder, etc).2\n",
      "78 Psychotic Disorder (Schizophrenia, Schizoaffective, etc).2\n",
      "79 Eating Disorder (Anorexia, Bulimia, etc).2\n",
      "80 Attention Deficit Hyperactivity Disorder.2\n",
      "81 Personality Disorder (Borderline, Antisocial, Paranoid, etc).2\n",
      "82 Obsessive-Compulsive Disorder.2\n",
      "83 Post-traumatic Stress Disorder.1\n",
      "84 Stress Response Syndromes.2\n",
      "85 Dissociative Disorder.2\n",
      "86 Substance Use Disorder.2\n",
      "87 Addictive Disorder.2\n",
      "88 Other.2\n",
      "105 Describe the circumstances of the badly handled or unsupportive response.\n",
      "107 Describe the circumstances of the supportive or well handled response.\n",
      "109 Briefly describe what you think the industry as a whole and/or employers could do to improve mental health support for employees.\n",
      "110 If there is anything else you would like to tell us that has not been covered by the survey questions, please use this space to do so.\n",
      "117 Other.3\n"
     ]
    }
   ],
   "source": [
    "# Import Kaggle dataset and examine the columns\n",
    "data_2020 = pd.read_csv('datasets/2020_data_kaggle.csv')\n",
    "\n",
    "# What are the total number of columns?\n",
    "print(\"Number of columns:\", len(data_2020.columns))\n",
    "print('-'*100)\n",
    "\n",
    "# What are the columns that aren't in question format?\n",
    "for count, i in enumerate(data_2020.columns):\n",
    "    if '?' not in i:\n",
    "        print(count, i)"
   ]
  },
  {
   "cell_type": "markdown",
   "id": "08ae0a2a",
   "metadata": {},
   "source": [
    "### Analysis\n",
    "From this we analyze that the dataset from Kaggle has columns that aren't in the data scraped from the survey webpage. It also appears that some columns represent possible responses for questions. Therefore, we decide to merge the corresponding columns and replace the column names with the question titles.\n",
    "Since we look to aggregate columns from multiple datasets throughout the years, we merge the columns of descriptive questions to form a single column: `comments`. We also drop the first column representing the participant ID and a few other columns that are not relevant to our study."
   ]
  },
  {
   "cell_type": "markdown",
   "id": "692a2fad",
   "metadata": {},
   "source": [
    "### Column Name Cleaning"
   ]
  },
  {
   "cell_type": "code",
   "execution_count": 73,
   "id": "426b0b51",
   "metadata": {},
   "outputs": [],
   "source": [
    "data_2020.drop(['#'], axis=1, inplace=True)"
   ]
  },
  {
   "cell_type": "markdown",
   "id": "56c20f20",
   "metadata": {},
   "source": [
    "The columns with indices between 50 to 62, 63 to 75 and 76 to 88 correspond to, respectively,\n",
    "\n",
    "`What disorder(s) have you been diagnosed with?`\n",
    "\n",
    "`If possibly, what disorder(s) do you believe you have?`\n",
    "\n",
    "`If so, what disorder(s) were you diagnosed with?`.\n",
    "\n",
    "Therefore, we merge the corresponding columns of indices to create new columns with the attribute headings being the above qustions."
   ]
  },
  {
   "cell_type": "code",
   "execution_count": 74,
   "id": "c78f6bd0",
   "metadata": {},
   "outputs": [],
   "source": [
    "data_2020.rename(columns = {'Post-traumatic Stress Disorder':'Post-Traumatic Stress Disorder.1',\n",
    "                           'Post-traumatic Stress Disorder.1':'Post-Traumatic Stress Disorder.2'}, inplace = True)"
   ]
  },
  {
   "cell_type": "code",
   "execution_count": 75,
   "id": "8defff89",
   "metadata": {},
   "outputs": [],
   "source": [
    "cols_4 = ['Describe the conversation you had with your employer about your mental health, including their reactions and what actions were taken to address your mental health issue/questions.',\n",
    "          'Describe the conversation with coworkers you had about your mental health including their reactions.',\n",
    "          'Describe the conversation your coworker had with you about their mental health (please do not use names).',\n",
    "          'Describe the conversation you had with your previous employer about your mental health, including their reactions and actions taken to address your mental health issue/questions.',\n",
    "          'Describe the conversation you had with your previous coworkers about your mental health including their reactions.',\n",
    "          'Describe the conversation your coworker had with you about their mental health (please do not use names)..1',\n",
    "          'Describe the circumstances of the badly handled or unsupportive response.',\n",
    "          'Describe the circumstances of the supportive or well handled response.',\n",
    "          'Briefly describe what you think the industry as a whole and/or employers could do to improve mental health support for employees.',\n",
    "          'If there is anything else you would like to tell us that has not been covered by the survey questions, please use this space to do so.',\n",
    "          'Other.3']"
   ]
  },
  {
   "cell_type": "code",
   "execution_count": 76,
   "id": "10f13fd0",
   "metadata": {},
   "outputs": [],
   "source": [
    "merge_columns(data_2020, q_1, cols_1)\n",
    "merge_columns(data_2020, q_2, cols_2)\n",
    "merge_columns(data_2020, q_3, cols_3)\n",
    "merge_columns(data_2020, q_4, cols_4)"
   ]
  },
  {
   "cell_type": "code",
   "execution_count": 77,
   "id": "cf0c7a27",
   "metadata": {},
   "outputs": [
    {
     "name": "stdout",
     "output_type": "stream",
     "text": [
      "Number of columns: 73\n"
     ]
    }
   ],
   "source": [
    "print(\"Number of columns:\", len(data_2020.columns))\n",
    "for i in range(len(data_2020.columns)):\n",
    "    for string in ['<strong>', '</strong>', '<em>', '</em>', '*', '_']:\n",
    "        data_2020.rename(columns = {data_2020.columns[i]:data_2020.columns[i].replace(string, '')}, inplace=True)"
   ]
  },
  {
   "cell_type": "code",
   "execution_count": 78,
   "id": "4c54dbb6",
   "metadata": {},
   "outputs": [
    {
     "name": "stdout",
     "output_type": "stream",
     "text": [
      "['Why or why not?', 'Why or why not?.1', 'What is your age?', 'What is your gender?', 'comments']\n"
     ]
    }
   ],
   "source": [
    "# Analyze the attributes that are present in the Kaggle dataset and not in the scraped dataset\n",
    "print([i for i in data_2020.columns if i not in question_titles])"
   ]
  },
  {
   "cell_type": "markdown",
   "id": "9e5a312c",
   "metadata": {},
   "source": [
    "The attributes age, gender and comments are important for the final aggregation, and so we retain them as is. We do not need the explanatory questions, and so they are dropped."
   ]
  },
  {
   "cell_type": "code",
   "execution_count": 79,
   "id": "fea55618",
   "metadata": {},
   "outputs": [],
   "source": [
    "data_2020.drop(['Why or why not?', 'Why or why not?.1',\n",
    "               'Would you be willing to talk to one of us more extensively about your experiences with mental health issues in the tech industry? (Note that all interview responses would be used anonymously and only with your permission.)'], axis=1, inplace=True)"
   ]
  },
  {
   "cell_type": "markdown",
   "id": "ef249bd9",
   "metadata": {},
   "source": [
    "## 3. Final Attribute-wise Cleaned Kaggle Dataset"
   ]
  },
  {
   "cell_type": "code",
   "execution_count": 80,
   "id": "c4d3f134",
   "metadata": {
    "scrolled": true
   },
   "outputs": [
    {
     "name": "stdout",
     "output_type": "stream",
     "text": [
      "70\n",
      "Are you self-employed?\n",
      "How many employees does your company or organization have?\n",
      "Is your employer primarily a tech company/organization?\n",
      "Is your primary role within your company related to tech/IT?\n",
      "Does your employer provide mental health benefits as part of healthcare coverage?\n",
      "Do you know the options for mental health care available under your employer-provided health coverage?\n",
      "Has your employer ever formally discussed mental health (for example, as part of a wellness campaign or other official communication)?\n",
      "Does your employer offer resources to learn more about mental health disorders and options for seeking help?\n",
      "Is your anonymity protected if you choose to take advantage of mental health or substance abuse treatment resources provided by your employer?\n",
      "If a mental health issue prompted you to request a medical leave from work, how easy or difficult would it be to ask for that leave?\n",
      "Would you feel more comfortable talking to your coworkers about your physical health or your mental health?\n",
      "Would you feel comfortable discussing a mental health issue with your direct supervisor(s)?\n",
      "Have you ever discussed your mental health with your employer?\n",
      "Would you feel comfortable discussing a mental health issue with your coworkers?\n",
      "Have you ever discussed your mental health with coworkers?\n",
      "Have you ever had a coworker discuss their or another coworker's mental health with you?\n",
      "Overall, how much importance does your employer place on physical health?\n",
      "Overall, how much importance does your employer place on mental health?\n",
      "Do you have medical coverage (private insurance or state-provided) that includes treatment of mental health disorders?\n",
      "Do you know local or online resources to seek help for a mental health issue?\n",
      "If you have been diagnosed or treated for a mental health disorder, do you ever reveal this to clients or business contacts?\n",
      "If you have revealed a mental health disorder to a client or business contact, how has this affected you or the relationship?\n",
      "If you have been diagnosed or treated for a mental health disorder, do you ever reveal this to coworkers or employees?\n",
      "If you have revealed a mental health disorder to a coworker or employee, how has this impacted you or the relationship?\n",
      "Do you believe your productivity is ever affected by a mental health issue?\n",
      "If yes, what percentage of your work time (time performing primary or secondary job functions) is affected by a mental health issue?\n",
      "Do you have previous employers?\n",
      "Was your employer primarily a tech company/organization?\n",
      "Have your previous employers provided mental health benefits?\n",
      "Were you aware of the options for mental health care provided by your previous employers?\n",
      "Did your previous employers ever formally discuss mental health (as part of a wellness campaign or other official communication)?\n",
      "Did your previous employers provide resources to learn more about mental health disorders and how to seek help?\n",
      "Was your anonymity protected if you chose to take advantage of mental health or substance abuse treatment resources with previous employers?\n",
      "Would you have felt more comfortable talking to your previous employer about your physical health or your mental health?\n",
      "Would you have been willing to discuss your mental health with your direct supervisor(s)?\n",
      "Did you ever discuss your mental health with your previous employer?\n",
      "Would you have been willing to discuss your mental health with your coworkers at previous employers?\n",
      "Did you ever discuss your mental health with a previous coworker(s)?\n",
      "Did you ever have a previous coworker discuss their or another coworker's mental health with you?\n",
      "Overall, how much importance did your previous employer place on physical health?\n",
      "Overall, how much importance did your previous employer place on mental health?\n",
      "Do you currently have a mental health disorder?\n",
      "Have you ever been diagnosed with a mental health disorder?\n",
      "Have you had a mental health disorder in the past?\n",
      "Have you ever sought treatment for a mental health disorder from a mental health professional?\n",
      "Do you have a family history of mental illness?\n",
      "If you have a mental health disorder, how often do you feel that it interferes with your work when being treated effectively?\n",
      "If you have a mental health disorder, how often do you feel that it interferes with your work when NOT being treated effectively (i.e., when you are experiencing symptoms)?\n",
      "Have your observations of how another individual who discussed a mental health issue made you less likely to reveal a mental health issue yourself in your current workplace?\n",
      "How willing would you be to share with friends and family that you have a mental illness?\n",
      "Would you be willing to bring up a physical health issue with a potential employer in an interview?\n",
      "Would you bring up your mental health with a potential employer in an interview?\n",
      "Are you openly identified at work as a person with a mental health issue?\n",
      "Has being identified as a person with a mental health issue affected your career?\n",
      "How has it affected your career?\n",
      "If they knew you suffered from a mental health disorder, how do you think that your team members/co-workers would react?\n",
      "Have you observed or experienced an unsupportive or badly handled response to a mental health issue in your current or previous workplace?\n",
      "Have you observed or experienced a supportive or well handled response to a mental health issue in your current or previous workplace?\n",
      "Overall, how well do you think the tech industry supports employees with mental health issues?\n",
      "What is your age?\n",
      "What is your gender?\n",
      "What country do you live in?\n",
      "What US state or territory do you live in?\n",
      "What is your race?\n",
      "What country do you work in?\n",
      "What US state or territory do you work in?\n",
      "What disorder(s) have you been diagnosed with?\n",
      "If possibly, what disorder(s) do you believe you have?\n",
      "If so, what disorder(s) were you diagnosed with?\n",
      "comments\n"
     ]
    }
   ],
   "source": [
    "print(len(data_2020.columns))\n",
    "print(*[i for i in data_2020.columns], sep='\\n')"
   ]
  },
  {
   "cell_type": "code",
   "execution_count": 81,
   "id": "067a6bc8",
   "metadata": {
    "scrolled": true
   },
   "outputs": [
    {
     "name": "stdout",
     "output_type": "stream",
     "text": [
      "Questions on the Kaggle dataset and not on the survey web page:\n",
      "59. What is your age?\n",
      "60. What is your gender?\n",
      "69. comments\n",
      "Questions on the survey web page and not on the Kaggle dataset:\n",
      "62. Would you be willing to talk to one of us more extensively about your experiences with mental health issues in the tech industry? (Note that all interview responses would be used anonymously and only with your permission.)\n"
     ]
    }
   ],
   "source": [
    "print(\"Questions on the Kaggle dataset and not on the survey web page:\")\n",
    "print(*[(str(count) + '. ' + str(i)) for count, i in enumerate(data_2020.columns) \n",
    "        if i not in question_titles], sep='\\n')\n",
    "print(\"Questions on the survey web page and not on the Kaggle dataset:\")\n",
    "print(*[(str(count) + '. ' + str(i)) for count, i in enumerate(question_titles) \n",
    "        if i not in data_2020.columns], sep='\\n')"
   ]
  },
  {
   "cell_type": "markdown",
   "id": "649d07ed",
   "metadata": {},
   "source": [
    "As observed, the last three columns in the cleaned Kaggle dataset are not present on the survey webpage."
   ]
  },
  {
   "cell_type": "code",
   "execution_count": 82,
   "id": "9ad043d5",
   "metadata": {
    "scrolled": false
   },
   "outputs": [
    {
     "name": "stdout",
     "output_type": "stream",
     "text": [
      "Questions on the 2018 dataset and not on the 2020 one:\n",
      "55. If they knew you suffered from a mental health disorder, how do you think that team members/co-workers would react?\n",
      "57. Have you observed or experienced supportive or well handled response to a mental health issue in your current or previous workplace?\n"
     ]
    }
   ],
   "source": [
    "print(\"Questions on the 2018 dataset and not on the 2020 one:\")\n",
    "print(*[(str(count) + '. ' + str(i)) for count, i in enumerate(data_2018.columns) \n",
    "        if i not in data_2020.columns], sep='\\n')"
   ]
  },
  {
   "cell_type": "code",
   "execution_count": 83,
   "id": "e1a1d77a",
   "metadata": {},
   "outputs": [],
   "source": [
    "data_2020.rename(columns = {\n",
    "    'Have you observed or experienced a supportive or well handled response to a mental health issue in your current or previous workplace?'\n",
    "    :'Have you observed or experienced supportive or well handled response to a mental health issue in your current or previous workplace?',\n",
    "    'If they knew you suffered from a mental health disorder, how do you think that your team members/co-workers would react?':\n",
    "    'If they knew you suffered from a mental health disorder, how do you think that team members/co-workers would react?'}, inplace=True)"
   ]
  },
  {
   "cell_type": "code",
   "execution_count": 84,
   "id": "059b0a99",
   "metadata": {
    "scrolled": false
   },
   "outputs": [
    {
     "name": "stdout",
     "output_type": "stream",
     "text": [
      "Questions on the 2018 dataset and not on the 2020 one:\n",
      "\n",
      "Questions on the 2020 dataset and not on the 2018 one:\n",
      "\n"
     ]
    }
   ],
   "source": [
    "print(\"Questions on the 2018 dataset and not on the 2020 one:\")\n",
    "print(*[(str(count) + '. ' + str(i)) for count, i in enumerate(data_2018.columns) \n",
    "        if i not in data_2020.columns], sep='\\n')\n",
    "print(\"Questions on the 2020 dataset and not on the 2018 one:\")\n",
    "print(*[(str(count) + '. ' + str(i)) for count, i in enumerate(data_2020.columns) \n",
    "        if i not in data_2018.columns], sep='\\n')"
   ]
  },
  {
   "cell_type": "code",
   "execution_count": 85,
   "id": "d19d08b9",
   "metadata": {
    "scrolled": true
   },
   "outputs": [
    {
     "data": {
      "text/html": [
       "<div>\n",
       "<style scoped>\n",
       "    .dataframe tbody tr th:only-of-type {\n",
       "        vertical-align: middle;\n",
       "    }\n",
       "\n",
       "    .dataframe tbody tr th {\n",
       "        vertical-align: top;\n",
       "    }\n",
       "\n",
       "    .dataframe thead th {\n",
       "        text-align: right;\n",
       "    }\n",
       "</style>\n",
       "<table border=\"1\" class=\"dataframe\">\n",
       "  <thead>\n",
       "    <tr style=\"text-align: right;\">\n",
       "      <th></th>\n",
       "      <th>Are you self-employed?</th>\n",
       "      <th>How many employees does your company or organization have?</th>\n",
       "      <th>Is your employer primarily a tech company/organization?</th>\n",
       "      <th>Is your primary role within your company related to tech/IT?</th>\n",
       "      <th>Does your employer provide mental health benefits as part of healthcare coverage?</th>\n",
       "      <th>Do you know the options for mental health care available under your employer-provided health coverage?</th>\n",
       "      <th>Has your employer ever formally discussed mental health (for example, as part of a wellness campaign or other official communication)?</th>\n",
       "      <th>Does your employer offer resources to learn more about mental health disorders and options for seeking help?</th>\n",
       "      <th>Is your anonymity protected if you choose to take advantage of mental health or substance abuse treatment resources provided by your employer?</th>\n",
       "      <th>If a mental health issue prompted you to request a medical leave from work, how easy or difficult would it be to ask for that leave?</th>\n",
       "      <th>...</th>\n",
       "      <th>What is your gender?</th>\n",
       "      <th>What country do you live in?</th>\n",
       "      <th>What US state or territory do you live in?</th>\n",
       "      <th>What is your race?</th>\n",
       "      <th>What country do you work in?</th>\n",
       "      <th>What US state or territory do you work in?</th>\n",
       "      <th>What disorder(s) have you been diagnosed with?</th>\n",
       "      <th>If possibly, what disorder(s) do you believe you have?</th>\n",
       "      <th>If so, what disorder(s) were you diagnosed with?</th>\n",
       "      <th>comments</th>\n",
       "    </tr>\n",
       "  </thead>\n",
       "  <tbody>\n",
       "    <tr>\n",
       "      <th>0</th>\n",
       "      <td>1</td>\n",
       "      <td>NaN</td>\n",
       "      <td>NaN</td>\n",
       "      <td>NaN</td>\n",
       "      <td>NaN</td>\n",
       "      <td>NaN</td>\n",
       "      <td>NaN</td>\n",
       "      <td>NaN</td>\n",
       "      <td>NaN</td>\n",
       "      <td>NaN</td>\n",
       "      <td>...</td>\n",
       "      <td>Male</td>\n",
       "      <td>United States of America</td>\n",
       "      <td>Connecticut</td>\n",
       "      <td>White</td>\n",
       "      <td>United States of America</td>\n",
       "      <td>Connecticut</td>\n",
       "      <td>NaN</td>\n",
       "      <td>NaN</td>\n",
       "      <td>NaN</td>\n",
       "      <td>NaN</td>\n",
       "    </tr>\n",
       "    <tr>\n",
       "      <th>1</th>\n",
       "      <td>1</td>\n",
       "      <td>NaN</td>\n",
       "      <td>NaN</td>\n",
       "      <td>NaN</td>\n",
       "      <td>NaN</td>\n",
       "      <td>NaN</td>\n",
       "      <td>NaN</td>\n",
       "      <td>NaN</td>\n",
       "      <td>NaN</td>\n",
       "      <td>NaN</td>\n",
       "      <td>...</td>\n",
       "      <td>female</td>\n",
       "      <td>Russia</td>\n",
       "      <td>NaN</td>\n",
       "      <td>NaN</td>\n",
       "      <td>Russia</td>\n",
       "      <td>NaN</td>\n",
       "      <td>NaN</td>\n",
       "      <td>NaN</td>\n",
       "      <td>Anxiety Disorder (Generalized, Social, Phobia,...</td>\n",
       "      <td>NaN</td>\n",
       "    </tr>\n",
       "    <tr>\n",
       "      <th>2</th>\n",
       "      <td>1</td>\n",
       "      <td>NaN</td>\n",
       "      <td>NaN</td>\n",
       "      <td>NaN</td>\n",
       "      <td>NaN</td>\n",
       "      <td>NaN</td>\n",
       "      <td>NaN</td>\n",
       "      <td>NaN</td>\n",
       "      <td>NaN</td>\n",
       "      <td>NaN</td>\n",
       "      <td>...</td>\n",
       "      <td>Male</td>\n",
       "      <td>India</td>\n",
       "      <td>NaN</td>\n",
       "      <td>NaN</td>\n",
       "      <td>India</td>\n",
       "      <td>NaN</td>\n",
       "      <td>NaN</td>\n",
       "      <td>NaN</td>\n",
       "      <td>NaN</td>\n",
       "      <td>Some times with my boss, he will response prop...</td>\n",
       "    </tr>\n",
       "    <tr>\n",
       "      <th>3</th>\n",
       "      <td>1</td>\n",
       "      <td>NaN</td>\n",
       "      <td>NaN</td>\n",
       "      <td>NaN</td>\n",
       "      <td>NaN</td>\n",
       "      <td>NaN</td>\n",
       "      <td>NaN</td>\n",
       "      <td>NaN</td>\n",
       "      <td>NaN</td>\n",
       "      <td>NaN</td>\n",
       "      <td>...</td>\n",
       "      <td>Female</td>\n",
       "      <td>Canada</td>\n",
       "      <td>NaN</td>\n",
       "      <td>NaN</td>\n",
       "      <td>Canada</td>\n",
       "      <td>NaN</td>\n",
       "      <td>NaN</td>\n",
       "      <td>NaN</td>\n",
       "      <td>NaN</td>\n",
       "      <td>NaN</td>\n",
       "    </tr>\n",
       "    <tr>\n",
       "      <th>4</th>\n",
       "      <td>1</td>\n",
       "      <td>NaN</td>\n",
       "      <td>NaN</td>\n",
       "      <td>NaN</td>\n",
       "      <td>NaN</td>\n",
       "      <td>NaN</td>\n",
       "      <td>NaN</td>\n",
       "      <td>NaN</td>\n",
       "      <td>NaN</td>\n",
       "      <td>NaN</td>\n",
       "      <td>...</td>\n",
       "      <td>F</td>\n",
       "      <td>Canada</td>\n",
       "      <td>NaN</td>\n",
       "      <td>NaN</td>\n",
       "      <td>Canada</td>\n",
       "      <td>NaN</td>\n",
       "      <td>NaN</td>\n",
       "      <td>NaN</td>\n",
       "      <td>NaN</td>\n",
       "      <td>taking less to that person or ignorance, behav...</td>\n",
       "    </tr>\n",
       "  </tbody>\n",
       "</table>\n",
       "<p>5 rows × 70 columns</p>\n",
       "</div>"
      ],
      "text/plain": [
       "   Are you self-employed?  \\\n",
       "0                       1   \n",
       "1                       1   \n",
       "2                       1   \n",
       "3                       1   \n",
       "4                       1   \n",
       "\n",
       "  How many employees does your company or organization have?  \\\n",
       "0                                                NaN           \n",
       "1                                                NaN           \n",
       "2                                                NaN           \n",
       "3                                                NaN           \n",
       "4                                                NaN           \n",
       "\n",
       "   Is your employer primarily a tech company/organization?  \\\n",
       "0                                                NaN         \n",
       "1                                                NaN         \n",
       "2                                                NaN         \n",
       "3                                                NaN         \n",
       "4                                                NaN         \n",
       "\n",
       "   Is your primary role within your company related to tech/IT?  \\\n",
       "0                                                NaN              \n",
       "1                                                NaN              \n",
       "2                                                NaN              \n",
       "3                                                NaN              \n",
       "4                                                NaN              \n",
       "\n",
       "  Does your employer provide mental health benefits as part of healthcare coverage?  \\\n",
       "0                                                NaN                                  \n",
       "1                                                NaN                                  \n",
       "2                                                NaN                                  \n",
       "3                                                NaN                                  \n",
       "4                                                NaN                                  \n",
       "\n",
       "  Do you know the options for mental health care available under your employer-provided health coverage?  \\\n",
       "0                                                NaN                                                       \n",
       "1                                                NaN                                                       \n",
       "2                                                NaN                                                       \n",
       "3                                                NaN                                                       \n",
       "4                                                NaN                                                       \n",
       "\n",
       "  Has your employer ever formally discussed mental health (for example, as part of a wellness campaign or other official communication)?  \\\n",
       "0                                                NaN                                                                                       \n",
       "1                                                NaN                                                                                       \n",
       "2                                                NaN                                                                                       \n",
       "3                                                NaN                                                                                       \n",
       "4                                                NaN                                                                                       \n",
       "\n",
       "  Does your employer offer resources to learn more about mental health disorders and options for seeking help?  \\\n",
       "0                                                NaN                                                             \n",
       "1                                                NaN                                                             \n",
       "2                                                NaN                                                             \n",
       "3                                                NaN                                                             \n",
       "4                                                NaN                                                             \n",
       "\n",
       "  Is your anonymity protected if you choose to take advantage of mental health or substance abuse treatment resources provided by your employer?  \\\n",
       "0                                                NaN                                                                                               \n",
       "1                                                NaN                                                                                               \n",
       "2                                                NaN                                                                                               \n",
       "3                                                NaN                                                                                               \n",
       "4                                                NaN                                                                                               \n",
       "\n",
       "  If a mental health issue prompted you to request a medical leave from work, how easy or difficult would it be to ask for that leave?  \\\n",
       "0                                                NaN                                                                                     \n",
       "1                                                NaN                                                                                     \n",
       "2                                                NaN                                                                                     \n",
       "3                                                NaN                                                                                     \n",
       "4                                                NaN                                                                                     \n",
       "\n",
       "   ... What is your gender? What country do you live in?  \\\n",
       "0  ...                 Male     United States of America   \n",
       "1  ...               female                       Russia   \n",
       "2  ...                 Male                        India   \n",
       "3  ...               Female                       Canada   \n",
       "4  ...                    F                       Canada   \n",
       "\n",
       "   What US state or territory do you live in? What is your race?  \\\n",
       "0                                 Connecticut              White   \n",
       "1                                         NaN                NaN   \n",
       "2                                         NaN                NaN   \n",
       "3                                         NaN                NaN   \n",
       "4                                         NaN                NaN   \n",
       "\n",
       "   What country do you work in?  What US state or territory do you work in?  \\\n",
       "0      United States of America                                 Connecticut   \n",
       "1                        Russia                                         NaN   \n",
       "2                         India                                         NaN   \n",
       "3                        Canada                                         NaN   \n",
       "4                        Canada                                         NaN   \n",
       "\n",
       "   What disorder(s) have you been diagnosed with?  \\\n",
       "0                                             NaN   \n",
       "1                                             NaN   \n",
       "2                                             NaN   \n",
       "3                                             NaN   \n",
       "4                                             NaN   \n",
       "\n",
       "   If possibly, what disorder(s) do you believe you have?  \\\n",
       "0                                                NaN        \n",
       "1                                                NaN        \n",
       "2                                                NaN        \n",
       "3                                                NaN        \n",
       "4                                                NaN        \n",
       "\n",
       "    If so, what disorder(s) were you diagnosed with?  \\\n",
       "0                                                NaN   \n",
       "1  Anxiety Disorder (Generalized, Social, Phobia,...   \n",
       "2                                                NaN   \n",
       "3                                                NaN   \n",
       "4                                                NaN   \n",
       "\n",
       "                                            comments  \n",
       "0                                                NaN  \n",
       "1                                                NaN  \n",
       "2  Some times with my boss, he will response prop...  \n",
       "3                                                NaN  \n",
       "4  taking less to that person or ignorance, behav...  \n",
       "\n",
       "[5 rows x 70 columns]"
      ]
     },
     "execution_count": 85,
     "metadata": {},
     "output_type": "execute_result"
    }
   ],
   "source": [
    "data_2020.head()"
   ]
  },
  {
   "cell_type": "code",
   "execution_count": 86,
   "id": "4e1bb4a3",
   "metadata": {},
   "outputs": [],
   "source": [
    "data_2020.to_csv('datasets/2020_data.csv')"
   ]
  },
  {
   "cell_type": "markdown",
   "id": "98ec5c93",
   "metadata": {},
   "source": [
    "# 03 Work on the 2019 Dataset"
   ]
  },
  {
   "cell_type": "code",
   "execution_count": 87,
   "id": "d2e80b1f",
   "metadata": {
    "scrolled": true
   },
   "outputs": [
    {
     "name": "stdout",
     "output_type": "stream",
     "text": [
      "Number of columns: 82\n",
      "----------------------------------------------------------------------------------------------------\n",
      "13 Describe the conversation you had with your employer about your mental health, including their reactions and what actions were taken to address your mental health issue/questions.\n",
      "16 Describe the conversation with coworkers you had about your mental health including their reactions.\n",
      "18 Describe the conversation your coworker had with you about their mental health (please do not use names).\n",
      "39 Describe the conversation you had with your previous employer about your mental health, including their reactions and actions taken to address your mental health issue/questions.\n",
      "42 Describe the conversation you had with your previous coworkers about your mental health including their reactions.\n",
      "44 Describe the conversation your coworker had with you about their mental health (please do not use names)..1\n",
      "68 Describe the circumstances of the badly handled or unsupportive response.\n",
      "70 Describe the circumstances of the supportive or well handled response.\n",
      "72 Briefly describe what you think the industry as a whole and/or employers could do to improve mental health support for employees.\n",
      "73 If there is anything else you would like to tell us that has not been covered by the survey questions, please use this space to do so.\n"
     ]
    }
   ],
   "source": [
    "data_2019 = pd.read_csv('datasets/2019_data_kaggle.csv')\n",
    "\n",
    "# What are the total number of columns?\n",
    "print(\"Number of columns:\", len(data_2019.columns))\n",
    "print('-'*100)\n",
    "\n",
    "# What are the columns that aren't in question format?\n",
    "for count, i in enumerate(data_2019.columns):\n",
    "    if '?' not in i:\n",
    "        print(count, i)"
   ]
  },
  {
   "cell_type": "code",
   "execution_count": 88,
   "id": "e51c0df7",
   "metadata": {},
   "outputs": [],
   "source": [
    "cols_5 = ['Describe the conversation you had with your employer about your mental health, including their reactions and what actions were taken to address your mental health issue/questions.',\n",
    "          'Describe the conversation with coworkers you had about your mental health including their reactions.',\n",
    "          'Describe the conversation your coworker had with you about their mental health (please do not use names).',\n",
    "          'Describe the conversation you had with your previous employer about your mental health, including their reactions and actions taken to address your mental health issue/questions.',\n",
    "          'Describe the conversation you had with your previous coworkers about your mental health including their reactions.',\n",
    "          'Describe the conversation your coworker had with you about their mental health (please do not use names)..1',\n",
    "          'Describe the circumstances of the badly handled or unsupportive response.',\n",
    "          'Describe the circumstances of the supportive or well handled response.',\n",
    "          'Briefly describe what you think the industry as a whole and/or employers could do to improve mental health support for employees.',\n",
    "          'If there is anything else you would like to tell us that has not been covered by the survey questions, please use this space to do so.']\n",
    "\n",
    "merge_columns(data_2019, 'comments', cols_5)"
   ]
  },
  {
   "cell_type": "code",
   "execution_count": 89,
   "id": "f0ed81bc",
   "metadata": {},
   "outputs": [
    {
     "name": "stdout",
     "output_type": "stream",
     "text": [
      "Number of columns: 73\n"
     ]
    }
   ],
   "source": [
    "print(\"Number of columns:\", len(data_2019.columns))\n",
    "for i in range(len(data_2019.columns)):\n",
    "    for string in ['<strong>', '</strong>', '<em>', '</em>', '*', '_']:\n",
    "        data_2019.rename(columns = {data_2019.columns[i]:data_2019.columns[i].replace(string, '')}, inplace=True)"
   ]
  },
  {
   "cell_type": "code",
   "execution_count": 90,
   "id": "26d34dae",
   "metadata": {},
   "outputs": [
    {
     "name": "stdout",
     "output_type": "stream",
     "text": [
      "['Why or why not?', 'Why or why not?.1', 'What is your age?', 'What is your gender?', 'comments']\n"
     ]
    }
   ],
   "source": [
    "# Analyze the attributes that are present in the Kaggle dataset and not in the scraped dataset\n",
    "print([i for i in data_2019.columns if i not in question_titles])"
   ]
  },
  {
   "cell_type": "code",
   "execution_count": 91,
   "id": "8f996945",
   "metadata": {},
   "outputs": [],
   "source": [
    "data_2019.drop(['Why or why not?', 'Why or why not?.1', \n",
    "               'Would you be willing to talk to one of us more extensively about your experiences with mental health issues in the tech industry? (Note that all interview responses would be used anonymously and only with your permission.)'], axis=1, inplace=True)"
   ]
  },
  {
   "cell_type": "code",
   "execution_count": 92,
   "id": "00d13760",
   "metadata": {
    "scrolled": true
   },
   "outputs": [
    {
     "name": "stdout",
     "output_type": "stream",
     "text": [
      "70\n",
      "Are you self-employed?\n",
      "How many employees does your company or organization have?\n",
      "Is your employer primarily a tech company/organization?\n",
      "Is your primary role within your company related to tech/IT?\n",
      "Does your employer provide mental health benefits as part of healthcare coverage?\n",
      "Do you know the options for mental health care available under your employer-provided health coverage?\n",
      "Has your employer ever formally discussed mental health (for example, as part of a wellness campaign or other official communication)?\n",
      "Does your employer offer resources to learn more about mental health disorders and options for seeking help?\n",
      "Is your anonymity protected if you choose to take advantage of mental health or substance abuse treatment resources provided by your employer?\n",
      "If a mental health issue prompted you to request a medical leave from work, how easy or difficult would it be to ask for that leave?\n",
      "Would you feel more comfortable talking to your coworkers about your physical health or your mental health?\n",
      "Would you feel comfortable discussing a mental health issue with your direct supervisor(s)?\n",
      "Have you ever discussed your mental health with your employer?\n",
      "Would you feel comfortable discussing a mental health issue with your coworkers?\n",
      "Have you ever discussed your mental health with coworkers?\n",
      "Have you ever had a coworker discuss their or another coworker's mental health with you?\n",
      "Overall, how much importance does your employer place on physical health?\n",
      "Overall, how much importance does your employer place on mental health?\n",
      "Do you have medical coverage (private insurance or state-provided) that includes treatment of mental health disorders?\n",
      "Do you know local or online resources to seek help for a mental health issue?\n",
      "If you have been diagnosed or treated for a mental health disorder, do you ever reveal this to clients or business contacts?\n",
      "If you have revealed a mental health disorder to a client or business contact, how has this affected you or the relationship?\n",
      "If you have been diagnosed or treated for a mental health disorder, do you ever reveal this to coworkers or employees?\n",
      "If you have revealed a mental health disorder to a coworker or employee, how has this impacted you or the relationship?\n",
      "Do you believe your productivity is ever affected by a mental health issue?\n",
      "If yes, what percentage of your work time (time performing primary or secondary job functions) is affected by a mental health issue?\n",
      "Do you have previous employers?\n",
      "Was your employer primarily a tech company/organization?\n",
      "Have your previous employers provided mental health benefits?\n",
      "Were you aware of the options for mental health care provided by your previous employers?\n",
      "Did your previous employers ever formally discuss mental health (as part of a wellness campaign or other official communication)?\n",
      "Did your previous employers provide resources to learn more about mental health disorders and how to seek help?\n",
      "Was your anonymity protected if you chose to take advantage of mental health or substance abuse treatment resources with previous employers?\n",
      "Would you have felt more comfortable talking to your previous employer about your physical health or your mental health?\n",
      "Would you have been willing to discuss your mental health with your direct supervisor(s)?\n",
      "Did you ever discuss your mental health with your previous employer?\n",
      "Would you have been willing to discuss your mental health with your coworkers at previous employers?\n",
      "Did you ever discuss your mental health with a previous coworker(s)?\n",
      "Did you ever have a previous coworker discuss their or another coworker's mental health with you?\n",
      "Overall, how much importance did your previous employer place on physical health?\n",
      "Overall, how much importance did your previous employer place on mental health?\n",
      "Do you currently have a mental health disorder?\n",
      "Have you ever been diagnosed with a mental health disorder?\n",
      "What disorder(s) have you been diagnosed with?\n",
      "If possibly, what disorder(s) do you believe you have?\n",
      "If so, what disorder(s) were you diagnosed with?\n",
      "Have you had a mental health disorder in the past?\n",
      "Have you ever sought treatment for a mental health disorder from a mental health professional?\n",
      "Do you have a family history of mental illness?\n",
      "If you have a mental health disorder, how often do you feel that it interferes with your work when being treated effectively?\n",
      "If you have a mental health disorder, how often do you feel that it interferes with your work when NOT being treated effectively (i.e., when you are experiencing symptoms)?\n",
      "Have your observations of how another individual who discussed a mental health issue made you less likely to reveal a mental health issue yourself in your current workplace?\n",
      "How willing would you be to share with friends and family that you have a mental illness?\n",
      "Would you be willing to bring up a physical health issue with a potential employer in an interview?\n",
      "Would you bring up your mental health with a potential employer in an interview?\n",
      "Are you openly identified at work as a person with a mental health issue?\n",
      "Has being identified as a person with a mental health issue affected your career?\n",
      "How has it affected your career?\n",
      "If they knew you suffered from a mental health disorder, how do you think that your team members/co-workers would react?\n",
      "Have you observed or experienced an unsupportive or badly handled response to a mental health issue in your current or previous workplace?\n",
      "Have you observed or experienced a supportive or well handled response to a mental health issue in your current or previous workplace?\n",
      "Overall, how well do you think the tech industry supports employees with mental health issues?\n",
      "What is your age?\n",
      "What is your gender?\n",
      "What country do you live in?\n",
      "What US state or territory do you live in?\n",
      "What is your race?\n",
      "What country do you work in?\n",
      "What US state or territory do you work in?\n",
      "comments\n"
     ]
    }
   ],
   "source": [
    "print(len(data_2019.columns))\n",
    "print(*[i for i in data_2019.columns], sep='\\n')"
   ]
  },
  {
   "cell_type": "code",
   "execution_count": 94,
   "id": "41cb6406",
   "metadata": {},
   "outputs": [
    {
     "name": "stdout",
     "output_type": "stream",
     "text": [
      "Questions on the 2018 dataset and not on the 2019 one:\n",
      "55. If they knew you suffered from a mental health disorder, how do you think that team members/co-workers would react?\n",
      "57. Have you observed or experienced supportive or well handled response to a mental health issue in your current or previous workplace?\n",
      "Questions on the 2019 dataset and not on the 2018 one:\n",
      "58. If they knew you suffered from a mental health disorder, how do you think that your team members/co-workers would react?\n",
      "60. Have you observed or experienced a supportive or well handled response to a mental health issue in your current or previous workplace?\n"
     ]
    }
   ],
   "source": [
    "print(\"Questions on the 2018 dataset and not on the 2019 one:\")\n",
    "print(*[(str(count) + '. ' + str(i)) for count, i in enumerate(data_2018.columns) \n",
    "        if i not in data_2019.columns], sep='\\n')\n",
    "print(\"Questions on the 2019 dataset and not on the 2018 one:\")\n",
    "print(*[(str(count) + '. ' + str(i)) for count, i in enumerate(data_2019.columns) \n",
    "        if i not in data_2018.columns], sep='\\n')"
   ]
  },
  {
   "cell_type": "code",
   "execution_count": 95,
   "id": "016ba453",
   "metadata": {},
   "outputs": [],
   "source": [
    "data_2019.rename(columns = {\n",
    "    'Have you observed or experienced a supportive or well handled response to a mental health issue in your current or previous workplace?'\n",
    "    :'Have you observed or experienced supportive or well handled response to a mental health issue in your current or previous workplace?',\n",
    "    'If they knew you suffered from a mental health disorder, how do you think that your team members/co-workers would react?':\n",
    "    'If they knew you suffered from a mental health disorder, how do you think that team members/co-workers would react?'}, inplace=True)"
   ]
  },
  {
   "cell_type": "code",
   "execution_count": 96,
   "id": "7d712aae",
   "metadata": {
    "scrolled": true
   },
   "outputs": [
    {
     "name": "stdout",
     "output_type": "stream",
     "text": [
      "Questions on the 2018 dataset and not on the 2019 one:\n",
      "\n",
      "Questions on the 2019 dataset and not on the 2018 one:\n",
      "\n"
     ]
    }
   ],
   "source": [
    "print(\"Questions on the 2018 dataset and not on the 2019 one:\")\n",
    "print(*[(str(count) + '. ' + str(i)) for count, i in enumerate(data_2018.columns) \n",
    "        if i not in data_2019.columns], sep='\\n')\n",
    "print(\"Questions on the 2019 dataset and not on the 2018 one:\")\n",
    "print(*[(str(count) + '. ' + str(i)) for count, i in enumerate(data_2019.columns) \n",
    "        if i not in data_2018.columns], sep='\\n')"
   ]
  },
  {
   "cell_type": "code",
   "execution_count": 97,
   "id": "1e8cf6e4",
   "metadata": {},
   "outputs": [],
   "source": [
    "data_2019.to_csv('datasets/2019_data.csv')"
   ]
  }
 ],
 "metadata": {
  "kernelspec": {
   "display_name": "Python 3 (ipykernel)",
   "language": "python",
   "name": "python3"
  },
  "language_info": {
   "codemirror_mode": {
    "name": "ipython",
    "version": 3
   },
   "file_extension": ".py",
   "mimetype": "text/x-python",
   "name": "python",
   "nbconvert_exporter": "python",
   "pygments_lexer": "ipython3",
   "version": "3.8.10"
  }
 },
 "nbformat": 4,
 "nbformat_minor": 5
}
